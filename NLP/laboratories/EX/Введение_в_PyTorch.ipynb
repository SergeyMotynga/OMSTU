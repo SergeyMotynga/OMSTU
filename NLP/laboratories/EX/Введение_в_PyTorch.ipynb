{
  "cells": [
    {
      "cell_type": "markdown",
      "metadata": {
        "id": "iGq8XUn9nANN"
      },
      "source": [
        "# Введение в PyTorch"
      ]
    },
    {
      "cell_type": "markdown",
      "metadata": {
        "id": "ma2Bl4cFpzPV"
      },
      "source": [
        "## Общие сведения"
      ]
    },
    {
      "cell_type": "markdown",
      "metadata": {
        "id": "ZdAbf_Vqp3Hj"
      },
      "source": [
        "PyTorch - фреймворк для языка Python, предназначенный для решения задач глубокого обучения."
      ]
    },
    {
      "cell_type": "markdown",
      "metadata": {
        "id": "zk390Qr_q9YY"
      },
      "source": [
        "Среди ключевых особенностей фреймворка можно выделить:\n",
        "- динамический граф вычислений (результаты вычислений доступны после выполнения каждого шага, в отличие от TensorFlow)\n",
        "- AUTOGRAD\n",
        "- простой API\n",
        "- выокая гибкость при создании сложных моделей\n",
        "- поддержка CUDA, возможность перемещения объектов между устройствами\n",
        "- модульная архитектура (изначально поставляются только базовые модули, при желании можно установить torchaudio, torchvision, torchtext и др.)"
      ]
    },
    {
      "cell_type": "markdown",
      "metadata": {
        "id": "sbmgeOgHsYqB"
      },
      "source": [
        "[Официальный сайт фреймворка](https://pytorch.org/)"
      ]
    },
    {
      "cell_type": "markdown",
      "metadata": {
        "id": "Gm-UrTqrso2b"
      },
      "source": [
        "## Установка PyTorch"
      ]
    },
    {
      "cell_type": "markdown",
      "metadata": {
        "id": "cI9ZO2OpsrSW"
      },
      "source": [
        "В Colab фреймворк уже установлен"
      ]
    },
    {
      "cell_type": "code",
      "execution_count": 1,
      "metadata": {
        "colab": {
          "base_uri": "https://localhost:8080/",
          "height": 35
        },
        "id": "3p21YDxVsveR",
        "outputId": "8a96c8bf-d532-415a-d4e2-6b08ec33838d"
      },
      "outputs": [
        {
          "data": {
            "text/plain": [
              "'2.8.0+cu128'"
            ]
          },
          "execution_count": 1,
          "metadata": {},
          "output_type": "execute_result"
        }
      ],
      "source": [
        "import torch\n",
        "\n",
        "torch.__version__"
      ]
    },
    {
      "cell_type": "markdown",
      "metadata": {
        "id": "XdQWYnjOs4mH"
      },
      "source": [
        "**Обращаю внимание:** сейчас мы будем использовать возможности CPU-версии PyTorch, однако видно, что в Colab изначально установлена CUDA-версия PyTorch для CUDA 11.8. Работая в Colab, вы можете активировать среду выполнения с GPU или TPU (на базе CUDA). В этом случае, вы будете полноценно использовать возможности CUDA-версии фреймворка PyTorch."
      ]
    },
    {
      "cell_type": "markdown",
      "metadata": {
        "id": "y-GiBnBfuD4c"
      },
      "source": [
        "При желании (и для проведения работ в виртуальном окружении) вы можете скачать нужную версию PyTorch с официального сайта, выбрав CPU или CUDA (последнюю выбираете только в том случае, если у вас GPU от NVIDIA и настроена CUDA нужной версии на ПК / ноутбуке).\n",
        "![](https://i.vgy.me/ATff4V.png)"
      ]
    },
    {
      "cell_type": "markdown",
      "metadata": {
        "id": "-aeU8npwuxtW"
      },
      "source": [
        "## Знакомство с тензорами"
      ]
    },
    {
      "cell_type": "markdown",
      "metadata": {
        "id": "nTpYD1kbu6MY"
      },
      "source": [
        "Здесь и далее под тензорами будем понимать многомерные массивы. В рамках PyTorch тензор - это абстракция над массивами numpy, которые оптимизированы для быстрого вычисления градиентов, в особенности при использовании GPU."
      ]
    },
    {
      "cell_type": "markdown",
      "metadata": {
        "id": "6phkzUo4yh6b"
      },
      "source": [
        "### Создание тензоров"
      ]
    },
    {
      "cell_type": "code",
      "execution_count": 2,
      "metadata": {
        "id": "0vIimQbTsrKE"
      },
      "outputs": [],
      "source": [
        "import torch"
      ]
    },
    {
      "cell_type": "code",
      "execution_count": 3,
      "metadata": {
        "colab": {
          "base_uri": "https://localhost:8080/"
        },
        "id": "bQ2rQC32m8TT",
        "outputId": "36b14957-4115-4e89-876b-c9778f475f04"
      },
      "outputs": [
        {
          "data": {
            "text/plain": [
              "(tensor([1, 2, 3]), torch.int64, torch.Size([3]))"
            ]
          },
          "execution_count": 3,
          "metadata": {},
          "output_type": "execute_result"
        }
      ],
      "source": [
        "# из списка\n",
        "a = torch.tensor([1,2,3])\n",
        "a, a.dtype, a.shape"
      ]
    },
    {
      "cell_type": "code",
      "execution_count": 4,
      "metadata": {
        "colab": {
          "base_uri": "https://localhost:8080/"
        },
        "id": "DDUFZ2DHvcTv",
        "outputId": "f4af787f-96a1-4084-e989-b8af4d605d32"
      },
      "outputs": [
        {
          "data": {
            "text/plain": [
              "(tensor([1, 2, 3], dtype=torch.int16), torch.int16, torch.Size([3]))"
            ]
          },
          "execution_count": 4,
          "metadata": {},
          "output_type": "execute_result"
        }
      ],
      "source": [
        "# всегда контролируйте тип данных - нет смысла занимать больше памяти, чем это необходимо\n",
        "a = torch.tensor([1,2,3], dtype=torch.int16)\n",
        "a, a.dtype, a.shape"
      ]
    },
    {
      "cell_type": "code",
      "execution_count": 5,
      "metadata": {
        "colab": {
          "base_uri": "https://localhost:8080/"
        },
        "id": "tJ6vaE5jvmPF",
        "outputId": "73528358-0a36-42f6-99f9-e2b3a7bb87eb"
      },
      "outputs": [
        {
          "data": {
            "text/plain": [
              "(tensor([1, 2, 3], dtype=torch.int32), torch.int32, torch.Size([3]))"
            ]
          },
          "execution_count": 5,
          "metadata": {},
          "output_type": "execute_result"
        }
      ],
      "source": [
        "a = torch.tensor([1,2,3]) # тип int64\n",
        "a = a.type(torch.int32) # есть еще метод type_as\n",
        "a, a.dtype, a.shape\n",
        "\n",
        "# чаще всего мы работаем с типом float32!"
      ]
    },
    {
      "cell_type": "code",
      "execution_count": 6,
      "metadata": {
        "colab": {
          "base_uri": "https://localhost:8080/"
        },
        "id": "j4JyUojJwJ_I",
        "outputId": "5880f27c-cfac-4d33-c383-9b3486cbdc86"
      },
      "outputs": [
        {
          "data": {
            "text/plain": [
              "(tensor([[0.9972, 0.8864, 0.5214, 0.1023],\n",
              "         [0.5845, 0.5084, 0.4682, 0.7461],\n",
              "         [0.0784, 0.3032, 0.0687, 0.5406]]),\n",
              " torch.float32,\n",
              " torch.Size([3, 4]))"
            ]
          },
          "execution_count": 6,
          "metadata": {},
          "output_type": "execute_result"
        }
      ],
      "source": [
        "# случайные значения (равномерное распределение от 0 до 1)\n",
        "a = torch.rand(3, 4)\n",
        "a, a.dtype, a.shape"
      ]
    },
    {
      "cell_type": "code",
      "execution_count": 7,
      "metadata": {
        "colab": {
          "base_uri": "https://localhost:8080/"
        },
        "id": "1VhFi86gwbxU",
        "outputId": "657e3367-0a5b-4717-987f-3fa326ae6fa4"
      },
      "outputs": [
        {
          "data": {
            "text/plain": [
              "(tensor([[-1.1396,  0.3010, -0.6689, -1.2324],\n",
              "         [-0.1924,  1.3779, -0.2627,  2.4883],\n",
              "         [ 0.5596,  0.0516, -0.7881, -0.4463]], dtype=torch.float16),\n",
              " torch.float16,\n",
              " torch.Size([3, 4]))"
            ]
          },
          "execution_count": 7,
          "metadata": {},
          "output_type": "execute_result"
        }
      ],
      "source": [
        "# случайные значения (нормальное распределение с мат ожиданием 0 и СКО 1)\n",
        "a = torch.randn(3, 4).type(torch.float16)\n",
        "a, a.dtype, a.shape"
      ]
    },
    {
      "cell_type": "code",
      "execution_count": 8,
      "metadata": {
        "colab": {
          "base_uri": "https://localhost:8080/"
        },
        "id": "d7CibQhrxPmh",
        "outputId": "45870771-aedc-470d-d16b-6c89376f9d8b"
      },
      "outputs": [
        {
          "data": {
            "text/plain": [
              "(tensor([[0., 0.],\n",
              "         [0., 0.]]),\n",
              " tensor([[1., 1.],\n",
              "         [1., 1.]]))"
            ]
          },
          "execution_count": 8,
          "metadata": {},
          "output_type": "execute_result"
        }
      ],
      "source": [
        "# база\n",
        "torch.zeros(2,2), torch.ones(2,2)"
      ]
    },
    {
      "cell_type": "code",
      "execution_count": 9,
      "metadata": {
        "colab": {
          "base_uri": "https://localhost:8080/"
        },
        "id": "mMkP34JUxXLr",
        "outputId": "3838df5b-54da-400b-d5b3-d80e2ba6f5b1"
      },
      "outputs": [
        {
          "name": "stdout",
          "output_type": "stream",
          "text": [
            "tensor(2.5000)\n"
          ]
        },
        {
          "data": {
            "text/plain": [
              "2.5"
            ]
          },
          "execution_count": 9,
          "metadata": {},
          "output_type": "execute_result"
        }
      ],
      "source": [
        "# получаем значение тензора (если это скаляр)\n",
        "a = torch.tensor(2.5)\n",
        "print(a)\n",
        "a.item() # это объект, который имеет dtype тензора (в данном случае, float32)"
      ]
    },
    {
      "cell_type": "markdown",
      "metadata": {
        "id": "fyvPWhUXymhf"
      },
      "source": [
        "### Арифметические операции с тензорами"
      ]
    },
    {
      "cell_type": "code",
      "execution_count": 10,
      "metadata": {
        "id": "MvAKN0VQyqBU"
      },
      "outputs": [],
      "source": [
        "# с тензорами мы можем осуществлять поэлементно базовые операции;\n",
        "# при этом мы можем выполнять их как в обычном режиме, так и в режиме inplace\n",
        "# inplace предполагает, что в результате операции изменяется базовый объект\n",
        "# в обычном режиме выполнение операции создает новый объект\n",
        "# важно: все функции в pytorch для работы в режиме inplace содержат в названии подчеркивание!"
      ]
    },
    {
      "cell_type": "code",
      "execution_count": 11,
      "metadata": {
        "colab": {
          "base_uri": "https://localhost:8080/"
        },
        "id": "CcHhqpMDzBXA",
        "outputId": "1a957db1-8c65-46ba-d47e-cb7419a43a94"
      },
      "outputs": [
        {
          "name": "stdout",
          "output_type": "stream",
          "text": [
            "tensor([[ 2.7318e+00,  1.7994e+00, -5.7030e-01, -2.8883e+00],\n",
            "        [ 5.8869e-01,  5.7152e-01, -9.8390e-01,  5.6660e-04],\n",
            "        [ 1.3719e+00, -1.1372e+00,  5.0945e-01,  5.5944e-01]])\n",
            "tensor([[-1.4150,  1.1398,  0.0280, -0.5031],\n",
            "        [-0.4425,  0.6063,  0.6627, -0.9979],\n",
            "        [-0.1784, -0.2907,  0.1350, -4.2229]])\n",
            "tensor([[ 1.3652,  0.4847,  0.0811,  2.0223],\n",
            "        [ 0.0377, -0.0102,  0.1322, -0.2490],\n",
            "        [ 0.4625,  0.3022,  0.0603, -4.3800]])\n",
            "tensor([[  0.3176,   4.4560,   0.9063,   1.4219],\n",
            "        [  0.1418, -33.9093,   0.1950,  -0.9989],\n",
            "        [  0.7699,   1.6868,   1.7213,  -0.7660]])\n",
            "tensor([[0.4335, 2.1598, 0.0735, 2.8754],\n",
            "        [0.0053, 0.3468, 0.0258, 0.2487],\n",
            "        [0.3561, 0.5097, 0.1038, 3.3552]])\n"
          ]
        }
      ],
      "source": [
        "a = torch.randn(3, 4)\n",
        "b = torch.randn(3, 4)\n",
        "# поэлементные операции, выполняются в стандартном режиме\n",
        "print(a + b)\n",
        "print(a - b)\n",
        "print(a * b)\n",
        "print(a / b)\n",
        "print(a ** 2)"
      ]
    },
    {
      "cell_type": "code",
      "execution_count": 12,
      "metadata": {
        "colab": {
          "base_uri": "https://localhost:8080/"
        },
        "id": "_OuNBryGzYpB",
        "outputId": "6366bdf1-d5ed-4766-9726-c76899c08ac7"
      },
      "outputs": [
        {
          "name": "stdout",
          "output_type": "stream",
          "text": [
            "tensor([[-0.9110,  0.1876],\n",
            "        [ 1.4140,  0.4007]])\n",
            "tensor([[-1.5884, -0.5340],\n",
            "        [ 3.2297,  0.6918]])\n",
            "tensor([[-2.4995, -0.3463],\n",
            "        [ 4.6438,  1.0925]])\n"
          ]
        }
      ],
      "source": [
        "# пример inplace\n",
        "a = torch.randn(2, 2)\n",
        "b = torch.randn(2, 2)\n",
        "print(a)\n",
        "print(b)\n",
        "a.add_(b)\n",
        "print(a)"
      ]
    },
    {
      "cell_type": "code",
      "execution_count": 13,
      "metadata": {
        "colab": {
          "base_uri": "https://localhost:8080/"
        },
        "id": "0ysfmHhUxZud",
        "outputId": "13fe6a05-bb84-4915-969b-44e14565f124"
      },
      "outputs": [
        {
          "name": "stdout",
          "output_type": "stream",
          "text": [
            "[[0.61686511 0.05610658 0.02768859]\n",
            " [0.55642859 0.1841163  0.21514398]\n",
            " [0.16638552 0.62211225 0.8619012 ]]\n",
            "tensor([[0.6169, 0.0561, 0.0277],\n",
            "        [0.5564, 0.1841, 0.2151],\n",
            "        [0.1664, 0.6221, 0.8619]], dtype=torch.float64)\n",
            "tensor([[1.2337, 0.1122, 0.0554],\n",
            "        [1.1129, 0.3682, 0.4303],\n",
            "        [0.3328, 1.2442, 1.7238]], dtype=torch.float64)\n",
            "[[1.23373021 0.11221317 0.05537718]\n",
            " [1.11285719 0.3682326  0.43028796]\n",
            " [0.33277104 1.24422451 1.7238024 ]]\n"
          ]
        }
      ],
      "source": [
        "# перегоняем тензоры из numpy в pytorch и обратно\n",
        "import numpy as np\n",
        "\n",
        "a = np.random.rand(3,3)\n",
        "print(a)\n",
        "\n",
        "b = torch.from_numpy(a)\n",
        "print(b)\n",
        "\n",
        "# а теперь внимание!\n",
        "# если тензор находится на CPU (по умолчанию), то a и b ссылаются на один и тот же тензор\n",
        "# это имеет значение при использовании операций в режиме inplace\n",
        "\n",
        "b.add_(b)\n",
        "print(b)\n",
        "print(a)"
      ]
    },
    {
      "cell_type": "code",
      "execution_count": 14,
      "metadata": {
        "colab": {
          "base_uri": "https://localhost:8080/"
        },
        "id": "tST7vZiM0A7X",
        "outputId": "ee5c739a-c941-41c3-a550-d9dedacd026f"
      },
      "outputs": [
        {
          "data": {
            "text/plain": [
              "tensor([[0.4639, 0.5723, 0.7327, 0.6291],\n",
              "        [0.8028, 0.8441, 0.7025, 0.5273]])"
            ]
          },
          "execution_count": 14,
          "metadata": {},
          "output_type": "execute_result"
        }
      ],
      "source": [
        "# еще про операции\n",
        "a,b = torch.rand(2,3), torch.rand(3,4)\n",
        "a.matmul(b)"
      ]
    },
    {
      "cell_type": "code",
      "execution_count": 15,
      "metadata": {
        "colab": {
          "base_uri": "https://localhost:8080/"
        },
        "id": "34FDS48D0bqH",
        "outputId": "42d59435-ba4b-496c-dce3-85ab3225f7e5"
      },
      "outputs": [
        {
          "data": {
            "text/plain": [
              "(tensor([[0.0496, 0.7740, 0.4551, 0.0017, 0.1549, 0.9399, 0.4629, 0.9695, 0.2637,\n",
              "          0.4180, 0.8766, 0.4690, 0.7502, 0.3298, 0.9545, 0.7294],\n",
              "         [0.5332, 0.6184, 0.9390, 0.2463, 0.7482, 0.8365, 0.0931, 0.6567, 0.5922,\n",
              "          0.1641, 0.6717, 0.6609, 0.9160, 0.0088, 0.4925, 0.4079]]),\n",
              " tensor([[0.0496, 0.7740, 0.4551, 0.0017],\n",
              "         [0.1549, 0.9399, 0.4629, 0.9695],\n",
              "         [0.2637, 0.4180, 0.8766, 0.4690],\n",
              "         [0.7502, 0.3298, 0.9545, 0.7294],\n",
              "         [0.5332, 0.6184, 0.9390, 0.2463],\n",
              "         [0.7482, 0.8365, 0.0931, 0.6567],\n",
              "         [0.5922, 0.1641, 0.6717, 0.6609],\n",
              "         [0.9160, 0.0088, 0.4925, 0.4079]]))"
            ]
          },
          "execution_count": 15,
          "metadata": {},
          "output_type": "execute_result"
        }
      ],
      "source": [
        "# изменение размерностей\n",
        "a = torch.rand(4,8)\n",
        "# -1 - автоматическое определение размерности\n",
        "a.view(2, 16), a.view(-1, 4)"
      ]
    },
    {
      "cell_type": "code",
      "execution_count": 16,
      "metadata": {
        "id": "y2uZYQR01FEW"
      },
      "outputs": [
        {
          "data": {
            "text/plain": [
              "(tensor([[0.5781, 0.3734, 0.9318],\n",
              "         [0.2071, 0.0807, 0.3931],\n",
              "         [0.9709, 0.7609, 0.5531]]),\n",
              " tensor([[0.5781, 0.2071, 0.9709],\n",
              "         [0.3734, 0.0807, 0.7609],\n",
              "         [0.9318, 0.3931, 0.5531]]))"
            ]
          },
          "execution_count": 16,
          "metadata": {},
          "output_type": "execute_result"
        }
      ],
      "source": [
        "# транспонирование\n",
        "a = torch.rand(3,3)\n",
        "a, a.t()"
      ]
    },
    {
      "cell_type": "markdown",
      "metadata": {
        "id": "UiS9k3p51Ki3"
      },
      "source": [
        "## Автоматическое дифференцирование (AUTOGRAD)"
      ]
    },
    {
      "cell_type": "code",
      "execution_count": 17,
      "metadata": {
        "id": "c5gnMlcB1O9d"
      },
      "outputs": [],
      "source": [
        "# по умолчанию автоматическое дифференцирование для тензоров выключено\n",
        "# чтобы его включить, установим параметр requires_grad"
      ]
    },
    {
      "cell_type": "code",
      "execution_count": 18,
      "metadata": {
        "colab": {
          "base_uri": "https://localhost:8080/"
        },
        "id": "pdvghXs51WJx",
        "outputId": "7ca45a58-8904-4c0c-9b8f-933d99abc509"
      },
      "outputs": [
        {
          "data": {
            "text/plain": [
              "tensor([[-0.7107,  0.3302, -2.0275,  0.8069],\n",
              "        [ 1.2558, -0.4124, -0.3962,  1.8081],\n",
              "        [-0.3831,  0.6776,  0.9936, -1.2757]], requires_grad=True)"
            ]
          },
          "execution_count": 18,
          "metadata": {},
          "output_type": "execute_result"
        }
      ],
      "source": [
        "a = torch.randn(3, 4, requires_grad=True)\n",
        "a"
      ]
    },
    {
      "cell_type": "code",
      "execution_count": 19,
      "metadata": {
        "colab": {
          "base_uri": "https://localhost:8080/"
        },
        "id": "gjOO9Emj1hdi",
        "outputId": "684239b5-5d6b-461a-802d-0136ae846ff9"
      },
      "outputs": [
        {
          "data": {
            "text/plain": [
              "tensor([[-1.4215,  0.6605, -4.0549,  1.6139],\n",
              "        [ 2.5116, -0.8248, -0.7924,  3.6162],\n",
              "        [-0.7663,  1.3552,  1.9873, -2.5515]], grad_fn=<MulBackward0>)"
            ]
          },
          "execution_count": 19,
          "metadata": {},
          "output_type": "execute_result"
        }
      ],
      "source": [
        "# выполним операцию - увидим, что у нового тензора отображается функция, позволяющая выполнить backpropagation\n",
        "b = a * 2\n",
        "b"
      ]
    },
    {
      "cell_type": "code",
      "execution_count": 20,
      "metadata": {
        "colab": {
          "base_uri": "https://localhost:8080/"
        },
        "id": "05N7Wyr71wDk",
        "outputId": "a9d06d4e-c86d-4b31-e7cd-96d4a6f69aff"
      },
      "outputs": [
        {
          "data": {
            "text/plain": [
              "tensor([[2., 2., 2., 2.],\n",
              "        [2., 2., 2., 2.],\n",
              "        [2., 2., 2., 2.]])"
            ]
          },
          "execution_count": 20,
          "metadata": {},
          "output_type": "execute_result"
        }
      ],
      "source": [
        "# теперь магия\n",
        "b.backward(torch.ones_like(b))\n",
        "a.grad"
      ]
    },
    {
      "cell_type": "code",
      "execution_count": 21,
      "metadata": {
        "id": "sZ3HdwAk2TbJ"
      },
      "outputs": [],
      "source": [
        "# мы только что получили таким образом db / da\n",
        "# функция backward требует передачи вспомогательного тензора в качестве параметра только в том случае,\n",
        "# когда тензор, для которого мы вычисляем градиент, не является скаляром"
      ]
    },
    {
      "cell_type": "code",
      "execution_count": 22,
      "metadata": {
        "colab": {
          "base_uri": "https://localhost:8080/"
        },
        "id": "enhfppsC2nVP",
        "outputId": "fa1302b6-121b-44b2-af0a-bcfbe22c84fa"
      },
      "outputs": [
        {
          "name": "stdout",
          "output_type": "stream",
          "text": [
            "tensor([[0.8648, 0.0208],\n",
            "        [0.6047, 0.9319]], requires_grad=True)\n",
            "tensor([[1.7297, 0.0416],\n",
            "        [1.2095, 1.8638]])\n",
            "tensor([[0., 0.],\n",
            "        [0., 0.]])\n",
            "tensor([[0.4324, 0.0104],\n",
            "        [0.3024, 0.4659]])\n"
          ]
        }
      ],
      "source": [
        "# зададим x и функции y(x), g(y(x)); посчитаем градиенты\n",
        "x = torch.rand(2,2, requires_grad=True)\n",
        "print(x)\n",
        "y = x ** 2\n",
        "# давайте посчитаем dy / dx\n",
        "y.backward(torch.ones_like(y))\n",
        "print(x.grad)\n",
        "# важно: если мы начнем дальше проводить вычисления с тензором x, то градиент продолжит накапливаться;\n",
        "# допустим, мы хотим заново рассчитать градиент для функции g; нам надо занулить текущий накопленный градиент\n",
        "print(x.grad.zero_())\n",
        "y = x ** 2\n",
        "g = y.mean()\n",
        "# здесь g - скаляр, поэтому вспомогательный тензор не нужен\n",
        "g.backward()\n",
        "print(x.grad)"
      ]
    },
    {
      "cell_type": "code",
      "execution_count": 23,
      "metadata": {
        "colab": {
          "base_uri": "https://localhost:8080/"
        },
        "id": "i4lHLROG4qUM",
        "outputId": "41a57384-696f-4b6b-f6cb-b56fd428ab8c"
      },
      "outputs": [
        {
          "name": "stdout",
          "output_type": "stream",
          "text": [
            "tensor([[0.5066, 0.2517, 0.6543],\n",
            "        [0.6332, 0.8925, 0.0298],\n",
            "        [0.4957, 0.7157, 0.3365]])\n",
            "tensor([0.4709, 0.5185, 0.5160]) torch.return_types.min(\n",
            "values=tensor([0.2517, 0.0298, 0.3365]),\n",
            "indices=tensor([1, 2, 2]))\n",
            "tensor([0.2517, 0.0298, 0.3365]) tensor([1, 2, 2])\n"
          ]
        }
      ],
      "source": [
        "# мог возникнуть вопрос, а как брать средние не по всему тензору, а по определенным осям\n",
        "x = torch.rand(3,3)\n",
        "print(x)\n",
        "print(torch.mean(x, axis=1), torch.min(x, axis=1))\n",
        "\n",
        "# посмотрите, как удобно\n",
        "print(torch.min(x, axis=1)[0], torch.min(x, axis=1)[1])"
      ]
    },
    {
      "cell_type": "markdown",
      "metadata": {
        "id": "_jlHHOBU5Y5m"
      },
      "source": [
        "В реальных задачах AUTOGRAD в чистом видео не используются. Используются абстрации (оптимизатор, функция потерь и модель). Мы посмотрим это далее, на реальном примере решения задачи регрессии."
      ]
    },
    {
      "cell_type": "markdown",
      "metadata": {
        "id": "cC0Fkdke5xNx"
      },
      "source": [
        "## Загрузка датасета и преобразование его в тензоры"
      ]
    },
    {
      "cell_type": "markdown",
      "metadata": {
        "id": "Zx7LBSvd6Kbt"
      },
      "source": [
        "**Напоминание:** предполагается, что данные предобработаны; все признаки являются числами; пропуски отсутствуют!"
      ]
    },
    {
      "cell_type": "markdown",
      "metadata": {
        "id": "yxd-6C6M6a2l"
      },
      "source": [
        "Будем использовать [датасет для предсказания стоимости домов](https://drive.google.com/file/d/1WQTXrH4fo_8a1TBtbub1-RuNRLKmI6w0/view?usp=sharing)"
      ]
    },
    {
      "cell_type": "code",
      "execution_count": 24,
      "metadata": {
        "id": "FVjlWDSN7H_Q"
      },
      "outputs": [],
      "source": [
        "import pandas as pd"
      ]
    },
    {
      "cell_type": "code",
      "execution_count": 25,
      "metadata": {
        "colab": {
          "base_uri": "https://localhost:8080/",
          "height": 522
        },
        "id": "iC3FVm8m7BGi",
        "outputId": "6f2fd72b-2caf-4c6c-d739-92f970cf511d"
      },
      "outputs": [
        {
          "ename": "FileNotFoundError",
          "evalue": "[Errno 2] No such file or directory: 'data.csv'",
          "output_type": "error",
          "traceback": [
            "\u001b[31m---------------------------------------------------------------------------\u001b[39m",
            "\u001b[31mFileNotFoundError\u001b[39m                         Traceback (most recent call last)",
            "\u001b[36mCell\u001b[39m\u001b[36m \u001b[39m\u001b[32mIn[25]\u001b[39m\u001b[32m, line 1\u001b[39m\n\u001b[32m----> \u001b[39m\u001b[32m1\u001b[39m data = \u001b[43mpd\u001b[49m\u001b[43m.\u001b[49m\u001b[43mread_csv\u001b[49m\u001b[43m(\u001b[49m\u001b[33;43m'\u001b[39;49m\u001b[33;43mdata.csv\u001b[39;49m\u001b[33;43m'\u001b[39;49m\u001b[43m)\u001b[49m\n\u001b[32m      2\u001b[39m data\n",
            "\u001b[36mFile \u001b[39m\u001b[32mc:\\Users\\motyn\\Desktop\\repositories\\OMSTU\\.venv\\Lib\\site-packages\\pandas\\io\\parsers\\readers.py:1026\u001b[39m, in \u001b[36mread_csv\u001b[39m\u001b[34m(filepath_or_buffer, sep, delimiter, header, names, index_col, usecols, dtype, engine, converters, true_values, false_values, skipinitialspace, skiprows, skipfooter, nrows, na_values, keep_default_na, na_filter, verbose, skip_blank_lines, parse_dates, infer_datetime_format, keep_date_col, date_parser, date_format, dayfirst, cache_dates, iterator, chunksize, compression, thousands, decimal, lineterminator, quotechar, quoting, doublequote, escapechar, comment, encoding, encoding_errors, dialect, on_bad_lines, delim_whitespace, low_memory, memory_map, float_precision, storage_options, dtype_backend)\u001b[39m\n\u001b[32m   1013\u001b[39m kwds_defaults = _refine_defaults_read(\n\u001b[32m   1014\u001b[39m     dialect,\n\u001b[32m   1015\u001b[39m     delimiter,\n\u001b[32m   (...)\u001b[39m\u001b[32m   1022\u001b[39m     dtype_backend=dtype_backend,\n\u001b[32m   1023\u001b[39m )\n\u001b[32m   1024\u001b[39m kwds.update(kwds_defaults)\n\u001b[32m-> \u001b[39m\u001b[32m1026\u001b[39m \u001b[38;5;28;01mreturn\u001b[39;00m \u001b[43m_read\u001b[49m\u001b[43m(\u001b[49m\u001b[43mfilepath_or_buffer\u001b[49m\u001b[43m,\u001b[49m\u001b[43m \u001b[49m\u001b[43mkwds\u001b[49m\u001b[43m)\u001b[49m\n",
            "\u001b[36mFile \u001b[39m\u001b[32mc:\\Users\\motyn\\Desktop\\repositories\\OMSTU\\.venv\\Lib\\site-packages\\pandas\\io\\parsers\\readers.py:620\u001b[39m, in \u001b[36m_read\u001b[39m\u001b[34m(filepath_or_buffer, kwds)\u001b[39m\n\u001b[32m    617\u001b[39m _validate_names(kwds.get(\u001b[33m\"\u001b[39m\u001b[33mnames\u001b[39m\u001b[33m\"\u001b[39m, \u001b[38;5;28;01mNone\u001b[39;00m))\n\u001b[32m    619\u001b[39m \u001b[38;5;66;03m# Create the parser.\u001b[39;00m\n\u001b[32m--> \u001b[39m\u001b[32m620\u001b[39m parser = \u001b[43mTextFileReader\u001b[49m\u001b[43m(\u001b[49m\u001b[43mfilepath_or_buffer\u001b[49m\u001b[43m,\u001b[49m\u001b[43m \u001b[49m\u001b[43m*\u001b[49m\u001b[43m*\u001b[49m\u001b[43mkwds\u001b[49m\u001b[43m)\u001b[49m\n\u001b[32m    622\u001b[39m \u001b[38;5;28;01mif\u001b[39;00m chunksize \u001b[38;5;129;01mor\u001b[39;00m iterator:\n\u001b[32m    623\u001b[39m     \u001b[38;5;28;01mreturn\u001b[39;00m parser\n",
            "\u001b[36mFile \u001b[39m\u001b[32mc:\\Users\\motyn\\Desktop\\repositories\\OMSTU\\.venv\\Lib\\site-packages\\pandas\\io\\parsers\\readers.py:1620\u001b[39m, in \u001b[36mTextFileReader.__init__\u001b[39m\u001b[34m(self, f, engine, **kwds)\u001b[39m\n\u001b[32m   1617\u001b[39m     \u001b[38;5;28mself\u001b[39m.options[\u001b[33m\"\u001b[39m\u001b[33mhas_index_names\u001b[39m\u001b[33m\"\u001b[39m] = kwds[\u001b[33m\"\u001b[39m\u001b[33mhas_index_names\u001b[39m\u001b[33m\"\u001b[39m]\n\u001b[32m   1619\u001b[39m \u001b[38;5;28mself\u001b[39m.handles: IOHandles | \u001b[38;5;28;01mNone\u001b[39;00m = \u001b[38;5;28;01mNone\u001b[39;00m\n\u001b[32m-> \u001b[39m\u001b[32m1620\u001b[39m \u001b[38;5;28mself\u001b[39m._engine = \u001b[38;5;28;43mself\u001b[39;49m\u001b[43m.\u001b[49m\u001b[43m_make_engine\u001b[49m\u001b[43m(\u001b[49m\u001b[43mf\u001b[49m\u001b[43m,\u001b[49m\u001b[43m \u001b[49m\u001b[38;5;28;43mself\u001b[39;49m\u001b[43m.\u001b[49m\u001b[43mengine\u001b[49m\u001b[43m)\u001b[49m\n",
            "\u001b[36mFile \u001b[39m\u001b[32mc:\\Users\\motyn\\Desktop\\repositories\\OMSTU\\.venv\\Lib\\site-packages\\pandas\\io\\parsers\\readers.py:1880\u001b[39m, in \u001b[36mTextFileReader._make_engine\u001b[39m\u001b[34m(self, f, engine)\u001b[39m\n\u001b[32m   1878\u001b[39m     \u001b[38;5;28;01mif\u001b[39;00m \u001b[33m\"\u001b[39m\u001b[33mb\u001b[39m\u001b[33m\"\u001b[39m \u001b[38;5;129;01mnot\u001b[39;00m \u001b[38;5;129;01min\u001b[39;00m mode:\n\u001b[32m   1879\u001b[39m         mode += \u001b[33m\"\u001b[39m\u001b[33mb\u001b[39m\u001b[33m\"\u001b[39m\n\u001b[32m-> \u001b[39m\u001b[32m1880\u001b[39m \u001b[38;5;28mself\u001b[39m.handles = \u001b[43mget_handle\u001b[49m\u001b[43m(\u001b[49m\n\u001b[32m   1881\u001b[39m \u001b[43m    \u001b[49m\u001b[43mf\u001b[49m\u001b[43m,\u001b[49m\n\u001b[32m   1882\u001b[39m \u001b[43m    \u001b[49m\u001b[43mmode\u001b[49m\u001b[43m,\u001b[49m\n\u001b[32m   1883\u001b[39m \u001b[43m    \u001b[49m\u001b[43mencoding\u001b[49m\u001b[43m=\u001b[49m\u001b[38;5;28;43mself\u001b[39;49m\u001b[43m.\u001b[49m\u001b[43moptions\u001b[49m\u001b[43m.\u001b[49m\u001b[43mget\u001b[49m\u001b[43m(\u001b[49m\u001b[33;43m\"\u001b[39;49m\u001b[33;43mencoding\u001b[39;49m\u001b[33;43m\"\u001b[39;49m\u001b[43m,\u001b[49m\u001b[43m \u001b[49m\u001b[38;5;28;43;01mNone\u001b[39;49;00m\u001b[43m)\u001b[49m\u001b[43m,\u001b[49m\n\u001b[32m   1884\u001b[39m \u001b[43m    \u001b[49m\u001b[43mcompression\u001b[49m\u001b[43m=\u001b[49m\u001b[38;5;28;43mself\u001b[39;49m\u001b[43m.\u001b[49m\u001b[43moptions\u001b[49m\u001b[43m.\u001b[49m\u001b[43mget\u001b[49m\u001b[43m(\u001b[49m\u001b[33;43m\"\u001b[39;49m\u001b[33;43mcompression\u001b[39;49m\u001b[33;43m\"\u001b[39;49m\u001b[43m,\u001b[49m\u001b[43m \u001b[49m\u001b[38;5;28;43;01mNone\u001b[39;49;00m\u001b[43m)\u001b[49m\u001b[43m,\u001b[49m\n\u001b[32m   1885\u001b[39m \u001b[43m    \u001b[49m\u001b[43mmemory_map\u001b[49m\u001b[43m=\u001b[49m\u001b[38;5;28;43mself\u001b[39;49m\u001b[43m.\u001b[49m\u001b[43moptions\u001b[49m\u001b[43m.\u001b[49m\u001b[43mget\u001b[49m\u001b[43m(\u001b[49m\u001b[33;43m\"\u001b[39;49m\u001b[33;43mmemory_map\u001b[39;49m\u001b[33;43m\"\u001b[39;49m\u001b[43m,\u001b[49m\u001b[43m \u001b[49m\u001b[38;5;28;43;01mFalse\u001b[39;49;00m\u001b[43m)\u001b[49m\u001b[43m,\u001b[49m\n\u001b[32m   1886\u001b[39m \u001b[43m    \u001b[49m\u001b[43mis_text\u001b[49m\u001b[43m=\u001b[49m\u001b[43mis_text\u001b[49m\u001b[43m,\u001b[49m\n\u001b[32m   1887\u001b[39m \u001b[43m    \u001b[49m\u001b[43merrors\u001b[49m\u001b[43m=\u001b[49m\u001b[38;5;28;43mself\u001b[39;49m\u001b[43m.\u001b[49m\u001b[43moptions\u001b[49m\u001b[43m.\u001b[49m\u001b[43mget\u001b[49m\u001b[43m(\u001b[49m\u001b[33;43m\"\u001b[39;49m\u001b[33;43mencoding_errors\u001b[39;49m\u001b[33;43m\"\u001b[39;49m\u001b[43m,\u001b[49m\u001b[43m \u001b[49m\u001b[33;43m\"\u001b[39;49m\u001b[33;43mstrict\u001b[39;49m\u001b[33;43m\"\u001b[39;49m\u001b[43m)\u001b[49m\u001b[43m,\u001b[49m\n\u001b[32m   1888\u001b[39m \u001b[43m    \u001b[49m\u001b[43mstorage_options\u001b[49m\u001b[43m=\u001b[49m\u001b[38;5;28;43mself\u001b[39;49m\u001b[43m.\u001b[49m\u001b[43moptions\u001b[49m\u001b[43m.\u001b[49m\u001b[43mget\u001b[49m\u001b[43m(\u001b[49m\u001b[33;43m\"\u001b[39;49m\u001b[33;43mstorage_options\u001b[39;49m\u001b[33;43m\"\u001b[39;49m\u001b[43m,\u001b[49m\u001b[43m \u001b[49m\u001b[38;5;28;43;01mNone\u001b[39;49;00m\u001b[43m)\u001b[49m\u001b[43m,\u001b[49m\n\u001b[32m   1889\u001b[39m \u001b[43m\u001b[49m\u001b[43m)\u001b[49m\n\u001b[32m   1890\u001b[39m \u001b[38;5;28;01massert\u001b[39;00m \u001b[38;5;28mself\u001b[39m.handles \u001b[38;5;129;01mis\u001b[39;00m \u001b[38;5;129;01mnot\u001b[39;00m \u001b[38;5;28;01mNone\u001b[39;00m\n\u001b[32m   1891\u001b[39m f = \u001b[38;5;28mself\u001b[39m.handles.handle\n",
            "\u001b[36mFile \u001b[39m\u001b[32mc:\\Users\\motyn\\Desktop\\repositories\\OMSTU\\.venv\\Lib\\site-packages\\pandas\\io\\common.py:873\u001b[39m, in \u001b[36mget_handle\u001b[39m\u001b[34m(path_or_buf, mode, encoding, compression, memory_map, is_text, errors, storage_options)\u001b[39m\n\u001b[32m    868\u001b[39m \u001b[38;5;28;01melif\u001b[39;00m \u001b[38;5;28misinstance\u001b[39m(handle, \u001b[38;5;28mstr\u001b[39m):\n\u001b[32m    869\u001b[39m     \u001b[38;5;66;03m# Check whether the filename is to be opened in binary mode.\u001b[39;00m\n\u001b[32m    870\u001b[39m     \u001b[38;5;66;03m# Binary mode does not support 'encoding' and 'newline'.\u001b[39;00m\n\u001b[32m    871\u001b[39m     \u001b[38;5;28;01mif\u001b[39;00m ioargs.encoding \u001b[38;5;129;01mand\u001b[39;00m \u001b[33m\"\u001b[39m\u001b[33mb\u001b[39m\u001b[33m\"\u001b[39m \u001b[38;5;129;01mnot\u001b[39;00m \u001b[38;5;129;01min\u001b[39;00m ioargs.mode:\n\u001b[32m    872\u001b[39m         \u001b[38;5;66;03m# Encoding\u001b[39;00m\n\u001b[32m--> \u001b[39m\u001b[32m873\u001b[39m         handle = \u001b[38;5;28;43mopen\u001b[39;49m\u001b[43m(\u001b[49m\n\u001b[32m    874\u001b[39m \u001b[43m            \u001b[49m\u001b[43mhandle\u001b[49m\u001b[43m,\u001b[49m\n\u001b[32m    875\u001b[39m \u001b[43m            \u001b[49m\u001b[43mioargs\u001b[49m\u001b[43m.\u001b[49m\u001b[43mmode\u001b[49m\u001b[43m,\u001b[49m\n\u001b[32m    876\u001b[39m \u001b[43m            \u001b[49m\u001b[43mencoding\u001b[49m\u001b[43m=\u001b[49m\u001b[43mioargs\u001b[49m\u001b[43m.\u001b[49m\u001b[43mencoding\u001b[49m\u001b[43m,\u001b[49m\n\u001b[32m    877\u001b[39m \u001b[43m            \u001b[49m\u001b[43merrors\u001b[49m\u001b[43m=\u001b[49m\u001b[43merrors\u001b[49m\u001b[43m,\u001b[49m\n\u001b[32m    878\u001b[39m \u001b[43m            \u001b[49m\u001b[43mnewline\u001b[49m\u001b[43m=\u001b[49m\u001b[33;43m\"\u001b[39;49m\u001b[33;43m\"\u001b[39;49m\u001b[43m,\u001b[49m\n\u001b[32m    879\u001b[39m \u001b[43m        \u001b[49m\u001b[43m)\u001b[49m\n\u001b[32m    880\u001b[39m     \u001b[38;5;28;01melse\u001b[39;00m:\n\u001b[32m    881\u001b[39m         \u001b[38;5;66;03m# Binary mode\u001b[39;00m\n\u001b[32m    882\u001b[39m         handle = \u001b[38;5;28mopen\u001b[39m(handle, ioargs.mode)\n",
            "\u001b[31mFileNotFoundError\u001b[39m: [Errno 2] No such file or directory: 'data.csv'"
          ]
        }
      ],
      "source": [
        "data = pd.read_csv('data.csv')\n",
        "data"
      ]
    },
    {
      "cell_type": "code",
      "execution_count": null,
      "metadata": {
        "id": "6vAO_exd7Yda"
      },
      "outputs": [],
      "source": [
        "data.drop(['Unnamed: 0'], axis=1, inplace=True)"
      ]
    },
    {
      "cell_type": "code",
      "execution_count": null,
      "metadata": {
        "id": "SFGGtQyB7lT5"
      },
      "outputs": [],
      "source": [
        "# y и X - это массивы numpy\n",
        "y, X = data['SalePrice'].values, data.drop(columns=['SalePrice']).values\n",
        "\n",
        "# рекомендую всегда приводить массивы numpy к конкретной размерности (чтобы не было размерности вида (n, ))\n",
        "y = y.reshape(-1, 1)"
      ]
    },
    {
      "cell_type": "code",
      "execution_count": null,
      "metadata": {
        "id": "FJIKh5lT75ti"
      },
      "outputs": [],
      "source": [
        "from sklearn.model_selection import train_test_split"
      ]
    },
    {
      "cell_type": "code",
      "execution_count": null,
      "metadata": {
        "colab": {
          "base_uri": "https://localhost:8080/"
        },
        "id": "pDEN01gx7yOt",
        "outputId": "93ba3b91-df6d-421c-9b22-5df3175939ca"
      },
      "outputs": [
        {
          "data": {
            "text/plain": [
              "((5007, 40), (884, 40), (5007, 1), (884, 1))"
            ]
          },
          "execution_count": 172,
          "metadata": {},
          "output_type": "execute_result"
        }
      ],
      "source": [
        "# разбиваем данные\n",
        "X_train, X_test, y_train, y_test = train_test_split(X, y, test_size=0.15)\n",
        "X_train.shape, X_test.shape, y_train.shape, y_test.shape"
      ]
    },
    {
      "cell_type": "code",
      "execution_count": null,
      "metadata": {
        "id": "wDQXcgME8Tk0"
      },
      "outputs": [],
      "source": [
        "from torch.utils.data import TensorDataset, DataLoader"
      ]
    },
    {
      "cell_type": "code",
      "execution_count": null,
      "metadata": {
        "id": "o_Zkf0QG7-Za"
      },
      "outputs": [],
      "source": [
        "# а теперь преобразуем обучающую выборку в объект Dataset\n",
        "train_ds = TensorDataset(torch.from_numpy(X_train).type(torch.float32), torch.from_numpy(y_train).type(torch.float32))\n",
        "# для загрузки данных в ходе обучения мы создаем объект DataLoader на основе объекта Dataset\n",
        "train_dl = DataLoader(train_ds, batch_size=256, shuffle=True)"
      ]
    },
    {
      "cell_type": "code",
      "execution_count": null,
      "metadata": {
        "colab": {
          "base_uri": "https://localhost:8080/"
        },
        "id": "j9g7_nlE8enA",
        "outputId": "0b6e0b3f-6f7f-4a41-e55d-dbe116e77566"
      },
      "outputs": [
        {
          "data": {
            "text/plain": [
              "(torch.Size([256, 40]), torch.Size([256, 1]))"
            ]
          },
          "execution_count": 175,
          "metadata": {},
          "output_type": "execute_result"
        }
      ],
      "source": [
        "x_c, y_c = next(iter(train_dl))\n",
        "x_c.shape, y_c.shape\n",
        "# 128 - это указанный нами batch_size"
      ]
    },
    {
      "cell_type": "code",
      "execution_count": null,
      "metadata": {
        "id": "vXIDxZXp9wv1"
      },
      "outputs": [],
      "source": [
        "test_ds = TensorDataset(torch.from_numpy(X_test), torch.from_numpy(y_test))\n",
        "test_dl = DataLoader(test_ds, batch_size=256, shuffle=True)"
      ]
    },
    {
      "cell_type": "markdown",
      "metadata": {
        "id": "c_ohymWu-M-A"
      },
      "source": [
        "## Создание модели"
      ]
    },
    {
      "cell_type": "markdown",
      "metadata": {
        "id": "2dhsCNo1-Snr"
      },
      "source": [
        "Модели в PyTorch принято оформлять в виде классов, которые наследуются от базового класса nn.Module."
      ]
    },
    {
      "cell_type": "code",
      "execution_count": null,
      "metadata": {
        "id": "D-H6L5ga-e7X"
      },
      "outputs": [],
      "source": [
        "import torch.nn as nn"
      ]
    },
    {
      "cell_type": "code",
      "execution_count": null,
      "metadata": {
        "id": "SKXcOboU-bkT"
      },
      "outputs": [],
      "source": [
        "class MyRegressionModel(nn.Module):\n",
        "    # любая модель в PyTorch - это набор слоев\n",
        "    # при этом, мы сами определяем порядок их выполнения\n",
        "    # в конструкторе мы задаем набор слоев с указанием параметров\n",
        "    def __init__(self):\n",
        "        super(MyRegressionModel, self).__init__()\n",
        "        # определяем первый линейный слой (y = wx + b)\n",
        "        self.first_linear = nn.Linear(40, 120)\n",
        "        # определяем первый слой ReLU\n",
        "        self.first_relu = nn.ReLU()\n",
        "        self.second_linear = nn.Linear(120, 240)\n",
        "        self.second_relu = nn.ReLU()\n",
        "        self.third_linear = nn.Linear(240, 60)\n",
        "        self.third_relu = nn.ReLU()\n",
        "        self.fourth_linear = nn.Linear(60, 20)\n",
        "        self.fourth_relu = nn.ReLU()\n",
        "        self.fifth_linear = nn.Linear(20, 1)\n",
        "\n",
        "    # в методе forward мы определяем, как слои будут связаны друг с другом\n",
        "    def forward(self, x):\n",
        "        # y - результат выполнения первого слоя\n",
        "        y = self.first_linear(x)\n",
        "        # в теперь продолжаем накидывать оставшиеся слои\n",
        "        y = self.first_relu(y)\n",
        "        y = self.second_linear(y)\n",
        "        y = self.second_relu(y)\n",
        "        y = self.third_linear(y)\n",
        "        y = self.third_relu(y)\n",
        "        y = self.fourth_linear(y)\n",
        "        y = self.fourth_relu(y)\n",
        "        y = self.fifth_linear(y)\n",
        "        return y"
      ]
    },
    {
      "cell_type": "code",
      "execution_count": null,
      "metadata": {
        "id": "sKBFqOJs_tI2"
      },
      "outputs": [],
      "source": [
        "model = MyRegressionModel()"
      ]
    },
    {
      "cell_type": "code",
      "execution_count": null,
      "metadata": {
        "colab": {
          "base_uri": "https://localhost:8080/"
        },
        "id": "7XrmsZIHAk8w",
        "outputId": "10b7a474-be58-4739-bc3a-6dd18d03c2bb"
      },
      "outputs": [
        {
          "name": "stdout",
          "output_type": "stream",
          "text": [
            "MyRegressionModel(\n",
            "  (first_linear): Linear(in_features=40, out_features=120, bias=True)\n",
            "  (first_relu): ReLU()\n",
            "  (second_linear): Linear(in_features=120, out_features=240, bias=True)\n",
            "  (second_relu): ReLU()\n",
            "  (third_linear): Linear(in_features=240, out_features=60, bias=True)\n",
            "  (third_relu): ReLU()\n",
            "  (fourth_linear): Linear(in_features=60, out_features=20, bias=True)\n",
            "  (fourth_relu): ReLU()\n",
            "  (fifth_linear): Linear(in_features=20, out_features=1, bias=True)\n",
            ")\n"
          ]
        }
      ],
      "source": [
        "print(model)"
      ]
    },
    {
      "cell_type": "markdown",
      "metadata": {
        "id": "362ci_5sEDXW"
      },
      "source": [
        "**Важно:** модель демонстрационная! Архитектура определена без цели достижения высокого качества."
      ]
    },
    {
      "cell_type": "markdown",
      "metadata": {
        "id": "RpqHchZw_wwQ"
      },
      "source": [
        "Модель готова к использованию (граф динамический - ничего компилировать не нужно). Но прежде чем обучать модель, нам следует определить функцию потерь и настроить оптимизатор"
      ]
    },
    {
      "cell_type": "code",
      "execution_count": null,
      "metadata": {
        "id": "BkEOHXkB_9LK"
      },
      "outputs": [],
      "source": [
        "# определяем функцию потерь\n",
        "loss = nn.MSELoss()\n",
        "# настраиваем оптимизатор и передаем туда параметры модели\n",
        "optimizer = torch.optim.Adam(model.parameters(), lr=0.0025)"
      ]
    },
    {
      "cell_type": "markdown",
      "metadata": {
        "id": "8SuvktQzAKBS"
      },
      "source": [
        "Самые внимательные из вас уже догадались, что каждый из слоев модели - это абстракция над тензором с параметром requires_grad = True. А объект оптимизатора позволит нам абстрагироваться от ручной работы с AUTOGRAD."
      ]
    },
    {
      "cell_type": "code",
      "execution_count": null,
      "metadata": {
        "colab": {
          "base_uri": "https://localhost:8080/"
        },
        "id": "moW30xP4AkbJ",
        "outputId": "2736a6da-d92e-40af-8ce7-cc0471ec3cd9"
      },
      "outputs": [
        {
          "name": "stdout",
          "output_type": "stream",
          "text": [
            "Эпоха 1, Значение функции потерь: 50038280192.0\n",
            "Эпоха 2, Значение функции потерь: 11037709312.0\n",
            "Эпоха 3, Значение функции потерь: 8089636352.0\n",
            "Эпоха 4, Значение функции потерь: 7338319872.0\n",
            "Эпоха 5, Значение функции потерь: 6053208576.0\n",
            "Эпоха 6, Значение функции потерь: 6270580224.0\n",
            "Эпоха 7, Значение функции потерь: 5084550656.0\n",
            "Эпоха 8, Значение функции потерь: 5538084352.0\n",
            "Эпоха 9, Значение функции потерь: 4504658944.0\n",
            "Эпоха 10, Значение функции потерь: 4441493504.0\n",
            "Эпоха 11, Значение функции потерь: 3687614976.0\n",
            "Эпоха 12, Значение функции потерь: 4077753600.0\n",
            "Эпоха 13, Значение функции потерь: 3572656128.0\n",
            "Эпоха 14, Значение функции потерь: 3752544256.0\n",
            "Эпоха 15, Значение функции потерь: 4245116928.0\n",
            "Эпоха 16, Значение функции потерь: 3230610944.0\n",
            "Эпоха 17, Значение функции потерь: 3403735808.0\n",
            "Эпоха 18, Значение функции потерь: 4548229120.0\n",
            "Эпоха 19, Значение функции потерь: 3920899840.0\n",
            "Эпоха 20, Значение функции потерь: 4201260800.0\n",
            "Эпоха 21, Значение функции потерь: 4304622592.0\n",
            "Эпоха 22, Значение функции потерь: 3492339712.0\n",
            "Эпоха 23, Значение функции потерь: 4477896704.0\n",
            "Эпоха 24, Значение функции потерь: 3667062784.0\n",
            "Эпоха 25, Значение функции потерь: 4028313344.0\n",
            "Эпоха 26, Значение функции потерь: 3645101312.0\n",
            "Эпоха 27, Значение функции потерь: 3352978432.0\n",
            "Эпоха 28, Значение функции потерь: 3470688512.0\n",
            "Эпоха 29, Значение функции потерь: 3039580416.0\n",
            "Эпоха 30, Значение функции потерь: 2969617664.0\n",
            "Эпоха 31, Значение функции потерь: 3674833920.0\n",
            "Эпоха 32, Значение функции потерь: 3451812608.0\n",
            "Эпоха 33, Значение функции потерь: 3081316864.0\n",
            "Эпоха 34, Значение функции потерь: 3102528768.0\n",
            "Эпоха 35, Значение функции потерь: 3438159360.0\n",
            "Эпоха 36, Значение функции потерь: 2854391040.0\n",
            "Эпоха 37, Значение функции потерь: 3579021312.0\n",
            "Эпоха 38, Значение функции потерь: 3551169792.0\n",
            "Эпоха 39, Значение функции потерь: 3399788032.0\n",
            "Эпоха 40, Значение функции потерь: 3482040064.0\n",
            "Эпоха 41, Значение функции потерь: 2546699008.0\n",
            "Эпоха 42, Значение функции потерь: 3186074368.0\n",
            "Эпоха 43, Значение функции потерь: 3400229376.0\n",
            "Эпоха 44, Значение функции потерь: 3231515136.0\n",
            "Эпоха 45, Значение функции потерь: 3178864128.0\n",
            "Эпоха 46, Значение функции потерь: 2414000640.0\n",
            "Эпоха 47, Значение функции потерь: 3785263616.0\n",
            "Эпоха 48, Значение функции потерь: 2656757504.0\n",
            "Эпоха 49, Значение функции потерь: 2759137024.0\n",
            "Эпоха 50, Значение функции потерь: 2801170944.0\n"
          ]
        }
      ],
      "source": [
        "epochs = 100\n",
        "# цикл обучения (по эпохам)\n",
        "for epoch in range(epochs):\n",
        "    # за одну эпоху смотрим все батчи (по batch_size элементов)\n",
        "    for x_b, y_b in train_dl:\n",
        "        # делаем прямое распространение (получаем предсказание)\n",
        "        outputs = model(x_b)\n",
        "        # вычисляем значение функции потерь\n",
        "        loss_value = loss(outputs, y_b)\n",
        "        # делаем backward - вычисляются значения .grad у слоев модели\n",
        "        loss_value.backward()\n",
        "        # делаем шаг градиентного спуска с заданным у оптимизатора learning_rate\n",
        "        optimizer.step()\n",
        "        # зануляем .grad у слоев модели - для нового батча будем акумулировать новый .grad\n",
        "        optimizer.zero_grad()\n",
        "\n",
        "    # в конце эпохи выводим значение функции потерь для последнего рассмотренного батча\n",
        "    print(f'Эпоха {epoch + 1}, Значение функции потерь: {loss_value.item()}')"
      ]
    },
    {
      "cell_type": "code",
      "execution_count": null,
      "metadata": {
        "colab": {
          "base_uri": "https://localhost:8080/"
        },
        "id": "61-YZqPvEUi6",
        "outputId": "c4c28bd1-5e1d-463a-fad8-35e4fef88ebd"
      },
      "outputs": [
        {
          "data": {
            "text/plain": [
              "0.7385389561512032"
            ]
          },
          "execution_count": 183,
          "metadata": {},
          "output_type": "execute_result"
        }
      ],
      "source": [
        "y_pred = model(torch.from_numpy(X_test).type(torch.float32))\n",
        "\n",
        "from sklearn.metrics import r2_score\n",
        "# для преобразования тензора в массив numpy используем функцию numpy()\n",
        "# но поскольку y_pred у нас требует градиент (requires_grad), предварительно используем функцию detach()\n",
        "# она удаляет градиент\n",
        "r2_score(y_test, y_pred.detach().numpy())"
      ]
    },
    {
      "cell_type": "markdown",
      "metadata": {
        "id": "gCAZtqqoFmFf"
      },
      "source": [
        "Видим, что мы получили неплохой результат. Таким образом, с помощью PyTorch мы можем решать уже знакомые нам задачи регрессии и классификации. С решением задач классификации вы можете ознакомиться самостоятельно."
      ]
    },
    {
      "cell_type": "markdown",
      "metadata": {
        "id": "3gnFvhHr57hv"
      },
      "source": [
        "## Дополнительное задание (1 б.)"
      ]
    },
    {
      "cell_type": "markdown",
      "metadata": {
        "id": "8ZDQ1OS6570Q"
      },
      "source": [
        "Используя свой датасет для классификации из курса дисциплины \"Машинное обучение\" описать и обучить модель для классификации с помощью PyTorch. Выбрать функцию потерь. Использовать объекты TensorDataset и DataLoader."
      ]
    }
  ],
  "metadata": {
    "colab": {
      "provenance": []
    },
    "kernelspec": {
      "display_name": ".venv",
      "language": "python",
      "name": "python3"
    },
    "language_info": {
      "codemirror_mode": {
        "name": "ipython",
        "version": 3
      },
      "file_extension": ".py",
      "mimetype": "text/x-python",
      "name": "python",
      "nbconvert_exporter": "python",
      "pygments_lexer": "ipython3",
      "version": "3.11.5"
    }
  },
  "nbformat": 4,
  "nbformat_minor": 0
}
