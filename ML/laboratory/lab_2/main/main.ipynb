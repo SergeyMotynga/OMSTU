{
    "cells": [
        {
            "cell_type": "markdown",
            "id": "13ce74ed",
            "metadata": {},
            "source": [
                "# Построение моделей для решения задачи классификации (бинарная)"
            ]
        },
        {
            "cell_type": "markdown",
            "id": "112d9b18",
            "metadata": {},
            "source": [
                "## Импорт необходимых библиотек"
            ]
        },
        {
            "cell_type": "code",
            "execution_count": 224,
            "id": "e6e33656",
            "metadata": {},
            "outputs": [],
            "source": [
                "import numpy as np\n",
                "import pandas as pd\n",
                "import json\n",
                "import joblib\n",
                "import seaborn as sns\n",
                "import matplotlib.pyplot as plt\n",
                "from sklearn.preprocessing import StandardScaler\n",
                "from imblearn.over_sampling import SMOTE\n",
                "from sklearn.model_selection import train_test_split, StratifiedKFold, cross_val_score\n",
                "from sklearn.preprocessing import StandardScaler\n",
                "from sklearn.linear_model import LogisticRegression\n",
                "from sklearn.neighbors import KNeighborsClassifier\n",
                "from sklearn.naive_bayes import GaussianNB\n",
                "from sklearn.svm import SVC\n",
                "from sklearn.metrics import accuracy_score, f1_score, accuracy_score, precision_score, recall_score, confusion_matrix, roc_auc_score, roc_curve, auc\n",
                "from scipy.stats import loguniform, uniform, randint"
            ]
        },
        {
            "cell_type": "markdown",
            "id": "9d136c28",
            "metadata": {},
            "source": [
                "Загрузка датасета\n",
                "\n",
                "Целевой признак - bomb_planted"
            ]
        },
        {
            "cell_type": "code",
            "execution_count": 225,
            "id": "21e4f907",
            "metadata": {},
            "outputs": [],
            "source": [
                "data = pd.read_csv('csgo_filtred.csv')\n",
                "\n",
                "y = data['bomb_planted']\n",
                "X = data.drop(columns=['bomb_planted'], axis=1)"
            ]
        },
        {
            "cell_type": "markdown",
            "id": "d2bf8dd0",
            "metadata": {},
            "source": [
                "## Проверка баланса классов"
            ]
        },
        {
            "cell_type": "code",
            "execution_count": 226,
            "id": "93a7ad72",
            "metadata": {},
            "outputs": [
                {
                    "data": {
                        "application/vnd.microsoft.datawrangler.viewer.v0+json": {
                            "columns": [
                                {
                                    "name": "index",
                                    "rawType": "int64",
                                    "type": "integer"
                                },
                                {
                                    "name": "time_left",
                                    "rawType": "float64",
                                    "type": "float"
                                },
                                {
                                    "name": "ct_score",
                                    "rawType": "int64",
                                    "type": "integer"
                                },
                                {
                                    "name": "t_score",
                                    "rawType": "int64",
                                    "type": "integer"
                                },
                                {
                                    "name": "map",
                                    "rawType": "object",
                                    "type": "string"
                                },
                                {
                                    "name": "ct_health",
                                    "rawType": "int64",
                                    "type": "integer"
                                },
                                {
                                    "name": "t_health",
                                    "rawType": "int64",
                                    "type": "integer"
                                },
                                {
                                    "name": "ct_armor",
                                    "rawType": "int64",
                                    "type": "integer"
                                },
                                {
                                    "name": "t_armor",
                                    "rawType": "int64",
                                    "type": "integer"
                                },
                                {
                                    "name": "ct_money",
                                    "rawType": "int64",
                                    "type": "integer"
                                },
                                {
                                    "name": "t_money",
                                    "rawType": "int64",
                                    "type": "integer"
                                },
                                {
                                    "name": "ct_helmets",
                                    "rawType": "int64",
                                    "type": "integer"
                                },
                                {
                                    "name": "t_helmets",
                                    "rawType": "int64",
                                    "type": "integer"
                                },
                                {
                                    "name": "ct_defuse_kits",
                                    "rawType": "int64",
                                    "type": "integer"
                                },
                                {
                                    "name": "ct_players_alive",
                                    "rawType": "int64",
                                    "type": "integer"
                                },
                                {
                                    "name": "t_players_alive",
                                    "rawType": "int64",
                                    "type": "integer"
                                },
                                {
                                    "name": "health_lead",
                                    "rawType": "int64",
                                    "type": "integer"
                                },
                                {
                                    "name": "armor_lead",
                                    "rawType": "int64",
                                    "type": "integer"
                                },
                                {
                                    "name": "money_lead",
                                    "rawType": "int64",
                                    "type": "integer"
                                },
                                {
                                    "name": "helmets_lead",
                                    "rawType": "int64",
                                    "type": "integer"
                                },
                                {
                                    "name": "players_alive_lead",
                                    "rawType": "int64",
                                    "type": "integer"
                                }
                            ],
                            "conversionMethod": "pd.DataFrame",
                            "ref": "d6acac7c-507a-4b0d-976d-f911bdc10ebf",
                            "rows": [
                                [
                                    "0",
                                    "175.0",
                                    "0",
                                    "0",
                                    "de_dust2",
                                    "500",
                                    "500",
                                    "0",
                                    "0",
                                    "4000",
                                    "4000",
                                    "0",
                                    "0",
                                    "0",
                                    "5",
                                    "5",
                                    "2",
                                    "2",
                                    "2",
                                    "2",
                                    "2"
                                ],
                                [
                                    "1",
                                    "156.03",
                                    "0",
                                    "0",
                                    "de_dust2",
                                    "500",
                                    "500",
                                    "400",
                                    "300",
                                    "600",
                                    "650",
                                    "0",
                                    "0",
                                    "1",
                                    "5",
                                    "5",
                                    "2",
                                    "0",
                                    "1",
                                    "2",
                                    "2"
                                ],
                                [
                                    "2",
                                    "96.03",
                                    "0",
                                    "0",
                                    "de_dust2",
                                    "391",
                                    "400",
                                    "294",
                                    "200",
                                    "750",
                                    "500",
                                    "0",
                                    "0",
                                    "1",
                                    "4",
                                    "4",
                                    "1",
                                    "0",
                                    "0",
                                    "2",
                                    "2"
                                ],
                                [
                                    "3",
                                    "76.03",
                                    "0",
                                    "0",
                                    "de_dust2",
                                    "391",
                                    "400",
                                    "294",
                                    "200",
                                    "750",
                                    "500",
                                    "0",
                                    "0",
                                    "1",
                                    "4",
                                    "4",
                                    "1",
                                    "0",
                                    "0",
                                    "2",
                                    "2"
                                ],
                                [
                                    "4",
                                    "174.97",
                                    "1",
                                    "0",
                                    "de_dust2",
                                    "500",
                                    "500",
                                    "192",
                                    "0",
                                    "18350",
                                    "10750",
                                    "0",
                                    "0",
                                    "1",
                                    "5",
                                    "5",
                                    "2",
                                    "0",
                                    "0",
                                    "2",
                                    "2"
                                ]
                            ],
                            "shape": {
                                "columns": 20,
                                "rows": 5
                            }
                        },
                        "text/html": [
                            "<div>\n",
                            "<style scoped>\n",
                            "    .dataframe tbody tr th:only-of-type {\n",
                            "        vertical-align: middle;\n",
                            "    }\n",
                            "\n",
                            "    .dataframe tbody tr th {\n",
                            "        vertical-align: top;\n",
                            "    }\n",
                            "\n",
                            "    .dataframe thead th {\n",
                            "        text-align: right;\n",
                            "    }\n",
                            "</style>\n",
                            "<table border=\"1\" class=\"dataframe\">\n",
                            "  <thead>\n",
                            "    <tr style=\"text-align: right;\">\n",
                            "      <th></th>\n",
                            "      <th>time_left</th>\n",
                            "      <th>ct_score</th>\n",
                            "      <th>t_score</th>\n",
                            "      <th>map</th>\n",
                            "      <th>ct_health</th>\n",
                            "      <th>t_health</th>\n",
                            "      <th>ct_armor</th>\n",
                            "      <th>t_armor</th>\n",
                            "      <th>ct_money</th>\n",
                            "      <th>t_money</th>\n",
                            "      <th>ct_helmets</th>\n",
                            "      <th>t_helmets</th>\n",
                            "      <th>ct_defuse_kits</th>\n",
                            "      <th>ct_players_alive</th>\n",
                            "      <th>t_players_alive</th>\n",
                            "      <th>health_lead</th>\n",
                            "      <th>armor_lead</th>\n",
                            "      <th>money_lead</th>\n",
                            "      <th>helmets_lead</th>\n",
                            "      <th>players_alive_lead</th>\n",
                            "    </tr>\n",
                            "  </thead>\n",
                            "  <tbody>\n",
                            "    <tr>\n",
                            "      <th>0</th>\n",
                            "      <td>175.00</td>\n",
                            "      <td>0</td>\n",
                            "      <td>0</td>\n",
                            "      <td>de_dust2</td>\n",
                            "      <td>500</td>\n",
                            "      <td>500</td>\n",
                            "      <td>0</td>\n",
                            "      <td>0</td>\n",
                            "      <td>4000</td>\n",
                            "      <td>4000</td>\n",
                            "      <td>0</td>\n",
                            "      <td>0</td>\n",
                            "      <td>0</td>\n",
                            "      <td>5</td>\n",
                            "      <td>5</td>\n",
                            "      <td>2</td>\n",
                            "      <td>2</td>\n",
                            "      <td>2</td>\n",
                            "      <td>2</td>\n",
                            "      <td>2</td>\n",
                            "    </tr>\n",
                            "    <tr>\n",
                            "      <th>1</th>\n",
                            "      <td>156.03</td>\n",
                            "      <td>0</td>\n",
                            "      <td>0</td>\n",
                            "      <td>de_dust2</td>\n",
                            "      <td>500</td>\n",
                            "      <td>500</td>\n",
                            "      <td>400</td>\n",
                            "      <td>300</td>\n",
                            "      <td>600</td>\n",
                            "      <td>650</td>\n",
                            "      <td>0</td>\n",
                            "      <td>0</td>\n",
                            "      <td>1</td>\n",
                            "      <td>5</td>\n",
                            "      <td>5</td>\n",
                            "      <td>2</td>\n",
                            "      <td>0</td>\n",
                            "      <td>1</td>\n",
                            "      <td>2</td>\n",
                            "      <td>2</td>\n",
                            "    </tr>\n",
                            "    <tr>\n",
                            "      <th>2</th>\n",
                            "      <td>96.03</td>\n",
                            "      <td>0</td>\n",
                            "      <td>0</td>\n",
                            "      <td>de_dust2</td>\n",
                            "      <td>391</td>\n",
                            "      <td>400</td>\n",
                            "      <td>294</td>\n",
                            "      <td>200</td>\n",
                            "      <td>750</td>\n",
                            "      <td>500</td>\n",
                            "      <td>0</td>\n",
                            "      <td>0</td>\n",
                            "      <td>1</td>\n",
                            "      <td>4</td>\n",
                            "      <td>4</td>\n",
                            "      <td>1</td>\n",
                            "      <td>0</td>\n",
                            "      <td>0</td>\n",
                            "      <td>2</td>\n",
                            "      <td>2</td>\n",
                            "    </tr>\n",
                            "    <tr>\n",
                            "      <th>3</th>\n",
                            "      <td>76.03</td>\n",
                            "      <td>0</td>\n",
                            "      <td>0</td>\n",
                            "      <td>de_dust2</td>\n",
                            "      <td>391</td>\n",
                            "      <td>400</td>\n",
                            "      <td>294</td>\n",
                            "      <td>200</td>\n",
                            "      <td>750</td>\n",
                            "      <td>500</td>\n",
                            "      <td>0</td>\n",
                            "      <td>0</td>\n",
                            "      <td>1</td>\n",
                            "      <td>4</td>\n",
                            "      <td>4</td>\n",
                            "      <td>1</td>\n",
                            "      <td>0</td>\n",
                            "      <td>0</td>\n",
                            "      <td>2</td>\n",
                            "      <td>2</td>\n",
                            "    </tr>\n",
                            "    <tr>\n",
                            "      <th>4</th>\n",
                            "      <td>174.97</td>\n",
                            "      <td>1</td>\n",
                            "      <td>0</td>\n",
                            "      <td>de_dust2</td>\n",
                            "      <td>500</td>\n",
                            "      <td>500</td>\n",
                            "      <td>192</td>\n",
                            "      <td>0</td>\n",
                            "      <td>18350</td>\n",
                            "      <td>10750</td>\n",
                            "      <td>0</td>\n",
                            "      <td>0</td>\n",
                            "      <td>1</td>\n",
                            "      <td>5</td>\n",
                            "      <td>5</td>\n",
                            "      <td>2</td>\n",
                            "      <td>0</td>\n",
                            "      <td>0</td>\n",
                            "      <td>2</td>\n",
                            "      <td>2</td>\n",
                            "    </tr>\n",
                            "  </tbody>\n",
                            "</table>\n",
                            "</div>"
                        ],
                        "text/plain": [
                            "   time_left  ct_score  t_score       map  ct_health  t_health  ct_armor  \\\n",
                            "0     175.00         0        0  de_dust2        500       500         0   \n",
                            "1     156.03         0        0  de_dust2        500       500       400   \n",
                            "2      96.03         0        0  de_dust2        391       400       294   \n",
                            "3      76.03         0        0  de_dust2        391       400       294   \n",
                            "4     174.97         1        0  de_dust2        500       500       192   \n",
                            "\n",
                            "   t_armor  ct_money  t_money  ct_helmets  t_helmets  ct_defuse_kits  \\\n",
                            "0        0      4000     4000           0          0               0   \n",
                            "1      300       600      650           0          0               1   \n",
                            "2      200       750      500           0          0               1   \n",
                            "3      200       750      500           0          0               1   \n",
                            "4        0     18350    10750           0          0               1   \n",
                            "\n",
                            "   ct_players_alive  t_players_alive  health_lead  armor_lead  money_lead  \\\n",
                            "0                 5                5            2           2           2   \n",
                            "1                 5                5            2           0           1   \n",
                            "2                 4                4            1           0           0   \n",
                            "3                 4                4            1           0           0   \n",
                            "4                 5                5            2           0           0   \n",
                            "\n",
                            "   helmets_lead  players_alive_lead  \n",
                            "0             2                   2  \n",
                            "1             2                   2  \n",
                            "2             2                   2  \n",
                            "3             2                   2  \n",
                            "4             2                   2  "
                        ]
                    },
                    "execution_count": 226,
                    "metadata": {},
                    "output_type": "execute_result"
                }
            ],
            "source": [
                "X.head()"
            ]
        },
        {
            "cell_type": "code",
            "execution_count": 227,
            "id": "eeb0858d",
            "metadata": {},
            "outputs": [
                {
                    "data": {
                        "text/plain": [
                            "<Axes: ylabel='bomb_planted'>"
                        ]
                    },
                    "execution_count": 227,
                    "metadata": {},
                    "output_type": "execute_result"
                },
                {
                    "data": {
                        "image/png": "[encoded data removed]",
                        "text/plain": [
                            "<Figure size 640x480 with 1 Axes>"
                        ]
                    },
                    "metadata": {},
                    "output_type": "display_data"
                }
            ],
            "source": [
                "y.value_counts().plot.barh()"
            ]
        },
        {
            "cell_type": "code",
            "execution_count": 228,
            "id": "7cafaa7a",
            "metadata": {},
            "outputs": [
                {
                    "data": {
                        "text/plain": [
                            "bomb_planted\n",
                            "False    102945\n",
                            "True      13684\n",
                            "Name: count, dtype: int64"
                        ]
                    },
                    "execution_count": 228,
                    "metadata": {},
                    "output_type": "execute_result"
                }
            ],
            "source": [
                "y.value_counts()"
            ]
        },
        {
            "cell_type": "markdown",
            "id": "757788c3",
            "metadata": {},
            "source": [
                "Видно, что классы максимально несбалансированы, количество класса false превосходит класс true более чем в 5 раз.\n",
                "\n",
                "Для балансировки буду использовать метод SMOTE, он создаёт дополнительные точки для минаритарного класса, основываясь на уже существующих точках.\n",
                "\n",
                "Но для начала преобразую переменные признака map в числовые."
            ]
        },
        {
            "cell_type": "code",
            "execution_count": 229,
            "id": "95f5d542",
            "metadata": {},
            "outputs": [
                {
                    "data": {
                        "text/plain": [
                            "map\n",
                            "de_inferno     22806\n",
                            "de_dust2       21040\n",
                            "de_nuke        17879\n",
                            "de_mirage      17641\n",
                            "de_overpass    13375\n",
                            "de_train       12800\n",
                            "de_vertigo     10733\n",
                            "unknown          211\n",
                            "de_cache         144\n",
                            "Name: count, dtype: int64"
                        ]
                    },
                    "execution_count": 229,
                    "metadata": {},
                    "output_type": "execute_result"
                }
            ],
            "source": [
                "X['map'].value_counts()"
            ]
        },
        {
            "cell_type": "code",
            "execution_count": 230,
            "id": "aef706df",
            "metadata": {},
            "outputs": [],
            "source": [
                "X['map'] = X['map'].str.strip().str.lower()"
            ]
        },
        {
            "cell_type": "code",
            "execution_count": 231,
            "id": "496a6e47",
            "metadata": {},
            "outputs": [
                {
                    "data": {
                        "text/plain": [
                            "map\n",
                            "1    22806\n",
                            "2    21040\n",
                            "3    17879\n",
                            "4    17641\n",
                            "5    13375\n",
                            "6    12800\n",
                            "7    10733\n",
                            "8      211\n",
                            "9      144\n",
                            "Name: count, dtype: int64"
                        ]
                    },
                    "execution_count": 231,
                    "metadata": {},
                    "output_type": "execute_result"
                }
            ],
            "source": [
                "mapping = {\n",
                "    'de_inferno': 1,\n",
                "    'de_dust2': 2,\n",
                "    'de_nuke': 3,\n",
                "    'de_mirage': 4,\n",
                "    'de_overpass': 5,\n",
                "    'de_train': 6,\n",
                "    'de_vertigo': 7,\n",
                "    'unknown': 8,\n",
                "    'de_cache': 9\n",
                "}\n",
                "\n",
                "X['map'] = X['map'].map(mapping)\n",
                "X['map'].value_counts()"
            ]
        },
        {
            "cell_type": "code",
            "execution_count": 232,
            "id": "d630252a",
            "metadata": {},
            "outputs": [],
            "source": [
                "oversample = SMOTE()\n",
                "transformed_X, tranformed_y = oversample.fit_resample(X, y)"
            ]
        },
        {
            "cell_type": "code",
            "execution_count": 233,
            "id": "08d2f7ef",
            "metadata": {},
            "outputs": [
                {
                    "name": "stdout",
                    "output_type": "stream",
                    "text": [
                        "OLD: bomb_planted\n",
                        "False    102945\n",
                        "True      13684\n",
                        "Name: count, dtype: int64\n",
                        "\n",
                        "NEW: bomb_planted\n",
                        "False    102945\n",
                        "True     102945\n",
                        "Name: count, dtype: int64\n"
                    ]
                }
            ],
            "source": [
                "print(f'OLD: {y.value_counts()}')\n",
                "print()\n",
                "print(f'NEW: {tranformed_y.value_counts()}')"
            ]
        },
        {
            "cell_type": "code",
            "execution_count": 234,
            "id": "c986b865",
            "metadata": {},
            "outputs": [],
            "source": [
                "X, y = transformed_X, tranformed_y"
            ]
        },
        {
            "cell_type": "code",
            "execution_count": 235,
            "id": "c969c190",
            "metadata": {},
            "outputs": [
                {
                    "data": {
                        "text/plain": [
                            "np.int64(0)"
                        ]
                    },
                    "execution_count": 235,
                    "metadata": {},
                    "output_type": "execute_result"
                }
            ],
            "source": [
                "X.duplicated().sum()"
            ]
        },
        {
            "cell_type": "markdown",
            "id": "4eab98b5",
            "metadata": {},
            "source": [
                "Как можно увидеть балансировка по классам получилась успешной, теперь мы имеем два класса с одинаковым количеством точек."
            ]
        },
        {
            "cell_type": "markdown",
            "id": "fc9a2833",
            "metadata": {},
            "source": [
                "## Разделение на тренировочную и тестовую выборки"
            ]
        },
        {
            "cell_type": "code",
            "execution_count": 236,
            "id": "2c7b68fd",
            "metadata": {},
            "outputs": [
                {
                    "data": {
                        "text/plain": [
                            "((102945, 20), (102945,), (20589, 20), (20589,))"
                        ]
                    },
                    "execution_count": 236,
                    "metadata": {},
                    "output_type": "execute_result"
                }
            ],
            "source": [
                "# Метод train_test_split с использованием stratify\n",
                "\n",
                "X = StandardScaler().fit_transform(X)\n",
                "\n",
                "X_train, X_test, y_train, y_test = train_test_split(X, y, random_state=42, train_size=0.5, stratify=y, test_size=0.1)\n",
                "X_train.shape, y_train.shape, X_test.shape, y_test.shape"
            ]
        },
        {
            "cell_type": "code",
            "execution_count": 237,
            "id": "bb5fa1c5",
            "metadata": {},
            "outputs": [
                {
                    "data": {
                        "text/plain": [
                            "((10294, 20), (10294,), (2059, 20), (2059,))"
                        ]
                    },
                    "execution_count": 237,
                    "metadata": {},
                    "output_type": "execute_result"
                }
            ],
            "source": [
                "X_train_search, X_test_search, y_train_search, y_test_search = train_test_split(X, y, random_state=42, train_size=0.05, stratify=y, test_size=0.01)\n",
                "X_train_search.shape, y_train_search.shape, X_test_search.shape, y_test_search.shape"
            ]
        },
        {
            "cell_type": "code",
            "execution_count": 238,
            "id": "f3b1fba0",
            "metadata": {},
            "outputs": [],
            "source": [
                "# KFold\n",
                "\n",
                "kf = StratifiedKFold(n_splits=5, shuffle=True, random_state=42)"
            ]
        },
        {
            "cell_type": "code",
            "execution_count": 239,
            "id": "4b86f212",
            "metadata": {},
            "outputs": [],
            "source": [
                "# Маштабирование\n",
                "\n",
                "scaler = StandardScaler()\n",
                "X_train = scaler.fit_transform(X_train)\n",
                "X_test = scaler.transform(X_test)\n",
                "X_train_search = scaler.fit_transform(X_train_search)\n",
                "X_test_search = scaler.transform(X_test_search)"
            ]
        },
        {
            "cell_type": "markdown",
            "id": "901efe84",
            "metadata": {},
            "source": [
                "## Вычисление лучший гиперпараметров для моделей"
            ]
        },
        {
            "cell_type": "markdown",
            "id": "8320be9e",
            "metadata": {},
            "source": [
                "По заданию необходимо использовать такие модели классификации как:\n",
                "\n",
                "- `Logistic Regression`\n",
                "- `kNN`\n",
                "- `Naive Bayes`\n",
                "- `SVM` (в том числе ядерные функции (Linear Kernel, Polynomial Kernel, RBF Kernel, Sigmoid Kernel, Exponential Kernel))\n",
                "\n",
                "Для начала найду для всех этих моделей лучшие гиперпараметры\n",
                "\n",
                "`ВАЖНО!` Датасет после балансировки классов состоит из 200тыс объектов, искать гиперпараметры на таком объёмы это потрать дни, поэтому в самом начале специально были созданы выборки по 10тыс объектов для поиска гиперпараметров, далее применяя наиденные гиперпараметры в моделях, буду обучать их на 100тыс объектах."
            ]
        },
        {
            "cell_type": "raw",
            "id": "f5330d60",
            "metadata": {
                "vscode": {
                    "languageId": "raw"
                }
            },
            "source": [
                "from search_hyperparameters import search_hyperparameters"
            ]
        },
        {
            "cell_type": "raw",
            "id": "2995f4f4",
            "metadata": {
                "vscode": {
                    "languageId": "raw"
                }
            },
            "source": [
                "models = ['LogisticRegression', 'kNN', 'NaiveBayes', 'SVM']\n",
                "methods = ['GridSearchCV', 'RandomizedSearchCV']\n",
                "\n",
                "parameters = {\n",
                "    'LogisticRegression': {\n",
                "        'GridSearchCV': {\n",
                "            'C': [0.001, 0.01, 0.1, 1, 10],\n",
                "            'penalty': ['l2', 'l1'],\n",
                "            'solver': ['liblinear', 'saga'],\n",
                "            'class_weight': [None, 'balanced'],\n",
                "            'tol': [1e-4, 1e-3]\n",
                "        },\n",
                "        'RandomizedSearchCV': {\n",
                "            'C': loguniform(1e-4, 1e2),\n",
                "            'penalty': ['l2', 'l1'],\n",
                "            'solver': ['liblinear', 'saga'],\n",
                "            'class_weight': [None, 'balanced'],\n",
                "            'tol': uniform(1e-4, 1e-2)\n",
                "        }\n",
                "    },\n",
                "    'kNN': {\n",
                "        'GridSearchCV': {\n",
                "            'n_neighbors': [3, 5, 7, 9],\n",
                "            'weights': ['uniform', 'distance'],\n",
                "            'metric': ['euclidean', 'manhattan']\n",
                "        },\n",
                "        'RandomizedSearchCV': {\n",
                "            'n_neighbors': randint(3, 15),\n",
                "            'weights': ['uniform', 'distance'],\n",
                "            'metric': ['euclidean', 'manhattan']\n",
                "        }\n",
                "    },\n",
                "    'NaiveBayes': {\n",
                "        'GridSearchCV': {\n",
                "            'var_smoothing': [1e-9, 1e-8, 1e-7]\n",
                "        },\n",
                "        'RandomizedSearchCV': {\n",
                "            'var_smoothing': loguniform(1e-9, 1e-6)\n",
                "        }\n",
                "    },\n",
                "    'SVM': {\n",
                "        'GridSearchCV': {\n",
                "            'kernel': ['linear', 'rbf'],\n",
                "            'C': [0.1, 1, 10],\n",
                "            'gamma': ['scale', 0.001, 0.01]\n",
                "        },\n",
                "        'RandomizedSearchCV': {\n",
                "            'kernel': ['linear', 'rbf'],\n",
                "            'C': loguniform(1e-2, 1e2),\n",
                "            'gamma': loguniform(1e-4, 1e-1)\n",
                "        }\n",
                "    }\n",
                "}"
            ]
        },
        {
            "cell_type": "raw",
            "id": "ef90f3b0",
            "metadata": {
                "vscode": {
                    "languageId": "raw"
                }
            },
            "source": [
                "best_params = {}\n",
                "\n",
                "for model in models:\n",
                "    best_params[model] = {}\n",
                "    for method in methods:\n",
                "        print(f'Сейчас на {model}, {method}')\n",
                "        searcher = search_hyperparameters(\n",
                "            model_name=model,\n",
                "            method_search=method,\n",
                "            X_train=X_train_search,\n",
                "            y_train=y_train_search,\n",
                "            param_grid=parameters[model][method],\n",
                "            n_jobs=-1,\n",
                "            cv=3,\n",
                "            scoring='accuracy'\n",
                "        )\n",
                "        best_params[model][method] = {\n",
                "            'params': searcher['best_params'],\n",
                "            'score': searcher['best_score']\n",
                "        }"
            ]
        },
        {
            "cell_type": "markdown",
            "id": "ffd93fb9",
            "metadata": {},
            "source": [
                "Сохранение словаря как json файла, чтобы не вычислять его повторно"
            ]
        },
        {
            "cell_type": "raw",
            "id": "5781e2f2",
            "metadata": {
                "vscode": {
                    "languageId": "raw"
                }
            },
            "source": [
                "def convert(o):\n",
                "    if isinstance(o, np.generic):\n",
                "        return o.item()\n",
                "    raise TypeError\n",
                "\n",
                "with open('best_params.json', 'w') as f:\n",
                "    json.dump(best_params, f, indent=4, default=convert)"
            ]
        },
        {
            "cell_type": "code",
            "execution_count": 240,
            "id": "d91e913c",
            "metadata": {},
            "outputs": [],
            "source": [
                "with open('best_params.json', 'r') as f:\n",
                "    best_params = json.load(f)"
            ]
        },
        {
            "cell_type": "markdown",
            "id": "9d705990",
            "metadata": {},
            "source": [
                "## Обучение моделей"
            ]
        },
        {
            "cell_type": "code",
            "execution_count": 241,
            "id": "1530ec9b",
            "metadata": {},
            "outputs": [],
            "source": [
                "def metrics(pred_array, true_array=y_test,):\n",
                "    print(f'F1: {f1_score(true_array, pred_array)}')\n",
                "    print(f'accuracy: {accuracy_score(true_array, pred_array)}')\n",
                "    print(f'precision: {precision_score(true_array, pred_array)}')\n",
                "    print(f'recall: {recall_score(true_array, pred_array)}')\n",
                "    print(f'roc_auc_score: {roc_auc_score(true_array, pred_array)}')"
            ]
        },
        {
            "cell_type": "markdown",
            "id": "8f118d5c",
            "metadata": {},
            "source": [
                "Logistic Regression"
            ]
        },
        {
            "cell_type": "raw",
            "id": "d4ab6200",
            "metadata": {
                "vscode": {
                    "languageId": "raw"
                }
            },
            "source": [
                "model_lr = LogisticRegression(\n",
                "    max_iter=10000, \n",
                "    penalty=best_params['LogisticRegression']['GridSearchCV']['params']['penalty'],\n",
                "    solver=best_params['LogisticRegression']['GridSearchCV']['params']['solver'],\n",
                "    tol=best_params['LogisticRegression']['GridSearchCV']['params']['tol'],\n",
                "    C=best_params['LogisticRegression']['GridSearchCV']['params']['C']\n",
                "    )\n",
                "# Hold-out\n",
                "model_lr.fit(X_train, y_train)\n",
                "y_pred_lr = model_lr.predict(X_test)\n",
                "metrics(y_pred_lr)\n",
                "# CV\n",
                "scores_lr = cross_val_score(model_lr, X_train, y_train, cv=kf, scoring='accuracy')\n",
                "print(f'Оценка кросс-валидации: {scores_lr.mean()}')"
            ]
        },
        {
            "cell_type": "raw",
            "id": "772717a6",
            "metadata": {
                "vscode": {
                    "languageId": "raw"
                }
            },
            "source": [
                "y_prob_lr = model_lr.predict_proba(X_test)[:, 1]\n",
                "\n",
                "fpr_lr, tpr_lr, _ = roc_curve(y_test, y_prob_lr)\n",
                "roc_auc_lr = auc(fpr_lr, tpr_lr)\n",
                "\n",
                "plt.figure()\n",
                "plt.plot(fpr_lr, tpr_lr, label=f'AUC = {roc_auc_lr:.3f}')\n",
                "plt.plot([0,1], [0,1], linestyle='--', color='gray')\n",
                "plt.xlabel('False Positive Rate')\n",
                "plt.ylabel('True Positive Rate')\n",
                "plt.title('ROC-кривая для Logistic Regression')\n",
                "plt.legend(loc='lower right')\n",
                "plt.show()"
            ]
        },
        {
            "cell_type": "raw",
            "id": "77a5e23f",
            "metadata": {
                "vscode": {
                    "languageId": "raw"
                }
            },
            "source": [
                "cm_lr = confusion_matrix(y_test, y_pred_lr)\n",
                "\n",
                "plt.figure()\n",
                "sns.heatmap(cm_lr, annot=True, fmt='d', cbar=False)\n",
                "plt.title('Матрица ошибок')\n",
                "plt.show()"
            ]
        },
        {
            "cell_type": "raw",
            "id": "2fa442a0",
            "metadata": {
                "vscode": {
                    "languageId": "raw"
                }
            },
            "source": [
                "# Сохранение модели\n",
                "\n",
                "joblib.dump(model_lr, \"logistic_regression_model\")"
            ]
        },
        {
            "cell_type": "code",
            "execution_count": 242,
            "id": "f84c0b96",
            "metadata": {},
            "outputs": [],
            "source": [
                "model_lr = joblib.load(r'models\\logistic_regression_model')"
            ]
        },
        {
            "cell_type": "markdown",
            "id": "cfcc97c4",
            "metadata": {},
            "source": [
                "kNN"
            ]
        },
        {
            "cell_type": "raw",
            "id": "4eddbdcc",
            "metadata": {
                "vscode": {
                    "languageId": "raw"
                }
            },
            "source": [
                "model_knn = KNeighborsClassifier(\n",
                "    n_neighbors=best_params['kNN']['GridSearchCV']['params']['n_neighbors'],\n",
                "    weights=best_params['kNN']['GridSearchCV']['params']['weights'],\n",
                "    metric=best_params['kNN']['GridSearchCV']['params']['metric']\n",
                ")\n",
                "# Hold-out\n",
                "model_knn.fit(X_train, y_train)\n",
                "y_pred_knn = model_knn.predict(X_test)\n",
                "metrics(y_pred_knn)\n",
                "# CV\n",
                "scores_knn = cross_val_score(model_knn, X_train, y_train, cv=kf, scoring='accuracy')\n",
                "print(f'Оценка кросс-валидации: {scores_knn.mean()}')"
            ]
        },
        {
            "cell_type": "raw",
            "id": "aa233d67",
            "metadata": {
                "vscode": {
                    "languageId": "raw"
                }
            },
            "source": [
                "y_prob_knn = model_knn.predict_proba(X_test)[:, 1]\n",
                "\n",
                "fpr_knn, tpr_knn, _ = roc_curve(y_test, y_prob_knn)\n",
                "roc_auc_knn = auc(fpr_knn, tpr_knn)\n",
                "\n",
                "plt.figure()\n",
                "plt.plot(fpr_knn, tpr_knn, label=f'AUC = {roc_auc_knn:.3f}')\n",
                "plt.plot([0,1], [0,1], linestyle='--', color='gray')\n",
                "plt.xlabel('False Positive Rate')\n",
                "plt.ylabel('True Positive Rate')\n",
                "plt.title('ROC-кривая для kNN')\n",
                "plt.legend(loc='lower right')\n",
                "plt.show()"
            ]
        },
        {
            "cell_type": "raw",
            "id": "6b225578",
            "metadata": {
                "vscode": {
                    "languageId": "raw"
                }
            },
            "source": [
                "cm_knn = confusion_matrix(y_test, y_pred_knn)\n",
                "\n",
                "plt.figure()\n",
                "sns.heatmap(cm_knn, annot=True, fmt='d', cbar=False)\n",
                "plt.title('Матрица ошибок')\n",
                "plt.show()"
            ]
        },
        {
            "cell_type": "raw",
            "id": "9d21837b",
            "metadata": {
                "vscode": {
                    "languageId": "raw"
                }
            },
            "source": [
                "# Сохранение модели\n",
                "\n",
                "joblib.dump(model_knn, \"knn_model\")"
            ]
        },
        {
            "cell_type": "code",
            "execution_count": 243,
            "id": "e1be6280",
            "metadata": {},
            "outputs": [],
            "source": [
                "model_knn = joblib.load(r'models\\knn_model')"
            ]
        },
        {
            "cell_type": "markdown",
            "id": "a347d67f",
            "metadata": {},
            "source": [
                "Naive Bayes"
            ]
        },
        {
            "cell_type": "raw",
            "id": "ed0d5c21",
            "metadata": {
                "vscode": {
                    "languageId": "raw"
                }
            },
            "source": [
                "model_nb = GaussianNB(\n",
                "    var_smoothing=1e-09\n",
                ")\n",
                "# Hold-out\n",
                "model_nb.fit(X_train, y_train)\n",
                "y_pred_nb = model_nb.predict(X_test)\n",
                "metrics(y_pred_nb)\n",
                "# CV\n",
                "scores_nb = cross_val_score(model_nb, X_train, y_train, cv=kf, scoring='accuracy')\n",
                "print(f'Оценка кросс-валидации: {scores_nb.mean()}')"
            ]
        },
        {
            "cell_type": "raw",
            "id": "3c1f34d0",
            "metadata": {
                "vscode": {
                    "languageId": "raw"
                }
            },
            "source": [
                "y_prob_nb = model_nb.predict_proba(X_test)[:, 1]\n",
                "\n",
                "fpr_nb, tpr_nb, _ = roc_curve(y_test, y_prob_nb)\n",
                "roc_auc_nb = auc(fpr_nb, tpr_nb)\n",
                "\n",
                "plt.figure()\n",
                "plt.plot(fpr_nb, tpr_nb, label=f'AUC = {roc_auc_nb:.3f}')\n",
                "plt.plot([0,1], [0,1], linestyle='--', color='gray')\n",
                "plt.xlabel('False Positive Rate')\n",
                "plt.ylabel('True Positive Rate')\n",
                "plt.title('ROC-кривая для Naive Bayes')\n",
                "plt.legend(loc='lower right')\n",
                "plt.show()"
            ]
        },
        {
            "cell_type": "raw",
            "id": "1bd7b46e",
            "metadata": {
                "vscode": {
                    "languageId": "raw"
                }
            },
            "source": [
                "cm_nb = confusion_matrix(y_test, y_pred_nb)\n",
                "\n",
                "plt.figure()\n",
                "sns.heatmap(cm_nb, annot=True, fmt='d', cbar=False)\n",
                "plt.title('Матрица ошибок')\n",
                "plt.show()"
            ]
        },
        {
            "cell_type": "raw",
            "id": "f6022e3d",
            "metadata": {
                "vscode": {
                    "languageId": "raw"
                }
            },
            "source": [
                "# Сохранение модели\n",
                "\n",
                "joblib.dump(model_nb, \"naive_bayes_model\")"
            ]
        },
        {
            "cell_type": "code",
            "execution_count": 244,
            "id": "b18bc1da",
            "metadata": {},
            "outputs": [],
            "source": [
                "model_nb = joblib.load(r'models\\naive_bayes_model')"
            ]
        },
        {
            "cell_type": "markdown",
            "id": "75cd2182",
            "metadata": {},
            "source": [
                "SVC(rbf)"
            ]
        },
        {
            "cell_type": "raw",
            "id": "edcc098d",
            "metadata": {
                "vscode": {
                    "languageId": "raw"
                }
            },
            "source": [
                "model_svc_rbf = SVC(\n",
                "    C=best_params['SVM']['GridSearchCV']['params']['C'],\n",
                "    gamma=best_params['SVM']['GridSearchCV']['params']['gamma'],\n",
                "    kernel='rbf',\n",
                "    probability=True\n",
                ")\n",
                "# Hold-out\n",
                "model_svc_rbf.fit(X_train, y_train)\n",
                "y_pred_svc_rbf = model_svc_rbf.predict(X_test)\n",
                "metrics(y_pred_svc_rbf)\n",
                "# CV\n",
                "score_svc_rbf = cross_val_score(model_svc_rbf, X_train, y_train, cv=2, scoring='accuracy')\n",
                "print(f'Оценка кросс-валидации: {score_svc_rbf.mean()}')"
            ]
        },
        {
            "cell_type": "raw",
            "id": "1813573c",
            "metadata": {
                "vscode": {
                    "languageId": "raw"
                }
            },
            "source": [
                "y_prob_svc_rbf = model_svc_rbf.predict_proba(X_test)[:, 1]\n",
                "\n",
                "fpr_svc_rbf, tpr_svc_rbf, _ = roc_curve(y_test, y_prob_svc_rbf)\n",
                "roc_auc_svc_rbf = auc(fpr_svc_rbf, tpr_svc_rbf)\n",
                "\n",
                "plt.figure()\n",
                "plt.plot(fpr_svc_rbf, tpr_svc_rbf, label=f'AUC = {roc_auc_svc_rbf:.3f}')\n",
                "plt.plot([0,1], [0,1], linestyle='--', color='gray')\n",
                "plt.xlabel('False Positive Rate')\n",
                "plt.ylabel('True Positive Rate')\n",
                "plt.title('ROC-кривая для SVC (rbf)')\n",
                "plt.legend(loc='lower right')\n",
                "plt.show()"
            ]
        },
        {
            "cell_type": "raw",
            "id": "bcd6299d",
            "metadata": {
                "vscode": {
                    "languageId": "raw"
                }
            },
            "source": [
                "cm_svc_rbf = confusion_matrix(y_test, y_pred_svc_rbf)\n",
                "\n",
                "plt.figure()\n",
                "sns.heatmap(cm_svc_rbf, annot=True, fmt='d', cbar=False)\n",
                "plt.title('Матрица ошибок')\n",
                "plt.show()"
            ]
        },
        {
            "cell_type": "raw",
            "id": "40669016",
            "metadata": {
                "vscode": {
                    "languageId": "raw"
                }
            },
            "source": [
                "joblib.dump(model_svc_rbf, \"svc_rbf_model\")"
            ]
        },
        {
            "cell_type": "code",
            "execution_count": 245,
            "id": "82e3fa86",
            "metadata": {},
            "outputs": [],
            "source": [
                "model_svc_rbf = joblib.load(r'models\\svc_rbf_model')"
            ]
        },
        {
            "cell_type": "markdown",
            "id": "e6127efe",
            "metadata": {},
            "source": [
                "SVC(linear)"
            ]
        },
        {
            "cell_type": "markdown",
            "id": "9a3e5f7b",
            "metadata": {},
            "source": [
                "Модель будет обучена на маленькой выборке"
            ]
        },
        {
            "cell_type": "raw",
            "id": "7b588e35",
            "metadata": {
                "vscode": {
                    "languageId": "raw"
                }
            },
            "source": [
                "model_svc_linear = SVC(\n",
                "    C=best_params['SVM']['GridSearchCV']['params']['C'],\n",
                "    gamma=best_params['SVM']['GridSearchCV']['params']['gamma'],\n",
                "    kernel='linear',\n",
                "    probability=True\n",
                ")\n",
                "# Hold-out\n",
                "model_svc_linear.fit(X_train_search, y_train_search)\n",
                "y_pred_svc_linear = model_svc_linear.predict(X_test)\n",
                "metrics(y_pred_svc_linear)\n",
                "# CV\n",
                "score_svc_linear = cross_val_score(model_svc_linear, X_train_search, y_train_search, cv=2, scoring='accuracy')\n",
                "print(f'Оценка кросс-валидации: {score_svc_linear.mean()}')"
            ]
        },
        {
            "cell_type": "raw",
            "id": "49c60b5f",
            "metadata": {
                "vscode": {
                    "languageId": "raw"
                }
            },
            "source": [
                "y_prob_svc_linear = model_svc_linear.predict_proba(X_test)[:, 1]\n",
                "\n",
                "fpr_svc_linear, tpr_svc_linear, _ = roc_curve(y_test, y_prob_svc_linear)\n",
                "roc_auc_svc_linear = auc(fpr_svc_linear, tpr_svc_linear)\n",
                "\n",
                "plt.figure()\n",
                "plt.plot(fpr_svc_linear, tpr_svc_linear, label=f'AUC = {roc_auc_svc_linear:.3f}')\n",
                "plt.plot([0,1], [0,1], linestyle='--', color='gray')\n",
                "plt.xlabel('False Positive Rate')\n",
                "plt.ylabel('True Positive Rate')\n",
                "plt.title('ROC-кривая для SVC (linear)')\n",
                "plt.legend(loc='lower right')\n",
                "plt.show()"
            ]
        },
        {
            "cell_type": "raw",
            "id": "53b182ad",
            "metadata": {
                "vscode": {
                    "languageId": "raw"
                }
            },
            "source": [
                "cm_svc_linear = confusion_matrix(y_test, y_pred_svc_linear)\n",
                "\n",
                "plt.figure()\n",
                "sns.heatmap(cm_svc_linear, annot=True, fmt='d', cbar=False)\n",
                "plt.title('Матрица ошибок')\n",
                "plt.show()"
            ]
        },
        {
            "cell_type": "raw",
            "id": "6dc6c26c",
            "metadata": {
                "vscode": {
                    "languageId": "raw"
                }
            },
            "source": [
                "joblib.dump(model_svc_linear, 'svc_linear_model')"
            ]
        },
        {
            "cell_type": "code",
            "execution_count": 246,
            "id": "e068bd49",
            "metadata": {},
            "outputs": [],
            "source": [
                "model_svc_linear = joblib.load(r'models\\svc_linear_model')"
            ]
        },
        {
            "cell_type": "markdown",
            "id": "0e8fa49c",
            "metadata": {},
            "source": [
                "SVC(poly) size - 10000 objects"
            ]
        },
        {
            "cell_type": "raw",
            "id": "3df30558",
            "metadata": {
                "vscode": {
                    "languageId": "raw"
                }
            },
            "source": [
                "model_svc_poly = SVC(\n",
                "    C=best_params['SVM']['GridSearchCV']['params']['C'],\n",
                "    gamma=best_params['SVM']['GridSearchCV']['params']['gamma'],\n",
                "    kernel='poly',\n",
                "    probability=True\n",
                ")\n",
                "# Hold-out\n",
                "model_svc_poly.fit(X_train_search, y_train_search)\n",
                "y_pred_svc_poly = model_svc_poly.predict(X_test)\n",
                "metrics(y_pred_svc_poly)\n",
                "# CV\n",
                "score_svc_poly = cross_val_score(model_svc_poly, X_train_search, y_train_search, cv=2, scoring='accuracy')\n",
                "print(f'Оценка кросс-валидации: {score_svc_poly.mean()}')"
            ]
        },
        {
            "cell_type": "raw",
            "id": "526f3d2f",
            "metadata": {
                "vscode": {
                    "languageId": "raw"
                }
            },
            "source": [
                "y_prob_svc_poly = model_svc_poly.predict_proba(X_test)[:, 1]\n",
                "\n",
                "fpr_svc_poly, tpr_svc_poly, _ = roc_curve(y_test, y_prob_svc_poly)\n",
                "roc_auc_svc_poly = auc(fpr_svc_poly, tpr_svc_poly)\n",
                "\n",
                "plt.figure()\n",
                "plt.plot(fpr_svc_poly, tpr_svc_poly, label=f'AUC = {roc_auc_svc_poly:.3f}')\n",
                "plt.plot([0,1], [0,1], linestyle='--', color='gray')\n",
                "plt.xlabel('False Positive Rate')\n",
                "plt.ylabel('True Positive Rate')\n",
                "plt.title('ROC-кривая для SVC (poly)')\n",
                "plt.legend(loc='lower right')\n",
                "plt.show()"
            ]
        },
        {
            "cell_type": "raw",
            "id": "b57b2546",
            "metadata": {
                "vscode": {
                    "languageId": "raw"
                }
            },
            "source": [
                "cm_svc_poly = confusion_matrix(y_test, y_pred_svc_poly)\n",
                "\n",
                "plt.figure()\n",
                "sns.heatmap(cm_svc_poly, annot=True, fmt='d', cbar=False)\n",
                "plt.title('Матрица ошибок')\n",
                "plt.show()"
            ]
        },
        {
            "cell_type": "raw",
            "id": "6fff6c27",
            "metadata": {
                "vscode": {
                    "languageId": "raw"
                }
            },
            "source": [
                "# Сохранение модели\n",
                "\n",
                "joblib.dump(model_svc_poly, 'svc_poly_model')"
            ]
        },
        {
            "cell_type": "code",
            "execution_count": 247,
            "id": "a017e4de",
            "metadata": {},
            "outputs": [],
            "source": [
                "model_svc_poly = joblib.load(r'models/svc_poly_model')"
            ]
        },
        {
            "cell_type": "markdown",
            "id": "209f6599",
            "metadata": {},
            "source": [
                "SVC(sigmoid) size - 10000 object"
            ]
        },
        {
            "cell_type": "raw",
            "id": "e5b07eea",
            "metadata": {
                "vscode": {
                    "languageId": "raw"
                }
            },
            "source": [
                "model_svc_sigmoid = SVC(\n",
                "    C=best_params['SVM']['GridSearchCV']['params']['C'],\n",
                "    gamma=best_params['SVM']['GridSearchCV']['params']['gamma'],\n",
                "    kernel='sigmoid',\n",
                "    probability=True\n",
                ")\n",
                "# Hold-out\n",
                "model_svc_sigmoid.fit(X_train_search, y_train_search)\n",
                "y_pred_svc_sigmoid = model_svc_sigmoid.predict(X_test)\n",
                "metrics(y_pred_svc_sigmoid)\n",
                "# CV\n",
                "score_svc_sigmoid = cross_val_score(model_svc_sigmoid, X_train_search, y_train_search, cv=2, scoring='accuracy')\n",
                "print(f'Оценка кросс-валидации: {score_svc_sigmoid.mean()}')"
            ]
        },
        {
            "cell_type": "raw",
            "id": "86b25bf4",
            "metadata": {
                "vscode": {
                    "languageId": "raw"
                }
            },
            "source": [
                "y_prob_svc_sigmoid = model_svc_sigmoid.predict_proba(X_test)[:, 1]\n",
                "\n",
                "fpr_svc_sigmoid, tpr_svc_sigmoid, _ = roc_curve(y_test, y_prob_svc_sigmoid)\n",
                "roc_auc_svc_sigmoid = auc(fpr_svc_sigmoid, tpr_svc_sigmoid)\n",
                "\n",
                "plt.figure()\n",
                "plt.plot(fpr_svc_sigmoid, tpr_svc_sigmoid, label=f'AUC = {roc_auc_svc_sigmoid:.3f}')\n",
                "plt.plot([0,1], [0,1], linestyle='--', color='gray')\n",
                "plt.xlabel('False Positive Rate')\n",
                "plt.ylabel('True Positive Rate')\n",
                "plt.title('ROC-кривая для SVC (sigmoid)')\n",
                "plt.legend(loc='lower right')\n",
                "plt.show()"
            ]
        },
        {
            "cell_type": "raw",
            "id": "13063fa7",
            "metadata": {
                "vscode": {
                    "languageId": "raw"
                }
            },
            "source": [
                "cm_svc_sigmoid = confusion_matrix(y_test, y_pred_svc_sigmoid)\n",
                "\n",
                "plt.figure()\n",
                "sns.heatmap(cm_svc_sigmoid, annot=True, fmt='d', cbar=False)\n",
                "plt.title('Матрица ошибок')\n",
                "plt.show()"
            ]
        },
        {
            "cell_type": "raw",
            "id": "eda3d8a7",
            "metadata": {
                "vscode": {
                    "languageId": "raw"
                }
            },
            "source": [
                "# Сохранение модели\n",
                "\n",
                "joblib.dump(model_svc_sigmoid, 'svc_sigmoid_model')"
            ]
        },
        {
            "cell_type": "code",
            "execution_count": 248,
            "id": "18b8cce2",
            "metadata": {},
            "outputs": [],
            "source": [
                "model_svc_sigmoid = joblib.load(r'models\\svc_sigmoid_model')"
            ]
        },
        {
            "cell_type": "markdown",
            "id": "f44d1516",
            "metadata": {},
            "source": [
                "SVC(precomputed) size - 10000 objects"
            ]
        },
        {
            "cell_type": "raw",
            "id": "ffb55078",
            "metadata": {
                "vscode": {
                    "languageId": "raw"
                }
            },
            "source": [
                "model_svc_precomputed = SVC(\n",
                "    C=best_params['SVM']['GridSearchCV']['params']['C'],\n",
                "    gamma=best_params['SVM']['GridSearchCV']['params']['gamma'],\n",
                "    kernel='precomputed',\n",
                "    probability=True\n",
                ")\n",
                "# Hold-out\n",
                "prec_train = np.dot(X_train_search, X_train_search.T)\n",
                "prec_test = np.dot(X_test, X_train_search.T)\n",
                "model_svc_precomputed.fit(prec_train, y_train_search)\n",
                "y_pred_svc_precomputed = model_svc_precomputed.predict(prec_test)\n",
                "metrics(y_pred_svc_precomputed)\n",
                "# CV\n",
                "score_svc_precomputed = cross_val_score(model_svc_precomputed, prec_train, y_train_search, cv=2, scoring='accuracy')\n",
                "print(f'Оценка кросс-валидации: {score_svc_precomputed.mean()}')"
            ]
        },
        {
            "cell_type": "raw",
            "id": "0660bc64",
            "metadata": {
                "vscode": {
                    "languageId": "raw"
                }
            },
            "source": [
                "y_prob_svc_precomputed = model_svc_precomputed.predict_proba(prec_test)[:, 1]\n",
                "\n",
                "fpr_svc_precomputed, tpr_svc_precomputed, _ = roc_curve(y_test, y_prob_svc_precomputed)\n",
                "roc_auc_svc_precomputed = auc(fpr_svc_precomputed, tpr_svc_precomputed)\n",
                "\n",
                "plt.figure()\n",
                "plt.plot(fpr_svc_precomputed, tpr_svc_precomputed, label=f'AUC = {roc_auc_svc_precomputed:.3f}')\n",
                "plt.plot([0,1], [0,1], linestyle='--', color='gray')\n",
                "plt.xlabel('False Positive Rate')\n",
                "plt.ylabel('True Positive Rate')\n",
                "plt.title('ROC-кривая для SVC (precomputed)')\n",
                "plt.legend(loc='lower right')\n",
                "plt.show()"
            ]
        },
        {
            "cell_type": "raw",
            "id": "d18528ae",
            "metadata": {
                "vscode": {
                    "languageId": "raw"
                }
            },
            "source": [
                "cm_svc_precomputed = confusion_matrix(y_test, y_pred_svc_precomputed)\n",
                "\n",
                "plt.figure()\n",
                "sns.heatmap(cm_svc_precomputed, annot=True, fmt='d', cbar=False)\n",
                "plt.title('Матрица ошибок')\n",
                "plt.show()"
            ]
        },
        {
            "cell_type": "raw",
            "id": "750f3289",
            "metadata": {
                "vscode": {
                    "languageId": "raw"
                }
            },
            "source": [
                "# Сохранение модели\n",
                "\n",
                "joblib.dump(model_svc_precomputed, 'svc_precomputed_model')"
            ]
        },
        {
            "cell_type": "code",
            "execution_count": 249,
            "id": "257596bb",
            "metadata": {},
            "outputs": [],
            "source": [
                "model_svc_precomputed = joblib.load(r'models\\svc_precomputed_model')"
            ]
        },
        {
            "cell_type": "raw",
            "id": "f3949d2f",
            "metadata": {
                "vscode": {
                    "languageId": "raw"
                }
            },
            "source": [
                "saved_models = {model_lr: model_lr.predict(X_test),\n",
                "                model_knn: model_knn.predict(X_test),\n",
                "                model_nb: model_nb.predict(X_test),\n",
                "                model_svc_linear: model_svc_linear.predict(X_test),\n",
                "                model_svc_poly: model_svc_poly.predict(X_test),\n",
                "                model_svc_linear: model_svc_linear.predict(X_test),\n",
                "                model_svc_precomputed: model_svc_precomputed.predict(prec_test),\n",
                "                model_svc_sigmoid: model_svc_sigmoid.predict(X_test)\n",
                "                }\n",
                "metrics_for_model = [accuracy_score, f1_score, recall_score, precision_score, roc_auc_score]\n",
                "\n",
                "result = {}\n",
                "\n",
                "for model, y_pred in saved_models.items():\n",
                "    result[f'{model}'] = {}\n",
                "    for metric in metrics_for_model:\n",
                "        result[f'{model}']['accuracy'] = accuracy_score(y_true=y_test, y_pred=y_pred)\n",
                "        result[f'{model}']['f1'] = f1_score(y_true=y_test, y_pred=y_pred)\n",
                "        result[f'{model}']['recall'] = recall_score(y_true=y_test, y_pred=y_pred)\n",
                "        result[f'{model}']['precision'] = precision_score(y_true=y_test, y_pred=y_pred)\n",
                "        result[f'{model}']['roc_auc'] = roc_auc_score(y_true=y_test, y_score=y_pred)"
            ]
        },
        {
            "cell_type": "raw",
            "id": "0172ec1b",
            "metadata": {
                "vscode": {
                    "languageId": "raw"
                }
            },
            "source": [
                "df = pd.DataFrame.from_dict(result, orient='index')\n",
                "df"
            ]
        },
        {
            "cell_type": "raw",
            "id": "ec997c67",
            "metadata": {
                "vscode": {
                    "languageId": "raw"
                }
            },
            "source": [
                "# Лучшая модель\n",
                "\n",
                "best_model_accuracy = df['accuracy'].idxmax()\n",
                "best_model_f1 = df['f1'].idxmax()\n",
                "best_model_reccall = df['recall'].idxmax()\n",
                "best_model_precision = df['precision'].idxmax()\n",
                "best_model_roc_auc = df['roc_auc'].idxmax()\n",
                "\n",
                "best_models = {\n",
                "    'accuracy': best_model_accuracy,\n",
                "    'f1': best_model_f1,\n",
                "    'recall': best_model_reccall,       # поправил опечатку: recall, а не reccall\n",
                "    'precision': best_model_precision,\n",
                "    'roc_auc': best_model_roc_auc\n",
                "}\n",
                "\n",
                "best_scores = {\n",
                "    metric: df.loc[model, metric]\n",
                "    for metric, model in best_models.items()\n",
                "}\n",
                "\n",
                "summary = pd.DataFrame({\n",
                "    'best_model': best_models,\n",
                "    'best_score': best_scores\n",
                "})\n",
                "summary"
            ]
        },
        {
            "cell_type": "markdown",
            "id": "0ac92304",
            "metadata": {},
            "source": [
                "# Вывод\n",
                "\n",
                "Практический по всем метрикам модель опорных векторов с ядром 'linear' является лучше, следовательно для данной выборки лучшей моделью будет SVC (kernel='linear')"
            ]
        }
    ],
    "metadata": {
        "kernelspec": {
            "display_name": "Python 3",
            "language": "python",
            "name": "python3"
        },
        "language_info": {
            "codemirror_mode": {
                "name": "ipython",
                "version": 3
            },
            "file_extension": ".py",
            "mimetype": "text/x-python",
            "name": "python",
            "nbconvert_exporter": "python",
            "pygments_lexer": "ipython3",
            "version": "3.12.6"
        }
    },
    "nbformat": 4,
    "nbformat_minor": 5
}
