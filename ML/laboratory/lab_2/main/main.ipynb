{
 "cells": [
  {
   "cell_type": "markdown",
   "id": "13ce74ed",
   "metadata": {},
   "source": [
    "# Построение моделей для решения задачи классификации (бинарная)"
   ]
  },
  {
   "cell_type": "markdown",
   "id": "112d9b18",
   "metadata": {},
   "source": [
    "Импорт необходимых библиотек"
   ]
  },
  {
   "cell_type": "code",
   "execution_count": 76,
   "id": "e6e33656",
   "metadata": {},
   "outputs": [],
   "source": [
    "import numpy as np\n",
    "import pandas as pd\n",
    "import matplotlib.pyplot as plt\n",
    "from imblearn.over_sampling import SMOTE\n",
    "from sklearn.model_selection import train_test_split, StratifiedKFold, cross_val_score\n",
    "from sklearn.preprocessing import StandardScaler\n",
    "from sklearn.linear_model import LogisticRegression\n",
    "from sklearn.neighbors import KNeighborsClassifier\n",
    "from sklearn.naive_bayes import GaussianNB\n",
    "from sklearn.svm import SVC\n",
    "from sklearn.metrics import accuracy_score, f1_score, accuracy_score, precision_score, recall_score, confusion_matrix, roc_auc_score, roc_curve, auc"
   ]
  },
  {
   "cell_type": "markdown",
   "id": "9d136c28",
   "metadata": {},
   "source": [
    "Загрузка датасета\n",
    "\n",
    "Целевой признак - bomb_planted"
   ]
  },
  {
   "cell_type": "code",
   "execution_count": 60,
   "id": "21e4f907",
   "metadata": {},
   "outputs": [],
   "source": [
    "data = pd.read_csv('csgo_filtred.csv')\n",
    "\n",
    "y = data['bomb_planted']\n",
    "X = data.drop(columns=['bomb_planted'], axis=1)"
   ]
  },
  {
   "cell_type": "markdown",
   "id": "d2bf8dd0",
   "metadata": {},
   "source": [
    "# Проверка баланса классов"
   ]
  },
  {
   "cell_type": "code",
   "execution_count": 61,
   "id": "93a7ad72",
   "metadata": {},
   "outputs": [
    {
     "data": {
      "application/vnd.microsoft.datawrangler.viewer.v0+json": {
       "columns": [
        {
         "name": "index",
         "rawType": "int64",
         "type": "integer"
        },
        {
         "name": "time_left",
         "rawType": "float64",
         "type": "float"
        },
        {
         "name": "ct_score",
         "rawType": "int64",
         "type": "integer"
        },
        {
         "name": "t_score",
         "rawType": "int64",
         "type": "integer"
        },
        {
         "name": "map",
         "rawType": "object",
         "type": "string"
        },
        {
         "name": "ct_health",
         "rawType": "int64",
         "type": "integer"
        },
        {
         "name": "t_health",
         "rawType": "int64",
         "type": "integer"
        },
        {
         "name": "ct_armor",
         "rawType": "int64",
         "type": "integer"
        },
        {
         "name": "t_armor",
         "rawType": "int64",
         "type": "integer"
        },
        {
         "name": "ct_money",
         "rawType": "int64",
         "type": "integer"
        },
        {
         "name": "t_money",
         "rawType": "int64",
         "type": "integer"
        },
        {
         "name": "ct_helmets",
         "rawType": "int64",
         "type": "integer"
        },
        {
         "name": "t_helmets",
         "rawType": "int64",
         "type": "integer"
        },
        {
         "name": "ct_defuse_kits",
         "rawType": "int64",
         "type": "integer"
        },
        {
         "name": "ct_players_alive",
         "rawType": "int64",
         "type": "integer"
        },
        {
         "name": "t_players_alive",
         "rawType": "int64",
         "type": "integer"
        },
        {
         "name": "health_lead",
         "rawType": "int64",
         "type": "integer"
        },
        {
         "name": "armor_lead",
         "rawType": "int64",
         "type": "integer"
        },
        {
         "name": "money_lead",
         "rawType": "int64",
         "type": "integer"
        },
        {
         "name": "helmets_lead",
         "rawType": "int64",
         "type": "integer"
        },
        {
         "name": "players_alive_lead",
         "rawType": "int64",
         "type": "integer"
        }
       ],
       "conversionMethod": "pd.DataFrame",
       "ref": "050f8065-08c1-4c96-b2bd-3a8e095f8b98",
       "rows": [
        [
         "0",
         "175.0",
         "0",
         "0",
         "de_dust2",
         "500",
         "500",
         "0",
         "0",
         "4000",
         "4000",
         "0",
         "0",
         "0",
         "5",
         "5",
         "2",
         "2",
         "2",
         "2",
         "2"
        ],
        [
         "1",
         "156.03",
         "0",
         "0",
         "de_dust2",
         "500",
         "500",
         "400",
         "300",
         "600",
         "650",
         "0",
         "0",
         "1",
         "5",
         "5",
         "2",
         "0",
         "1",
         "2",
         "2"
        ],
        [
         "2",
         "96.03",
         "0",
         "0",
         "de_dust2",
         "391",
         "400",
         "294",
         "200",
         "750",
         "500",
         "0",
         "0",
         "1",
         "4",
         "4",
         "1",
         "0",
         "0",
         "2",
         "2"
        ],
        [
         "3",
         "76.03",
         "0",
         "0",
         "de_dust2",
         "391",
         "400",
         "294",
         "200",
         "750",
         "500",
         "0",
         "0",
         "1",
         "4",
         "4",
         "1",
         "0",
         "0",
         "2",
         "2"
        ],
        [
         "4",
         "174.97",
         "1",
         "0",
         "de_dust2",
         "500",
         "500",
         "192",
         "0",
         "18350",
         "10750",
         "0",
         "0",
         "1",
         "5",
         "5",
         "2",
         "0",
         "0",
         "2",
         "2"
        ]
       ],
       "shape": {
        "columns": 20,
        "rows": 5
       }
      },
      "text/html": [
       "<div>\n",
       "<style scoped>\n",
       "    .dataframe tbody tr th:only-of-type {\n",
       "        vertical-align: middle;\n",
       "    }\n",
       "\n",
       "    .dataframe tbody tr th {\n",
       "        vertical-align: top;\n",
       "    }\n",
       "\n",
       "    .dataframe thead th {\n",
       "        text-align: right;\n",
       "    }\n",
       "</style>\n",
       "<table border=\"1\" class=\"dataframe\">\n",
       "  <thead>\n",
       "    <tr style=\"text-align: right;\">\n",
       "      <th></th>\n",
       "      <th>time_left</th>\n",
       "      <th>ct_score</th>\n",
       "      <th>t_score</th>\n",
       "      <th>map</th>\n",
       "      <th>ct_health</th>\n",
       "      <th>t_health</th>\n",
       "      <th>ct_armor</th>\n",
       "      <th>t_armor</th>\n",
       "      <th>ct_money</th>\n",
       "      <th>t_money</th>\n",
       "      <th>ct_helmets</th>\n",
       "      <th>t_helmets</th>\n",
       "      <th>ct_defuse_kits</th>\n",
       "      <th>ct_players_alive</th>\n",
       "      <th>t_players_alive</th>\n",
       "      <th>health_lead</th>\n",
       "      <th>armor_lead</th>\n",
       "      <th>money_lead</th>\n",
       "      <th>helmets_lead</th>\n",
       "      <th>players_alive_lead</th>\n",
       "    </tr>\n",
       "  </thead>\n",
       "  <tbody>\n",
       "    <tr>\n",
       "      <th>0</th>\n",
       "      <td>175.00</td>\n",
       "      <td>0</td>\n",
       "      <td>0</td>\n",
       "      <td>de_dust2</td>\n",
       "      <td>500</td>\n",
       "      <td>500</td>\n",
       "      <td>0</td>\n",
       "      <td>0</td>\n",
       "      <td>4000</td>\n",
       "      <td>4000</td>\n",
       "      <td>0</td>\n",
       "      <td>0</td>\n",
       "      <td>0</td>\n",
       "      <td>5</td>\n",
       "      <td>5</td>\n",
       "      <td>2</td>\n",
       "      <td>2</td>\n",
       "      <td>2</td>\n",
       "      <td>2</td>\n",
       "      <td>2</td>\n",
       "    </tr>\n",
       "    <tr>\n",
       "      <th>1</th>\n",
       "      <td>156.03</td>\n",
       "      <td>0</td>\n",
       "      <td>0</td>\n",
       "      <td>de_dust2</td>\n",
       "      <td>500</td>\n",
       "      <td>500</td>\n",
       "      <td>400</td>\n",
       "      <td>300</td>\n",
       "      <td>600</td>\n",
       "      <td>650</td>\n",
       "      <td>0</td>\n",
       "      <td>0</td>\n",
       "      <td>1</td>\n",
       "      <td>5</td>\n",
       "      <td>5</td>\n",
       "      <td>2</td>\n",
       "      <td>0</td>\n",
       "      <td>1</td>\n",
       "      <td>2</td>\n",
       "      <td>2</td>\n",
       "    </tr>\n",
       "    <tr>\n",
       "      <th>2</th>\n",
       "      <td>96.03</td>\n",
       "      <td>0</td>\n",
       "      <td>0</td>\n",
       "      <td>de_dust2</td>\n",
       "      <td>391</td>\n",
       "      <td>400</td>\n",
       "      <td>294</td>\n",
       "      <td>200</td>\n",
       "      <td>750</td>\n",
       "      <td>500</td>\n",
       "      <td>0</td>\n",
       "      <td>0</td>\n",
       "      <td>1</td>\n",
       "      <td>4</td>\n",
       "      <td>4</td>\n",
       "      <td>1</td>\n",
       "      <td>0</td>\n",
       "      <td>0</td>\n",
       "      <td>2</td>\n",
       "      <td>2</td>\n",
       "    </tr>\n",
       "    <tr>\n",
       "      <th>3</th>\n",
       "      <td>76.03</td>\n",
       "      <td>0</td>\n",
       "      <td>0</td>\n",
       "      <td>de_dust2</td>\n",
       "      <td>391</td>\n",
       "      <td>400</td>\n",
       "      <td>294</td>\n",
       "      <td>200</td>\n",
       "      <td>750</td>\n",
       "      <td>500</td>\n",
       "      <td>0</td>\n",
       "      <td>0</td>\n",
       "      <td>1</td>\n",
       "      <td>4</td>\n",
       "      <td>4</td>\n",
       "      <td>1</td>\n",
       "      <td>0</td>\n",
       "      <td>0</td>\n",
       "      <td>2</td>\n",
       "      <td>2</td>\n",
       "    </tr>\n",
       "    <tr>\n",
       "      <th>4</th>\n",
       "      <td>174.97</td>\n",
       "      <td>1</td>\n",
       "      <td>0</td>\n",
       "      <td>de_dust2</td>\n",
       "      <td>500</td>\n",
       "      <td>500</td>\n",
       "      <td>192</td>\n",
       "      <td>0</td>\n",
       "      <td>18350</td>\n",
       "      <td>10750</td>\n",
       "      <td>0</td>\n",
       "      <td>0</td>\n",
       "      <td>1</td>\n",
       "      <td>5</td>\n",
       "      <td>5</td>\n",
       "      <td>2</td>\n",
       "      <td>0</td>\n",
       "      <td>0</td>\n",
       "      <td>2</td>\n",
       "      <td>2</td>\n",
       "    </tr>\n",
       "  </tbody>\n",
       "</table>\n",
       "</div>"
      ],
      "text/plain": [
       "   time_left  ct_score  t_score       map  ct_health  t_health  ct_armor  \\\n",
       "0     175.00         0        0  de_dust2        500       500         0   \n",
       "1     156.03         0        0  de_dust2        500       500       400   \n",
       "2      96.03         0        0  de_dust2        391       400       294   \n",
       "3      76.03         0        0  de_dust2        391       400       294   \n",
       "4     174.97         1        0  de_dust2        500       500       192   \n",
       "\n",
       "   t_armor  ct_money  t_money  ct_helmets  t_helmets  ct_defuse_kits  \\\n",
       "0        0      4000     4000           0          0               0   \n",
       "1      300       600      650           0          0               1   \n",
       "2      200       750      500           0          0               1   \n",
       "3      200       750      500           0          0               1   \n",
       "4        0     18350    10750           0          0               1   \n",
       "\n",
       "   ct_players_alive  t_players_alive  health_lead  armor_lead  money_lead  \\\n",
       "0                 5                5            2           2           2   \n",
       "1                 5                5            2           0           1   \n",
       "2                 4                4            1           0           0   \n",
       "3                 4                4            1           0           0   \n",
       "4                 5                5            2           0           0   \n",
       "\n",
       "   helmets_lead  players_alive_lead  \n",
       "0             2                   2  \n",
       "1             2                   2  \n",
       "2             2                   2  \n",
       "3             2                   2  \n",
       "4             2                   2  "
      ]
     },
     "execution_count": 61,
     "metadata": {},
     "output_type": "execute_result"
    }
   ],
   "source": [
    "X.head()"
   ]
  },
  {
   "cell_type": "code",
   "execution_count": 62,
   "id": "eeb0858d",
   "metadata": {},
   "outputs": [
    {
     "data": {
      "text/plain": [
       "<Axes: ylabel='bomb_planted'>"
      ]
     },
     "execution_count": 62,
     "metadata": {},
     "output_type": "execute_result"
    },
    {
     "data": {
      "image/png": "[encoded data removed]",
      "text/plain": [
       "<Figure size 640x480 with 1 Axes>"
      ]
     },
     "metadata": {},
     "output_type": "display_data"
    }
   ],
   "source": [
    "y.value_counts().plot.barh()"
   ]
  },
  {
   "cell_type": "code",
   "execution_count": 63,
   "id": "7cafaa7a",
   "metadata": {},
   "outputs": [
    {
     "data": {
      "text/plain": [
       "bomb_planted\n",
       "False    102945\n",
       "True      13684\n",
       "Name: count, dtype: int64"
      ]
     },
     "execution_count": 63,
     "metadata": {},
     "output_type": "execute_result"
    }
   ],
   "source": [
    "y.value_counts()"
   ]
  },
  {
   "cell_type": "markdown",
   "id": "757788c3",
   "metadata": {},
   "source": [
    "Видно, что классы максимально несбалансированы, количество класса false превосходит класс true более чем в 5 раз.\n",
    "\n",
    "Для балансировки буду использовать метод SMOTE, он создаёт дополнительные точки для минаритарного класса, основываясь на уже существующих точках.\n",
    "\n",
    "Но для начала преобразую переменные признака map в числовые."
   ]
  },
  {
   "cell_type": "code",
   "execution_count": 64,
   "id": "95f5d542",
   "metadata": {},
   "outputs": [
    {
     "data": {
      "text/plain": [
       "map\n",
       "de_inferno     22806\n",
       "de_dust2       21040\n",
       "de_nuke        17879\n",
       "de_mirage      17641\n",
       "de_overpass    13375\n",
       "de_train       12800\n",
       "de_vertigo     10733\n",
       "unknown          211\n",
       "de_cache         144\n",
       "Name: count, dtype: int64"
      ]
     },
     "execution_count": 64,
     "metadata": {},
     "output_type": "execute_result"
    }
   ],
   "source": [
    "X['map'].value_counts()"
   ]
  },
  {
   "cell_type": "code",
   "execution_count": 65,
   "id": "aef706df",
   "metadata": {},
   "outputs": [],
   "source": [
    "X['map'] = X['map'].str.strip().str.lower()"
   ]
  },
  {
   "cell_type": "code",
   "execution_count": 66,
   "id": "496a6e47",
   "metadata": {},
   "outputs": [
    {
     "data": {
      "text/plain": [
       "map\n",
       "1    22806\n",
       "2    21040\n",
       "3    17879\n",
       "4    17641\n",
       "5    13375\n",
       "6    12800\n",
       "7    10733\n",
       "8      211\n",
       "9      144\n",
       "Name: count, dtype: int64"
      ]
     },
     "execution_count": 66,
     "metadata": {},
     "output_type": "execute_result"
    }
   ],
   "source": [
    "mapping = {\n",
    "    'de_inferno': 1,\n",
    "    'de_dust2': 2,\n",
    "    'de_nuke': 3,\n",
    "    'de_mirage': 4,\n",
    "    'de_overpass': 5,\n",
    "    'de_train': 6,\n",
    "    'de_vertigo': 7,\n",
    "    'unknown': 8,\n",
    "    'de_cache': 9\n",
    "}\n",
    "\n",
    "X['map'] = X['map'].map(mapping)\n",
    "X['map'].value_counts()"
   ]
  },
  {
   "cell_type": "code",
   "execution_count": 67,
   "id": "d630252a",
   "metadata": {},
   "outputs": [],
   "source": [
    "oversample = SMOTE()\n",
    "transformed_X, tranformed_y = oversample.fit_resample(X, y)"
   ]
  },
  {
   "cell_type": "code",
   "execution_count": 68,
   "id": "08d2f7ef",
   "metadata": {},
   "outputs": [
    {
     "name": "stdout",
     "output_type": "stream",
     "text": [
      "OLD: bomb_planted\n",
      "False    102945\n",
      "True      13684\n",
      "Name: count, dtype: int64\n",
      "\n",
      "NEW: bomb_planted\n",
      "False    102945\n",
      "True     102945\n",
      "Name: count, dtype: int64\n"
     ]
    }
   ],
   "source": [
    "print(f'OLD: {y.value_counts()}')\n",
    "print()\n",
    "print(f'NEW: {tranformed_y.value_counts()}')"
   ]
  },
  {
   "cell_type": "code",
   "execution_count": 69,
   "id": "c986b865",
   "metadata": {},
   "outputs": [],
   "source": [
    "X, y = transformed_X, tranformed_y"
   ]
  },
  {
   "cell_type": "code",
   "execution_count": 70,
   "id": "c969c190",
   "metadata": {},
   "outputs": [
    {
     "data": {
      "text/plain": [
       "np.int64(0)"
      ]
     },
     "execution_count": 70,
     "metadata": {},
     "output_type": "execute_result"
    }
   ],
   "source": [
    "X.duplicated().sum()"
   ]
  },
  {
   "cell_type": "markdown",
   "id": "4eab98b5",
   "metadata": {},
   "source": [
    "Как можно увидеть балансировка по классам получилась успешной, теперь мы имеем два класса с одинаковым количеством точек."
   ]
  },
  {
   "cell_type": "markdown",
   "id": "fc9a2833",
   "metadata": {},
   "source": [
    "# Разделение на тренировочную и тестовую выборки"
   ]
  },
  {
   "cell_type": "code",
   "execution_count": 71,
   "id": "2c7b68fd",
   "metadata": {},
   "outputs": [
    {
     "data": {
      "text/plain": [
       "((164712, 20), (164712,), (41178, 20), (41178,))"
      ]
     },
     "execution_count": 71,
     "metadata": {},
     "output_type": "execute_result"
    }
   ],
   "source": [
    "# Метод train_test_split с использованием stratify\n",
    "\n",
    "X = StandardScaler().fit_transform(X)\n",
    "\n",
    "X_train, X_test, y_train, y_test = train_test_split(X, y, random_state=42, stratify=y, test_size=0.2)\n",
    "X_train.shape, y_train.shape, X_test.shape, y_test.shape"
   ]
  },
  {
   "cell_type": "code",
   "execution_count": 72,
   "id": "f3b1fba0",
   "metadata": {},
   "outputs": [],
   "source": [
    "# KFold\n",
    "\n",
    "kf = StratifiedKFold(n_splits=5, shuffle=True, random_state=42)"
   ]
  },
  {
   "cell_type": "markdown",
   "id": "9d705990",
   "metadata": {},
   "source": [
    "# Обучение моделей"
   ]
  },
  {
   "cell_type": "code",
   "execution_count": 73,
   "id": "1530ec9b",
   "metadata": {},
   "outputs": [],
   "source": [
    "def metrics(pred_array, true_array=y_test,):\n",
    "    print(f'F1: {f1_score(true_array, pred_array)}')\n",
    "    print(f'accuracy: {accuracy_score(true_array, pred_array)}')\n",
    "    print(f'precision: {precision_score(true_array, pred_array)}')\n",
    "    print(f'recall: {recall_score(true_array, pred_array)}')\n",
    "    print(f'roc_auc_score: {roc_auc_score(true_array, pred_array)}')"
   ]
  },
  {
   "cell_type": "code",
   "execution_count": 74,
   "id": "d4ab6200",
   "metadata": {},
   "outputs": [
    {
     "name": "stdout",
     "output_type": "stream",
     "text": [
      "F1: 0.9535243076191608\n",
      "accuracy: 0.9525231919957259\n",
      "precision: 0.9338331160365059\n",
      "recall: 0.9740638204866676\n",
      "roc_auc_score: 0.9525231919957259\n",
      "Оценка кросс-валидации: 0.9524165215908198\n"
     ]
    }
   ],
   "source": [
    "# Logistic Regression\n",
    "\n",
    "model = LogisticRegression(max_iter=500)\n",
    "# Hold-out\n",
    "model.fit(X_train, y_train)\n",
    "y_pred = model.predict(X_test)\n",
    "metrics(y_pred)\n",
    "# CV\n",
    "scores = cross_val_score(model, X_train, y_train, cv=kf, scoring='f1')\n",
    "print(f'Оценка кросс-валидации: {scores.mean()}')"
   ]
  },
  {
   "cell_type": "code",
   "execution_count": 77,
   "id": "772717a6",
   "metadata": {},
   "outputs": [
    {
     "data": {
      "image/png": "[encoded data removed]",
      "text/plain": [
       "<Figure size 640x480 with 1 Axes>"
      ]
     },
     "metadata": {},
     "output_type": "display_data"
    }
   ],
   "source": [
    "y_prob = model.predict_proba(X_test)[:, 1]\n",
    "\n",
    "# Считаем ROC\n",
    "fpr, tpr, _ = roc_curve(y_test, y_prob)\n",
    "roc_auc = auc(fpr, tpr)\n",
    "\n",
    "plt.figure()\n",
    "plt.plot(fpr, tpr, label=f'AUC = {roc_auc:.3f}')\n",
    "plt.plot([0,1], [0,1], linestyle='--', color='gray')\n",
    "plt.xlabel('False Positive Rate')\n",
    "plt.ylabel('True Positive Rate')\n",
    "plt.title('ROC-кривая для Logistic Regression')\n",
    "plt.legend(loc='lower right')\n",
    "plt.show()\n"
   ]
  },
  {
   "cell_type": "code",
   "execution_count": null,
   "id": "77a5e23f",
   "metadata": {},
   "outputs": [
    {
     "data": {
      "image/png": "[encoded data removed]",
      "text/plain": [
       "<Figure size 640x480 with 1 Axes>"
      ]
     },
     "metadata": {},
     "output_type": "display_data"
    }
   ],
   "source": [
    "import matplotlib.pyplot as plt\n",
    "import seaborn as sns\n",
    "from sklearn.metrics import confusion_matrix\n",
    "\n",
    "# Предсказания на тесте\n",
    "y_test_pred = model.predict(X_test)\n",
    "cm = confusion_matrix(y_test, y_test_pred)\n",
    "\n",
    "plt.figure()\n",
    "sns.heatmap(cm, annot=True, fmt='d', cbar=False)\n",
    "plt.xlabel('Предсказано')\n",
    "plt.ylabel('Истинные метки')\n",
    "plt.title('Матрица ошибок')\n",
    "plt.show()\n"
   ]
  },
  {
   "cell_type": "code",
   "execution_count": null,
   "id": "4eddbdcc",
   "metadata": {},
   "outputs": [
    {
     "name": "stdout",
     "output_type": "stream",
     "text": [
      "F1: 0.9512505298855447\n",
      "accuracy: 0.9497304385837098\n",
      "precision: 0.9233301330407352\n",
      "recall: 0.9809121375491767\n",
      "confusion_matrix: [[18912  1677]\n",
      " [  393 20196]]\n",
      "roc_auc_score: 0.9497304385837098\n",
      "Оценка кросс-валидации: 0.9467162952138309\n"
     ]
    }
   ],
   "source": [
    "# KNN\n",
    "\n",
    "model = KNeighborsClassifier()\n",
    "# Hold-out\n",
    "model.fit(X_train, y_train)\n",
    "y_pred = model.predict(X_test)\n",
    "metrics(y_pred)\n",
    "# CV\n",
    "scores = cross_val_score(model, X_train, y_train, cv=kf, scoring='f1')\n",
    "print(f'Оценка кросс-валидации: {scores.mean()}')"
   ]
  }
 ],
 "metadata": {
  "kernelspec": {
   "display_name": "Python 3",
   "language": "python",
   "name": "python3"
  },
  "language_info": {
   "codemirror_mode": {
    "name": "ipython",
    "version": 3
   },
   "file_extension": ".py",
   "mimetype": "text/x-python",
   "name": "python",
   "nbconvert_exporter": "python",
   "pygments_lexer": "ipython3",
   "version": "3.12.6"
  }
 },
 "nbformat": 4,
 "nbformat_minor": 5
}
