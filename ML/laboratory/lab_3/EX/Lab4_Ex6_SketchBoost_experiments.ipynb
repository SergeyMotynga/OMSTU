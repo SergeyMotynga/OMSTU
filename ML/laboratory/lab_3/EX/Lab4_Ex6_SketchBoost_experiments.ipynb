{
  "cells": [
    {
      "cell_type": "markdown",
      "id": "cbd7ddb1",
      "metadata": {
        "papermill": {
          "duration": 0.007997,
          "end_time": "2023-11-01T18:55:30.177255",
          "exception": false,
          "start_time": "2023-11-01T18:55:30.169258",
          "status": "completed"
        },
        "tags": [],
        "id": "cbd7ddb1"
      },
      "source": [
        "## Experiment 1\n",
        "https://www.kaggle.com/code/anfisalepekhina/sketchboost-experiments\n"
      ]
    },
    {
      "cell_type": "markdown",
      "id": "4b064d08",
      "metadata": {
        "papermill": {
          "duration": 0.007166,
          "end_time": "2023-11-01T18:55:30.192008",
          "exception": false,
          "start_time": "2023-11-01T18:55:30.184842",
          "status": "completed"
        },
        "tags": [],
        "id": "4b064d08"
      },
      "source": [
        "В ходе эксперимента оценивается время работы каждого из алгоритмов на сгенерированных данных с разным количеством классов."
      ]
    },
    {
      "cell_type": "code",
      "execution_count": null,
      "id": "2df2a191",
      "metadata": {
        "execution": {
          "iopub.execute_input": "2023-11-01T18:55:30.208595Z",
          "iopub.status.busy": "2023-11-01T18:55:30.208238Z",
          "iopub.status.idle": "2023-11-01T18:56:00.542769Z",
          "shell.execute_reply": "2023-11-01T18:56:00.541793Z"
        },
        "papermill": {
          "duration": 30.345717,
          "end_time": "2023-11-01T18:56:00.545271",
          "exception": false,
          "start_time": "2023-11-01T18:55:30.199554",
          "status": "completed"
        },
        "tags": [],
        "id": "2df2a191",
        "outputId": "f61dcb69-2393-420d-a98d-1c3c1353cf88"
      },
      "outputs": [
        {
          "name": "stdout",
          "output_type": "stream",
          "text": [
            "nvcc: NVIDIA (R) Cuda compiler driver\r\n",
            "Copyright (c) 2005-2022 NVIDIA Corporation\r\n",
            "Built on Wed_Sep_21_10:33:58_PDT_2022\r\n",
            "Cuda compilation tools, release 11.8, V11.8.89\r\n",
            "Build cuda_11.8.r11.8/compiler.31833905_0\r\n",
            "Collecting cupy-cuda11x\r\n",
            "  Downloading cupy_cuda11x-12.2.0-cp310-cp310-manylinux2014_x86_64.whl (89.6 MB)\r\n",
            "\u001b[2K     \u001b[90m━━━━━━━━━━━━━━━━━━━━━━━━━━━━━━━━━━━━━━━━\u001b[0m \u001b[32m89.6/89.6 MB\u001b[0m \u001b[31m13.8 MB/s\u001b[0m eta \u001b[36m0:00:00\u001b[0m\r\n",
            "\u001b[?25hRequirement already satisfied: numpy<1.27,>=1.20 in /opt/conda/lib/python3.10/site-packages (from cupy-cuda11x) (1.23.5)\r\n",
            "Requirement already satisfied: fastrlock>=0.5 in /opt/conda/lib/python3.10/site-packages (from cupy-cuda11x) (0.8.2)\r\n",
            "Installing collected packages: cupy-cuda11x\r\n",
            "\u001b[31mERROR: pip's dependency resolver does not currently take into account all the packages that are installed. This behaviour is the source of the following dependency conflicts.\r\n",
            "cudf 23.8.0 requires pandas<1.6.0dev0,>=1.3, but you have pandas 2.0.2 which is incompatible.\r\n",
            "cudf 23.8.0 requires protobuf<5,>=4.21, but you have protobuf 3.20.3 which is incompatible.\r\n",
            "cuml 23.8.0 requires dask==2023.7.1, but you have dask 2023.9.0 which is incompatible.\r\n",
            "dask-cudf 23.8.0 requires dask==2023.7.1, but you have dask 2023.9.0 which is incompatible.\r\n",
            "dask-cudf 23.8.0 requires pandas<1.6.0dev0,>=1.3, but you have pandas 2.0.2 which is incompatible.\u001b[0m\u001b[31m\r\n",
            "\u001b[0mSuccessfully installed cupy-cuda11x-12.2.0\r\n",
            "Collecting py-boost\r\n",
            "  Downloading py_boost-0.4.3-py3-none-any.whl (58 kB)\r\n",
            "\u001b[2K     \u001b[90m━━━━━━━━━━━━━━━━━━━━━━━━━━━━━━━━━━━━━━━━\u001b[0m \u001b[32m58.4/58.4 kB\u001b[0m \u001b[31m2.3 MB/s\u001b[0m eta \u001b[36m0:00:00\u001b[0m\r\n",
            "\u001b[?25hRequirement already satisfied: joblib in /opt/conda/lib/python3.10/site-packages (from py-boost) (1.3.2)\r\n",
            "Requirement already satisfied: numba in /opt/conda/lib/python3.10/site-packages (from py-boost) (0.57.1)\r\n",
            "Requirement already satisfied: numpy in /opt/conda/lib/python3.10/site-packages (from py-boost) (1.23.5)\r\n",
            "Requirement already satisfied: pandas>=1 in /opt/conda/lib/python3.10/site-packages (from py-boost) (2.0.2)\r\n",
            "Requirement already satisfied: scikit-learn>=1 in /opt/conda/lib/python3.10/site-packages (from py-boost) (1.2.2)\r\n",
            "Requirement already satisfied: tqdm>=4.64.1 in /opt/conda/lib/python3.10/site-packages (from py-boost) (4.66.1)\r\n",
            "Requirement already satisfied: treelite<4,>=3 in /opt/conda/lib/python3.10/site-packages (from py-boost) (3.2.0)\r\n",
            "Requirement already satisfied: treelite_runtime<4,>=3 in /opt/conda/lib/python3.10/site-packages (from py-boost) (3.2.0)\r\n",
            "Requirement already satisfied: python-dateutil>=2.8.2 in /opt/conda/lib/python3.10/site-packages (from pandas>=1->py-boost) (2.8.2)\r\n",
            "Requirement already satisfied: pytz>=2020.1 in /opt/conda/lib/python3.10/site-packages (from pandas>=1->py-boost) (2023.3)\r\n",
            "Requirement already satisfied: tzdata>=2022.1 in /opt/conda/lib/python3.10/site-packages (from pandas>=1->py-boost) (2023.3)\r\n",
            "Requirement already satisfied: scipy>=1.3.2 in /opt/conda/lib/python3.10/site-packages (from scikit-learn>=1->py-boost) (1.11.2)\r\n",
            "Requirement already satisfied: threadpoolctl>=2.0.0 in /opt/conda/lib/python3.10/site-packages (from scikit-learn>=1->py-boost) (3.1.0)\r\n",
            "Requirement already satisfied: llvmlite<0.41,>=0.40.0dev0 in /opt/conda/lib/python3.10/site-packages (from numba->py-boost) (0.40.1)\r\n",
            "Requirement already satisfied: six>=1.5 in /opt/conda/lib/python3.10/site-packages (from python-dateutil>=2.8.2->pandas>=1->py-boost) (1.16.0)\r\n",
            "Installing collected packages: py-boost\r\n",
            "Successfully installed py-boost-0.4.3\r\n"
          ]
        }
      ],
      "source": [
        "!nvcc --version\n",
        "!pip install cupy-cuda11x\n",
        "!pip install py-boost"
      ]
    },
    {
      "cell_type": "code",
      "execution_count": null,
      "id": "3da094a8",
      "metadata": {
        "execution": {
          "iopub.execute_input": "2023-11-01T18:56:00.568422Z",
          "iopub.status.busy": "2023-11-01T18:56:00.568109Z",
          "iopub.status.idle": "2023-11-01T18:56:20.894852Z",
          "shell.execute_reply": "2023-11-01T18:56:20.893898Z"
        },
        "papermill": {
          "duration": 20.341463,
          "end_time": "2023-11-01T18:56:20.897484",
          "exception": false,
          "start_time": "2023-11-01T18:56:00.556021",
          "status": "completed"
        },
        "tags": [],
        "id": "3da094a8",
        "outputId": "6e2a1cd1-827f-43f9-84b7-eafedfedfe0f"
      },
      "outputs": [
        {
          "name": "stderr",
          "output_type": "stream",
          "text": [
            "/opt/conda/lib/python3.10/site-packages/scipy/__init__.py:146: UserWarning: A NumPy version >=1.16.5 and <1.23.0 is required for this version of SciPy (detected version 1.23.5\n",
            "  warnings.warn(f\"A NumPy version >={np_minversion} and <{np_maxversion}\"\n",
            "/opt/conda/lib/python3.10/site-packages/cupy/_environment.py:447: UserWarning: \n",
            "--------------------------------------------------------------------------------\n",
            "\n",
            "  CuPy may not function correctly because multiple CuPy packages are installed\n",
            "  in your environment:\n",
            "\n",
            "    cupy, cupy-cuda11x\n",
            "\n",
            "  Follow these steps to resolve this issue:\n",
            "\n",
            "    1. For all packages listed above, run the following command to remove all\n",
            "       existing CuPy installations:\n",
            "\n",
            "         $ pip uninstall <package_name>\n",
            "\n",
            "      If you previously installed CuPy via conda, also run the following:\n",
            "\n",
            "         $ conda uninstall cupy\n",
            "\n",
            "    2. Install the appropriate CuPy package.\n",
            "       Refer to the Installation Guide for detailed instructions.\n",
            "\n",
            "         https://docs.cupy.dev/en/stable/install.html\n",
            "\n",
            "--------------------------------------------------------------------------------\n",
            "\n",
            "  warnings.warn(f'''\n"
          ]
        }
      ],
      "source": [
        "import os\n",
        "os.environ[\"CUDA_DEVICE_ORDER\"] = \"PCI_BUS_ID\"\n",
        "os.environ[\"CUDA_VISIBLE_DEVICES\"] = \"0\"\n",
        "os.makedirs('../data', exist_ok=True)\n",
        "import pandas as pd\n",
        "from pandas import Series, DataFrame\n",
        "from sklearn.model_selection import train_test_split\n",
        "from py_boost import GradientBoosting, SketchBoost\n",
        "from py_boost.multioutput.sketching import *\n",
        "from py_boost.multioutput.target_splitter import *\n",
        "from catboost import CatBoostClassifier, Pool\n",
        "from xgboost import XGBClassifier\n",
        "from catboost.utils import eval_metric\n",
        "from sklearn.datasets import make_multilabel_classification\n",
        "from sklearn.model_selection import train_test_split"
      ]
    },
    {
      "cell_type": "markdown",
      "id": "c3a513a4",
      "metadata": {
        "papermill": {
          "duration": 0.011193,
          "end_time": "2023-11-01T18:56:20.920218",
          "exception": false,
          "start_time": "2023-11-01T18:56:20.909025",
          "status": "completed"
        },
        "tags": [],
        "id": "c3a513a4"
      },
      "source": [
        "Сгенерируем синтетические данные для Multilabel классификации с помощью функции из библиотеки catboost. Сгенерируем сэмплы с разным количеством классов и поочередно запустим алгоритмы и измерим их время. Запишем результаты в соответствующие списки."
      ]
    },
    {
      "cell_type": "code",
      "execution_count": null,
      "id": "416d8926",
      "metadata": {
        "execution": {
          "iopub.execute_input": "2023-11-01T18:56:20.946138Z",
          "iopub.status.busy": "2023-11-01T18:56:20.945570Z",
          "iopub.status.idle": "2023-11-01T18:56:26.475740Z",
          "shell.execute_reply": "2023-11-01T18:56:26.474932Z"
        },
        "papermill": {
          "duration": 5.545866,
          "end_time": "2023-11-01T18:56:26.478299",
          "exception": false,
          "start_time": "2023-11-01T18:56:20.932433",
          "status": "completed"
        },
        "tags": [],
        "id": "416d8926"
      },
      "outputs": [],
      "source": [
        "X, Y = make_multilabel_classification(n_samples=30_000, n_features=2_000, n_classes=100, random_state=5)\n",
        "X_train, X_test, Y_train, Y_test = train_test_split(X, Y)"
      ]
    },
    {
      "cell_type": "code",
      "execution_count": null,
      "id": "c928c466",
      "metadata": {
        "execution": {
          "iopub.execute_input": "2023-11-01T18:56:26.503208Z",
          "iopub.status.busy": "2023-11-01T18:56:26.502422Z",
          "iopub.status.idle": "2023-11-01T18:57:25.280582Z",
          "shell.execute_reply": "2023-11-01T18:57:25.279563Z"
        },
        "papermill": {
          "duration": 58.792983,
          "end_time": "2023-11-01T18:57:25.282677",
          "exception": false,
          "start_time": "2023-11-01T18:56:26.489694",
          "status": "completed"
        },
        "tags": [],
        "id": "c928c466",
        "outputId": "309f173b-d1fa-41fd-ef37-ec942db4c914"
      },
      "outputs": [
        {
          "name": "stdout",
          "output_type": "stream",
          "text": [
            "[0]\tvalidation_0-logloss:0.45781\n",
            "[99]\tvalidation_0-logloss:0.09038\n",
            "CPU times: user 1min 3s, sys: 593 ms, total: 1min 3s\n",
            "Wall time: 58.8 s\n"
          ]
        },
        {
          "data": {
            "text/html": [
              "<style>#sk-container-id-1 {color: black;background-color: white;}#sk-container-id-1 pre{padding: 0;}#sk-container-id-1 div.sk-toggleable {background-color: white;}#sk-container-id-1 label.sk-toggleable__label {cursor: pointer;display: block;width: 100%;margin-bottom: 0;padding: 0.3em;box-sizing: border-box;text-align: center;}#sk-container-id-1 label.sk-toggleable__label-arrow:before {content: \"▸\";float: left;margin-right: 0.25em;color: #696969;}#sk-container-id-1 label.sk-toggleable__label-arrow:hover:before {color: black;}#sk-container-id-1 div.sk-estimator:hover label.sk-toggleable__label-arrow:before {color: black;}#sk-container-id-1 div.sk-toggleable__content {max-height: 0;max-width: 0;overflow: hidden;text-align: left;background-color: #f0f8ff;}#sk-container-id-1 div.sk-toggleable__content pre {margin: 0.2em;color: black;border-radius: 0.25em;background-color: #f0f8ff;}#sk-container-id-1 input.sk-toggleable__control:checked~div.sk-toggleable__content {max-height: 200px;max-width: 100%;overflow: auto;}#sk-container-id-1 input.sk-toggleable__control:checked~label.sk-toggleable__label-arrow:before {content: \"▾\";}#sk-container-id-1 div.sk-estimator input.sk-toggleable__control:checked~label.sk-toggleable__label {background-color: #d4ebff;}#sk-container-id-1 div.sk-label input.sk-toggleable__control:checked~label.sk-toggleable__label {background-color: #d4ebff;}#sk-container-id-1 input.sk-hidden--visually {border: 0;clip: rect(1px 1px 1px 1px);clip: rect(1px, 1px, 1px, 1px);height: 1px;margin: -1px;overflow: hidden;padding: 0;position: absolute;width: 1px;}#sk-container-id-1 div.sk-estimator {font-family: monospace;background-color: #f0f8ff;border: 1px dotted black;border-radius: 0.25em;box-sizing: border-box;margin-bottom: 0.5em;}#sk-container-id-1 div.sk-estimator:hover {background-color: #d4ebff;}#sk-container-id-1 div.sk-parallel-item::after {content: \"\";width: 100%;border-bottom: 1px solid gray;flex-grow: 1;}#sk-container-id-1 div.sk-label:hover label.sk-toggleable__label {background-color: #d4ebff;}#sk-container-id-1 div.sk-serial::before {content: \"\";position: absolute;border-left: 1px solid gray;box-sizing: border-box;top: 0;bottom: 0;left: 50%;z-index: 0;}#sk-container-id-1 div.sk-serial {display: flex;flex-direction: column;align-items: center;background-color: white;padding-right: 0.2em;padding-left: 0.2em;position: relative;}#sk-container-id-1 div.sk-item {position: relative;z-index: 1;}#sk-container-id-1 div.sk-parallel {display: flex;align-items: stretch;justify-content: center;background-color: white;position: relative;}#sk-container-id-1 div.sk-item::before, #sk-container-id-1 div.sk-parallel-item::before {content: \"\";position: absolute;border-left: 1px solid gray;box-sizing: border-box;top: 0;bottom: 0;left: 50%;z-index: -1;}#sk-container-id-1 div.sk-parallel-item {display: flex;flex-direction: column;z-index: 1;position: relative;background-color: white;}#sk-container-id-1 div.sk-parallel-item:first-child::after {align-self: flex-end;width: 50%;}#sk-container-id-1 div.sk-parallel-item:last-child::after {align-self: flex-start;width: 50%;}#sk-container-id-1 div.sk-parallel-item:only-child::after {width: 0;}#sk-container-id-1 div.sk-dashed-wrapped {border: 1px dashed gray;margin: 0 0.4em 0.5em 0.4em;box-sizing: border-box;padding-bottom: 0.4em;background-color: white;}#sk-container-id-1 div.sk-label label {font-family: monospace;font-weight: bold;display: inline-block;line-height: 1.2em;}#sk-container-id-1 div.sk-label-container {text-align: center;}#sk-container-id-1 div.sk-container {/* jupyter's `normalize.less` sets `[hidden] { display: none; }` but bootstrap.min.css set `[hidden] { display: none !important; }` so we also need the `!important` here to be able to override the default hidden behavior on the sphinx rendered scikit-learn.org. See: https://github.com/scikit-learn/scikit-learn/issues/21755 */display: inline-block !important;position: relative;}#sk-container-id-1 div.sk-text-repr-fallback {display: none;}</style><div id=\"sk-container-id-1\" class=\"sk-top-container\"><div class=\"sk-text-repr-fallback\"><pre>XGBClassifier(base_score=None, booster=None, callbacks=None,\n",
              "              colsample_bylevel=None, colsample_bynode=None,\n",
              "              colsample_bytree=None, early_stopping_rounds=None,\n",
              "              enable_categorical=False, eval_metric=None, feature_types=None,\n",
              "              gamma=None, gpu_id=0, grow_policy=None, importance_type=None,\n",
              "              interaction_constraints=None, learning_rate=None, max_bin=None,\n",
              "              max_cat_threshold=None, max_cat_to_onehot=None,\n",
              "              max_delta_step=None, max_depth=None, max_leaves=None,\n",
              "              min_child_weight=None, missing=nan, monotone_constraints=None,\n",
              "              n_estimators=100, n_jobs=None, num_parallel_tree=None,\n",
              "              predictor=&#x27;gpu_predictor&#x27;, random_state=None, ...)</pre><b>In a Jupyter environment, please rerun this cell to show the HTML representation or trust the notebook. <br />On GitHub, the HTML representation is unable to render, please try loading this page with nbviewer.org.</b></div><div class=\"sk-container\" hidden><div class=\"sk-item\"><div class=\"sk-estimator sk-toggleable\"><input class=\"sk-toggleable__control sk-hidden--visually\" id=\"sk-estimator-id-1\" type=\"checkbox\" checked><label for=\"sk-estimator-id-1\" class=\"sk-toggleable__label sk-toggleable__label-arrow\">XGBClassifier</label><div class=\"sk-toggleable__content\"><pre>XGBClassifier(base_score=None, booster=None, callbacks=None,\n",
              "              colsample_bylevel=None, colsample_bynode=None,\n",
              "              colsample_bytree=None, early_stopping_rounds=None,\n",
              "              enable_categorical=False, eval_metric=None, feature_types=None,\n",
              "              gamma=None, gpu_id=0, grow_policy=None, importance_type=None,\n",
              "              interaction_constraints=None, learning_rate=None, max_bin=None,\n",
              "              max_cat_threshold=None, max_cat_to_onehot=None,\n",
              "              max_delta_step=None, max_depth=None, max_leaves=None,\n",
              "              min_child_weight=None, missing=nan, monotone_constraints=None,\n",
              "              n_estimators=100, n_jobs=None, num_parallel_tree=None,\n",
              "              predictor=&#x27;gpu_predictor&#x27;, random_state=None, ...)</pre></div></div></div></div></div>"
            ],
            "text/plain": [
              "XGBClassifier(base_score=None, booster=None, callbacks=None,\n",
              "              colsample_bylevel=None, colsample_bynode=None,\n",
              "              colsample_bytree=None, early_stopping_rounds=None,\n",
              "              enable_categorical=False, eval_metric=None, feature_types=None,\n",
              "              gamma=None, gpu_id=0, grow_policy=None, importance_type=None,\n",
              "              interaction_constraints=None, learning_rate=None, max_bin=None,\n",
              "              max_cat_threshold=None, max_cat_to_onehot=None,\n",
              "              max_delta_step=None, max_depth=None, max_leaves=None,\n",
              "              min_child_weight=None, missing=nan, monotone_constraints=None,\n",
              "              n_estimators=100, n_jobs=None, num_parallel_tree=None,\n",
              "              predictor='gpu_predictor', random_state=None, ...)"
            ]
          },
          "execution_count": 4,
          "metadata": {},
          "output_type": "execute_result"
        }
      ],
      "source": [
        "%%time\n",
        "model = XGBClassifier(tree_method='gpu_hist',\n",
        "                      predictor = 'gpu_predictor',\n",
        "                      gpu_id=0,\n",
        "                      n_estimators=100)\n",
        "model.fit(X_train, Y_train, eval_set=[(X_test, Y_test)], verbose=100)"
      ]
    },
    {
      "cell_type": "code",
      "execution_count": null,
      "id": "463e41e9",
      "metadata": {
        "execution": {
          "iopub.execute_input": "2023-11-01T18:57:25.308775Z",
          "iopub.status.busy": "2023-11-01T18:57:25.308431Z",
          "iopub.status.idle": "2023-11-01T18:58:09.739060Z",
          "shell.execute_reply": "2023-11-01T18:58:09.738118Z"
        },
        "papermill": {
          "duration": 44.445926,
          "end_time": "2023-11-01T18:58:09.740988",
          "exception": false,
          "start_time": "2023-11-01T18:57:25.295062",
          "status": "completed"
        },
        "tags": [],
        "id": "463e41e9",
        "outputId": "49ad04d6-ddc4-4315-c63d-6d598bfbaaea"
      },
      "outputs": [
        {
          "name": "stdout",
          "output_type": "stream",
          "text": [
            "[18:57:39] Stdout logging level is INFO.\n",
            "[18:57:39] GDBT train starts. Max iter 100, early stopping rounds 100\n",
            "[18:58:04] Iter 0; Sample 0, BCE = 0.09443555216295903; \n",
            "[18:58:09] Iter 99; Sample 0, BCE = 0.09368123648465555; \n",
            "CPU times: user 41.4 s, sys: 1.72 s, total: 43.1 s\n",
            "Wall time: 44.4 s\n"
          ]
        },
        {
          "data": {
            "text/plain": [
              "<py_boost.gpu.sketch_boost.SketchBoost at 0x7e30a1fbd1e0>"
            ]
          },
          "execution_count": 5,
          "metadata": {},
          "output_type": "execute_result"
        }
      ],
      "source": [
        "%%time\n",
        "model = SketchBoost('logloss',\n",
        "                    ntrees=100,\n",
        "                    verbose=100)\n",
        "\n",
        "model.fit(X_train, Y_train, eval_sets = [{'X': X_test, 'y': Y_test}])"
      ]
    },
    {
      "cell_type": "markdown",
      "id": "ffe0a61c",
      "metadata": {
        "papermill": {
          "duration": 0.011624,
          "end_time": "2023-11-01T18:58:09.764929",
          "exception": false,
          "start_time": "2023-11-01T18:58:09.753305",
          "status": "completed"
        },
        "tags": [],
        "id": "ffe0a61c"
      },
      "source": [
        "Полученные результаты запусков на разных сэмплах:"
      ]
    },
    {
      "cell_type": "code",
      "execution_count": null,
      "id": "7512549b",
      "metadata": {
        "execution": {
          "iopub.execute_input": "2023-11-01T18:58:09.789019Z",
          "iopub.status.busy": "2023-11-01T18:58:09.788697Z",
          "iopub.status.idle": "2023-11-01T18:58:09.793194Z",
          "shell.execute_reply": "2023-11-01T18:58:09.792463Z"
        },
        "papermill": {
          "duration": 0.018769,
          "end_time": "2023-11-01T18:58:09.795007",
          "exception": false,
          "start_time": "2023-11-01T18:58:09.776238",
          "status": "completed"
        },
        "tags": [],
        "id": "7512549b"
      },
      "outputs": [],
      "source": [
        "n_classes=(10, 20, 50, 100)\n",
        "xgb_time = (6.58, 10.3, 21.2, 36.5)\n",
        "sketch_time = (6.77, 6.84, 6.95, 10.1)"
      ]
    },
    {
      "cell_type": "code",
      "execution_count": null,
      "id": "efaa01a3",
      "metadata": {
        "execution": {
          "iopub.execute_input": "2023-11-01T18:58:09.819868Z",
          "iopub.status.busy": "2023-11-01T18:58:09.819549Z",
          "iopub.status.idle": "2023-11-01T18:58:10.311614Z",
          "shell.execute_reply": "2023-11-01T18:58:10.310593Z"
        },
        "papermill": {
          "duration": 0.507531,
          "end_time": "2023-11-01T18:58:10.313886",
          "exception": false,
          "start_time": "2023-11-01T18:58:09.806355",
          "status": "completed"
        },
        "tags": [],
        "id": "efaa01a3",
        "outputId": "d4996891-eb49-48f4-ee3f-2c20fec407af"
      },
      "outputs": [
        {
          "data": {
            "image/png": "[encoded data removed]",
            "text/plain": [
              "<Figure size 800x550 with 1 Axes>"
            ]
          },
          "metadata": {},
          "output_type": "display_data"
        }
      ],
      "source": [
        "import matplotlib.pyplot as plt\n",
        "import numpy as np\n",
        "\n",
        "plt.style.use('seaborn-v0_8')\n",
        "\n",
        "species = n_classes\n",
        "penguin_means = {\n",
        "    'XGBClassifier': xgb_time,\n",
        "    'SketchBoost': sketch_time,\n",
        "}\n",
        "\n",
        "x = np.arange(len(species))\n",
        "width = 0.25\n",
        "multiplier = 0\n",
        "\n",
        "fig, ax = plt.subplots(layout='constrained')\n",
        "\n",
        "for attribute, measurement in penguin_means.items():\n",
        "    offset = width * multiplier\n",
        "    rects = ax.bar(x + offset, measurement, width, label=attribute)\n",
        "    ax.bar_label(rects, padding=3)\n",
        "    multiplier += 1\n",
        "\n",
        "ax.set_ylabel('Time, sec')\n",
        "ax.set_xlabel('Number of Classes')\n",
        "ax.set_title('Training time on syntetic data')\n",
        "ax.set_xticks(x + width, species)\n",
        "ax.legend(loc='upper left', ncols=3)\n",
        "ax.set_ylim(0, 40)\n",
        "\n",
        "plt.show()"
      ]
    },
    {
      "cell_type": "markdown",
      "id": "95ed3ce3",
      "metadata": {
        "papermill": {
          "duration": 0.012587,
          "end_time": "2023-11-01T18:58:10.339060",
          "exception": false,
          "start_time": "2023-11-01T18:58:10.326473",
          "status": "completed"
        },
        "tags": [],
        "id": "95ed3ce3"
      },
      "source": [
        "## Experiment 2"
      ]
    },
    {
      "cell_type": "markdown",
      "id": "3be76949",
      "metadata": {
        "papermill": {
          "duration": 0.013343,
          "end_time": "2023-11-01T18:58:10.366657",
          "exception": false,
          "start_time": "2023-11-01T18:58:10.353314",
          "status": "completed"
        },
        "tags": [],
        "id": "3be76949"
      },
      "source": [
        "Сравним время работы и качество алгоритмов на данных банка Точка. Необходимо было на основе признаков клиента классифицировать его на 36 классов. При этом один клиент может являться представителем нескольких классов."
      ]
    },
    {
      "cell_type": "code",
      "execution_count": null,
      "id": "3ea28f31",
      "metadata": {
        "execution": {
          "iopub.execute_input": "2023-11-01T18:58:10.394299Z",
          "iopub.status.busy": "2023-11-01T18:58:10.393862Z",
          "iopub.status.idle": "2023-11-01T18:58:19.955726Z",
          "shell.execute_reply": "2023-11-01T18:58:19.954816Z"
        },
        "papermill": {
          "duration": 9.578302,
          "end_time": "2023-11-01T18:58:19.958145",
          "exception": false,
          "start_time": "2023-11-01T18:58:10.379843",
          "status": "completed"
        },
        "tags": [],
        "id": "3ea28f31"
      },
      "outputs": [],
      "source": [
        "X = pd.read_csv('/kaggle/input/data-bank/X_train_final_2.csv')\n",
        "y = pd.read_csv('/kaggle/input/data-bank/y_train_final_2.csv')\n",
        "X_train, X_test, y_train, y_test = train_test_split(X.drop(columns=['client_id']).values.astype('float32'),\n",
        "                                                    y.drop(columns=['client_id']).values.astype('float32'),\n",
        "                                                    test_size=0.33, random_state=42)"
      ]
    },
    {
      "cell_type": "code",
      "execution_count": null,
      "id": "b88527b5",
      "metadata": {
        "execution": {
          "iopub.execute_input": "2023-11-01T18:58:19.984797Z",
          "iopub.status.busy": "2023-11-01T18:58:19.984481Z",
          "iopub.status.idle": "2023-11-01T18:58:19.990588Z",
          "shell.execute_reply": "2023-11-01T18:58:19.989684Z"
        },
        "papermill": {
          "duration": 0.021501,
          "end_time": "2023-11-01T18:58:19.992704",
          "exception": false,
          "start_time": "2023-11-01T18:58:19.971203",
          "status": "completed"
        },
        "tags": [],
        "id": "b88527b5",
        "outputId": "a60ac8be-9455-4929-8439-bf89d6990976"
      },
      "outputs": [
        {
          "data": {
            "text/plain": [
              "((67005, 839), (67005, 36))"
            ]
          },
          "execution_count": 9,
          "metadata": {},
          "output_type": "execute_result"
        }
      ],
      "source": [
        "X.shape, y.shape"
      ]
    },
    {
      "cell_type": "code",
      "execution_count": null,
      "id": "25af8901",
      "metadata": {
        "execution": {
          "iopub.execute_input": "2023-11-01T18:58:20.019067Z",
          "iopub.status.busy": "2023-11-01T18:58:20.018744Z",
          "iopub.status.idle": "2023-11-01T18:58:20.048628Z",
          "shell.execute_reply": "2023-11-01T18:58:20.047687Z"
        },
        "papermill": {
          "duration": 0.046102,
          "end_time": "2023-11-01T18:58:20.050895",
          "exception": false,
          "start_time": "2023-11-01T18:58:20.004793",
          "status": "completed"
        },
        "tags": [],
        "id": "25af8901",
        "outputId": "e51c79a2-b40d-4163-ec54-eb9286a2c05b"
      },
      "outputs": [
        {
          "data": {
            "text/html": [
              "<div>\n",
              "<style scoped>\n",
              "    .dataframe tbody tr th:only-of-type {\n",
              "        vertical-align: middle;\n",
              "    }\n",
              "\n",
              "    .dataframe tbody tr th {\n",
              "        vertical-align: top;\n",
              "    }\n",
              "\n",
              "    .dataframe thead th {\n",
              "        text-align: right;\n",
              "    }\n",
              "</style>\n",
              "<table border=\"1\" class=\"dataframe\">\n",
              "  <thead>\n",
              "    <tr style=\"text-align: right;\">\n",
              "      <th></th>\n",
              "      <th>client_id</th>\n",
              "      <th>('amount', 'mean')</th>\n",
              "      <th>('amount', 'std')</th>\n",
              "      <th>('amount', 'min')</th>\n",
              "      <th>('amount', 'max')</th>\n",
              "      <th>('amount', 'sum')</th>\n",
              "      <th>('flag_0_count', '')</th>\n",
              "      <th>('flag_1_count', '')</th>\n",
              "      <th>('flag_2_count', '')</th>\n",
              "      <th>('flag_3_count', '')</th>\n",
              "      <th>...</th>\n",
              "      <th>contractor_id_986425</th>\n",
              "      <th>contractor_id_3425</th>\n",
              "      <th>contractor_id_137239</th>\n",
              "      <th>contractor_id_373618</th>\n",
              "      <th>contractor_id_26746</th>\n",
              "      <th>contractor_id_860273</th>\n",
              "      <th>contractor_id_96923</th>\n",
              "      <th>contractor_id_853363</th>\n",
              "      <th>contractor_id_953119</th>\n",
              "      <th>contractor_id_124834</th>\n",
              "    </tr>\n",
              "  </thead>\n",
              "  <tbody>\n",
              "    <tr>\n",
              "      <th>0</th>\n",
              "      <td>469347</td>\n",
              "      <td>3.544950e+07</td>\n",
              "      <td>7.754265e+07</td>\n",
              "      <td>12380</td>\n",
              "      <td>1098312208</td>\n",
              "      <td>18362842881</td>\n",
              "      <td>57</td>\n",
              "      <td>0</td>\n",
              "      <td>35</td>\n",
              "      <td>59</td>\n",
              "      <td>...</td>\n",
              "      <td>0.0</td>\n",
              "      <td>0</td>\n",
              "      <td>0.0</td>\n",
              "      <td>0.0</td>\n",
              "      <td>0</td>\n",
              "      <td>0.0</td>\n",
              "      <td>0.0</td>\n",
              "      <td>0</td>\n",
              "      <td>0.0</td>\n",
              "      <td>0.0</td>\n",
              "    </tr>\n",
              "    <tr>\n",
              "      <th>1</th>\n",
              "      <td>31053</td>\n",
              "      <td>8.018193e+07</td>\n",
              "      <td>1.162911e+08</td>\n",
              "      <td>73</td>\n",
              "      <td>594908243</td>\n",
              "      <td>7136192030</td>\n",
              "      <td>0</td>\n",
              "      <td>0</td>\n",
              "      <td>0</td>\n",
              "      <td>9</td>\n",
              "      <td>...</td>\n",
              "      <td>0.0</td>\n",
              "      <td>0</td>\n",
              "      <td>0.0</td>\n",
              "      <td>0.0</td>\n",
              "      <td>0</td>\n",
              "      <td>0.0</td>\n",
              "      <td>0.0</td>\n",
              "      <td>0</td>\n",
              "      <td>0.0</td>\n",
              "      <td>0.0</td>\n",
              "    </tr>\n",
              "    <tr>\n",
              "      <th>2</th>\n",
              "      <td>726736</td>\n",
              "      <td>1.782003e+08</td>\n",
              "      <td>1.873942e+08</td>\n",
              "      <td>31134</td>\n",
              "      <td>726200213</td>\n",
              "      <td>13899625770</td>\n",
              "      <td>0</td>\n",
              "      <td>0</td>\n",
              "      <td>0</td>\n",
              "      <td>28</td>\n",
              "      <td>...</td>\n",
              "      <td>0.0</td>\n",
              "      <td>0</td>\n",
              "      <td>0.0</td>\n",
              "      <td>0.0</td>\n",
              "      <td>0</td>\n",
              "      <td>0.0</td>\n",
              "      <td>0.0</td>\n",
              "      <td>0</td>\n",
              "      <td>0.0</td>\n",
              "      <td>0.0</td>\n",
              "    </tr>\n",
              "    <tr>\n",
              "      <th>3</th>\n",
              "      <td>438388</td>\n",
              "      <td>2.085516e+07</td>\n",
              "      <td>3.834703e+07</td>\n",
              "      <td>2409</td>\n",
              "      <td>170421023</td>\n",
              "      <td>3837349790</td>\n",
              "      <td>97</td>\n",
              "      <td>0</td>\n",
              "      <td>21</td>\n",
              "      <td>13</td>\n",
              "      <td>...</td>\n",
              "      <td>0.0</td>\n",
              "      <td>0</td>\n",
              "      <td>0.0</td>\n",
              "      <td>0.0</td>\n",
              "      <td>0</td>\n",
              "      <td>0.0</td>\n",
              "      <td>0.0</td>\n",
              "      <td>0</td>\n",
              "      <td>0.0</td>\n",
              "      <td>0.0</td>\n",
              "    </tr>\n",
              "    <tr>\n",
              "      <th>4</th>\n",
              "      <td>592788</td>\n",
              "      <td>5.818194e+07</td>\n",
              "      <td>6.463688e+07</td>\n",
              "      <td>238581</td>\n",
              "      <td>314723245</td>\n",
              "      <td>9716383639</td>\n",
              "      <td>15</td>\n",
              "      <td>0</td>\n",
              "      <td>3</td>\n",
              "      <td>8</td>\n",
              "      <td>...</td>\n",
              "      <td>0.0</td>\n",
              "      <td>0</td>\n",
              "      <td>0.0</td>\n",
              "      <td>0.0</td>\n",
              "      <td>0</td>\n",
              "      <td>0.0</td>\n",
              "      <td>0.0</td>\n",
              "      <td>0</td>\n",
              "      <td>0.0</td>\n",
              "      <td>0.0</td>\n",
              "    </tr>\n",
              "  </tbody>\n",
              "</table>\n",
              "<p>5 rows × 839 columns</p>\n",
              "</div>"
            ],
            "text/plain": [
              "   client_id  ('amount', 'mean')  ('amount', 'std')  ('amount', 'min')  \\\n",
              "0     469347        3.544950e+07       7.754265e+07              12380   \n",
              "1      31053        8.018193e+07       1.162911e+08                 73   \n",
              "2     726736        1.782003e+08       1.873942e+08              31134   \n",
              "3     438388        2.085516e+07       3.834703e+07               2409   \n",
              "4     592788        5.818194e+07       6.463688e+07             238581   \n",
              "\n",
              "   ('amount', 'max')  ('amount', 'sum')  ('flag_0_count', '')  \\\n",
              "0         1098312208        18362842881                    57   \n",
              "1          594908243         7136192030                     0   \n",
              "2          726200213        13899625770                     0   \n",
              "3          170421023         3837349790                    97   \n",
              "4          314723245         9716383639                    15   \n",
              "\n",
              "   ('flag_1_count', '')  ('flag_2_count', '')  ('flag_3_count', '')  ...  \\\n",
              "0                     0                    35                    59  ...   \n",
              "1                     0                     0                     9  ...   \n",
              "2                     0                     0                    28  ...   \n",
              "3                     0                    21                    13  ...   \n",
              "4                     0                     3                     8  ...   \n",
              "\n",
              "   contractor_id_986425  contractor_id_3425  contractor_id_137239  \\\n",
              "0                   0.0                   0                   0.0   \n",
              "1                   0.0                   0                   0.0   \n",
              "2                   0.0                   0                   0.0   \n",
              "3                   0.0                   0                   0.0   \n",
              "4                   0.0                   0                   0.0   \n",
              "\n",
              "   contractor_id_373618  contractor_id_26746  contractor_id_860273  \\\n",
              "0                   0.0                    0                   0.0   \n",
              "1                   0.0                    0                   0.0   \n",
              "2                   0.0                    0                   0.0   \n",
              "3                   0.0                    0                   0.0   \n",
              "4                   0.0                    0                   0.0   \n",
              "\n",
              "   contractor_id_96923  contractor_id_853363  contractor_id_953119  \\\n",
              "0                  0.0                     0                   0.0   \n",
              "1                  0.0                     0                   0.0   \n",
              "2                  0.0                     0                   0.0   \n",
              "3                  0.0                     0                   0.0   \n",
              "4                  0.0                     0                   0.0   \n",
              "\n",
              "   contractor_id_124834  \n",
              "0                   0.0  \n",
              "1                   0.0  \n",
              "2                   0.0  \n",
              "3                   0.0  \n",
              "4                   0.0  \n",
              "\n",
              "[5 rows x 839 columns]"
            ]
          },
          "execution_count": 10,
          "metadata": {},
          "output_type": "execute_result"
        }
      ],
      "source": [
        "X.head()"
      ]
    },
    {
      "cell_type": "code",
      "execution_count": null,
      "id": "f6b32d9a",
      "metadata": {
        "execution": {
          "iopub.execute_input": "2023-11-01T18:58:20.077681Z",
          "iopub.status.busy": "2023-11-01T18:58:20.076965Z",
          "iopub.status.idle": "2023-11-01T18:58:20.092504Z",
          "shell.execute_reply": "2023-11-01T18:58:20.091561Z"
        },
        "papermill": {
          "duration": 0.031104,
          "end_time": "2023-11-01T18:58:20.094655",
          "exception": false,
          "start_time": "2023-11-01T18:58:20.063551",
          "status": "completed"
        },
        "tags": [],
        "id": "f6b32d9a",
        "outputId": "155828a0-4db8-4159-9cfd-46609f65e9bd"
      },
      "outputs": [
        {
          "data": {
            "text/html": [
              "<div>\n",
              "<style scoped>\n",
              "    .dataframe tbody tr th:only-of-type {\n",
              "        vertical-align: middle;\n",
              "    }\n",
              "\n",
              "    .dataframe tbody tr th {\n",
              "        vertical-align: top;\n",
              "    }\n",
              "\n",
              "    .dataframe thead th {\n",
              "        text-align: right;\n",
              "    }\n",
              "</style>\n",
              "<table border=\"1\" class=\"dataframe\">\n",
              "  <thead>\n",
              "    <tr style=\"text-align: right;\">\n",
              "      <th></th>\n",
              "      <th>client_id</th>\n",
              "      <th>type_0</th>\n",
              "      <th>type_1</th>\n",
              "      <th>type_2</th>\n",
              "      <th>type_3</th>\n",
              "      <th>type_4</th>\n",
              "      <th>type_5</th>\n",
              "      <th>type_6</th>\n",
              "      <th>type_7</th>\n",
              "      <th>type_8</th>\n",
              "      <th>...</th>\n",
              "      <th>type_25</th>\n",
              "      <th>type_26</th>\n",
              "      <th>type_27</th>\n",
              "      <th>type_28</th>\n",
              "      <th>type_29</th>\n",
              "      <th>type_30</th>\n",
              "      <th>type_31</th>\n",
              "      <th>type_32</th>\n",
              "      <th>type_33</th>\n",
              "      <th>type_34</th>\n",
              "    </tr>\n",
              "  </thead>\n",
              "  <tbody>\n",
              "    <tr>\n",
              "      <th>0</th>\n",
              "      <td>469347</td>\n",
              "      <td>0</td>\n",
              "      <td>0</td>\n",
              "      <td>0</td>\n",
              "      <td>0</td>\n",
              "      <td>0</td>\n",
              "      <td>0</td>\n",
              "      <td>1</td>\n",
              "      <td>0</td>\n",
              "      <td>0</td>\n",
              "      <td>...</td>\n",
              "      <td>0</td>\n",
              "      <td>0</td>\n",
              "      <td>0</td>\n",
              "      <td>0</td>\n",
              "      <td>0</td>\n",
              "      <td>1</td>\n",
              "      <td>0</td>\n",
              "      <td>0</td>\n",
              "      <td>0</td>\n",
              "      <td>0</td>\n",
              "    </tr>\n",
              "    <tr>\n",
              "      <th>1</th>\n",
              "      <td>31053</td>\n",
              "      <td>0</td>\n",
              "      <td>0</td>\n",
              "      <td>0</td>\n",
              "      <td>0</td>\n",
              "      <td>0</td>\n",
              "      <td>1</td>\n",
              "      <td>0</td>\n",
              "      <td>0</td>\n",
              "      <td>0</td>\n",
              "      <td>...</td>\n",
              "      <td>0</td>\n",
              "      <td>0</td>\n",
              "      <td>0</td>\n",
              "      <td>0</td>\n",
              "      <td>0</td>\n",
              "      <td>1</td>\n",
              "      <td>0</td>\n",
              "      <td>0</td>\n",
              "      <td>0</td>\n",
              "      <td>0</td>\n",
              "    </tr>\n",
              "    <tr>\n",
              "      <th>2</th>\n",
              "      <td>726736</td>\n",
              "      <td>1</td>\n",
              "      <td>0</td>\n",
              "      <td>1</td>\n",
              "      <td>0</td>\n",
              "      <td>1</td>\n",
              "      <td>0</td>\n",
              "      <td>0</td>\n",
              "      <td>1</td>\n",
              "      <td>0</td>\n",
              "      <td>...</td>\n",
              "      <td>1</td>\n",
              "      <td>0</td>\n",
              "      <td>0</td>\n",
              "      <td>0</td>\n",
              "      <td>0</td>\n",
              "      <td>0</td>\n",
              "      <td>0</td>\n",
              "      <td>1</td>\n",
              "      <td>0</td>\n",
              "      <td>0</td>\n",
              "    </tr>\n",
              "    <tr>\n",
              "      <th>3</th>\n",
              "      <td>438388</td>\n",
              "      <td>1</td>\n",
              "      <td>0</td>\n",
              "      <td>0</td>\n",
              "      <td>0</td>\n",
              "      <td>0</td>\n",
              "      <td>0</td>\n",
              "      <td>0</td>\n",
              "      <td>0</td>\n",
              "      <td>0</td>\n",
              "      <td>...</td>\n",
              "      <td>0</td>\n",
              "      <td>0</td>\n",
              "      <td>1</td>\n",
              "      <td>0</td>\n",
              "      <td>0</td>\n",
              "      <td>1</td>\n",
              "      <td>0</td>\n",
              "      <td>0</td>\n",
              "      <td>0</td>\n",
              "      <td>1</td>\n",
              "    </tr>\n",
              "    <tr>\n",
              "      <th>4</th>\n",
              "      <td>592788</td>\n",
              "      <td>0</td>\n",
              "      <td>0</td>\n",
              "      <td>0</td>\n",
              "      <td>0</td>\n",
              "      <td>0</td>\n",
              "      <td>0</td>\n",
              "      <td>0</td>\n",
              "      <td>0</td>\n",
              "      <td>0</td>\n",
              "      <td>...</td>\n",
              "      <td>0</td>\n",
              "      <td>0</td>\n",
              "      <td>0</td>\n",
              "      <td>0</td>\n",
              "      <td>0</td>\n",
              "      <td>0</td>\n",
              "      <td>0</td>\n",
              "      <td>1</td>\n",
              "      <td>0</td>\n",
              "      <td>0</td>\n",
              "    </tr>\n",
              "  </tbody>\n",
              "</table>\n",
              "<p>5 rows × 36 columns</p>\n",
              "</div>"
            ],
            "text/plain": [
              "   client_id  type_0  type_1  type_2  type_3  type_4  type_5  type_6  type_7  \\\n",
              "0     469347       0       0       0       0       0       0       1       0   \n",
              "1      31053       0       0       0       0       0       1       0       0   \n",
              "2     726736       1       0       1       0       1       0       0       1   \n",
              "3     438388       1       0       0       0       0       0       0       0   \n",
              "4     592788       0       0       0       0       0       0       0       0   \n",
              "\n",
              "   type_8  ...  type_25  type_26  type_27  type_28  type_29  type_30  type_31  \\\n",
              "0       0  ...        0        0        0        0        0        1        0   \n",
              "1       0  ...        0        0        0        0        0        1        0   \n",
              "2       0  ...        1        0        0        0        0        0        0   \n",
              "3       0  ...        0        0        1        0        0        1        0   \n",
              "4       0  ...        0        0        0        0        0        0        0   \n",
              "\n",
              "   type_32  type_33  type_34  \n",
              "0        0        0        0  \n",
              "1        0        0        0  \n",
              "2        1        0        0  \n",
              "3        0        0        1  \n",
              "4        1        0        0  \n",
              "\n",
              "[5 rows x 36 columns]"
            ]
          },
          "execution_count": 11,
          "metadata": {},
          "output_type": "execute_result"
        }
      ],
      "source": [
        "y.head()"
      ]
    },
    {
      "cell_type": "code",
      "execution_count": null,
      "id": "196b6975",
      "metadata": {
        "execution": {
          "iopub.execute_input": "2023-11-01T18:58:20.122914Z",
          "iopub.status.busy": "2023-11-01T18:58:20.122655Z",
          "iopub.status.idle": "2023-11-01T18:59:02.783679Z",
          "shell.execute_reply": "2023-11-01T18:59:02.782772Z"
        },
        "papermill": {
          "duration": 42.676478,
          "end_time": "2023-11-01T18:59:02.785704",
          "exception": false,
          "start_time": "2023-11-01T18:58:20.109226",
          "status": "completed"
        },
        "tags": [],
        "id": "196b6975",
        "outputId": "b498c1aa-a219-4752-adc9-3b32b85bb070"
      },
      "outputs": [
        {
          "name": "stdout",
          "output_type": "stream",
          "text": [
            "[18:58:25] Stdout logging level is INFO.\n",
            "[18:58:25] GDBT train starts. Max iter 400, early stopping rounds 300\n",
            "[18:58:30] Iter 0; Sample 0, Crossentropy = 0.6879615626137843; \n",
            "[18:58:38] Iter 100; Sample 0, Crossentropy = 0.5850929207573418; \n",
            "[18:58:46] Iter 200; Sample 0, Crossentropy = 0.5797226015021855; \n",
            "[18:58:54] Iter 300; Sample 0, Crossentropy = 0.577770803398824; \n",
            "[18:59:02] Iter 399; Sample 0, Crossentropy = 0.5767378417009291; \n",
            "CPU times: user 47 s, sys: 94 ms, total: 47.1 s\n",
            "Wall time: 42.7 s\n"
          ]
        },
        {
          "data": {
            "text/plain": [
              "<py_boost.gpu.boosting.GradientBoosting at 0x7e3098dcf6d0>"
            ]
          },
          "execution_count": 12,
          "metadata": {},
          "output_type": "execute_result"
        }
      ],
      "source": [
        "%%time\n",
        "model = GradientBoosting(\n",
        "    'crossentropy',\n",
        "     ntrees=400, lr=0.03, verbose=100, es=300, lambda_l2=1, gd_steps=1,\n",
        "     subsample=1, colsample=1, min_data_in_leaf=10, use_hess=True,\n",
        "     max_bin=256, max_depth=6, debug=True\n",
        ")\n",
        "\n",
        "model.fit(X_train, y_train,\n",
        "          eval_sets = [{'X': X_test, 'y': y_test}])"
      ]
    },
    {
      "cell_type": "code",
      "execution_count": null,
      "id": "e8b63fbe",
      "metadata": {
        "execution": {
          "iopub.execute_input": "2023-11-01T18:59:02.814365Z",
          "iopub.status.busy": "2023-11-01T18:59:02.814079Z",
          "iopub.status.idle": "2023-11-01T18:59:22.477965Z",
          "shell.execute_reply": "2023-11-01T18:59:22.477020Z"
        },
        "papermill": {
          "duration": 19.680686,
          "end_time": "2023-11-01T18:59:22.480065",
          "exception": false,
          "start_time": "2023-11-01T18:59:02.799379",
          "status": "completed"
        },
        "tags": [],
        "id": "e8b63fbe",
        "outputId": "43491920-371e-444a-acce-66125efd884b"
      },
      "outputs": [
        {
          "name": "stdout",
          "output_type": "stream",
          "text": [
            "[18:59:04] Stdout logging level is INFO.\n",
            "[18:59:04] GDBT train starts. Max iter 400, early stopping rounds 300\n",
            "[18:59:04] Iter 0; Sample 0, Crossentropy = 0.6879713105189916; \n",
            "[18:59:09] Iter 100; Sample 0, Crossentropy = 0.5855821850163756; \n",
            "[18:59:13] Iter 200; Sample 0, Crossentropy = 0.5798950110166738; \n",
            "[18:59:18] Iter 300; Sample 0, Crossentropy = 0.5780761295599376; \n",
            "[18:59:22] Iter 399; Sample 0, Crossentropy = 0.5771289764195289; \n",
            "CPU times: user 24.1 s, sys: 44.3 ms, total: 24.2 s\n",
            "Wall time: 19.7 s\n"
          ]
        },
        {
          "data": {
            "text/plain": [
              "<py_boost.gpu.sketch_boost.SketchBoost at 0x7e3098c8f130>"
            ]
          },
          "execution_count": 13,
          "metadata": {},
          "output_type": "execute_result"
        }
      ],
      "source": [
        "%%time\n",
        "model = SketchBoost(\n",
        "    'crossentropy',\n",
        "     ntrees=400, lr=0.03, verbose=100, es=300, lambda_l2=1, gd_steps=1,\n",
        "     subsample=1, colsample=1, min_data_in_leaf=10,\n",
        "     max_bin=256, max_depth=6,\n",
        ")\n",
        "\n",
        "model.fit(X_train, y_train, eval_sets = [{'X': X_test, 'y': y_test}])"
      ]
    },
    {
      "cell_type": "markdown",
      "id": "bfe77d8e",
      "metadata": {
        "papermill": {
          "duration": 0.013904,
          "end_time": "2023-11-01T18:59:22.508697",
          "exception": false,
          "start_time": "2023-11-01T18:59:22.494793",
          "status": "completed"
        },
        "tags": [],
        "id": "bfe77d8e"
      },
      "source": [
        "SketchBoost оказался в 2 раза быстрее стандартного градиентного бустинга, при этом качество решения отличается на 0,0004, что является незначительным отклонением."
      ]
    },
    {
      "cell_type": "markdown",
      "id": "4eaf51a5",
      "metadata": {
        "papermill": {
          "duration": 0.014207,
          "end_time": "2023-11-01T18:59:22.582344",
          "exception": false,
          "start_time": "2023-11-01T18:59:22.568137",
          "status": "completed"
        },
        "tags": [],
        "id": "4eaf51a5"
      },
      "source": [
        "## Experiment 3"
      ]
    },
    {
      "cell_type": "markdown",
      "id": "208d7cfb",
      "metadata": {
        "papermill": {
          "duration": 0.014164,
          "end_time": "2023-11-01T18:59:22.610964",
          "exception": false,
          "start_time": "2023-11-01T18:59:22.596800",
          "status": "completed"
        },
        "tags": [],
        "id": "208d7cfb"
      },
      "source": [
        "Сравним время работы и качество алгоритмов на датасете helena OpenML."
      ]
    },
    {
      "cell_type": "code",
      "execution_count": null,
      "id": "901df1f8",
      "metadata": {
        "execution": {
          "iopub.execute_input": "2023-11-01T18:59:22.642836Z",
          "iopub.status.busy": "2023-11-01T18:59:22.642156Z",
          "iopub.status.idle": "2023-11-01T18:59:27.135575Z",
          "shell.execute_reply": "2023-11-01T18:59:27.134102Z"
        },
        "papermill": {
          "duration": 4.5118,
          "end_time": "2023-11-01T18:59:27.138258",
          "exception": false,
          "start_time": "2023-11-01T18:59:22.626458",
          "status": "completed"
        },
        "tags": [],
        "id": "901df1f8",
        "outputId": "9291f6a0-8200-4496-9c94-47e9c2e17aa6"
      },
      "outputs": [
        {
          "name": "stdout",
          "output_type": "stream",
          "text": [
            "--2023-11-01 18:59:23--  https://www.openml.org/data/get_csv/19335692/file1c556677f875.csv\r\n",
            "Resolving www.openml.org (www.openml.org)... 131.155.11.11\r\n",
            "Connecting to www.openml.org (www.openml.org)|131.155.11.11|:443... connected.\r\n",
            "HTTP request sent, awaiting response... 200 OK\r\n",
            "Length: unspecified [text/plain]\r\n",
            "Saving to: ‘../data/helena.csv’\r\n",
            "\r\n",
            "../data/helena.csv      [         <=>        ]  14.56M  5.16MB/s    in 2.8s    \r\n",
            "\r\n",
            "2023-11-01 18:59:27 (5.16 MB/s) - ‘../data/helena.csv’ saved [15271704]\r\n",
            "\r\n"
          ]
        }
      ],
      "source": [
        "!wget https://www.openml.org/data/get_csv/19335692/file1c556677f875.csv -O ../data/helena.csv"
      ]
    },
    {
      "cell_type": "code",
      "execution_count": null,
      "id": "7d2be200",
      "metadata": {
        "execution": {
          "iopub.execute_input": "2023-11-01T18:59:27.172721Z",
          "iopub.status.busy": "2023-11-01T18:59:27.172239Z",
          "iopub.status.idle": "2023-11-01T18:59:27.458886Z",
          "shell.execute_reply": "2023-11-01T18:59:27.457970Z"
        },
        "papermill": {
          "duration": 0.306063,
          "end_time": "2023-11-01T18:59:27.461177",
          "exception": false,
          "start_time": "2023-11-01T18:59:27.155114",
          "status": "completed"
        },
        "tags": [],
        "id": "7d2be200",
        "outputId": "9849e94c-14de-42d1-cfac-832ff66f5558"
      },
      "outputs": [
        {
          "data": {
            "text/html": [
              "<div>\n",
              "<style scoped>\n",
              "    .dataframe tbody tr th:only-of-type {\n",
              "        vertical-align: middle;\n",
              "    }\n",
              "\n",
              "    .dataframe tbody tr th {\n",
              "        vertical-align: top;\n",
              "    }\n",
              "\n",
              "    .dataframe thead th {\n",
              "        text-align: right;\n",
              "    }\n",
              "</style>\n",
              "<table border=\"1\" class=\"dataframe\">\n",
              "  <thead>\n",
              "    <tr style=\"text-align: right;\">\n",
              "      <th></th>\n",
              "      <th>class</th>\n",
              "      <th>V1</th>\n",
              "      <th>V2</th>\n",
              "      <th>V3</th>\n",
              "      <th>V4</th>\n",
              "      <th>V5</th>\n",
              "      <th>V6</th>\n",
              "      <th>V7</th>\n",
              "      <th>V8</th>\n",
              "      <th>V9</th>\n",
              "      <th>...</th>\n",
              "      <th>V18</th>\n",
              "      <th>V19</th>\n",
              "      <th>V20</th>\n",
              "      <th>V21</th>\n",
              "      <th>V22</th>\n",
              "      <th>V23</th>\n",
              "      <th>V24</th>\n",
              "      <th>V25</th>\n",
              "      <th>V26</th>\n",
              "      <th>V27</th>\n",
              "    </tr>\n",
              "  </thead>\n",
              "  <tbody>\n",
              "    <tr>\n",
              "      <th>0</th>\n",
              "      <td>41</td>\n",
              "      <td>0.005521</td>\n",
              "      <td>0.080556</td>\n",
              "      <td>0.110417</td>\n",
              "      <td>0.490822</td>\n",
              "      <td>0.586406</td>\n",
              "      <td>0.066414</td>\n",
              "      <td>0.092206</td>\n",
              "      <td>0.116352</td>\n",
              "      <td>0.379310</td>\n",
              "      <td>...</td>\n",
              "      <td>-0.342986</td>\n",
              "      <td>78.6894</td>\n",
              "      <td>17.23780</td>\n",
              "      <td>21.504200</td>\n",
              "      <td>14.43730</td>\n",
              "      <td>17.37800</td>\n",
              "      <td>9.61674</td>\n",
              "      <td>-0.609370</td>\n",
              "      <td>1.044830</td>\n",
              "      <td>1.481790</td>\n",
              "    </tr>\n",
              "    <tr>\n",
              "      <th>1</th>\n",
              "      <td>92</td>\n",
              "      <td>0.049398</td>\n",
              "      <td>0.147917</td>\n",
              "      <td>0.541667</td>\n",
              "      <td>0.542865</td>\n",
              "      <td>0.515608</td>\n",
              "      <td>0.105128</td>\n",
              "      <td>0.475550</td>\n",
              "      <td>0.049555</td>\n",
              "      <td>0.383460</td>\n",
              "      <td>...</td>\n",
              "      <td>2.639370</td>\n",
              "      <td>59.7879</td>\n",
              "      <td>5.39341</td>\n",
              "      <td>3.819610</td>\n",
              "      <td>11.49240</td>\n",
              "      <td>3.92947</td>\n",
              "      <td>5.91423</td>\n",
              "      <td>1.409210</td>\n",
              "      <td>4.749540</td>\n",
              "      <td>1.103820</td>\n",
              "    </tr>\n",
              "    <tr>\n",
              "      <th>2</th>\n",
              "      <td>24</td>\n",
              "      <td>0.548663</td>\n",
              "      <td>1.000000</td>\n",
              "      <td>1.000000</td>\n",
              "      <td>0.397029</td>\n",
              "      <td>0.627398</td>\n",
              "      <td>1.023440</td>\n",
              "      <td>1.004220</td>\n",
              "      <td>0.027381</td>\n",
              "      <td>0.451337</td>\n",
              "      <td>...</td>\n",
              "      <td>0.137427</td>\n",
              "      <td>58.1429</td>\n",
              "      <td>-3.36598</td>\n",
              "      <td>-0.037489</td>\n",
              "      <td>10.63470</td>\n",
              "      <td>2.66018</td>\n",
              "      <td>3.93377</td>\n",
              "      <td>-0.898220</td>\n",
              "      <td>2.137790</td>\n",
              "      <td>1.054470</td>\n",
              "    </tr>\n",
              "    <tr>\n",
              "      <th>3</th>\n",
              "      <td>29</td>\n",
              "      <td>0.023073</td>\n",
              "      <td>0.206250</td>\n",
              "      <td>0.238889</td>\n",
              "      <td>0.622998</td>\n",
              "      <td>0.764067</td>\n",
              "      <td>0.202599</td>\n",
              "      <td>0.177892</td>\n",
              "      <td>0.071232</td>\n",
              "      <td>0.531712</td>\n",
              "      <td>...</td>\n",
              "      <td>0.477009</td>\n",
              "      <td>55.4798</td>\n",
              "      <td>-1.05109</td>\n",
              "      <td>-4.755360</td>\n",
              "      <td>13.36710</td>\n",
              "      <td>2.85206</td>\n",
              "      <td>9.65162</td>\n",
              "      <td>0.224397</td>\n",
              "      <td>-0.220216</td>\n",
              "      <td>-0.273287</td>\n",
              "    </tr>\n",
              "    <tr>\n",
              "      <th>4</th>\n",
              "      <td>91</td>\n",
              "      <td>0.224427</td>\n",
              "      <td>0.433333</td>\n",
              "      <td>0.902083</td>\n",
              "      <td>0.814199</td>\n",
              "      <td>0.576879</td>\n",
              "      <td>0.344413</td>\n",
              "      <td>0.822975</td>\n",
              "      <td>0.026121</td>\n",
              "      <td>0.425875</td>\n",
              "      <td>...</td>\n",
              "      <td>0.521306</td>\n",
              "      <td>76.8475</td>\n",
              "      <td>-19.37170</td>\n",
              "      <td>32.270700</td>\n",
              "      <td>9.41442</td>\n",
              "      <td>4.34345</td>\n",
              "      <td>8.67710</td>\n",
              "      <td>-1.587580</td>\n",
              "      <td>1.117870</td>\n",
              "      <td>-0.545338</td>\n",
              "    </tr>\n",
              "  </tbody>\n",
              "</table>\n",
              "<p>5 rows × 28 columns</p>\n",
              "</div>"
            ],
            "text/plain": [
              "   class        V1        V2        V3        V4        V5        V6  \\\n",
              "0     41  0.005521  0.080556  0.110417  0.490822  0.586406  0.066414   \n",
              "1     92  0.049398  0.147917  0.541667  0.542865  0.515608  0.105128   \n",
              "2     24  0.548663  1.000000  1.000000  0.397029  0.627398  1.023440   \n",
              "3     29  0.023073  0.206250  0.238889  0.622998  0.764067  0.202599   \n",
              "4     91  0.224427  0.433333  0.902083  0.814199  0.576879  0.344413   \n",
              "\n",
              "         V7        V8        V9  ...       V18      V19       V20        V21  \\\n",
              "0  0.092206  0.116352  0.379310  ... -0.342986  78.6894  17.23780  21.504200   \n",
              "1  0.475550  0.049555  0.383460  ...  2.639370  59.7879   5.39341   3.819610   \n",
              "2  1.004220  0.027381  0.451337  ...  0.137427  58.1429  -3.36598  -0.037489   \n",
              "3  0.177892  0.071232  0.531712  ...  0.477009  55.4798  -1.05109  -4.755360   \n",
              "4  0.822975  0.026121  0.425875  ...  0.521306  76.8475 -19.37170  32.270700   \n",
              "\n",
              "        V22       V23      V24       V25       V26       V27  \n",
              "0  14.43730  17.37800  9.61674 -0.609370  1.044830  1.481790  \n",
              "1  11.49240   3.92947  5.91423  1.409210  4.749540  1.103820  \n",
              "2  10.63470   2.66018  3.93377 -0.898220  2.137790  1.054470  \n",
              "3  13.36710   2.85206  9.65162  0.224397 -0.220216 -0.273287  \n",
              "4   9.41442   4.34345  8.67710 -1.587580  1.117870 -0.545338  \n",
              "\n",
              "[5 rows x 28 columns]"
            ]
          },
          "execution_count": 15,
          "metadata": {},
          "output_type": "execute_result"
        }
      ],
      "source": [
        "data = pd.read_csv('../data/helena.csv')\n",
        "data.head()"
      ]
    },
    {
      "cell_type": "code",
      "execution_count": null,
      "id": "227078ca",
      "metadata": {
        "execution": {
          "iopub.execute_input": "2023-11-01T18:59:27.493957Z",
          "iopub.status.busy": "2023-11-01T18:59:27.493610Z",
          "iopub.status.idle": "2023-11-01T18:59:27.502729Z",
          "shell.execute_reply": "2023-11-01T18:59:27.501769Z"
        },
        "papermill": {
          "duration": 0.027774,
          "end_time": "2023-11-01T18:59:27.504911",
          "exception": false,
          "start_time": "2023-11-01T18:59:27.477137",
          "status": "completed"
        },
        "tags": [],
        "id": "227078ca",
        "outputId": "6574b64c-58b9-400b-cdac-2603266a5132"
      },
      "outputs": [
        {
          "data": {
            "text/plain": [
              "100"
            ]
          },
          "execution_count": 16,
          "metadata": {},
          "output_type": "execute_result"
        }
      ],
      "source": [
        "data['class'].nunique()"
      ]
    },
    {
      "cell_type": "code",
      "execution_count": null,
      "id": "21cd4472",
      "metadata": {
        "execution": {
          "iopub.execute_input": "2023-11-01T18:59:27.538571Z",
          "iopub.status.busy": "2023-11-01T18:59:27.538294Z",
          "iopub.status.idle": "2023-11-01T18:59:27.558103Z",
          "shell.execute_reply": "2023-11-01T18:59:27.557249Z"
        },
        "papermill": {
          "duration": 0.038913,
          "end_time": "2023-11-01T18:59:27.559982",
          "exception": false,
          "start_time": "2023-11-01T18:59:27.521069",
          "status": "completed"
        },
        "tags": [],
        "id": "21cd4472"
      },
      "outputs": [],
      "source": [
        "X = data.drop('class', axis=1).values.astype('float32')\n",
        "y = data['class'].values.astype('int32')\n",
        "\n",
        "X_train, X_test, y_train, y_test = train_test_split(X, y, test_size=0.2, random_state=42, shuffle=True)"
      ]
    },
    {
      "cell_type": "code",
      "execution_count": null,
      "id": "b845a19e",
      "metadata": {
        "execution": {
          "iopub.execute_input": "2023-11-01T18:59:27.593652Z",
          "iopub.status.busy": "2023-11-01T18:59:27.593311Z",
          "iopub.status.idle": "2023-11-01T19:03:58.158108Z",
          "shell.execute_reply": "2023-11-01T19:03:58.157156Z"
        },
        "papermill": {
          "duration": 270.583667,
          "end_time": "2023-11-01T19:03:58.160200",
          "exception": false,
          "start_time": "2023-11-01T18:59:27.576533",
          "status": "completed"
        },
        "tags": [],
        "id": "b845a19e",
        "outputId": "536fb5ed-1217-4f30-b8bd-545af5c2e9a1"
      },
      "outputs": [
        {
          "name": "stdout",
          "output_type": "stream",
          "text": [
            "[18:59:27] Stdout logging level is INFO.\n",
            "[18:59:27] GDBT train starts. Max iter 10000, early stopping rounds 300\n",
            "[18:59:28] Iter 0; Sample 0, Crossentropy = 4.285501693119262; \n",
            "[18:59:35] Iter 50; Sample 0, Crossentropy = 2.964899976657995; \n",
            "[18:59:43] Iter 100; Sample 0, Crossentropy = 2.7763024746129266; \n",
            "[18:59:51] Iter 150; Sample 0, Crossentropy = 2.6968587815561724; \n",
            "[18:59:59] Iter 200; Sample 0, Crossentropy = 2.6534386805047476; \n",
            "[19:00:08] Iter 250; Sample 0, Crossentropy = 2.6289803118218185; \n",
            "[19:00:16] Iter 300; Sample 0, Crossentropy = 2.612076078388014; \n",
            "[19:00:24] Iter 350; Sample 0, Crossentropy = 2.600067458001324; \n",
            "[19:00:33] Iter 400; Sample 0, Crossentropy = 2.591465538149357; \n",
            "[19:00:41] Iter 450; Sample 0, Crossentropy = 2.5851102270920228; \n",
            "[19:00:50] Iter 500; Sample 0, Crossentropy = 2.579336235411552; \n",
            "[19:00:58] Iter 550; Sample 0, Crossentropy = 2.575697573939037; \n",
            "[19:01:06] Iter 600; Sample 0, Crossentropy = 2.572893503915625; \n",
            "[19:01:15] Iter 650; Sample 0, Crossentropy = 2.569943341827139; \n",
            "[19:01:23] Iter 700; Sample 0, Crossentropy = 2.5679568251503166; \n",
            "[19:01:31] Iter 750; Sample 0, Crossentropy = 2.567092678830621; \n",
            "[19:01:40] Iter 800; Sample 0, Crossentropy = 2.5652292687299276; \n",
            "[19:01:48] Iter 850; Sample 0, Crossentropy = 2.564394827021022; \n",
            "[19:01:56] Iter 900; Sample 0, Crossentropy = 2.5630966601646183; \n",
            "[19:02:05] Iter 950; Sample 0, Crossentropy = 2.5623616958131197; \n",
            "[19:02:13] Iter 1000; Sample 0, Crossentropy = 2.561634914190462; \n",
            "[19:02:21] Iter 1050; Sample 0, Crossentropy = 2.561000940567875; \n",
            "[19:02:30] Iter 1100; Sample 0, Crossentropy = 2.560680975939741; \n",
            "[19:02:38] Iter 1150; Sample 0, Crossentropy = 2.5605426281567745; \n",
            "[19:02:46] Iter 1200; Sample 0, Crossentropy = 2.5603385927915685; \n",
            "[19:02:55] Iter 1250; Sample 0, Crossentropy = 2.5597714731534524; \n",
            "[19:03:03] Iter 1300; Sample 0, Crossentropy = 2.559559017112062; \n",
            "[19:03:11] Iter 1350; Sample 0, Crossentropy = 2.55971369478225; \n",
            "[19:03:20] Iter 1400; Sample 0, Crossentropy = 2.5597711066258793; \n",
            "[19:03:28] Iter 1450; Sample 0, Crossentropy = 2.560123371940457; \n",
            "[19:03:36] Iter 1500; Sample 0, Crossentropy = 2.5606501485176985; \n",
            "[19:03:45] Iter 1550; Sample 0, Crossentropy = 2.5608362137048686; \n",
            "[19:03:53] Iter 1600; Sample 0, Crossentropy = 2.560964511731807; \n",
            "[19:03:58] Early stopping at iter 1630, best iter 1330, best_score 2.559437304631221\n",
            "CPU times: user 4min 30s, sys: 188 ms, total: 4min 30s\n",
            "Wall time: 4min 30s\n"
          ]
        },
        {
          "data": {
            "text/plain": [
              "<py_boost.gpu.boosting.GradientBoosting at 0x7e303841e410>"
            ]
          },
          "execution_count": 18,
          "metadata": {},
          "output_type": "execute_result"
        }
      ],
      "source": [
        "%%time\n",
        "model = GradientBoosting(\n",
        "    'crossentropy',\n",
        "     ntrees=10000, lr=0.03, verbose=50, es=300, lambda_l2=1, gd_steps=1,\n",
        "     subsample=1, colsample=1, min_data_in_leaf=10, use_hess=True,\n",
        "     max_bin=256, max_depth=6, debug=True\n",
        ")\n",
        "\n",
        "model.fit(X_train, y_train,\n",
        "          eval_sets = [{'X': X_test, 'y': y_test}])"
      ]
    },
    {
      "cell_type": "code",
      "execution_count": null,
      "id": "a117c102",
      "metadata": {
        "execution": {
          "iopub.execute_input": "2023-11-01T19:03:58.200990Z",
          "iopub.status.busy": "2023-11-01T19:03:58.200705Z",
          "iopub.status.idle": "2023-11-01T19:04:44.639504Z",
          "shell.execute_reply": "2023-11-01T19:04:44.638544Z"
        },
        "papermill": {
          "duration": 46.461623,
          "end_time": "2023-11-01T19:04:44.641527",
          "exception": false,
          "start_time": "2023-11-01T19:03:58.179904",
          "status": "completed"
        },
        "tags": [],
        "id": "a117c102",
        "outputId": "0582bee2-8e59-40c6-fc11-8cc10c74cbf4"
      },
      "outputs": [
        {
          "name": "stdout",
          "output_type": "stream",
          "text": [
            "[19:03:58] Stdout logging level is INFO.\n",
            "[19:03:58] GDBT train starts. Max iter 10000, early stopping rounds 300\n",
            "[19:03:58] Iter 0; Sample 0, Crossentropy = 4.37780857729871; \n",
            "[19:03:59] Iter 50; Sample 0, Crossentropy = 3.100133290387787; \n",
            "[19:04:00] Iter 100; Sample 0, Crossentropy = 2.8830347331944655; \n",
            "[19:04:01] Iter 150; Sample 0, Crossentropy = 2.789349040979669; \n",
            "[19:04:02] Iter 200; Sample 0, Crossentropy = 2.7344207370052964; \n",
            "[19:04:02] Iter 250; Sample 0, Crossentropy = 2.7000160708686116; \n",
            "[19:04:03] Iter 300; Sample 0, Crossentropy = 2.6735903535745433; \n",
            "[19:04:04] Iter 350; Sample 0, Crossentropy = 2.654487169455045; \n",
            "[19:04:05] Iter 400; Sample 0, Crossentropy = 2.6400092242629696; \n",
            "[19:04:06] Iter 450; Sample 0, Crossentropy = 2.626303612834556; \n",
            "[19:04:07] Iter 500; Sample 0, Crossentropy = 2.616336358202679; \n",
            "[19:04:08] Iter 550; Sample 0, Crossentropy = 2.6079282857861035; \n",
            "[19:04:09] Iter 600; Sample 0, Crossentropy = 2.6002314212567783; \n",
            "[19:04:10] Iter 650; Sample 0, Crossentropy = 2.5940686609740915; \n",
            "[19:04:11] Iter 700; Sample 0, Crossentropy = 2.5880443546560397; \n",
            "[19:04:12] Iter 750; Sample 0, Crossentropy = 2.5828781076457386; \n",
            "[19:04:13] Iter 800; Sample 0, Crossentropy = 2.578010454150474; \n",
            "[19:04:14] Iter 850; Sample 0, Crossentropy = 2.5742675237742385; \n",
            "[19:04:15] Iter 900; Sample 0, Crossentropy = 2.5706772957311825; \n",
            "[19:04:16] Iter 950; Sample 0, Crossentropy = 2.56825840663539; \n",
            "[19:04:17] Iter 1000; Sample 0, Crossentropy = 2.5651684192467026; \n",
            "[19:04:18] Iter 1050; Sample 0, Crossentropy = 2.562393552295464; \n",
            "[19:04:18] Iter 1100; Sample 0, Crossentropy = 2.5599298749026396; \n",
            "[19:04:19] Iter 1150; Sample 0, Crossentropy = 2.5578936418667717; \n",
            "[19:04:20] Iter 1200; Sample 0, Crossentropy = 2.5562646739509; \n",
            "[19:04:21] Iter 1250; Sample 0, Crossentropy = 2.5543213360932278; \n",
            "[19:04:22] Iter 1300; Sample 0, Crossentropy = 2.5530065117926584; \n",
            "[19:04:23] Iter 1350; Sample 0, Crossentropy = 2.5510902235985795; \n",
            "[19:04:24] Iter 1400; Sample 0, Crossentropy = 2.5497877682496877; \n",
            "[19:04:25] Iter 1450; Sample 0, Crossentropy = 2.5487265028093966; \n",
            "[19:04:26] Iter 1500; Sample 0, Crossentropy = 2.547554579210731; \n",
            "[19:04:27] Iter 1550; Sample 0, Crossentropy = 2.546337465100727; \n",
            "[19:04:28] Iter 1600; Sample 0, Crossentropy = 2.545603129058477; \n",
            "[19:04:29] Iter 1650; Sample 0, Crossentropy = 2.5450269149833926; \n",
            "[19:04:30] Iter 1700; Sample 0, Crossentropy = 2.544441377072016; \n",
            "[19:04:31] Iter 1750; Sample 0, Crossentropy = 2.5438152851686597; \n",
            "[19:04:32] Iter 1800; Sample 0, Crossentropy = 2.542928761353023; \n",
            "[19:04:33] Iter 1850; Sample 0, Crossentropy = 2.5425744677687208; \n",
            "[19:04:34] Iter 1900; Sample 0, Crossentropy = 2.542168539735844; \n",
            "[19:04:34] Iter 1950; Sample 0, Crossentropy = 2.541890504619654; \n",
            "[19:04:35] Iter 2000; Sample 0, Crossentropy = 2.5417922078179944; \n",
            "[19:04:36] Iter 2050; Sample 0, Crossentropy = 2.542054359570317; \n",
            "[19:04:37] Iter 2100; Sample 0, Crossentropy = 2.541584109386267; \n",
            "[19:04:38] Iter 2150; Sample 0, Crossentropy = 2.5415526321853092; \n",
            "[19:04:39] Iter 2200; Sample 0, Crossentropy = 2.541608925932048; \n",
            "[19:04:40] Iter 2250; Sample 0, Crossentropy = 2.541634775207288; \n",
            "[19:04:41] Iter 2300; Sample 0, Crossentropy = 2.5417554738909707; \n",
            "[19:04:42] Iter 2350; Sample 0, Crossentropy = 2.5419051440263636; \n",
            "[19:04:43] Iter 2400; Sample 0, Crossentropy = 2.5420237911934698; \n",
            "[19:04:44] Iter 2450; Sample 0, Crossentropy = 2.5424540877354933; \n",
            "[19:04:44] Early stopping at iter 2462, best iter 2162, best_score 2.5413946624441497\n",
            "CPU times: user 46.7 s, sys: 69.9 ms, total: 46.7 s\n",
            "Wall time: 46.4 s\n"
          ]
        },
        {
          "data": {
            "text/plain": [
              "<py_boost.gpu.sketch_boost.SketchBoost at 0x7e3085043670>"
            ]
          },
          "execution_count": 19,
          "metadata": {},
          "output_type": "execute_result"
        }
      ],
      "source": [
        "%%time\n",
        "model = SketchBoost(\n",
        "    'crossentropy',\n",
        "     ntrees=10000, lr=0.03, verbose=50, es=300, lambda_l2=1, gd_steps=1,\n",
        "     subsample=1, colsample=1, min_data_in_leaf=10,\n",
        "     max_bin=256, max_depth=6,\n",
        ")\n",
        "\n",
        "model.fit(X_train, y_train, eval_sets = [{'X': X_test, 'y': y_test}])"
      ]
    },
    {
      "cell_type": "code",
      "execution_count": null,
      "id": "3b6f9b31",
      "metadata": {
        "execution": {
          "iopub.execute_input": "2023-11-01T19:04:44.687790Z",
          "iopub.status.busy": "2023-11-01T19:04:44.687495Z",
          "iopub.status.idle": "2023-11-01T19:04:44.693229Z",
          "shell.execute_reply": "2023-11-01T19:04:44.692465Z"
        },
        "papermill": {
          "duration": 0.030804,
          "end_time": "2023-11-01T19:04:44.695159",
          "exception": false,
          "start_time": "2023-11-01T19:04:44.664355",
          "status": "completed"
        },
        "tags": [],
        "id": "3b6f9b31"
      },
      "outputs": [],
      "source": [
        "iterations = [0, 50, 100, 200, 300, 400, 500, 600, 700, 800, 900, 1000]\n",
        "xgb_result = [4.2855, 2.9649, 2.7763, 2.6534, 2.6120, 2.5914, 2.5793, 2.5728, 2.5679,2.5651, 2.5630, 2.5616]\n",
        "skb_result = [4.3778, 3.10, 2.8830, 2.7344, 2.6735, 2.6400, 2.6163, 2.6002, 2.5880, 2.5780, 2.5651,2.5599 ]"
      ]
    },
    {
      "cell_type": "code",
      "execution_count": null,
      "id": "2fa6e264",
      "metadata": {
        "execution": {
          "iopub.execute_input": "2023-11-01T19:04:44.741170Z",
          "iopub.status.busy": "2023-11-01T19:04:44.740888Z",
          "iopub.status.idle": "2023-11-01T19:04:45.089347Z",
          "shell.execute_reply": "2023-11-01T19:04:45.088449Z"
        },
        "papermill": {
          "duration": 0.373942,
          "end_time": "2023-11-01T19:04:45.091363",
          "exception": false,
          "start_time": "2023-11-01T19:04:44.717421",
          "status": "completed"
        },
        "tags": [],
        "id": "2fa6e264",
        "outputId": "7e0e2c32-ccd3-4e1d-94a0-abf9ba6839f3"
      },
      "outputs": [
        {
          "data": {
            "image/png": "[encoded data removed]",
            "text/plain": [
              "<Figure size 800x550 with 1 Axes>"
            ]
          },
          "metadata": {},
          "output_type": "display_data"
        }
      ],
      "source": [
        "plt.scatter(iterations, xgb_result, label='GradientBoosting')\n",
        "plt.scatter(iterations, skb_result, label='SketchBoost')\n",
        "plt.legend()\n",
        "plt.title('Validation loss')\n",
        "plt.xlabel('Iterations')\n",
        "plt.ylabel('Loss')\n",
        "plt.show()"
      ]
    }
  ],
  "metadata": {
    "kernelspec": {
      "display_name": "Python 3",
      "language": "python",
      "name": "python3"
    },
    "language_info": {
      "codemirror_mode": {
        "name": "ipython",
        "version": 3
      },
      "file_extension": ".py",
      "mimetype": "text/x-python",
      "name": "python",
      "nbconvert_exporter": "python",
      "pygments_lexer": "ipython3",
      "version": "3.10.12"
    },
    "papermill": {
      "default_parameters": {},
      "duration": 560.918915,
      "end_time": "2023-11-01T19:04:47.484759",
      "environment_variables": {},
      "exception": null,
      "input_path": "__notebook__.ipynb",
      "output_path": "__notebook__.ipynb",
      "parameters": {},
      "start_time": "2023-11-01T18:55:26.565844",
      "version": "2.4.0"
    },
    "colab": {
      "provenance": []
    }
  },
  "nbformat": 4,
  "nbformat_minor": 5
}