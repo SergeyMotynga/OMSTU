{
 "cells": [
  {
   "cell_type": "markdown",
   "id": "292e1f38",
   "metadata": {},
   "source": [
    "# Построение моделей решающих дерьевьев и ансамблей."
   ]
  },
  {
   "cell_type": "markdown",
   "id": "bf3769dd",
   "metadata": {},
   "source": [
    "## Импорт библиотек"
   ]
  },
  {
   "cell_type": "code",
   "execution_count": 147,
   "id": "c4daabb4",
   "metadata": {},
   "outputs": [],
   "source": [
    "import numpy as np\n",
    "import pandas as pd\n",
    "import json\n",
    "import joblib\n",
    "import seaborn as sns\n",
    "import matplotlib.pyplot as plt\n",
    "from sklearn.tree import DecisionTreeRegressor, DecisionTreeClassifier, export_text, export_graphviz\n",
    "from sklearn.ensemble import RandomForestClassifier, BaggingClassifier, GradientBoostingClassifier, StackingClassifier\n",
    "from imblearn.combine import SMOTEENN\n",
    "from imblearn.pipeline import Pipeline\n",
    "from sklearn.preprocessing import StandardScaler\n",
    "from sklearn import tree\n",
    "from scipy.stats import randint, uniform\n",
    "from catboost import CatBoostClassifier\n",
    "from xgboost import XGBClassifier\n",
    "from lightgbm import LGBMClassifier\n",
    "from search_hyperparameters import search_hyperparameters\n",
    "from sklearn.model_selection import train_test_split, StratifiedKFold, cross_validate\n",
    "from sklearn.metrics import classification_report, accuracy_score, f1_score, accuracy_score, precision_score, recall_score, confusion_matrix, roc_auc_score, roc_curve, auc"
   ]
  },
  {
   "cell_type": "markdown",
   "id": "98387d92",
   "metadata": {},
   "source": [
    "## Классификация (бинарная True\\False)"
   ]
  },
  {
   "cell_type": "markdown",
   "id": "43276b44",
   "metadata": {},
   "source": [
    "### Загрузка датасета"
   ]
  },
  {
   "cell_type": "code",
   "execution_count": 148,
   "id": "d27ee828",
   "metadata": {},
   "outputs": [],
   "source": [
    "data_classifier = pd.read_csv('csgo_filtred.csv')\n",
    "\n",
    "X_cl = data_classifier.drop(columns=['bomb_planted'], axis=1)\n",
    "y_cl = data_classifier['bomb_planted']"
   ]
  },
  {
   "cell_type": "code",
   "execution_count": 149,
   "id": "78d08b40",
   "metadata": {},
   "outputs": [
    {
     "data": {
      "text/plain": [
       "<Axes: ylabel='bomb_planted'>"
      ]
     },
     "execution_count": 149,
     "metadata": {},
     "output_type": "execute_result"
    },
    {
     "data": {
      "image/png": "[encoded data removed]",
      "text/plain": [
       "<Figure size 640x480 with 1 Axes>"
      ]
     },
     "metadata": {},
     "output_type": "display_data"
    }
   ],
   "source": [
    "y_cl.value_counts().plot.barh()"
   ]
  },
  {
   "cell_type": "code",
   "execution_count": 150,
   "id": "98c9a6a3",
   "metadata": {},
   "outputs": [
    {
     "data": {
      "application/vnd.microsoft.datawrangler.viewer.v0+json": {
       "columns": [
        {
         "name": "bomb_planted",
         "rawType": "bool",
         "type": "boolean"
        },
        {
         "name": "count",
         "rawType": "int64",
         "type": "integer"
        }
       ],
       "ref": "de14ba32-047a-4f1c-9a38-fbefbb62861f",
       "rows": [
        [
         "False",
         "102945"
        ],
        [
         "True",
         "13684"
        ]
       ],
       "shape": {
        "columns": 1,
        "rows": 2
       }
      },
      "text/plain": [
       "bomb_planted\n",
       "False    102945\n",
       "True      13684\n",
       "Name: count, dtype: int64"
      ]
     },
     "execution_count": 150,
     "metadata": {},
     "output_type": "execute_result"
    }
   ],
   "source": [
    "y_cl.value_counts()"
   ]
  },
  {
   "cell_type": "code",
   "execution_count": 151,
   "id": "eadc39eb",
   "metadata": {},
   "outputs": [
    {
     "data": {
      "application/vnd.microsoft.datawrangler.viewer.v0+json": {
       "columns": [
        {
         "name": "map",
         "rawType": "object",
         "type": "string"
        },
        {
         "name": "count",
         "rawType": "int64",
         "type": "integer"
        }
       ],
       "ref": "9777b066-2338-405c-94fb-85fea7d9cd38",
       "rows": [
        [
         "de_inferno",
         "22806"
        ],
        [
         "de_dust2",
         "21040"
        ],
        [
         "de_nuke",
         "17879"
        ],
        [
         "de_mirage",
         "17641"
        ],
        [
         "de_overpass",
         "13375"
        ],
        [
         "de_train",
         "12800"
        ],
        [
         "de_vertigo",
         "10733"
        ],
        [
         "unknown",
         "211"
        ],
        [
         "de_cache",
         "144"
        ]
       ],
       "shape": {
        "columns": 1,
        "rows": 9
       }
      },
      "text/plain": [
       "map\n",
       "de_inferno     22806\n",
       "de_dust2       21040\n",
       "de_nuke        17879\n",
       "de_mirage      17641\n",
       "de_overpass    13375\n",
       "de_train       12800\n",
       "de_vertigo     10733\n",
       "unknown          211\n",
       "de_cache         144\n",
       "Name: count, dtype: int64"
      ]
     },
     "execution_count": 151,
     "metadata": {},
     "output_type": "execute_result"
    }
   ],
   "source": [
    "X_cl['map'].value_counts()"
   ]
  },
  {
   "cell_type": "code",
   "execution_count": 152,
   "id": "7931873d",
   "metadata": {},
   "outputs": [
    {
     "data": {
      "application/vnd.microsoft.datawrangler.viewer.v0+json": {
       "columns": [
        {
         "name": "map",
         "rawType": "int64",
         "type": "integer"
        },
        {
         "name": "count",
         "rawType": "int64",
         "type": "integer"
        }
       ],
       "ref": "5573d6e3-91e7-4ffe-bcbd-98449b7d8515",
       "rows": [
        [
         "1",
         "22806"
        ],
        [
         "2",
         "21040"
        ],
        [
         "3",
         "17879"
        ],
        [
         "4",
         "17641"
        ],
        [
         "5",
         "13375"
        ],
        [
         "6",
         "12800"
        ],
        [
         "7",
         "10733"
        ],
        [
         "8",
         "211"
        ],
        [
         "9",
         "144"
        ]
       ],
       "shape": {
        "columns": 1,
        "rows": 9
       }
      },
      "text/plain": [
       "map\n",
       "1    22806\n",
       "2    21040\n",
       "3    17879\n",
       "4    17641\n",
       "5    13375\n",
       "6    12800\n",
       "7    10733\n",
       "8      211\n",
       "9      144\n",
       "Name: count, dtype: int64"
      ]
     },
     "execution_count": 152,
     "metadata": {},
     "output_type": "execute_result"
    }
   ],
   "source": [
    "X_cl['map'] = X_cl['map'].str.strip().str.lower()\n",
    "mapping = {\n",
    "    'de_inferno': 1,\n",
    "    'de_dust2': 2,\n",
    "    'de_nuke': 3,\n",
    "    'de_mirage': 4,\n",
    "    'de_overpass': 5,\n",
    "    'de_train': 6,\n",
    "    'de_vertigo': 7,\n",
    "    'unknown': 8,\n",
    "    'de_cache': 9\n",
    "}\n",
    "\n",
    "X_cl['map'] = X_cl['map'].map(mapping)\n",
    "X_cl['map'].value_counts()"
   ]
  },
  {
   "cell_type": "markdown",
   "id": "a9ffab8a",
   "metadata": {},
   "source": [
    "### Разделение на тренировочную и тестовую выборки"
   ]
  },
  {
   "cell_type": "code",
   "execution_count": 153,
   "id": "aec6f4ab",
   "metadata": {},
   "outputs": [
    {
     "data": {
      "text/plain": [
       "((23326, 20), (93303, 20))"
      ]
     },
     "execution_count": 153,
     "metadata": {},
     "output_type": "execute_result"
    }
   ],
   "source": [
    "X_train_cl, X_test_cl, y_train_cl, y_test_cl = train_test_split(X_cl, y_cl, stratify=y_cl, train_size=0.8, test_size=0.2)\n",
    "X_test_cl.shape, X_train_cl.shape"
   ]
  },
  {
   "cell_type": "code",
   "execution_count": 154,
   "id": "ca00af7e",
   "metadata": {},
   "outputs": [
    {
     "data": {
      "text/plain": [
       "((1167, 20), (11662, 20))"
      ]
     },
     "execution_count": 154,
     "metadata": {},
     "output_type": "execute_result"
    }
   ],
   "source": [
    "X_train_cl_search, X_test_cl_search, y_train_cl_search, y_test_cl_search = train_test_split(X_cl, y_cl, stratify=y_cl, train_size=0.1, test_size=0.01)\n",
    "X_test_cl_search.shape, X_train_cl_search.shape"
   ]
  },
  {
   "cell_type": "code",
   "execution_count": 155,
   "id": "618c3735",
   "metadata": {},
   "outputs": [],
   "source": [
    "kf = StratifiedKFold(n_splits=5, shuffle=True, random_state=42)"
   ]
  },
  {
   "cell_type": "markdown",
   "id": "891d2cc6",
   "metadata": {},
   "source": [
    "### Т.к. классы несбалансированы, был построен пайплайн включаюший в себя маштабирование выборок и её балансировка при помощи SMOTEENN."
   ]
  },
  {
   "cell_type": "code",
   "execution_count": 156,
   "id": "b31919c3",
   "metadata": {},
   "outputs": [],
   "source": [
    "from build_pipeline import build_pipeline"
   ]
  },
  {
   "cell_type": "code",
   "execution_count": 157,
   "id": "df9008a9",
   "metadata": {},
   "outputs": [],
   "source": [
    "def metrics(pred_array, true_array):\n",
    "    print(f'F1: {f1_score(true_array, pred_array)}')\n",
    "    print(f'accuracy: {accuracy_score(true_array, pred_array)}')\n",
    "    print(f'precision: {precision_score(true_array, pred_array)}')\n",
    "    print(f'recall: {recall_score(true_array, pred_array)}')\n",
    "    print(f'roc_auc_score: {roc_auc_score(true_array, pred_array)}')"
   ]
  },
  {
   "cell_type": "code",
   "execution_count": 158,
   "id": "0a6f573b",
   "metadata": {},
   "outputs": [],
   "source": [
    "import warnings\n",
    "warnings.filterwarnings(\n",
    "    \"ignore\",\n",
    "    message=\"Could not find the number of physical cores.*loky.backend.context\"\n",
    ")"
   ]
  },
  {
   "cell_type": "code",
   "execution_count": 159,
   "id": "20ea2e64",
   "metadata": {},
   "outputs": [
    {
     "data": {
      "text/plain": [
       "(23326,)"
      ]
     },
     "execution_count": 159,
     "metadata": {},
     "output_type": "execute_result"
    }
   ],
   "source": [
    "y_test_cl.shape"
   ]
  },
  {
   "cell_type": "markdown",
   "id": "51aa4b3e",
   "metadata": {},
   "source": [
    "### Поиск гиперпараметров для моделей классификации"
   ]
  },
  {
   "cell_type": "code",
   "execution_count": 160,
   "id": "bd472a94",
   "metadata": {},
   "outputs": [],
   "source": [
    "from parameters import parameters\n",
    "\n",
    "models = ['DecisionTreeClassifier', 'RandomForestClassifier', 'BaggingClassifier', 'GradientBoostingClassifier', 'StackingClassifier', 'CatBoostClassifier', 'XGBClassifier', 'LGBMClassifier']\n",
    "methods = ['GridSearchCV', 'RandomizedSearchCV']"
   ]
  },
  {
   "cell_type": "code",
   "execution_count": 161,
   "id": "5ce8462f",
   "metadata": {},
   "outputs": [],
   "source": [
    "def convert(o):\n",
    "    if isinstance(o, np.generic):\n",
    "        return o.item()\n",
    "    raise TypeError\n",
    "\n",
    "file_path = 'best_params.json'\n",
    "\n",
    "try:\n",
    "    with open(file_path, 'r') as f:\n",
    "        best_params = json.load(f)\n",
    "except (FileNotFoundError, json.JSONDecodeError):\n",
    "    best_params = {}"
   ]
  },
  {
   "cell_type": "code",
   "execution_count": 162,
   "id": "63a0cf26",
   "metadata": {},
   "outputs": [
    {
     "name": "stdout",
     "output_type": "stream",
     "text": [
      "Пропускаем DecisionTreeClassifier, GridSearchCV, так как уже есть в файле\n",
      "Пропускаем DecisionTreeClassifier, RandomizedSearchCV, так как уже есть в файле\n",
      "Пропускаем RandomForestClassifier, RandomizedSearchCV, так как уже есть в файле\n",
      "Пропускаем BaggingClassifier, GridSearchCV, так как уже есть в файле\n",
      "Пропускаем BaggingClassifier, RandomizedSearchCV, так как уже есть в файле\n",
      "Пропускаем GradientBoostingClassifier, GridSearchCV, так как уже есть в файле\n",
      "Пропускаем GradientBoostingClassifier, RandomizedSearchCV, так как уже есть в файле\n",
      "Пропускаем StackingClassifier, GridSearchCV, так как уже есть в файле\n",
      "Пропускаем StackingClassifier, RandomizedSearchCV, так как уже есть в файле\n",
      "Пропускаем CatBoostClassifier, GridSearchCV, так как уже есть в файле\n",
      "Пропускаем CatBoostClassifier, RandomizedSearchCV, так как уже есть в файле\n",
      "Пропускаем XGBClassifier, GridSearchCV, так как уже есть в файле\n",
      "Пропускаем XGBClassifier, RandomizedSearchCV, так как уже есть в файле\n",
      "Пропускаем LGBMClassifier, GridSearchCV, так как уже есть в файле\n",
      "Пропускаем LGBMClassifier, RandomizedSearchCV, так как уже есть в файле\n"
     ]
    }
   ],
   "source": [
    "for model in models:\n",
    "    if model not in best_params:\n",
    "        best_params[model] = {}\n",
    "    for method in methods:\n",
    "        if method in best_params[model]:\n",
    "            print(f'Пропускаем {model}, {method}, так как уже есть в файле')\n",
    "            continue\n",
    "        if model == 'RandomForestClassifier' and method == 'GridSearchCV':\n",
    "            continue\n",
    "        print(f'Сейчас на {model}, {method}')\n",
    "        searcher = search_hyperparameters(\n",
    "            model_name=model,\n",
    "            method_search=method,\n",
    "            X_train=X_train_cl_search,\n",
    "            y_train=y_train_cl_search,\n",
    "            param_grid=parameters[model][method],\n",
    "            n_jobs=-1,\n",
    "            cv=3,\n",
    "            scoring='f1'\n",
    "        )\n",
    "        best_params[model][method] = {\n",
    "            'params': searcher['best_params'],\n",
    "            'score': searcher['best_score']\n",
    "        }\n",
    "\n",
    "        with open(file_path, 'w') as f:\n",
    "            json.dump(best_params, f, indent=4, default=convert)"
   ]
  },
  {
   "cell_type": "code",
   "execution_count": 163,
   "id": "6fe187df",
   "metadata": {},
   "outputs": [],
   "source": [
    "with open('best_params.json', 'r') as f:\n",
    "    best_params = json.load(f)"
   ]
  },
  {
   "cell_type": "markdown",
   "id": "45d121ed",
   "metadata": {},
   "source": [
    "### DesicionTreeRegressor"
   ]
  },
  {
   "cell_type": "code",
   "execution_count": 164,
   "id": "df4e1f0d",
   "metadata": {},
   "outputs": [
    {
     "name": "stdout",
     "output_type": "stream",
     "text": [
      "F1: 0.9124087591240876\n",
      "accuracy: 0.9783932092943497\n",
      "precision: 0.8700696055684455\n",
      "recall: 0.959079283887468\n",
      "roc_auc_score: 0.9700199955306008\n"
     ]
    },
    {
     "data": {
      "application/vnd.microsoft.datawrangler.viewer.v0+json": {
       "columns": [
        {
         "name": "index",
         "rawType": "int64",
         "type": "integer"
        },
        {
         "name": "fit_time",
         "rawType": "float64",
         "type": "float"
        },
        {
         "name": "score_time",
         "rawType": "float64",
         "type": "float"
        },
        {
         "name": "test_score",
         "rawType": "float64",
         "type": "float"
        }
       ],
       "ref": "3e92c317-0315-4c51-b695-08240ef7faf3",
       "rows": [
        [
         "0",
         "0.17366361618041992",
         "0.014003753662109375",
         "0.9136120042872454"
        ],
        [
         "1",
         "0.18404197692871094",
         "0.014004230499267578",
         "0.9126297577854672"
        ],
        [
         "2",
         "0.1780407428741455",
         "0.011001825332641602",
         "0.9135909683022145"
        ],
        [
         "3",
         "0.16966605186462402",
         "0.012002229690551758",
         "0.9170305676855895"
        ],
        [
         "4",
         "0.17203640937805176",
         "0.011003732681274414",
         "0.9123722548380082"
        ]
       ],
       "shape": {
        "columns": 3,
        "rows": 5
       }
      },
      "text/html": [
       "<div>\n",
       "<style scoped>\n",
       "    .dataframe tbody tr th:only-of-type {\n",
       "        vertical-align: middle;\n",
       "    }\n",
       "\n",
       "    .dataframe tbody tr th {\n",
       "        vertical-align: top;\n",
       "    }\n",
       "\n",
       "    .dataframe thead th {\n",
       "        text-align: right;\n",
       "    }\n",
       "</style>\n",
       "<table border=\"1\" class=\"dataframe\">\n",
       "  <thead>\n",
       "    <tr style=\"text-align: right;\">\n",
       "      <th></th>\n",
       "      <th>fit_time</th>\n",
       "      <th>score_time</th>\n",
       "      <th>test_score</th>\n",
       "    </tr>\n",
       "  </thead>\n",
       "  <tbody>\n",
       "    <tr>\n",
       "      <th>0</th>\n",
       "      <td>0.173664</td>\n",
       "      <td>0.014004</td>\n",
       "      <td>0.913612</td>\n",
       "    </tr>\n",
       "    <tr>\n",
       "      <th>1</th>\n",
       "      <td>0.184042</td>\n",
       "      <td>0.014004</td>\n",
       "      <td>0.912630</td>\n",
       "    </tr>\n",
       "    <tr>\n",
       "      <th>2</th>\n",
       "      <td>0.178041</td>\n",
       "      <td>0.011002</td>\n",
       "      <td>0.913591</td>\n",
       "    </tr>\n",
       "    <tr>\n",
       "      <th>3</th>\n",
       "      <td>0.169666</td>\n",
       "      <td>0.012002</td>\n",
       "      <td>0.917031</td>\n",
       "    </tr>\n",
       "    <tr>\n",
       "      <th>4</th>\n",
       "      <td>0.172036</td>\n",
       "      <td>0.011004</td>\n",
       "      <td>0.912372</td>\n",
       "    </tr>\n",
       "  </tbody>\n",
       "</table>\n",
       "</div>"
      ],
      "text/plain": [
       "   fit_time  score_time  test_score\n",
       "0  0.173664    0.014004    0.913612\n",
       "1  0.184042    0.014004    0.912630\n",
       "2  0.178041    0.011002    0.913591\n",
       "3  0.169666    0.012002    0.917031\n",
       "4  0.172036    0.011004    0.912372"
      ]
     },
     "execution_count": 164,
     "metadata": {},
     "output_type": "execute_result"
    }
   ],
   "source": [
    "dt_classifier = build_pipeline(DecisionTreeClassifier(\n",
    "    max_depth=best_params['DecisionTreeClassifier']['GridSearchCV']['params']['model__max_depth'],\n",
    "    class_weight=best_params['DecisionTreeClassifier']['GridSearchCV']['params']['model__class_weight'],\n",
    "    criterion=best_params['DecisionTreeClassifier']['GridSearchCV']['params']['model__criterion'],\n",
    "    min_samples_leaf=best_params['DecisionTreeClassifier']['GridSearchCV']['params']['model__min_samples_leaf'],\n",
    "))\n",
    "\n",
    "# Hold-out\n",
    "dt_classifier.fit(X_train_cl, y_train_cl)\n",
    "y_pred_cl_dt = dt_classifier.predict(X_test_cl)\n",
    "metrics(pred_array=y_pred_cl_dt, true_array=y_test_cl)\n",
    "\n",
    "# K-fold\n",
    "k_fold_cl_dt = cross_validate(dt_classifier, X_train_cl, y_train_cl, cv=kf, scoring='f1')\n",
    "df_k_fold_cs_dt = pd.DataFrame(k_fold_cl_dt)\n",
    "df_k_fold_cs_dt "
   ]
  },
  {
   "cell_type": "code",
   "execution_count": 165,
   "id": "4dd910a1",
   "metadata": {},
   "outputs": [
    {
     "data": {
      "application/vnd.microsoft.datawrangler.viewer.v0+json": {
       "columns": [
        {
         "name": "index",
         "rawType": "object",
         "type": "string"
        },
        {
         "name": "0",
         "rawType": "float64",
         "type": "float"
        }
       ],
       "ref": "93333e74-5df1-4829-bf2f-8ebadcd3d1f9",
       "rows": [
        [
         "fit_time",
         "0.17548975944519044"
        ],
        [
         "score_time",
         "0.012403154373168945"
        ],
        [
         "test_score",
         "0.913847110579705"
        ]
       ],
       "shape": {
        "columns": 1,
        "rows": 3
       }
      },
      "text/plain": [
       "fit_time      0.175490\n",
       "score_time    0.012403\n",
       "test_score    0.913847\n",
       "dtype: float64"
      ]
     },
     "execution_count": 165,
     "metadata": {},
     "output_type": "execute_result"
    }
   ],
   "source": [
    "df_k_fold_cs_dt.mean()"
   ]
  },
  {
   "cell_type": "code",
   "execution_count": 166,
   "id": "dd8ee2e4",
   "metadata": {},
   "outputs": [
    {
     "data": {
      "text/plain": [
       "['models/classifier/dt_classifier_model']"
      ]
     },
     "execution_count": 166,
     "metadata": {},
     "output_type": "execute_result"
    }
   ],
   "source": [
    "joblib.dump(dt_classifier, 'models/classifier/dt_classifier_model')"
   ]
  },
  {
   "cell_type": "code",
   "execution_count": 167,
   "id": "3253ae37",
   "metadata": {},
   "outputs": [],
   "source": [
    "dt_classifier = joblib.load(r'models/classifier/dt_classifier_model')"
   ]
  },
  {
   "cell_type": "code",
   "execution_count": 168,
   "id": "1cf0bff7",
   "metadata": {},
   "outputs": [
    {
     "data": {
      "image/png": "[encoded data removed]",
      "text/plain": [
       "<Figure size 640x480 with 1 Axes>"
      ]
     },
     "metadata": {},
     "output_type": "display_data"
    }
   ],
   "source": [
    "cm_dt_cl = confusion_matrix(y_test_cl, y_pred_cl_dt)\n",
    "\n",
    "plt.figure()\n",
    "sns.heatmap(cm_dt_cl, annot=True, fmt='d', cbar=False)\n",
    "plt.title('Матрица ошибок')\n",
    "plt.show()"
   ]
  },
  {
   "cell_type": "code",
   "execution_count": 169,
   "id": "e27a6c0e",
   "metadata": {},
   "outputs": [
    {
     "data": {
      "image/png": "[encoded data removed]",
      "text/plain": [
       "<Figure size 2000x1000 with 1 Axes>"
      ]
     },
     "metadata": {},
     "output_type": "display_data"
    }
   ],
   "source": [
    "plt.figure(figsize=(20, 10))\n",
    "tree.plot_tree(\n",
    "    dt_classifier.named_steps['model'],\n",
    "    feature_names=X_cl.columns.to_list(),\n",
    "    class_names=['0','1'],\n",
    "    filled=True,\n",
    "    rounded=True,\n",
    "    max_depth=4,\n",
    "    fontsize=10\n",
    ")\n",
    "plt.show()"
   ]
  },
  {
   "cell_type": "code",
   "execution_count": 170,
   "id": "a4c8619f",
   "metadata": {},
   "outputs": [
    {
     "name": "stdout",
     "output_type": "stream",
     "text": [
      "Правила дерева решений:\n",
      "|--- time_left <= -1.02\n",
      "|   |--- ct_armor <= -0.10\n",
      "|   |   |--- time_left <= -1.12\n",
      "|   |   |   |--- time_left <= -1.49\n",
      "|   |   |   |   |--- time_left <= -1.50\n",
      "|   |   |   |   |   |--- health_lead <= -0.77\n",
      "|   |   |   |   |   |   |--- t_armor <= -1.59\n",
      "|   |   |   |   |   |   |   |--- class: True\n",
      "|   |   |   |   |   |   |--- t_armor >  -1.59\n",
      "|   |   |   |   |   |   |   |--- players_alive_lead <= -1.25\n",
      "|   |   |   |   |   |   |   |   |--- time_left <= -1.58\n",
      "|   |   |   |   |   |   |   |   |   |--- time_left <= -1.66\n",
      "|   |   |   |   |   |   |   |   |   |   |--- class: True\n",
      "|   |   |   |   |   |   |   |   |   |--- time_left >  -1.66\n",
      "|   |   |   |   |   |   |   |   |   |   |--- class: False\n",
      "|   |   |   |   |   |   |   |   |--- time_left >  -1.58\n",
      "|   |   |   |   |   |   |   |   |   |--- time_left <= -1.50\n",
      "|   |   |   |   |   |   |   |   |   |   |--- class: True\n",
      "|   |   |   |   |   |   |   |   |   |--- time_left >  -1.50\n",
      "|   |   |   |   |   |   |   |   |   |   |--- class: False\n",
      "|   |   |   |   |   |   |   |--- players_alive_lead >  -1.25\n",
      "|   |   |   |   |   |   |   |   |--- time_left <= -1.50\n",
      "|   |   |   |   |   |   |   |   |   |--- t_score <= 1.38\n",
      "|   |   |   |   |   |   |   |   |   |   |--- class: True\n",
      "|   |   |   |   |   |   |   |   |   |--- t_score >  1.38\n",
      "|   |   |   |   |   |   |   |   |   |   |--- class: True\n",
      "|   |   |   |   |   |   |   |   |--- time_left >  -1.50\n",
      "|   |   |   |   |   |   |   |   |   |--- class: False\n",
      "|   |   |   |   |   |--- health_lead >  -0.77\n",
      "|   |   |   |   |   |   |--- time_left <= -1.50\n",
      "|   |   |   |   |   |   |   |--- t_score <= 1.59\n",
      "|   |   |   |   |   |   |   |   |--- time_left <= -1.65\n",
      "|   |   |   |   |   |   |   |   |   |--- ct_score <= 1.61\n",
      "|   |   |   |   |   |   |   |   |   |   |--- class: True\n",
      "|   |   |   |   |   |   |   |   |   |--- ct_score >  1.61\n",
      "|   |   |   |   |   |   |   |   |   |   |--- class: True\n",
      "|   |   |   |   |   |   |   |   |--- time_left >  -1.65\n",
      "|   |   |   |   |   |   |   |   |   |--- time_left <= -1.65\n",
      "|   |   |   |   |   |   |   |   |   |   |--- class: True\n",
      "|   |   |   |   |   |   |   |   |   |--- time_left >  -1.65\n",
      "|   |   |   |   |   |   |   |   |   |   |--- class: True\n",
      "|   |   |   |   |   |   |   |--- t_score >  1.59\n",
      "|   |   |   |   |   |   |   |   |--- ct_health <= -2.38\n",
      "|   |   |   |   |   |   |   |   |   |--- class: True\n",
      "|   |   |   |   |   |   |   |   |--- ct_health >  -2.38\n",
      "|   |   |   |   |   |   |   |   |   |--- ct_money <= -0.62\n",
      "|   |   |   |   |   |   |   |   |   |   |--- class: False\n",
      "|   |   |   |   |   |   |   |   |   |--- ct_money >  -0.62\n",
      "|   |   |   |   |   |   |   |   |   |   |--- class: True\n",
      "|   |   |   |   |   |   |--- time_left >  -1.50\n",
      "|   |   |   |   |   |   |   |--- t_health <= -0.91\n",
      "|   |   |   |   |   |   |   |   |--- ct_health <= -2.32\n",
      "|   |   |   |   |   |   |   |   |   |--- class: True\n",
      "|   |   |   |   |   |   |   |   |--- ct_health >  -2.32\n",
      "|   |   |   |   |   |   |   |   |   |--- class: False\n",
      "|   |   |   |   |   |   |   |--- t_health >  -0.91\n",
      "|   |   |   |   |   |   |   |   |--- t_score <= 0.24\n",
      "|   |   |   |   |   |   |   |   |   |--- class: True\n",
      "|   |   |   |   |   |   |   |   |--- t_score >  0.24\n",
      "|   |   |   |   |   |   |   |   |   |--- class: True\n",
      "|   |   |   |   |--- time_left >  -1.50\n",
      "|   |   |   |   |   |--- time_left <= -1.49\n",
      "|   |   |   |   |   |   |--- ct_armor <= -1.30\n",
      "|   |   |   |   |   |   |   |--- t_players_alive <= -1.39\n",
      "|   |   |   |   |   |   |   |   |--- ct_score <= 0.67\n",
      "|   |   |   |   |   |   |   |   |   |--- class: False\n",
      "|   |   |   |   |   |   |   |   |--- ct_score >  0.67\n",
      "|   |   |   |   |   |   |   |   |   |--- class: False\n",
      "|   |   |   |   |   |   |   |--- t_players_alive >  -1.39\n",
      "|   |   |   |   |   |   |   |   |--- ct_health <= -2.26\n",
      "|   |   |   |   |   |   |   |   |   |--- class: True\n",
      "|   |   |   |   |   |   |   |   |--- ct_health >  -2.26\n",
      "|   |   |   |   |   |   |   |   |   |--- class: False\n",
      "|   |   |   |   |   |   |--- ct_armor >  -1.30\n",
      "|   |   |   |   |   |   |   |--- time_left <= -1.50\n",
      "|   |   |   |   |   |   |   |   |--- t_armor <= 0.20\n",
      "|   |   |   |   |   |   |   |   |   |--- ct_health <= -2.20\n",
      "|   |   |   |   |   |   |   |   |   |   |--- class: False\n",
      "|   |   |   |   |   |   |   |   |   |--- ct_health >  -2.20\n",
      "|   |   |   |   |   |   |   |   |   |   |--- class: False\n",
      "|   |   |   |   |   |   |   |   |--- t_armor >  0.20\n",
      "|   |   |   |   |   |   |   |   |   |--- class: False\n",
      "|   |   |   |   |   |   |   |--- time_left >  -1.50\n",
      "|   |   |   |   |   |   |   |   |--- map <= -0.52\n",
      "|   |   |   |   |   |   |   |   |   |--- time_left <= -1.49\n",
      "|   |   |   |   |   |   |   |   |   |   |--- class: False\n",
      "|   |   |   |   |   |   |   |   |   |--- time_left >  -1.49\n",
      "|   |   |   |   |   |   |   |   |   |   |--- class: False\n",
      "|   |   |   |   |   |   |   |   |--- map >  -0.52\n",
      "|   |   |   |   |   |   |   |   |   |--- class: False\n",
      "|   |   |   |   |   |--- time_left >  -1.49\n",
      "|   |   |   |   |   |   |--- class: True\n",
      "|   |   |   |--- time_left >  -1.49\n",
      "|   |   |   |   |--- time_left <= -1.27\n",
      "|   |   |   |   |   |--- ct_armor <= -0.15\n",
      "|   |   |   |   |   |   |--- time_left <= -1.49\n",
      "|   |   |   |   |   |   |   |--- t_health <= -1.48\n",
      "|   |   |   |   |   |   |   |   |--- class: True\n",
      "|   |   |   |   |   |   |   |--- t_health >  -1.48\n",
      "|   |   |   |   |   |   |   |   |--- class: True\n",
      "|   |   |   |   |   |   |--- time_left >  -1.49\n",
      "|   |   |   |   |   |   |   |--- t_score <= 1.38\n",
      "|   |   |   |   |   |   |   |   |--- armor_lead <= 1.55\n",
      "|   |   |   |   |   |   |   |   |   |--- ct_health <= -0.17\n",
      "|   |   |   |   |   |   |   |   |   |   |--- class: True\n",
      "|   |   |   |   |   |   |   |   |   |--- ct_health >  -0.17\n",
      "|   |   |   |   |   |   |   |   |   |   |--- class: True\n",
      "|   |   |   |   |   |   |   |   |--- armor_lead >  1.55\n",
      "|   |   |   |   |   |   |   |   |   |--- time_left <= -1.39\n",
      "|   |   |   |   |   |   |   |   |   |   |--- class: True\n",
      "|   |   |   |   |   |   |   |   |   |--- time_left >  -1.39\n",
      "|   |   |   |   |   |   |   |   |   |   |--- class: True\n",
      "|   |   |   |   |   |   |   |--- t_score >  1.38\n",
      "|   |   |   |   |   |   |   |   |--- time_left <= -1.45\n",
      "|   |   |   |   |   |   |   |   |   |--- ct_money <= -0.84\n",
      "|   |   |   |   |   |   |   |   |   |   |--- class: True\n",
      "|   |   |   |   |   |   |   |   |   |--- ct_money >  -0.84\n",
      "|   |   |   |   |   |   |   |   |   |   |--- class: True\n",
      "|   |   |   |   |   |   |   |   |--- time_left >  -1.45\n",
      "|   |   |   |   |   |   |   |   |   |--- ct_health <= -1.77\n",
      "|   |   |   |   |   |   |   |   |   |   |--- class: True\n",
      "|   |   |   |   |   |   |   |   |   |--- ct_health >  -1.77\n",
      "|   |   |   |   |   |   |   |   |   |   |--- class: True\n",
      "|   |   |   |   |   |--- ct_armor >  -0.15\n",
      "|   |   |   |   |   |   |--- t_score <= 1.38\n",
      "|   |   |   |   |   |   |   |--- time_left <= -1.48\n",
      "|   |   |   |   |   |   |   |   |--- class: True\n",
      "|   |   |   |   |   |   |   |--- time_left >  -1.48\n",
      "|   |   |   |   |   |   |   |   |--- time_left <= -1.31\n",
      "|   |   |   |   |   |   |   |   |   |--- ct_money <= -0.88\n",
      "|   |   |   |   |   |   |   |   |   |   |--- class: True\n",
      "|   |   |   |   |   |   |   |   |   |--- ct_money >  -0.88\n",
      "|   |   |   |   |   |   |   |   |   |   |--- class: True\n",
      "|   |   |   |   |   |   |   |   |--- time_left >  -1.31\n",
      "|   |   |   |   |   |   |   |   |   |--- t_health <= -0.82\n",
      "|   |   |   |   |   |   |   |   |   |   |--- class: True\n",
      "|   |   |   |   |   |   |   |   |   |--- t_health >  -0.82\n",
      "|   |   |   |   |   |   |   |   |   |   |--- class: True\n",
      "|   |   |   |   |   |   |--- t_score >  1.38\n",
      "|   |   |   |   |   |   |   |--- map <= 0.50\n",
      "|   |   |   |   |   |   |   |   |--- ct_money <= -0.80\n",
      "|   |   |   |   |   |   |   |   |   |--- class: True\n",
      "|   |   |   |   |   |   |   |   |--- ct_money >  -0.80\n",
      "|   |   |   |   |   |   |   |   |   |--- t_armor <= -0.11\n",
      "|   |   |   |   |   |   |   |   |   |   |--- class: True\n",
      "|   |   |   |   |   |   |   |   |   |--- t_armor >  -0.11\n",
      "|   |   |   |   |   |   |   |   |   |   |--- class: True\n",
      "|   |   |   |   |   |   |   |--- map >  0.50\n",
      "|   |   |   |   |   |   |   |   |--- class: False\n",
      "|   |   |   |   |--- time_left >  -1.27\n",
      "|   |   |   |   |   |--- time_left <= -1.27\n",
      "|   |   |   |   |   |   |--- ct_health <= -1.94\n",
      "|   |   |   |   |   |   |   |--- time_left <= -1.27\n",
      "|   |   |   |   |   |   |   |   |--- class: True\n",
      "|   |   |   |   |   |   |   |--- time_left >  -1.27\n",
      "|   |   |   |   |   |   |   |   |--- ct_helmets <= -0.89\n",
      "|   |   |   |   |   |   |   |   |   |--- class: True\n",
      "|   |   |   |   |   |   |   |   |--- ct_helmets >  -0.89\n",
      "|   |   |   |   |   |   |   |   |   |--- class: False\n",
      "|   |   |   |   |   |   |--- ct_health >  -1.94\n",
      "|   |   |   |   |   |   |   |--- t_helmets <= -1.21\n",
      "|   |   |   |   |   |   |   |   |--- class: True\n",
      "|   |   |   |   |   |   |   |--- t_helmets >  -1.21\n",
      "|   |   |   |   |   |   |   |   |--- time_left <= -1.27\n",
      "|   |   |   |   |   |   |   |   |   |--- time_left <= -1.27\n",
      "|   |   |   |   |   |   |   |   |   |   |--- class: False\n",
      "|   |   |   |   |   |   |   |   |   |--- time_left >  -1.27\n",
      "|   |   |   |   |   |   |   |   |   |   |--- class: False\n",
      "|   |   |   |   |   |   |   |   |--- time_left >  -1.27\n",
      "|   |   |   |   |   |   |   |   |   |--- t_armor <= -0.12\n",
      "|   |   |   |   |   |   |   |   |   |   |--- class: False\n",
      "|   |   |   |   |   |   |   |   |   |--- t_armor >  -0.12\n",
      "|   |   |   |   |   |   |   |   |   |   |--- class: True\n",
      "|   |   |   |   |   |--- time_left >  -1.27\n",
      "|   |   |   |   |   |   |--- ct_health <= -0.92\n",
      "|   |   |   |   |   |   |   |--- time_left <= -1.21\n",
      "|   |   |   |   |   |   |   |   |--- time_left <= -1.21\n",
      "|   |   |   |   |   |   |   |   |   |--- time_left <= -1.21\n",
      "|   |   |   |   |   |   |   |   |   |   |--- class: True\n",
      "|   |   |   |   |   |   |   |   |   |--- time_left >  -1.21\n",
      "|   |   |   |   |   |   |   |   |   |   |--- class: True\n",
      "|   |   |   |   |   |   |   |   |--- time_left >  -1.21\n",
      "|   |   |   |   |   |   |   |   |   |--- t_helmets <= -1.21\n",
      "|   |   |   |   |   |   |   |   |   |   |--- class: True\n",
      "|   |   |   |   |   |   |   |   |   |--- t_helmets >  -1.21\n",
      "|   |   |   |   |   |   |   |   |   |   |--- class: False\n",
      "|   |   |   |   |   |   |   |--- time_left >  -1.21\n",
      "|   |   |   |   |   |   |   |   |--- time_left <= -1.12\n",
      "|   |   |   |   |   |   |   |   |   |--- players_alive_lead <= -1.25\n",
      "|   |   |   |   |   |   |   |   |   |   |--- class: True\n",
      "|   |   |   |   |   |   |   |   |   |--- players_alive_lead >  -1.25\n",
      "|   |   |   |   |   |   |   |   |   |   |--- class: True\n",
      "|   |   |   |   |   |   |   |   |--- time_left >  -1.12\n",
      "|   |   |   |   |   |   |   |   |   |--- t_health <= -1.37\n",
      "|   |   |   |   |   |   |   |   |   |   |--- class: True\n",
      "|   |   |   |   |   |   |   |   |   |--- t_health >  -1.37\n",
      "|   |   |   |   |   |   |   |   |   |   |--- class: True\n",
      "|   |   |   |   |   |   |--- ct_health >  -0.92\n",
      "|   |   |   |   |   |   |   |--- time_left <= -1.21\n",
      "|   |   |   |   |   |   |   |   |--- time_left <= -1.21\n",
      "|   |   |   |   |   |   |   |   |   |--- t_armor <= 0.38\n",
      "|   |   |   |   |   |   |   |   |   |   |--- class: True\n",
      "|   |   |   |   |   |   |   |   |   |--- t_armor >  0.38\n",
      "|   |   |   |   |   |   |   |   |   |   |--- class: True\n",
      "|   |   |   |   |   |   |   |   |--- time_left >  -1.21\n",
      "|   |   |   |   |   |   |   |   |   |--- ct_money <= -0.10\n",
      "|   |   |   |   |   |   |   |   |   |   |--- class: False\n",
      "|   |   |   |   |   |   |   |   |   |--- ct_money >  -0.10\n",
      "|   |   |   |   |   |   |   |   |   |   |--- class: False\n",
      "|   |   |   |   |   |   |   |--- time_left >  -1.21\n",
      "|   |   |   |   |   |   |   |   |--- t_money <= -0.86\n",
      "|   |   |   |   |   |   |   |   |   |--- t_score <= 0.14\n",
      "|   |   |   |   |   |   |   |   |   |   |--- class: True\n",
      "|   |   |   |   |   |   |   |   |   |--- t_score >  0.14\n",
      "|   |   |   |   |   |   |   |   |   |   |--- class: False\n",
      "|   |   |   |   |   |   |   |   |--- t_money >  -0.86\n",
      "|   |   |   |   |   |   |   |   |   |--- time_left <= -1.13\n",
      "|   |   |   |   |   |   |   |   |   |   |--- class: True\n",
      "|   |   |   |   |   |   |   |   |   |--- time_left >  -1.13\n",
      "|   |   |   |   |   |   |   |   |   |   |--- class: True\n",
      "|   |   |--- time_left >  -1.12\n",
      "|   |   |   |--- time_left <= -1.12\n",
      "|   |   |   |   |--- time_left <= -1.12\n",
      "|   |   |   |   |   |--- ct_armor <= -0.72\n",
      "|   |   |   |   |   |   |--- health_lead <= -0.77\n",
      "|   |   |   |   |   |   |   |--- class: False\n",
      "|   |   |   |   |   |   |--- health_lead >  -0.77\n",
      "|   |   |   |   |   |   |   |--- t_money <= 0.04\n",
      "|   |   |   |   |   |   |   |   |--- ct_helmets <= -0.89\n",
      "|   |   |   |   |   |   |   |   |   |--- class: True\n",
      "|   |   |   |   |   |   |   |   |--- ct_helmets >  -0.89\n",
      "|   |   |   |   |   |   |   |   |   |--- class: True\n",
      "|   |   |   |   |   |   |   |--- t_money >  0.04\n",
      "|   |   |   |   |   |   |   |   |--- class: False\n",
      "|   |   |   |   |   |--- ct_armor >  -0.72\n",
      "|   |   |   |   |   |   |--- ct_helmets <= -0.89\n",
      "|   |   |   |   |   |   |   |--- class: False\n",
      "|   |   |   |   |   |   |--- ct_helmets >  -0.89\n",
      "|   |   |   |   |   |   |   |--- players_alive_lead <= -1.25\n",
      "|   |   |   |   |   |   |   |   |--- class: False\n",
      "|   |   |   |   |   |   |   |--- players_alive_lead >  -1.25\n",
      "|   |   |   |   |   |   |   |   |--- map <= -0.01\n",
      "|   |   |   |   |   |   |   |   |   |--- class: False\n",
      "|   |   |   |   |   |   |   |   |--- map >  -0.01\n",
      "|   |   |   |   |   |   |   |   |   |--- class: False\n",
      "|   |   |   |   |--- time_left >  -1.12\n",
      "|   |   |   |   |   |--- time_left <= -1.12\n",
      "|   |   |   |   |   |   |--- ct_money <= -0.69\n",
      "|   |   |   |   |   |   |   |--- map <= 0.50\n",
      "|   |   |   |   |   |   |   |   |--- class: False\n",
      "|   |   |   |   |   |   |   |--- map >  0.50\n",
      "|   |   |   |   |   |   |   |   |--- t_money <= -0.52\n",
      "|   |   |   |   |   |   |   |   |   |--- class: False\n",
      "|   |   |   |   |   |   |   |   |--- t_money >  -0.52\n",
      "|   |   |   |   |   |   |   |   |   |--- class: False\n",
      "|   |   |   |   |   |   |--- ct_money >  -0.69\n",
      "|   |   |   |   |   |   |   |--- class: False\n",
      "|   |   |   |   |   |--- time_left >  -1.12\n",
      "|   |   |   |   |   |   |--- ct_armor <= -1.71\n",
      "|   |   |   |   |   |   |   |--- time_left <= -1.12\n",
      "|   |   |   |   |   |   |   |   |--- class: False\n",
      "|   |   |   |   |   |   |   |--- time_left >  -1.12\n",
      "|   |   |   |   |   |   |   |   |--- ct_money <= -0.14\n",
      "|   |   |   |   |   |   |   |   |   |--- class: False\n",
      "|   |   |   |   |   |   |   |   |--- ct_money >  -0.14\n",
      "|   |   |   |   |   |   |   |   |   |--- class: False\n",
      "|   |   |   |   |   |   |--- ct_armor >  -1.71\n",
      "|   |   |   |   |   |   |   |--- time_left <= -1.12\n",
      "|   |   |   |   |   |   |   |   |--- t_money <= -0.94\n",
      "|   |   |   |   |   |   |   |   |   |--- class: False\n",
      "|   |   |   |   |   |   |   |   |--- t_money >  -0.94\n",
      "|   |   |   |   |   |   |   |   |   |--- t_money <= 0.91\n",
      "|   |   |   |   |   |   |   |   |   |   |--- class: False\n",
      "|   |   |   |   |   |   |   |   |   |--- t_money >  0.91\n",
      "|   |   |   |   |   |   |   |   |   |   |--- class: False\n",
      "|   |   |   |   |   |   |   |--- time_left >  -1.12\n",
      "|   |   |   |   |   |   |   |   |--- ct_score <= -0.68\n",
      "|   |   |   |   |   |   |   |   |   |--- class: False\n",
      "|   |   |   |   |   |   |   |   |--- ct_score >  -0.68\n",
      "|   |   |   |   |   |   |   |   |   |--- class: False\n",
      "|   |   |   |--- time_left >  -1.12\n",
      "|   |   |   |   |--- time_left <= -1.12\n",
      "|   |   |   |   |   |--- ct_money <= -0.69\n",
      "|   |   |   |   |   |   |--- class: True\n",
      "|   |   |   |   |   |--- ct_money >  -0.69\n",
      "|   |   |   |   |   |   |--- class: True\n",
      "|   |   |   |   |--- time_left >  -1.12\n",
      "|   |   |   |   |   |--- t_health <= -1.97\n",
      "|   |   |   |   |   |   |--- t_health <= -2.07\n",
      "|   |   |   |   |   |   |   |--- ct_money <= -0.70\n",
      "|   |   |   |   |   |   |   |   |--- ct_money <= -0.82\n",
      "|   |   |   |   |   |   |   |   |   |--- map <= 1.01\n",
      "|   |   |   |   |   |   |   |   |   |   |--- class: True\n",
      "|   |   |   |   |   |   |   |   |   |--- map >  1.01\n",
      "|   |   |   |   |   |   |   |   |   |   |--- class: True\n",
      "|   |   |   |   |   |   |   |   |--- ct_money >  -0.82\n",
      "|   |   |   |   |   |   |   |   |   |--- t_armor <= -1.32\n",
      "|   |   |   |   |   |   |   |   |   |   |--- class: True\n",
      "|   |   |   |   |   |   |   |   |   |--- t_armor >  -1.32\n",
      "|   |   |   |   |   |   |   |   |   |   |--- class: True\n",
      "|   |   |   |   |   |   |   |--- ct_money >  -0.70\n",
      "|   |   |   |   |   |   |   |   |--- ct_money <= -0.62\n",
      "|   |   |   |   |   |   |   |   |   |--- players_alive_lead <= 0.03\n",
      "|   |   |   |   |   |   |   |   |   |   |--- class: True\n",
      "|   |   |   |   |   |   |   |   |   |--- players_alive_lead >  0.03\n",
      "|   |   |   |   |   |   |   |   |   |   |--- class: True\n",
      "|   |   |   |   |   |   |   |   |--- ct_money >  -0.62\n",
      "|   |   |   |   |   |   |   |   |   |--- class: True\n",
      "|   |   |   |   |   |   |--- t_health >  -2.07\n",
      "|   |   |   |   |   |   |   |--- t_armor <= -0.75\n",
      "|   |   |   |   |   |   |   |   |--- class: False\n",
      "|   |   |   |   |   |   |   |--- t_armor >  -0.75\n",
      "|   |   |   |   |   |   |   |   |--- t_armor <= -0.64\n",
      "|   |   |   |   |   |   |   |   |   |--- class: True\n",
      "|   |   |   |   |   |   |   |   |--- t_armor >  -0.64\n",
      "|   |   |   |   |   |   |   |   |   |--- class: True\n",
      "|   |   |   |   |   |--- t_health >  -1.97\n",
      "|   |   |   |   |   |   |--- t_money <= -0.90\n",
      "|   |   |   |   |   |   |   |--- ct_armor <= -0.50\n",
      "|   |   |   |   |   |   |   |   |--- class: True\n",
      "|   |   |   |   |   |   |   |--- ct_armor >  -0.50\n",
      "|   |   |   |   |   |   |   |   |--- class: True\n",
      "|   |   |   |   |   |   |--- t_money >  -0.90\n",
      "|   |   |   |   |   |   |   |--- time_left <= -1.10\n",
      "|   |   |   |   |   |   |   |   |--- ct_armor <= -0.13\n",
      "|   |   |   |   |   |   |   |   |   |--- t_score <= 0.97\n",
      "|   |   |   |   |   |   |   |   |   |   |--- class: True\n",
      "|   |   |   |   |   |   |   |   |   |--- t_score >  0.97\n",
      "|   |   |   |   |   |   |   |   |   |   |--- class: True\n",
      "|   |   |   |   |   |   |   |   |--- ct_armor >  -0.13\n",
      "|   |   |   |   |   |   |   |   |   |--- ct_health <= -0.83\n",
      "|   |   |   |   |   |   |   |   |   |   |--- class: True\n",
      "|   |   |   |   |   |   |   |   |   |--- ct_health >  -0.83\n",
      "|   |   |   |   |   |   |   |   |   |   |--- class: True\n",
      "|   |   |   |   |   |   |   |--- time_left >  -1.10\n",
      "|   |   |   |   |   |   |   |   |--- ct_money <= 0.66\n",
      "|   |   |   |   |   |   |   |   |   |--- t_money <= 1.37\n",
      "|   |   |   |   |   |   |   |   |   |   |--- class: True\n",
      "|   |   |   |   |   |   |   |   |   |--- t_money >  1.37\n",
      "|   |   |   |   |   |   |   |   |   |   |--- class: True\n",
      "|   |   |   |   |   |   |   |   |--- ct_money >  0.66\n",
      "|   |   |   |   |   |   |   |   |   |--- ct_health <= -1.19\n",
      "|   |   |   |   |   |   |   |   |   |   |--- class: True\n",
      "|   |   |   |   |   |   |   |   |   |--- ct_health >  -1.19\n",
      "|   |   |   |   |   |   |   |   |   |   |--- class: True\n",
      "|   |--- ct_armor >  -0.10\n",
      "|   |   |--- time_left <= -1.11\n",
      "|   |   |   |--- time_left <= -1.12\n",
      "|   |   |   |   |--- time_left <= -1.49\n",
      "|   |   |   |   |   |--- time_left <= -1.50\n",
      "|   |   |   |   |   |   |--- players_alive_lead <= -1.25\n",
      "|   |   |   |   |   |   |   |--- t_players_alive <= -3.00\n",
      "|   |   |   |   |   |   |   |   |--- class: True\n",
      "|   |   |   |   |   |   |   |--- t_players_alive >  -3.00\n",
      "|   |   |   |   |   |   |   |   |--- t_armor <= -0.69\n",
      "|   |   |   |   |   |   |   |   |   |--- t_money <= -0.86\n",
      "|   |   |   |   |   |   |   |   |   |   |--- class: False\n",
      "|   |   |   |   |   |   |   |   |   |--- t_money >  -0.86\n",
      "|   |   |   |   |   |   |   |   |   |   |--- class: False\n",
      "|   |   |   |   |   |   |   |   |--- t_armor >  -0.69\n",
      "|   |   |   |   |   |   |   |   |   |--- time_left <= -1.59\n",
      "|   |   |   |   |   |   |   |   |   |   |--- class: False\n",
      "|   |   |   |   |   |   |   |   |   |--- time_left >  -1.59\n",
      "|   |   |   |   |   |   |   |   |   |   |--- class: False\n",
      "|   |   |   |   |   |   |--- players_alive_lead >  -1.25\n",
      "|   |   |   |   |   |   |   |--- time_left <= -1.62\n",
      "|   |   |   |   |   |   |   |   |--- class: True\n",
      "|   |   |   |   |   |   |   |--- time_left >  -1.62\n",
      "|   |   |   |   |   |   |   |   |--- ct_money <= -0.09\n",
      "|   |   |   |   |   |   |   |   |   |--- players_alive_lead <= 0.03\n",
      "|   |   |   |   |   |   |   |   |   |   |--- class: True\n",
      "|   |   |   |   |   |   |   |   |   |--- players_alive_lead >  0.03\n",
      "|   |   |   |   |   |   |   |   |   |   |--- class: True\n",
      "|   |   |   |   |   |   |   |   |--- ct_money >  -0.09\n",
      "|   |   |   |   |   |   |   |   |   |--- class: False\n",
      "|   |   |   |   |   |--- time_left >  -1.50\n",
      "|   |   |   |   |   |   |--- t_health <= 0.39\n",
      "|   |   |   |   |   |   |   |--- t_score <= -1.11\n",
      "|   |   |   |   |   |   |   |   |--- t_money <= -0.58\n",
      "|   |   |   |   |   |   |   |   |   |--- class: False\n",
      "|   |   |   |   |   |   |   |   |--- t_money >  -0.58\n",
      "|   |   |   |   |   |   |   |   |   |--- class: False\n",
      "|   |   |   |   |   |   |   |--- t_score >  -1.11\n",
      "|   |   |   |   |   |   |   |   |--- class: False\n",
      "|   |   |   |   |   |   |--- t_health >  0.39\n",
      "|   |   |   |   |   |   |   |--- class: False\n",
      "|   |   |   |   |--- time_left >  -1.49\n",
      "|   |   |   |   |   |--- ct_armor <= 0.73\n",
      "|   |   |   |   |   |   |--- t_helmets <= -1.21\n",
      "|   |   |   |   |   |   |   |--- t_money <= -0.81\n",
      "|   |   |   |   |   |   |   |   |--- ct_health <= 0.33\n",
      "|   |   |   |   |   |   |   |   |   |--- class: True\n",
      "|   |   |   |   |   |   |   |   |--- ct_health >  0.33\n",
      "|   |   |   |   |   |   |   |   |   |--- class: True\n",
      "|   |   |   |   |   |   |   |--- t_money >  -0.81\n",
      "|   |   |   |   |   |   |   |   |--- ct_health <= -0.26\n",
      "|   |   |   |   |   |   |   |   |   |--- class: True\n",
      "|   |   |   |   |   |   |   |   |--- ct_health >  -0.26\n",
      "|   |   |   |   |   |   |   |   |   |--- class: True\n",
      "|   |   |   |   |   |   |--- t_helmets >  -1.21\n",
      "|   |   |   |   |   |   |   |--- time_left <= -1.27\n",
      "|   |   |   |   |   |   |   |   |--- ct_score <= 1.61\n",
      "|   |   |   |   |   |   |   |   |   |--- map <= -1.03\n",
      "|   |   |   |   |   |   |   |   |   |   |--- class: True\n",
      "|   |   |   |   |   |   |   |   |   |--- map >  -1.03\n",
      "|   |   |   |   |   |   |   |   |   |   |--- class: True\n",
      "|   |   |   |   |   |   |   |   |--- ct_score >  1.61\n",
      "|   |   |   |   |   |   |   |   |   |--- class: False\n",
      "|   |   |   |   |   |   |   |--- time_left >  -1.27\n",
      "|   |   |   |   |   |   |   |   |--- time_left <= -1.26\n",
      "|   |   |   |   |   |   |   |   |   |--- time_left <= -1.27\n",
      "|   |   |   |   |   |   |   |   |   |   |--- class: False\n",
      "|   |   |   |   |   |   |   |   |   |--- time_left >  -1.27\n",
      "|   |   |   |   |   |   |   |   |   |   |--- class: False\n",
      "|   |   |   |   |   |   |   |   |--- time_left >  -1.26\n",
      "|   |   |   |   |   |   |   |   |   |--- time_left <= -1.21\n",
      "|   |   |   |   |   |   |   |   |   |   |--- class: False\n",
      "|   |   |   |   |   |   |   |   |   |--- time_left >  -1.21\n",
      "|   |   |   |   |   |   |   |   |   |   |--- class: True\n",
      "|   |   |   |   |   |--- ct_armor >  0.73\n",
      "|   |   |   |   |   |   |--- time_left <= -1.28\n",
      "|   |   |   |   |   |   |   |--- time_left <= -1.39\n",
      "|   |   |   |   |   |   |   |   |--- t_armor <= -0.11\n",
      "|   |   |   |   |   |   |   |   |   |--- class: True\n",
      "|   |   |   |   |   |   |   |   |--- t_armor >  -0.11\n",
      "|   |   |   |   |   |   |   |   |   |--- class: False\n",
      "|   |   |   |   |   |   |   |--- time_left >  -1.39\n",
      "|   |   |   |   |   |   |   |   |--- t_money <= 0.19\n",
      "|   |   |   |   |   |   |   |   |   |--- ct_money <= -0.23\n",
      "|   |   |   |   |   |   |   |   |   |   |--- class: True\n",
      "|   |   |   |   |   |   |   |   |   |--- ct_money >  -0.23\n",
      "|   |   |   |   |   |   |   |   |   |   |--- class: True\n",
      "|   |   |   |   |   |   |   |   |--- t_money >  0.19\n",
      "|   |   |   |   |   |   |   |   |   |--- class: True\n",
      "|   |   |   |   |   |   |--- time_left >  -1.28\n",
      "|   |   |   |   |   |   |   |--- time_left <= -1.21\n",
      "|   |   |   |   |   |   |   |   |--- ct_defuse_kits <= -0.72\n",
      "|   |   |   |   |   |   |   |   |   |--- class: True\n",
      "|   |   |   |   |   |   |   |   |--- ct_defuse_kits >  -0.72\n",
      "|   |   |   |   |   |   |   |   |   |--- ct_health <= 0.51\n",
      "|   |   |   |   |   |   |   |   |   |   |--- class: False\n",
      "|   |   |   |   |   |   |   |   |   |--- ct_health >  0.51\n",
      "|   |   |   |   |   |   |   |   |   |   |--- class: False\n",
      "|   |   |   |   |   |   |   |--- time_left >  -1.21\n",
      "|   |   |   |   |   |   |   |   |--- t_helmets <= -0.20\n",
      "|   |   |   |   |   |   |   |   |   |--- ct_money <= 0.15\n",
      "|   |   |   |   |   |   |   |   |   |   |--- class: False\n",
      "|   |   |   |   |   |   |   |   |   |--- ct_money >  0.15\n",
      "|   |   |   |   |   |   |   |   |   |   |--- class: True\n",
      "|   |   |   |   |   |   |   |   |--- t_helmets >  -0.20\n",
      "|   |   |   |   |   |   |   |   |   |--- ct_armor <= 0.99\n",
      "|   |   |   |   |   |   |   |   |   |   |--- class: False\n",
      "|   |   |   |   |   |   |   |   |   |--- ct_armor >  0.99\n",
      "|   |   |   |   |   |   |   |   |   |   |--- class: False\n",
      "|   |   |   |--- time_left >  -1.12\n",
      "|   |   |   |   |--- time_left <= -1.12\n",
      "|   |   |   |   |   |--- time_left <= -1.12\n",
      "|   |   |   |   |   |   |--- helmets_lead <= -0.66\n",
      "|   |   |   |   |   |   |   |--- class: False\n",
      "|   |   |   |   |   |   |--- helmets_lead >  -0.66\n",
      "|   |   |   |   |   |   |   |--- class: False\n",
      "|   |   |   |   |   |--- time_left >  -1.12\n",
      "|   |   |   |   |   |   |--- class: False\n",
      "|   |   |   |   |--- time_left >  -1.12\n",
      "|   |   |   |   |   |--- time_left <= -1.12\n",
      "|   |   |   |   |   |   |--- t_helmets <= -1.21\n",
      "|   |   |   |   |   |   |   |--- ct_helmets <= 0.75\n",
      "|   |   |   |   |   |   |   |   |--- class: False\n",
      "|   |   |   |   |   |   |   |--- ct_helmets >  0.75\n",
      "|   |   |   |   |   |   |   |   |--- class: False\n",
      "|   |   |   |   |   |   |--- t_helmets >  -1.21\n",
      "|   |   |   |   |   |   |   |--- time_left <= -1.12\n",
      "|   |   |   |   |   |   |   |   |--- t_armor <= -0.07\n",
      "|   |   |   |   |   |   |   |   |   |--- class: False\n",
      "|   |   |   |   |   |   |   |   |--- t_armor >  -0.07\n",
      "|   |   |   |   |   |   |   |   |   |--- class: False\n",
      "|   |   |   |   |   |   |   |--- time_left >  -1.12\n",
      "|   |   |   |   |   |   |   |   |--- t_score <= -1.11\n",
      "|   |   |   |   |   |   |   |   |   |--- t_money <= -0.58\n",
      "|   |   |   |   |   |   |   |   |   |   |--- class: False\n",
      "|   |   |   |   |   |   |   |   |   |--- t_money >  -0.58\n",
      "|   |   |   |   |   |   |   |   |   |   |--- class: False\n",
      "|   |   |   |   |   |   |   |   |--- t_score >  -1.11\n",
      "|   |   |   |   |   |   |   |   |   |--- class: False\n",
      "|   |   |   |   |   |--- time_left >  -1.12\n",
      "|   |   |   |   |   |   |--- ct_health <= -0.07\n",
      "|   |   |   |   |   |   |   |--- class: False\n",
      "|   |   |   |   |   |   |--- ct_health >  -0.07\n",
      "|   |   |   |   |   |   |   |--- class: False\n",
      "|   |   |--- time_left >  -1.11\n",
      "|   |   |   |--- ct_armor <= 0.88\n",
      "|   |   |   |   |--- t_armor <= 1.07\n",
      "|   |   |   |   |   |--- t_score <= 0.97\n",
      "|   |   |   |   |   |   |--- t_money <= 0.48\n",
      "|   |   |   |   |   |   |   |--- ct_armor <= 0.33\n",
      "|   |   |   |   |   |   |   |   |--- ct_money <= -0.31\n",
      "|   |   |   |   |   |   |   |   |   |--- class: True\n",
      "|   |   |   |   |   |   |   |   |--- ct_money >  -0.31\n",
      "|   |   |   |   |   |   |   |   |   |--- class: True\n",
      "|   |   |   |   |   |   |   |--- ct_armor >  0.33\n",
      "|   |   |   |   |   |   |   |   |--- t_helmets <= -0.20\n",
      "|   |   |   |   |   |   |   |   |   |--- t_score <= 0.35\n",
      "|   |   |   |   |   |   |   |   |   |   |--- class: True\n",
      "|   |   |   |   |   |   |   |   |   |--- t_score >  0.35\n",
      "|   |   |   |   |   |   |   |   |   |   |--- class: True\n",
      "|   |   |   |   |   |   |   |   |--- t_helmets >  -0.20\n",
      "|   |   |   |   |   |   |   |   |   |--- class: True\n",
      "|   |   |   |   |   |   |--- t_money >  0.48\n",
      "|   |   |   |   |   |   |   |--- class: True\n",
      "|   |   |   |   |   |--- t_score >  0.97\n",
      "|   |   |   |   |   |   |--- map <= -1.03\n",
      "|   |   |   |   |   |   |   |--- class: False\n",
      "|   |   |   |   |   |   |--- map >  -1.03\n",
      "|   |   |   |   |   |   |   |--- t_money <= -0.54\n",
      "|   |   |   |   |   |   |   |   |--- class: True\n",
      "|   |   |   |   |   |   |   |--- t_money >  -0.54\n",
      "|   |   |   |   |   |   |   |   |--- class: True\n",
      "|   |   |   |   |--- t_armor >  1.07\n",
      "|   |   |   |   |   |--- class: True\n",
      "|   |   |   |--- ct_armor >  0.88\n",
      "|   |   |   |   |--- t_money <= -0.87\n",
      "|   |   |   |   |   |--- class: True\n",
      "|   |   |   |   |--- t_money >  -0.87\n",
      "|   |   |   |   |   |--- ct_score <= -0.47\n",
      "|   |   |   |   |   |   |--- class: True\n",
      "|   |   |   |   |   |--- ct_score >  -0.47\n",
      "|   |   |   |   |   |   |--- map <= 1.01\n",
      "|   |   |   |   |   |   |   |--- t_money <= -0.31\n",
      "|   |   |   |   |   |   |   |   |--- class: False\n",
      "|   |   |   |   |   |   |   |--- t_money >  -0.31\n",
      "|   |   |   |   |   |   |   |   |--- class: False\n",
      "|   |   |   |   |   |   |--- map >  1.01\n",
      "|   |   |   |   |   |   |   |--- class: False\n",
      "|--- time_left >  -1.02\n",
      "|   |--- class: False\n",
      "\n"
     ]
    }
   ],
   "source": [
    "decision_tree = dt_classifier.named_steps['model']\n",
    "feature_names = X_cl.columns\n",
    "tree_rules = export_text(decision_tree, feature_names=list(feature_names))\n",
    "print(\"Правила дерева решений:\")\n",
    "print(tree_rules)"
   ]
  },
  {
   "cell_type": "markdown",
   "id": "8994995d",
   "metadata": {},
   "source": [
    "### RandomForestClassifier"
   ]
  },
  {
   "cell_type": "code",
   "execution_count": 171,
   "id": "ebb1d2f2",
   "metadata": {},
   "outputs": [
    {
     "name": "stdout",
     "output_type": "stream",
     "text": [
      "F1: 0.9133561643835616\n",
      "accuracy: 0.9783074680613907\n",
      "precision: 0.8594908153399936\n",
      "recall: 0.9744245524296675\n",
      "roc_auc_score: 0.9766240980614509\n"
     ]
    },
    {
     "data": {
      "application/vnd.microsoft.datawrangler.viewer.v0+json": {
       "columns": [
        {
         "name": "index",
         "rawType": "int64",
         "type": "integer"
        },
        {
         "name": "fit_time",
         "rawType": "float64",
         "type": "float"
        },
        {
         "name": "score_time",
         "rawType": "float64",
         "type": "float"
        },
        {
         "name": "test_score",
         "rawType": "float64",
         "type": "float"
        }
       ],
       "ref": "26a3888c-6de2-4703-8121-4608ed3729cb",
       "rows": [
        [
         "0",
         "12.445321321487427",
         "0.08601999282836914",
         "0.9127745788014502"
        ],
        [
         "1",
         "11.93425703048706",
         "0.0890202522277832",
         "0.9196293902176255"
        ],
        [
         "2",
         "11.796247243881226",
         "0.08364486694335938",
         "0.9219522683293915"
        ],
        [
         "3",
         "11.752765417098999",
         "0.08602118492126465",
         "0.9218480138169257"
        ],
        [
         "4",
         "11.664540529251099",
         "0.08301830291748047",
         "0.9136860141357892"
        ]
       ],
       "shape": {
        "columns": 3,
        "rows": 5
       }
      },
      "text/html": [
       "<div>\n",
       "<style scoped>\n",
       "    .dataframe tbody tr th:only-of-type {\n",
       "        vertical-align: middle;\n",
       "    }\n",
       "\n",
       "    .dataframe tbody tr th {\n",
       "        vertical-align: top;\n",
       "    }\n",
       "\n",
       "    .dataframe thead th {\n",
       "        text-align: right;\n",
       "    }\n",
       "</style>\n",
       "<table border=\"1\" class=\"dataframe\">\n",
       "  <thead>\n",
       "    <tr style=\"text-align: right;\">\n",
       "      <th></th>\n",
       "      <th>fit_time</th>\n",
       "      <th>score_time</th>\n",
       "      <th>test_score</th>\n",
       "    </tr>\n",
       "  </thead>\n",
       "  <tbody>\n",
       "    <tr>\n",
       "      <th>0</th>\n",
       "      <td>12.445321</td>\n",
       "      <td>0.086020</td>\n",
       "      <td>0.912775</td>\n",
       "    </tr>\n",
       "    <tr>\n",
       "      <th>1</th>\n",
       "      <td>11.934257</td>\n",
       "      <td>0.089020</td>\n",
       "      <td>0.919629</td>\n",
       "    </tr>\n",
       "    <tr>\n",
       "      <th>2</th>\n",
       "      <td>11.796247</td>\n",
       "      <td>0.083645</td>\n",
       "      <td>0.921952</td>\n",
       "    </tr>\n",
       "    <tr>\n",
       "      <th>3</th>\n",
       "      <td>11.752765</td>\n",
       "      <td>0.086021</td>\n",
       "      <td>0.921848</td>\n",
       "    </tr>\n",
       "    <tr>\n",
       "      <th>4</th>\n",
       "      <td>11.664541</td>\n",
       "      <td>0.083018</td>\n",
       "      <td>0.913686</td>\n",
       "    </tr>\n",
       "  </tbody>\n",
       "</table>\n",
       "</div>"
      ],
      "text/plain": [
       "    fit_time  score_time  test_score\n",
       "0  12.445321    0.086020    0.912775\n",
       "1  11.934257    0.089020    0.919629\n",
       "2  11.796247    0.083645    0.921952\n",
       "3  11.752765    0.086021    0.921848\n",
       "4  11.664541    0.083018    0.913686"
      ]
     },
     "execution_count": 171,
     "metadata": {},
     "output_type": "execute_result"
    }
   ],
   "source": [
    "rf_classifier = build_pipeline(RandomForestClassifier(\n",
    "    bootstrap=best_params['RandomForestClassifier']['RandomizedSearchCV']['params']['model__bootstrap'],\n",
    "    ccp_alpha=best_params['RandomForestClassifier']['RandomizedSearchCV']['params']['model__ccp_alpha'],\n",
    "    criterion=best_params['RandomForestClassifier']['RandomizedSearchCV']['params']['model__criterion'],\n",
    "    max_depth=best_params['RandomForestClassifier']['RandomizedSearchCV']['params']['model__max_depth'],\n",
    "    max_features=best_params['RandomForestClassifier']['RandomizedSearchCV']['params']['model__max_features'],\n",
    "    min_samples_leaf=best_params['RandomForestClassifier']['RandomizedSearchCV']['params']['model__min_samples_leaf'],\n",
    "    min_samples_split=best_params['RandomForestClassifier']['RandomizedSearchCV']['params']['model__min_samples_split'],\n",
    "    n_estimators=best_params['RandomForestClassifier']['RandomizedSearchCV']['params']['model__n_estimators'],\n",
    "    oob_score=best_params['RandomForestClassifier']['RandomizedSearchCV']['params']['model__oob_score'],\n",
    "))\n",
    "\n",
    "# Hold-out\n",
    "rf_classifier.fit(X_train_cl, y_train_cl)\n",
    "y_pred_cl_rf = rf_classifier.predict(X_test_cl)\n",
    "metrics(pred_array=y_pred_cl_rf, true_array=y_test_cl)\n",
    "\n",
    "# K-fold\n",
    "k_fold_cl_rf = cross_validate(rf_classifier, X_train_cl, y_train_cl, cv=kf, scoring='f1')\n",
    "df_k_fold_cl_rf = pd.DataFrame(k_fold_cl_rf)\n",
    "df_k_fold_cl_rf"
   ]
  },
  {
   "cell_type": "code",
   "execution_count": 172,
   "id": "b9f451a2",
   "metadata": {},
   "outputs": [
    {
     "data": {
      "text/plain": [
       "['models/classifier/rf_classifier_model']"
      ]
     },
     "execution_count": 172,
     "metadata": {},
     "output_type": "execute_result"
    }
   ],
   "source": [
    "joblib.dump(rf_classifier, 'models/classifier/rf_classifier_model')"
   ]
  },
  {
   "cell_type": "code",
   "execution_count": 173,
   "id": "4d247d15",
   "metadata": {},
   "outputs": [],
   "source": [
    "rf_classifier = joblib.load(r'models/classifier/rf_classifier_model')"
   ]
  },
  {
   "cell_type": "code",
   "execution_count": 174,
   "id": "508bd85b",
   "metadata": {},
   "outputs": [
    {
     "data": {
      "image/png": "[encoded data removed]",
      "text/plain": [
       "<Figure size 640x480 with 1 Axes>"
      ]
     },
     "metadata": {},
     "output_type": "display_data"
    }
   ],
   "source": [
    "cm_rf_cl = confusion_matrix(y_test_cl, y_pred_cl_rf)\n",
    "\n",
    "plt.figure()\n",
    "sns.heatmap(cm_rf_cl, annot=True, fmt='d', cbar=False)\n",
    "plt.title('Матрица ошибок')\n",
    "plt.show()"
   ]
  },
  {
   "cell_type": "markdown",
   "id": "42d86773",
   "metadata": {},
   "source": [
    "### BaggingClassifier"
   ]
  },
  {
   "cell_type": "code",
   "execution_count": 175,
   "id": "2ec359c4",
   "metadata": {},
   "outputs": [
    {
     "name": "stdout",
     "output_type": "stream",
     "text": [
      "F1: 0.8547273982056591\n",
      "accuracy: 0.9639029409242905\n",
      "precision: 0.8097417456685191\n",
      "recall: 0.9050054804530507\n",
      "roc_auc_score: 0.9383689794804959\n"
     ]
    },
    {
     "data": {
      "application/vnd.microsoft.datawrangler.viewer.v0+json": {
       "columns": [
        {
         "name": "index",
         "rawType": "int64",
         "type": "integer"
        },
        {
         "name": "fit_time",
         "rawType": "float64",
         "type": "float"
        },
        {
         "name": "score_time",
         "rawType": "float64",
         "type": "float"
        },
        {
         "name": "test_score",
         "rawType": "float64",
         "type": "float"
        }
       ],
       "ref": "97d74149-8028-468e-903a-1f5317fdd80e",
       "rows": [
        [
         "0",
         "12.969069719314575",
         "0.24416232109069824",
         "0.858954734310081"
        ],
        [
         "1",
         "11.786763429641724",
         "0.23705458641052246",
         "0.9182305630026809"
        ],
        [
         "2",
         "12.389768362045288",
         "0.23155784606933594",
         "0.9158011049723757"
        ],
        [
         "3",
         "11.914247751235962",
         "0.2140486240386963",
         "0.9183173825951481"
        ],
        [
         "4",
         "12.262757539749146",
         "0.23016023635864258",
         "0.9114037045302388"
        ]
       ],
       "shape": {
        "columns": 3,
        "rows": 5
       }
      },
      "text/html": [
       "<div>\n",
       "<style scoped>\n",
       "    .dataframe tbody tr th:only-of-type {\n",
       "        vertical-align: middle;\n",
       "    }\n",
       "\n",
       "    .dataframe tbody tr th {\n",
       "        vertical-align: top;\n",
       "    }\n",
       "\n",
       "    .dataframe thead th {\n",
       "        text-align: right;\n",
       "    }\n",
       "</style>\n",
       "<table border=\"1\" class=\"dataframe\">\n",
       "  <thead>\n",
       "    <tr style=\"text-align: right;\">\n",
       "      <th></th>\n",
       "      <th>fit_time</th>\n",
       "      <th>score_time</th>\n",
       "      <th>test_score</th>\n",
       "    </tr>\n",
       "  </thead>\n",
       "  <tbody>\n",
       "    <tr>\n",
       "      <th>0</th>\n",
       "      <td>12.969070</td>\n",
       "      <td>0.244162</td>\n",
       "      <td>0.858955</td>\n",
       "    </tr>\n",
       "    <tr>\n",
       "      <th>1</th>\n",
       "      <td>11.786763</td>\n",
       "      <td>0.237055</td>\n",
       "      <td>0.918231</td>\n",
       "    </tr>\n",
       "    <tr>\n",
       "      <th>2</th>\n",
       "      <td>12.389768</td>\n",
       "      <td>0.231558</td>\n",
       "      <td>0.915801</td>\n",
       "    </tr>\n",
       "    <tr>\n",
       "      <th>3</th>\n",
       "      <td>11.914248</td>\n",
       "      <td>0.214049</td>\n",
       "      <td>0.918317</td>\n",
       "    </tr>\n",
       "    <tr>\n",
       "      <th>4</th>\n",
       "      <td>12.262758</td>\n",
       "      <td>0.230160</td>\n",
       "      <td>0.911404</td>\n",
       "    </tr>\n",
       "  </tbody>\n",
       "</table>\n",
       "</div>"
      ],
      "text/plain": [
       "    fit_time  score_time  test_score\n",
       "0  12.969070    0.244162    0.858955\n",
       "1  11.786763    0.237055    0.918231\n",
       "2  12.389768    0.231558    0.915801\n",
       "3  11.914248    0.214049    0.918317\n",
       "4  12.262758    0.230160    0.911404"
      ]
     },
     "execution_count": 175,
     "metadata": {},
     "output_type": "execute_result"
    }
   ],
   "source": [
    "bc_classifier = build_pipeline(BaggingClassifier(\n",
    "    bootstrap=best_params['BaggingClassifier']['GridSearchCV']['params']['model__bootstrap'],\n",
    "    max_features=best_params['BaggingClassifier']['GridSearchCV']['params']['model__max_features'],\n",
    "    max_samples=best_params['BaggingClassifier']['GridSearchCV']['params']['model__max_samples'],\n",
    "    n_estimators=best_params['BaggingClassifier']['GridSearchCV']['params']['model__n_estimators'],\n",
    "))\n",
    "\n",
    "# Hold-out\n",
    "bc_classifier.fit(X_train_cl, y_train_cl)\n",
    "y_pred_cl_bc = bc_classifier.predict(X_test_cl)\n",
    "metrics(pred_array=y_pred_cl_bc, true_array=y_test_cl)\n",
    "\n",
    "# K-fold\n",
    "k_fold_cl_bc = cross_validate(bc_classifier, X_train_cl, y_train_cl, cv=kf, scoring='f1')\n",
    "df_k_fold_cl_bc = pd.DataFrame(k_fold_cl_bc)\n",
    "df_k_fold_cl_bc"
   ]
  },
  {
   "cell_type": "code",
   "execution_count": 176,
   "id": "8342969b",
   "metadata": {},
   "outputs": [
    {
     "data": {
      "text/plain": [
       "['models/classifier/bc_classifier_model']"
      ]
     },
     "execution_count": 176,
     "metadata": {},
     "output_type": "execute_result"
    }
   ],
   "source": [
    "joblib.dump(bc_classifier, 'models/classifier/bc_classifier_model')"
   ]
  },
  {
   "cell_type": "code",
   "execution_count": 177,
   "id": "0bf3e440",
   "metadata": {},
   "outputs": [],
   "source": [
    "bc_classifier = joblib.load((r'models/classifier/bc_classifier_model'))"
   ]
  },
  {
   "cell_type": "code",
   "execution_count": 178,
   "id": "8bd5f3ba",
   "metadata": {},
   "outputs": [
    {
     "data": {
      "image/png": "[encoded data removed]",
      "text/plain": [
       "<Figure size 640x480 with 1 Axes>"
      ]
     },
     "metadata": {},
     "output_type": "display_data"
    }
   ],
   "source": [
    "cm_bc_cl = confusion_matrix(y_test_cl, y_pred_cl_bc)\n",
    "\n",
    "plt.figure()\n",
    "sns.heatmap(cm_bc_cl, annot=True, fmt='d', cbar=False)\n",
    "plt.title('Матрица ошибок')\n",
    "plt.show()"
   ]
  },
  {
   "cell_type": "markdown",
   "id": "9db39aa9",
   "metadata": {},
   "source": [
    "### GradientBoostingClassifier"
   ]
  },
  {
   "cell_type": "code",
   "execution_count": 179,
   "id": "5e8134b0",
   "metadata": {},
   "outputs": [
    {
     "name": "stdout",
     "output_type": "stream",
     "text": [
      "F1: 0.9175824175824175\n",
      "accuracy: 0.9794221040898569\n",
      "precision: 0.8655652737285391\n",
      "recall: 0.9762513701132627\n",
      "roc_auc_score: 0.9780474879610948\n"
     ]
    },
    {
     "data": {
      "application/vnd.microsoft.datawrangler.viewer.v0+json": {
       "columns": [
        {
         "name": "index",
         "rawType": "int64",
         "type": "integer"
        },
        {
         "name": "fit_time",
         "rawType": "float64",
         "type": "float"
        },
        {
         "name": "score_time",
         "rawType": "float64",
         "type": "float"
        },
        {
         "name": "test_score",
         "rawType": "float64",
         "type": "float"
        }
       ],
       "ref": "e11e0408-3f1d-4409-b72f-c7b2a5d70826",
       "rows": [
        [
         "0",
         "10.524133443832397",
         "0.038008689880371094",
         "0.9195205479452054"
        ],
        [
         "1",
         "10.291618347167969",
         "0.04000997543334961",
         "0.9286640726329443"
        ],
        [
         "2",
         "10.070672988891602",
         "0.03700852394104004",
         "0.9224822847326605"
        ],
        [
         "3",
         "10.59417462348938",
         "0.039009809494018555",
         "0.9286949006050129"
        ],
        [
         "4",
         "10.715944290161133",
         "0.04201078414916992",
         "0.9237416288615252"
        ]
       ],
       "shape": {
        "columns": 3,
        "rows": 5
       }
      },
      "text/html": [
       "<div>\n",
       "<style scoped>\n",
       "    .dataframe tbody tr th:only-of-type {\n",
       "        vertical-align: middle;\n",
       "    }\n",
       "\n",
       "    .dataframe tbody tr th {\n",
       "        vertical-align: top;\n",
       "    }\n",
       "\n",
       "    .dataframe thead th {\n",
       "        text-align: right;\n",
       "    }\n",
       "</style>\n",
       "<table border=\"1\" class=\"dataframe\">\n",
       "  <thead>\n",
       "    <tr style=\"text-align: right;\">\n",
       "      <th></th>\n",
       "      <th>fit_time</th>\n",
       "      <th>score_time</th>\n",
       "      <th>test_score</th>\n",
       "    </tr>\n",
       "  </thead>\n",
       "  <tbody>\n",
       "    <tr>\n",
       "      <th>0</th>\n",
       "      <td>10.524133</td>\n",
       "      <td>0.038009</td>\n",
       "      <td>0.919521</td>\n",
       "    </tr>\n",
       "    <tr>\n",
       "      <th>1</th>\n",
       "      <td>10.291618</td>\n",
       "      <td>0.040010</td>\n",
       "      <td>0.928664</td>\n",
       "    </tr>\n",
       "    <tr>\n",
       "      <th>2</th>\n",
       "      <td>10.070673</td>\n",
       "      <td>0.037009</td>\n",
       "      <td>0.922482</td>\n",
       "    </tr>\n",
       "    <tr>\n",
       "      <th>3</th>\n",
       "      <td>10.594175</td>\n",
       "      <td>0.039010</td>\n",
       "      <td>0.928695</td>\n",
       "    </tr>\n",
       "    <tr>\n",
       "      <th>4</th>\n",
       "      <td>10.715944</td>\n",
       "      <td>0.042011</td>\n",
       "      <td>0.923742</td>\n",
       "    </tr>\n",
       "  </tbody>\n",
       "</table>\n",
       "</div>"
      ],
      "text/plain": [
       "    fit_time  score_time  test_score\n",
       "0  10.524133    0.038009    0.919521\n",
       "1  10.291618    0.040010    0.928664\n",
       "2  10.070673    0.037009    0.922482\n",
       "3  10.594175    0.039010    0.928695\n",
       "4  10.715944    0.042011    0.923742"
      ]
     },
     "execution_count": 179,
     "metadata": {},
     "output_type": "execute_result"
    }
   ],
   "source": [
    "gb_classifier = build_pipeline(GradientBoostingClassifier(\n",
    "    learning_rate=best_params['GradientBoostingClassifier']['RandomizedSearchCV']['params']['model__learning_rate'],\n",
    "    max_depth=best_params['GradientBoostingClassifier']['RandomizedSearchCV']['params']['model__max_depth'],\n",
    "    max_features=best_params['GradientBoostingClassifier']['RandomizedSearchCV']['params']['model__max_features'],\n",
    "    min_samples_leaf=best_params['GradientBoostingClassifier']['RandomizedSearchCV']['params']['model__min_samples_leaf'],\n",
    "    n_estimators=best_params['GradientBoostingClassifier']['RandomizedSearchCV']['params']['model__n_estimators'],\n",
    "    subsample=best_params['GradientBoostingClassifier']['RandomizedSearchCV']['params']['model__subsample'],\n",
    "))\n",
    "\n",
    "# Hold-out\n",
    "gb_classifier.fit(X_train_cl, y_train_cl)\n",
    "y_pred_cl_gb = gb_classifier.predict(X_test_cl)\n",
    "metrics(y_pred_cl_gb, y_test_cl)\n",
    "\n",
    "# K-fold\n",
    "k_fold_cl_gb = cross_validate(gb_classifier, X_train_cl, y_train_cl, cv=kf, scoring='f1')\n",
    "df_k_fold_cl_gb = pd.DataFrame(k_fold_cl_gb)\n",
    "df_k_fold_cl_gb"
   ]
  },
  {
   "cell_type": "code",
   "execution_count": 180,
   "id": "89ec3a1a",
   "metadata": {},
   "outputs": [
    {
     "data": {
      "text/plain": [
       "['models/classifier/gb_classifier_model']"
      ]
     },
     "execution_count": 180,
     "metadata": {},
     "output_type": "execute_result"
    }
   ],
   "source": [
    "joblib.dump(gb_classifier, 'models/classifier/gb_classifier_model')"
   ]
  },
  {
   "cell_type": "code",
   "execution_count": 181,
   "id": "fff51555",
   "metadata": {},
   "outputs": [],
   "source": [
    "gb_classifier = joblib.load((r'models/classifier/gb_classifier_model'))"
   ]
  },
  {
   "cell_type": "code",
   "execution_count": 182,
   "id": "03fa7e7f",
   "metadata": {},
   "outputs": [
    {
     "data": {
      "image/png": "[encoded data removed]",
      "text/plain": [
       "<Figure size 640x480 with 1 Axes>"
      ]
     },
     "metadata": {},
     "output_type": "display_data"
    }
   ],
   "source": [
    "cm_gb_cl = confusion_matrix(y_test_cl, y_pred_cl_gb)\n",
    "\n",
    "plt.figure()\n",
    "sns.heatmap(cm_gb_cl, annot=True, fmt='d', cbar=False)\n",
    "plt.title('Матрица ошибок')\n",
    "plt.show()"
   ]
  },
  {
   "cell_type": "markdown",
   "id": "dfb607a1",
   "metadata": {},
   "source": [
    "### StackingClassifier"
   ]
  },
  {
   "cell_type": "code",
   "execution_count": 183,
   "id": "acafc8dd",
   "metadata": {},
   "outputs": [
    {
     "name": "stdout",
     "output_type": "stream",
     "text": [
      "F1: 0.9169562195969423\n",
      "accuracy: 0.9795078453228158\n",
      "precision: 0.8741305067903279\n",
      "recall: 0.9641943734015346\n",
      "roc_auc_score: 0.9728689580349749\n"
     ]
    },
    {
     "data": {
      "application/vnd.microsoft.datawrangler.viewer.v0+json": {
       "columns": [
        {
         "name": "index",
         "rawType": "int64",
         "type": "integer"
        },
        {
         "name": "fit_time",
         "rawType": "float64",
         "type": "float"
        },
        {
         "name": "score_time",
         "rawType": "float64",
         "type": "float"
        },
        {
         "name": "test_score",
         "rawType": "float64",
         "type": "float"
        }
       ],
       "ref": "62af6595-dcb3-4453-a751-d551e8e285b5",
       "rows": [
        [
         "0",
         "58.60510778427124",
         "0.089019775390625",
         "0.9199392492948579"
        ],
        [
         "1",
         "57.511475563049316",
         "0.0896456241607666",
         "0.9250384699934051"
        ],
        [
         "2",
         "57.30116581916809",
         "0.08802008628845215",
         "0.9250928150251146"
        ],
        [
         "3",
         "58.20483040809631",
         "0.08802103996276855",
         "0.9239894551845342"
        ],
        [
         "4",
         "58.81838035583496",
         "0.08701968193054199",
         "0.9163952225841476"
        ]
       ],
       "shape": {
        "columns": 3,
        "rows": 5
       }
      },
      "text/html": [
       "<div>\n",
       "<style scoped>\n",
       "    .dataframe tbody tr th:only-of-type {\n",
       "        vertical-align: middle;\n",
       "    }\n",
       "\n",
       "    .dataframe tbody tr th {\n",
       "        vertical-align: top;\n",
       "    }\n",
       "\n",
       "    .dataframe thead th {\n",
       "        text-align: right;\n",
       "    }\n",
       "</style>\n",
       "<table border=\"1\" class=\"dataframe\">\n",
       "  <thead>\n",
       "    <tr style=\"text-align: right;\">\n",
       "      <th></th>\n",
       "      <th>fit_time</th>\n",
       "      <th>score_time</th>\n",
       "      <th>test_score</th>\n",
       "    </tr>\n",
       "  </thead>\n",
       "  <tbody>\n",
       "    <tr>\n",
       "      <th>0</th>\n",
       "      <td>58.605108</td>\n",
       "      <td>0.089020</td>\n",
       "      <td>0.919939</td>\n",
       "    </tr>\n",
       "    <tr>\n",
       "      <th>1</th>\n",
       "      <td>57.511476</td>\n",
       "      <td>0.089646</td>\n",
       "      <td>0.925038</td>\n",
       "    </tr>\n",
       "    <tr>\n",
       "      <th>2</th>\n",
       "      <td>57.301166</td>\n",
       "      <td>0.088020</td>\n",
       "      <td>0.925093</td>\n",
       "    </tr>\n",
       "    <tr>\n",
       "      <th>3</th>\n",
       "      <td>58.204830</td>\n",
       "      <td>0.088021</td>\n",
       "      <td>0.923989</td>\n",
       "    </tr>\n",
       "    <tr>\n",
       "      <th>4</th>\n",
       "      <td>58.818380</td>\n",
       "      <td>0.087020</td>\n",
       "      <td>0.916395</td>\n",
       "    </tr>\n",
       "  </tbody>\n",
       "</table>\n",
       "</div>"
      ],
      "text/plain": [
       "    fit_time  score_time  test_score\n",
       "0  58.605108    0.089020    0.919939\n",
       "1  57.511476    0.089646    0.925038\n",
       "2  57.301166    0.088020    0.925093\n",
       "3  58.204830    0.088021    0.923989\n",
       "4  58.818380    0.087020    0.916395"
      ]
     },
     "execution_count": 183,
     "metadata": {},
     "output_type": "execute_result"
    }
   ],
   "source": [
    "estimators = [\n",
    "    ('rf', RandomForestClassifier(\n",
    "        bootstrap=best_params['RandomForestClassifier']['RandomizedSearchCV']['params']['model__bootstrap'],\n",
    "        ccp_alpha=best_params['RandomForestClassifier']['RandomizedSearchCV']['params']['model__ccp_alpha'],\n",
    "        criterion=best_params['RandomForestClassifier']['RandomizedSearchCV']['params']['model__criterion'],\n",
    "        max_depth=best_params['RandomForestClassifier']['RandomizedSearchCV']['params']['model__max_depth'],\n",
    "        max_features=best_params['RandomForestClassifier']['RandomizedSearchCV']['params']['model__max_features'],\n",
    "        min_samples_leaf=best_params['RandomForestClassifier']['RandomizedSearchCV']['params']['model__min_samples_leaf'],\n",
    "        min_samples_split=best_params['RandomForestClassifier']['RandomizedSearchCV']['params']['model__min_samples_split'],\n",
    "        n_estimators=best_params['RandomForestClassifier']['RandomizedSearchCV']['params']['model__n_estimators'],\n",
    "        oob_score=best_params['RandomForestClassifier']['RandomizedSearchCV']['params']['model__oob_score'],\n",
    "    )),\n",
    "    ('dt', DecisionTreeClassifier(\n",
    "        max_depth=best_params['DecisionTreeClassifier']['GridSearchCV']['params']['model__max_depth'],\n",
    "        class_weight=best_params['DecisionTreeClassifier']['GridSearchCV']['params']['model__class_weight'],\n",
    "        criterion=best_params['DecisionTreeClassifier']['GridSearchCV']['params']['model__criterion'],\n",
    "        min_samples_leaf=best_params['DecisionTreeClassifier']['GridSearchCV']['params']['model__min_samples_leaf'],\n",
    "    ))\n",
    "]\n",
    "\n",
    "st_classifier = build_pipeline(StackingClassifier(\n",
    "    estimators=estimators,\n",
    "    passthrough=best_params['StackingClassifier']['GridSearchCV']['params']['model__passthrough']\n",
    "))\n",
    "\n",
    "# Hold-out\n",
    "st_classifier.fit(X_train_cl, y_train_cl)\n",
    "y_pred_cl_st = st_classifier.predict(X_test_cl)\n",
    "metrics(y_pred_cl_st, y_test_cl)\n",
    "\n",
    "# K-fold\n",
    "k_fold_cl_st = cross_validate(st_classifier, X_train_cl, y_train_cl, cv=kf, scoring='f1')\n",
    "df_k_fold_cl_st = pd.DataFrame(k_fold_cl_st)\n",
    "df_k_fold_cl_st"
   ]
  },
  {
   "cell_type": "code",
   "execution_count": 184,
   "id": "2e585917",
   "metadata": {},
   "outputs": [
    {
     "data": {
      "text/plain": [
       "['models/classifier/st_classifier_model']"
      ]
     },
     "execution_count": 184,
     "metadata": {},
     "output_type": "execute_result"
    }
   ],
   "source": [
    "joblib.dump(st_classifier, 'models/classifier/st_classifier_model')"
   ]
  },
  {
   "cell_type": "code",
   "execution_count": 185,
   "id": "8ad3367b",
   "metadata": {},
   "outputs": [],
   "source": [
    "st_classifier = joblib.load((r'models/classifier/st_classifier_model'))"
   ]
  },
  {
   "cell_type": "code",
   "execution_count": 186,
   "id": "207d5253",
   "metadata": {},
   "outputs": [
    {
     "data": {
      "image/png": "[encoded data removed]",
      "text/plain": [
       "<Figure size 640x480 with 1 Axes>"
      ]
     },
     "metadata": {},
     "output_type": "display_data"
    }
   ],
   "source": [
    "cm_st_cl = confusion_matrix(y_test_cl, y_pred_cl_st)\n",
    "\n",
    "plt.figure()\n",
    "sns.heatmap(cm_st_cl, annot=True, fmt='d', cbar=False)\n",
    "plt.title('Матрица ошибок')\n",
    "plt.show()"
   ]
  },
  {
   "cell_type": "markdown",
   "id": "aee475fb",
   "metadata": {},
   "source": [
    "### CatBoost"
   ]
  },
  {
   "cell_type": "code",
   "execution_count": 187,
   "id": "0af470f3",
   "metadata": {},
   "outputs": [
    {
     "name": "stdout",
     "output_type": "stream",
     "text": [
      "F1: 0.9139344262295082\n",
      "accuracy: 0.9783932092943497\n",
      "precision: 0.8579672972106445\n",
      "recall: 0.9777128242601388\n",
      "roc_auc_score: 0.9780982402907377\n"
     ]
    },
    {
     "data": {
      "application/vnd.microsoft.datawrangler.viewer.v0+json": {
       "columns": [
        {
         "name": "index",
         "rawType": "int64",
         "type": "integer"
        },
        {
         "name": "fit_time",
         "rawType": "float64",
         "type": "float"
        },
        {
         "name": "score_time",
         "rawType": "float64",
         "type": "float"
        },
        {
         "name": "test_score",
         "rawType": "float64",
         "type": "float"
        }
       ],
       "ref": "0e1892f1-c8b4-4433-86a4-d407cf10c124",
       "rows": [
        [
         "0",
         "3.3256936073303223",
         "0.0290067195892334",
         "0.9159320576220168"
        ],
        [
         "1",
         "3.373688220977783",
         "0.020003318786621094",
         "0.9186869770435528"
        ],
        [
         "2",
         "3.251359224319458",
         "0.020004749298095703",
         "0.9151307329618517"
        ],
        [
         "3",
         "3.4341177940368652",
         "0.020005464553833008",
         "0.9215813350615684"
        ],
        [
         "4",
         "3.2756309509277344",
         "0.02100396156311035",
         "0.9178348069872763"
        ]
       ],
       "shape": {
        "columns": 3,
        "rows": 5
       }
      },
      "text/html": [
       "<div>\n",
       "<style scoped>\n",
       "    .dataframe tbody tr th:only-of-type {\n",
       "        vertical-align: middle;\n",
       "    }\n",
       "\n",
       "    .dataframe tbody tr th {\n",
       "        vertical-align: top;\n",
       "    }\n",
       "\n",
       "    .dataframe thead th {\n",
       "        text-align: right;\n",
       "    }\n",
       "</style>\n",
       "<table border=\"1\" class=\"dataframe\">\n",
       "  <thead>\n",
       "    <tr style=\"text-align: right;\">\n",
       "      <th></th>\n",
       "      <th>fit_time</th>\n",
       "      <th>score_time</th>\n",
       "      <th>test_score</th>\n",
       "    </tr>\n",
       "  </thead>\n",
       "  <tbody>\n",
       "    <tr>\n",
       "      <th>0</th>\n",
       "      <td>3.325694</td>\n",
       "      <td>0.029007</td>\n",
       "      <td>0.915932</td>\n",
       "    </tr>\n",
       "    <tr>\n",
       "      <th>1</th>\n",
       "      <td>3.373688</td>\n",
       "      <td>0.020003</td>\n",
       "      <td>0.918687</td>\n",
       "    </tr>\n",
       "    <tr>\n",
       "      <th>2</th>\n",
       "      <td>3.251359</td>\n",
       "      <td>0.020005</td>\n",
       "      <td>0.915131</td>\n",
       "    </tr>\n",
       "    <tr>\n",
       "      <th>3</th>\n",
       "      <td>3.434118</td>\n",
       "      <td>0.020005</td>\n",
       "      <td>0.921581</td>\n",
       "    </tr>\n",
       "    <tr>\n",
       "      <th>4</th>\n",
       "      <td>3.275631</td>\n",
       "      <td>0.021004</td>\n",
       "      <td>0.917835</td>\n",
       "    </tr>\n",
       "  </tbody>\n",
       "</table>\n",
       "</div>"
      ],
      "text/plain": [
       "   fit_time  score_time  test_score\n",
       "0  3.325694    0.029007    0.915932\n",
       "1  3.373688    0.020003    0.918687\n",
       "2  3.251359    0.020005    0.915131\n",
       "3  3.434118    0.020005    0.921581\n",
       "4  3.275631    0.021004    0.917835"
      ]
     },
     "execution_count": 187,
     "metadata": {},
     "output_type": "execute_result"
    }
   ],
   "source": [
    "cb_classifier = build_pipeline(CatBoostClassifier(\n",
    "    depth=best_params['CatBoostClassifier']['GridSearchCV']['params']['model__depth'],\n",
    "    iterations=best_params['CatBoostClassifier']['GridSearchCV']['params']['model__iterations'],\n",
    "    l2_leaf_reg=best_params['CatBoostClassifier']['GridSearchCV']['params']['model__l2_leaf_reg'],\n",
    "    learning_rate=best_params['CatBoostClassifier']['GridSearchCV']['params']['model__learning_rate'],\n",
    "    verbose=0\n",
    "))\n",
    "\n",
    "# Hold-out\n",
    "cb_classifier.fit(X_train_cl, y_train_cl)\n",
    "y_pred_cl_cb = cb_classifier.predict(X_test_cl)\n",
    "metrics(y_pred_cl_cb, y_test_cl)\n",
    "\n",
    "# K-fold\n",
    "k_fold_cl_cb = cross_validate(cb_classifier, X_train_cl, y_train_cl, cv=kf, scoring='f1')\n",
    "df_k_fold_cl_cb = pd.DataFrame(k_fold_cl_cb)\n",
    "df_k_fold_cl_cb"
   ]
  },
  {
   "cell_type": "code",
   "execution_count": 188,
   "id": "d12b360a",
   "metadata": {},
   "outputs": [
    {
     "data": {
      "text/plain": [
       "['models/classifier/cb_classifier_model']"
      ]
     },
     "execution_count": 188,
     "metadata": {},
     "output_type": "execute_result"
    }
   ],
   "source": [
    "joblib.dump(cb_classifier, 'models/classifier/cb_classifier_model')"
   ]
  },
  {
   "cell_type": "code",
   "execution_count": 189,
   "id": "44131068",
   "metadata": {},
   "outputs": [],
   "source": [
    "cb_classifier = joblib.load('models/classifier/cb_classifier_model')"
   ]
  },
  {
   "cell_type": "code",
   "execution_count": 190,
   "id": "3811e0db",
   "metadata": {},
   "outputs": [
    {
     "data": {
      "image/png": "[encoded data removed]",
      "text/plain": [
       "<Figure size 640x480 with 1 Axes>"
      ]
     },
     "metadata": {},
     "output_type": "display_data"
    }
   ],
   "source": [
    "cm_cb_cl = confusion_matrix(y_test_cl, y_pred_cl_cb)\n",
    "\n",
    "plt.figure()\n",
    "sns.heatmap(cm_cb_cl, annot=True, fmt='d', cbar=False)\n",
    "plt.title('Матрица ошибок')\n",
    "plt.show()"
   ]
  },
  {
   "cell_type": "markdown",
   "id": "6797c139",
   "metadata": {},
   "source": [
    "### XGBoost"
   ]
  },
  {
   "cell_type": "code",
   "execution_count": 191,
   "id": "4250faa7",
   "metadata": {},
   "outputs": [
    {
     "name": "stdout",
     "output_type": "stream",
     "text": [
      "F1: 0.8956477902873466\n",
      "accuracy: 0.9733773471662522\n",
      "precision: 0.8291848164281269\n",
      "recall: 0.9736938253562295\n",
      "roc_auc_score: 0.9735145507372726\n"
     ]
    },
    {
     "data": {
      "application/vnd.microsoft.datawrangler.viewer.v0+json": {
       "columns": [
        {
         "name": "index",
         "rawType": "int64",
         "type": "integer"
        },
        {
         "name": "fit_time",
         "rawType": "float64",
         "type": "float"
        },
        {
         "name": "score_time",
         "rawType": "float64",
         "type": "float"
        },
        {
         "name": "test_score",
         "rawType": "float64",
         "type": "float"
        }
       ],
       "ref": "5b0e6b02-a470-4620-a2a9-b53faf1801a8",
       "rows": [
        [
         "0",
         "0.2727391719818115",
         "0.016002893447875977",
         "0.9022429115531104"
        ],
        [
         "1",
         "0.2160489559173584",
         "0.018004179000854492",
         "0.9004000842282586"
        ],
        [
         "2",
         "0.2655670642852783",
         "0.0200045108795166",
         "0.8966094600251151"
        ],
        [
         "3",
         "0.2369542121887207",
         "0.019003868103027344",
         "0.9085495533815398"
        ],
        [
         "4",
         "0.21155333518981934",
         "0.021004676818847656",
         "0.9028279821390601"
        ]
       ],
       "shape": {
        "columns": 3,
        "rows": 5
       }
      },
      "text/html": [
       "<div>\n",
       "<style scoped>\n",
       "    .dataframe tbody tr th:only-of-type {\n",
       "        vertical-align: middle;\n",
       "    }\n",
       "\n",
       "    .dataframe tbody tr th {\n",
       "        vertical-align: top;\n",
       "    }\n",
       "\n",
       "    .dataframe thead th {\n",
       "        text-align: right;\n",
       "    }\n",
       "</style>\n",
       "<table border=\"1\" class=\"dataframe\">\n",
       "  <thead>\n",
       "    <tr style=\"text-align: right;\">\n",
       "      <th></th>\n",
       "      <th>fit_time</th>\n",
       "      <th>score_time</th>\n",
       "      <th>test_score</th>\n",
       "    </tr>\n",
       "  </thead>\n",
       "  <tbody>\n",
       "    <tr>\n",
       "      <th>0</th>\n",
       "      <td>0.272739</td>\n",
       "      <td>0.016003</td>\n",
       "      <td>0.902243</td>\n",
       "    </tr>\n",
       "    <tr>\n",
       "      <th>1</th>\n",
       "      <td>0.216049</td>\n",
       "      <td>0.018004</td>\n",
       "      <td>0.900400</td>\n",
       "    </tr>\n",
       "    <tr>\n",
       "      <th>2</th>\n",
       "      <td>0.265567</td>\n",
       "      <td>0.020005</td>\n",
       "      <td>0.896609</td>\n",
       "    </tr>\n",
       "    <tr>\n",
       "      <th>3</th>\n",
       "      <td>0.236954</td>\n",
       "      <td>0.019004</td>\n",
       "      <td>0.908550</td>\n",
       "    </tr>\n",
       "    <tr>\n",
       "      <th>4</th>\n",
       "      <td>0.211553</td>\n",
       "      <td>0.021005</td>\n",
       "      <td>0.902828</td>\n",
       "    </tr>\n",
       "  </tbody>\n",
       "</table>\n",
       "</div>"
      ],
      "text/plain": [
       "   fit_time  score_time  test_score\n",
       "0  0.272739    0.016003    0.902243\n",
       "1  0.216049    0.018004    0.900400\n",
       "2  0.265567    0.020005    0.896609\n",
       "3  0.236954    0.019004    0.908550\n",
       "4  0.211553    0.021005    0.902828"
      ]
     },
     "execution_count": 191,
     "metadata": {},
     "output_type": "execute_result"
    }
   ],
   "source": [
    "xgb_classifier = build_pipeline(XGBClassifier(\n",
    "    learning_rate=best_params['XGBClassifier']['GridSearchCV']['params']['model__learning_rate'],\n",
    "    max_depth=best_params['XGBClassifier']['GridSearchCV']['params']['model__max_depth'],\n",
    "    n_estimators=best_params['XGBClassifier']['GridSearchCV']['params']['model__n_estimators'],\n",
    "    subsample=best_params['XGBClassifier']['GridSearchCV']['params']['model__subsample'],\n",
    "))\n",
    "\n",
    "# Hold-out\n",
    "xgb_classifier.fit(X_train_cl, y_train_cl)\n",
    "y_pred_cl_xgb = xgb_classifier.predict(X_test_cl)\n",
    "metrics(y_pred_cl_xgb, y_test_cl)\n",
    "\n",
    "# K-fold\n",
    "k_fold_cl_xgb = cross_validate(xgb_classifier, X_train_cl, y_train_cl, cv=kf, scoring='f1')\n",
    "df_k_fold_cl_xgb = pd.DataFrame(k_fold_cl_xgb)\n",
    "df_k_fold_cl_xgb"
   ]
  },
  {
   "cell_type": "code",
   "execution_count": 192,
   "id": "cb42b182",
   "metadata": {},
   "outputs": [
    {
     "data": {
      "text/plain": [
       "['models/classifier/xgb_classifier_model']"
      ]
     },
     "execution_count": 192,
     "metadata": {},
     "output_type": "execute_result"
    }
   ],
   "source": [
    "joblib.dump(xgb_classifier, 'models/classifier/xgb_classifier_model')"
   ]
  },
  {
   "cell_type": "code",
   "execution_count": 193,
   "id": "da129eb8",
   "metadata": {},
   "outputs": [],
   "source": [
    "xgb_classifier = joblib.load('models/classifier/xgb_classifier_model')"
   ]
  },
  {
   "cell_type": "code",
   "execution_count": 194,
   "id": "2d60d92c",
   "metadata": {},
   "outputs": [
    {
     "data": {
      "image/png": "[encoded data removed]",
      "text/plain": [
       "<Figure size 640x480 with 1 Axes>"
      ]
     },
     "metadata": {},
     "output_type": "display_data"
    }
   ],
   "source": [
    "cm_xgb_cl = confusion_matrix(y_test_cl, y_pred_cl_xgb)\n",
    "\n",
    "plt.figure()\n",
    "sns.heatmap(cm_xgb_cl, annot=True, fmt='d', cbar=False)\n",
    "plt.title('Матрица ошибок')\n",
    "plt.show()"
   ]
  },
  {
   "cell_type": "markdown",
   "id": "d9a36fa5",
   "metadata": {},
   "source": [
    "### LightGBM"
   ]
  },
  {
   "cell_type": "code",
   "execution_count": 195,
   "id": "651127d7",
   "metadata": {},
   "outputs": [
    {
     "name": "stdout",
     "output_type": "stream",
     "text": [
      "F1: 0.9117748026089941\n",
      "accuracy: 0.977964503129555\n",
      "precision: 0.8598251861443833\n",
      "recall: 0.9704055535257581\n",
      "roc_auc_score: 0.9746874530463313\n"
     ]
    },
    {
     "data": {
      "application/vnd.microsoft.datawrangler.viewer.v0+json": {
       "columns": [
        {
         "name": "index",
         "rawType": "int64",
         "type": "integer"
        },
        {
         "name": "fit_time",
         "rawType": "float64",
         "type": "float"
        },
        {
         "name": "score_time",
         "rawType": "float64",
         "type": "float"
        },
        {
         "name": "test_score",
         "rawType": "float64",
         "type": "float"
        }
       ],
       "ref": "31c93521-be38-4eeb-be73-4ce0d641cceb",
       "rows": [
        [
         "0",
         "1.203125238418579",
         "0.07101726531982422",
         "0.9133419133419134"
        ],
        [
         "1",
         "1.0433738231658936",
         "0.07001543045043945",
         "0.9163793103448276"
        ],
        [
         "2",
         "1.1590588092803955",
         "0.0676412582397461",
         "0.9086620926243568"
        ],
        [
         "3",
         "1.0470037460327148",
         "0.0670158863067627",
         "0.918848734040251"
        ],
        [
         "4",
         "1.285508394241333",
         "0.0690159797668457",
         "0.9076028429894465"
        ]
       ],
       "shape": {
        "columns": 3,
        "rows": 5
       }
      },
      "text/html": [
       "<div>\n",
       "<style scoped>\n",
       "    .dataframe tbody tr th:only-of-type {\n",
       "        vertical-align: middle;\n",
       "    }\n",
       "\n",
       "    .dataframe tbody tr th {\n",
       "        vertical-align: top;\n",
       "    }\n",
       "\n",
       "    .dataframe thead th {\n",
       "        text-align: right;\n",
       "    }\n",
       "</style>\n",
       "<table border=\"1\" class=\"dataframe\">\n",
       "  <thead>\n",
       "    <tr style=\"text-align: right;\">\n",
       "      <th></th>\n",
       "      <th>fit_time</th>\n",
       "      <th>score_time</th>\n",
       "      <th>test_score</th>\n",
       "    </tr>\n",
       "  </thead>\n",
       "  <tbody>\n",
       "    <tr>\n",
       "      <th>0</th>\n",
       "      <td>1.203125</td>\n",
       "      <td>0.071017</td>\n",
       "      <td>0.913342</td>\n",
       "    </tr>\n",
       "    <tr>\n",
       "      <th>1</th>\n",
       "      <td>1.043374</td>\n",
       "      <td>0.070015</td>\n",
       "      <td>0.916379</td>\n",
       "    </tr>\n",
       "    <tr>\n",
       "      <th>2</th>\n",
       "      <td>1.159059</td>\n",
       "      <td>0.067641</td>\n",
       "      <td>0.908662</td>\n",
       "    </tr>\n",
       "    <tr>\n",
       "      <th>3</th>\n",
       "      <td>1.047004</td>\n",
       "      <td>0.067016</td>\n",
       "      <td>0.918849</td>\n",
       "    </tr>\n",
       "    <tr>\n",
       "      <th>4</th>\n",
       "      <td>1.285508</td>\n",
       "      <td>0.069016</td>\n",
       "      <td>0.907603</td>\n",
       "    </tr>\n",
       "  </tbody>\n",
       "</table>\n",
       "</div>"
      ],
      "text/plain": [
       "   fit_time  score_time  test_score\n",
       "0  1.203125    0.071017    0.913342\n",
       "1  1.043374    0.070015    0.916379\n",
       "2  1.159059    0.067641    0.908662\n",
       "3  1.047004    0.067016    0.918849\n",
       "4  1.285508    0.069016    0.907603"
      ]
     },
     "execution_count": 195,
     "metadata": {},
     "output_type": "execute_result"
    }
   ],
   "source": [
    "lb_classifier = build_pipeline(LGBMClassifier(\n",
    "    learning_rate=best_params['LGBMClassifier']['GridSearchCV']['params']['model__learning_rate'],\n",
    "    n_estimators=best_params['LGBMClassifier']['GridSearchCV']['params']['model__n_estimators'],\n",
    "    num_leaves=best_params['LGBMClassifier']['GridSearchCV']['params']['model__num_leaves'],\n",
    "    subsample=best_params['LGBMClassifier']['GridSearchCV']['params']['model__subsample'],\n",
    "    verbose=-1\n",
    "))\n",
    "\n",
    "# Hold-out\n",
    "lb_classifier.fit(X_train_cl, y_train_cl)\n",
    "y_pred_cl_lb = lb_classifier.predict(X_test_cl)\n",
    "metrics(y_pred_cl_lb, y_test_cl)\n",
    "\n",
    "# K-fold\n",
    "k_fold_cl_lb = cross_validate(lb_classifier, X_train_cl, y_train_cl, cv=kf, scoring='f1')\n",
    "df_k_fold_cl_lb = pd.DataFrame(k_fold_cl_lb)\n",
    "df_k_fold_cl_lb"
   ]
  },
  {
   "cell_type": "code",
   "execution_count": 200,
   "id": "af180699",
   "metadata": {},
   "outputs": [
    {
     "name": "stdout",
     "output_type": "stream",
     "text": [
      "                        Model  Accuracy  Precision    Recall  F1-score\n",
      "0           BaggingClassifier  0.963903   0.898457  0.938369  0.917059\n",
      "1          CatBoostClassifier  0.978393   0.927474  0.978098  0.950790\n",
      "2      DecisionTreeClassifier  0.978393   0.932277  0.970020  0.950043\n",
      "3  GradientBoostingClassifier  0.979422   0.931177  0.978047  0.952913\n",
      "4              LGBMClassifier  0.977965   0.927911  0.974687  0.949592\n",
      "5      RandomForestClassifier  0.978307   0.928015  0.976624  0.950479\n",
      "6          StackingClassifier  0.979508   0.934652  0.972869  0.952634\n",
      "7               XGBClassifier  0.973377   0.912802  0.973515  0.940195\n"
     ]
    }
   ],
   "source": [
    "predictions = [y_pred_cl_bc, y_pred_cl_cb, y_pred_cl_dt, y_pred_cl_gb, y_pred_cl_lb, y_pred_cl_rf, y_pred_cl_st, y_pred_cl_xgb]\n",
    "names = ['BaggingClassifier', 'CatBoostClassifier', 'DecisionTreeClassifier', 'GradientBoostingClassifier', 'LGBMClassifier', 'RandomForestClassifier', 'StackingClassifier', 'XGBClassifier']\n",
    "\n",
    "results = []\n",
    "for name, preds in zip(names, predictions):\n",
    "    results.append({\n",
    "        'Model': name,\n",
    "        'Accuracy': accuracy_score(y_test_cl, preds),\n",
    "        'Precision': precision_score(y_test_cl, preds, average='macro'),\n",
    "        'Recall': recall_score(y_test_cl, preds, average='macro'),\n",
    "        'F1-score': f1_score(y_test_cl, preds, average='macro')\n",
    "    })\n",
    "\n",
    "df_results = pd.DataFrame(results)\n",
    "print(df_results)"
   ]
  },
  {
   "cell_type": "code",
   "execution_count": 204,
   "id": "2a1746f0",
   "metadata": {},
   "outputs": [
    {
     "name": "stdout",
     "output_type": "stream",
     "text": [
      "Лучшая модель по Accuracy: StackingClassifier (Accuracy = 0.9795)\n",
      "Лучшая модель по Precision: StackingClassifier (Precision = 0.9347)\n",
      "Лучшая модель по Recall: CatBoostClassifier (Recall = 0.9781)\n",
      "Лучшая модель по F1-score: GradientBoostingClassifier (F1-score = 0.9529)\n"
     ]
    }
   ],
   "source": [
    "for metric in ['Accuracy', 'Precision', 'Recall', 'F1-score']:\n",
    "    best = df_results.loc[df_results[metric].idxmax()]\n",
    "    print(f\"Лучшая модель по {metric}: {best['Model']} ({metric} = {best[metric]:.4f})\")"
   ]
  }
 ],
 "metadata": {
  "kernelspec": {
   "display_name": "Python 3",
   "language": "python",
   "name": "python3"
  },
  "language_info": {
   "codemirror_mode": {
    "name": "ipython",
    "version": 3
   },
   "file_extension": ".py",
   "mimetype": "text/x-python",
   "name": "python",
   "nbconvert_exporter": "python",
   "pygments_lexer": "ipython3",
   "version": "3.11.5"
  }
 },
 "nbformat": 4,
 "nbformat_minor": 5
}
