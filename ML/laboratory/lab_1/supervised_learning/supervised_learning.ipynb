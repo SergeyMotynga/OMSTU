{
 "cells": [
  {
   "cell_type": "code",
   "execution_count": 1,
   "metadata": {},
   "outputs": [
    {
     "data": {
      "text/html": [
       "<div>\n",
       "<style scoped>\n",
       "    .dataframe tbody tr th:only-of-type {\n",
       "        vertical-align: middle;\n",
       "    }\n",
       "\n",
       "    .dataframe tbody tr th {\n",
       "        vertical-align: top;\n",
       "    }\n",
       "\n",
       "    .dataframe thead th {\n",
       "        text-align: right;\n",
       "    }\n",
       "</style>\n",
       "<table border=\"1\" class=\"dataframe\">\n",
       "  <thead>\n",
       "    <tr style=\"text-align: right;\">\n",
       "      <th></th>\n",
       "      <th>price</th>\n",
       "      <th>area</th>\n",
       "      <th>latitude</th>\n",
       "      <th>longitude</th>\n",
       "      <th>bedrooms</th>\n",
       "      <th>bathrooms</th>\n",
       "      <th>balcony</th>\n",
       "      <th>status</th>\n",
       "      <th>neworold</th>\n",
       "      <th>parking</th>\n",
       "      <th>furnished_status</th>\n",
       "      <th>lift</th>\n",
       "      <th>type_of_building</th>\n",
       "    </tr>\n",
       "  </thead>\n",
       "  <tbody>\n",
       "    <tr>\n",
       "      <th>0</th>\n",
       "      <td>22400000</td>\n",
       "      <td>629</td>\n",
       "      <td>19.032800</td>\n",
       "      <td>72.896357</td>\n",
       "      <td>2</td>\n",
       "      <td>2</td>\n",
       "      <td>0</td>\n",
       "      <td>0</td>\n",
       "      <td>1</td>\n",
       "      <td>0</td>\n",
       "      <td>0</td>\n",
       "      <td>0</td>\n",
       "      <td>0</td>\n",
       "    </tr>\n",
       "    <tr>\n",
       "      <th>1</th>\n",
       "      <td>35000000</td>\n",
       "      <td>974</td>\n",
       "      <td>19.032800</td>\n",
       "      <td>72.896357</td>\n",
       "      <td>3</td>\n",
       "      <td>2</td>\n",
       "      <td>0</td>\n",
       "      <td>0</td>\n",
       "      <td>1</td>\n",
       "      <td>0</td>\n",
       "      <td>0</td>\n",
       "      <td>0</td>\n",
       "      <td>0</td>\n",
       "    </tr>\n",
       "    <tr>\n",
       "      <th>2</th>\n",
       "      <td>31700000</td>\n",
       "      <td>968</td>\n",
       "      <td>19.085600</td>\n",
       "      <td>72.909277</td>\n",
       "      <td>3</td>\n",
       "      <td>3</td>\n",
       "      <td>0</td>\n",
       "      <td>0</td>\n",
       "      <td>1</td>\n",
       "      <td>0</td>\n",
       "      <td>0</td>\n",
       "      <td>0</td>\n",
       "      <td>0</td>\n",
       "    </tr>\n",
       "    <tr>\n",
       "      <th>3</th>\n",
       "      <td>18700000</td>\n",
       "      <td>629</td>\n",
       "      <td>19.155756</td>\n",
       "      <td>72.846862</td>\n",
       "      <td>2</td>\n",
       "      <td>2</td>\n",
       "      <td>2</td>\n",
       "      <td>1</td>\n",
       "      <td>1</td>\n",
       "      <td>2</td>\n",
       "      <td>0</td>\n",
       "      <td>2</td>\n",
       "      <td>0</td>\n",
       "    </tr>\n",
       "    <tr>\n",
       "      <th>4</th>\n",
       "      <td>13500000</td>\n",
       "      <td>1090</td>\n",
       "      <td>19.177555</td>\n",
       "      <td>72.849887</td>\n",
       "      <td>2</td>\n",
       "      <td>2</td>\n",
       "      <td>0</td>\n",
       "      <td>1</td>\n",
       "      <td>1</td>\n",
       "      <td>0</td>\n",
       "      <td>0</td>\n",
       "      <td>0</td>\n",
       "      <td>0</td>\n",
       "    </tr>\n",
       "    <tr>\n",
       "      <th>...</th>\n",
       "      <td>...</td>\n",
       "      <td>...</td>\n",
       "      <td>...</td>\n",
       "      <td>...</td>\n",
       "      <td>...</td>\n",
       "      <td>...</td>\n",
       "      <td>...</td>\n",
       "      <td>...</td>\n",
       "      <td>...</td>\n",
       "      <td>...</td>\n",
       "      <td>...</td>\n",
       "      <td>...</td>\n",
       "      <td>...</td>\n",
       "    </tr>\n",
       "    <tr>\n",
       "      <th>6232</th>\n",
       "      <td>19500000</td>\n",
       "      <td>810</td>\n",
       "      <td>19.138320</td>\n",
       "      <td>72.810020</td>\n",
       "      <td>2</td>\n",
       "      <td>2</td>\n",
       "      <td>0</td>\n",
       "      <td>1</td>\n",
       "      <td>0</td>\n",
       "      <td>0</td>\n",
       "      <td>2</td>\n",
       "      <td>0</td>\n",
       "      <td>0</td>\n",
       "    </tr>\n",
       "    <tr>\n",
       "      <th>6233</th>\n",
       "      <td>22000000</td>\n",
       "      <td>1400</td>\n",
       "      <td>19.221920</td>\n",
       "      <td>72.854250</td>\n",
       "      <td>3</td>\n",
       "      <td>3</td>\n",
       "      <td>1</td>\n",
       "      <td>1</td>\n",
       "      <td>0</td>\n",
       "      <td>1</td>\n",
       "      <td>0</td>\n",
       "      <td>1</td>\n",
       "      <td>0</td>\n",
       "    </tr>\n",
       "    <tr>\n",
       "      <th>6234</th>\n",
       "      <td>20000000</td>\n",
       "      <td>750</td>\n",
       "      <td>19.144320</td>\n",
       "      <td>72.824111</td>\n",
       "      <td>2</td>\n",
       "      <td>2</td>\n",
       "      <td>0</td>\n",
       "      <td>1</td>\n",
       "      <td>0</td>\n",
       "      <td>0</td>\n",
       "      <td>0</td>\n",
       "      <td>0</td>\n",
       "      <td>0</td>\n",
       "    </tr>\n",
       "    <tr>\n",
       "      <th>6235</th>\n",
       "      <td>11000000</td>\n",
       "      <td>700</td>\n",
       "      <td>19.047201</td>\n",
       "      <td>72.872225</td>\n",
       "      <td>2</td>\n",
       "      <td>2</td>\n",
       "      <td>0</td>\n",
       "      <td>1</td>\n",
       "      <td>0</td>\n",
       "      <td>0</td>\n",
       "      <td>1</td>\n",
       "      <td>0</td>\n",
       "      <td>0</td>\n",
       "    </tr>\n",
       "    <tr>\n",
       "      <th>6236</th>\n",
       "      <td>15000000</td>\n",
       "      <td>900</td>\n",
       "      <td>19.168818</td>\n",
       "      <td>72.936375</td>\n",
       "      <td>2</td>\n",
       "      <td>2</td>\n",
       "      <td>0</td>\n",
       "      <td>1</td>\n",
       "      <td>0</td>\n",
       "      <td>0</td>\n",
       "      <td>0</td>\n",
       "      <td>0</td>\n",
       "      <td>0</td>\n",
       "    </tr>\n",
       "  </tbody>\n",
       "</table>\n",
       "<p>6237 rows × 13 columns</p>\n",
       "</div>"
      ],
      "text/plain": [
       "         price  area   latitude  longitude  bedrooms  bathrooms  balcony  \\\n",
       "0     22400000   629  19.032800  72.896357         2          2        0   \n",
       "1     35000000   974  19.032800  72.896357         3          2        0   \n",
       "2     31700000   968  19.085600  72.909277         3          3        0   \n",
       "3     18700000   629  19.155756  72.846862         2          2        2   \n",
       "4     13500000  1090  19.177555  72.849887         2          2        0   \n",
       "...        ...   ...        ...        ...       ...        ...      ...   \n",
       "6232  19500000   810  19.138320  72.810020         2          2        0   \n",
       "6233  22000000  1400  19.221920  72.854250         3          3        1   \n",
       "6234  20000000   750  19.144320  72.824111         2          2        0   \n",
       "6235  11000000   700  19.047201  72.872225         2          2        0   \n",
       "6236  15000000   900  19.168818  72.936375         2          2        0   \n",
       "\n",
       "      status  neworold  parking  furnished_status  lift  type_of_building  \n",
       "0          0         1        0                 0     0                 0  \n",
       "1          0         1        0                 0     0                 0  \n",
       "2          0         1        0                 0     0                 0  \n",
       "3          1         1        2                 0     2                 0  \n",
       "4          1         1        0                 0     0                 0  \n",
       "...      ...       ...      ...               ...   ...               ...  \n",
       "6232       1         0        0                 2     0                 0  \n",
       "6233       1         0        1                 0     1                 0  \n",
       "6234       1         0        0                 0     0                 0  \n",
       "6235       1         0        0                 1     0                 0  \n",
       "6236       1         0        0                 0     0                 0  \n",
       "\n",
       "[6237 rows x 13 columns]"
      ]
     },
     "execution_count": 1,
     "metadata": {},
     "output_type": "execute_result"
    }
   ],
   "source": [
    "import pandas as pd\n",
    "\n",
    "data = pd.read_csv('mumbai_houses_task_filtred.csv')\n",
    "data"
   ]
  },
  {
   "cell_type": "markdown",
   "metadata": {},
   "source": [
    "# Выделение целевого признака и предикторов"
   ]
  },
  {
   "cell_type": "code",
   "execution_count": 2,
   "metadata": {},
   "outputs": [
    {
     "data": {
      "text/plain": [
       "0       259319\n",
       "1       405186\n",
       "2       366983\n",
       "3       216485\n",
       "4       156286\n",
       "         ...  \n",
       "6232    225746\n",
       "6233    254688\n",
       "6234    231535\n",
       "6235    127344\n",
       "6236    173651\n",
       "Name: price, Length: 6237, dtype: int64"
      ]
     },
     "execution_count": 2,
     "metadata": {},
     "output_type": "execute_result"
    }
   ],
   "source": [
    "y = data['price']\n",
    "y = (y / 86.38).astype(int)\n",
    "X = data.drop(columns=[\"price\"], axis=1)\n",
    "y"
   ]
  },
  {
   "cell_type": "code",
   "execution_count": 3,
   "metadata": {},
   "outputs": [
    {
     "data": {
      "text/html": [
       "<div>\n",
       "<style scoped>\n",
       "    .dataframe tbody tr th:only-of-type {\n",
       "        vertical-align: middle;\n",
       "    }\n",
       "\n",
       "    .dataframe tbody tr th {\n",
       "        vertical-align: top;\n",
       "    }\n",
       "\n",
       "    .dataframe thead th {\n",
       "        text-align: right;\n",
       "    }\n",
       "</style>\n",
       "<table border=\"1\" class=\"dataframe\">\n",
       "  <thead>\n",
       "    <tr style=\"text-align: right;\">\n",
       "      <th></th>\n",
       "      <th>area</th>\n",
       "      <th>latitude</th>\n",
       "      <th>longitude</th>\n",
       "      <th>bedrooms</th>\n",
       "      <th>bathrooms</th>\n",
       "      <th>balcony</th>\n",
       "      <th>status</th>\n",
       "      <th>neworold</th>\n",
       "      <th>parking</th>\n",
       "      <th>furnished_status</th>\n",
       "      <th>lift</th>\n",
       "      <th>type_of_building</th>\n",
       "    </tr>\n",
       "  </thead>\n",
       "  <tbody>\n",
       "    <tr>\n",
       "      <th>0</th>\n",
       "      <td>629</td>\n",
       "      <td>19.032800</td>\n",
       "      <td>72.896357</td>\n",
       "      <td>2</td>\n",
       "      <td>2</td>\n",
       "      <td>0</td>\n",
       "      <td>0</td>\n",
       "      <td>1</td>\n",
       "      <td>0</td>\n",
       "      <td>0</td>\n",
       "      <td>0</td>\n",
       "      <td>0</td>\n",
       "    </tr>\n",
       "    <tr>\n",
       "      <th>1</th>\n",
       "      <td>974</td>\n",
       "      <td>19.032800</td>\n",
       "      <td>72.896357</td>\n",
       "      <td>3</td>\n",
       "      <td>2</td>\n",
       "      <td>0</td>\n",
       "      <td>0</td>\n",
       "      <td>1</td>\n",
       "      <td>0</td>\n",
       "      <td>0</td>\n",
       "      <td>0</td>\n",
       "      <td>0</td>\n",
       "    </tr>\n",
       "    <tr>\n",
       "      <th>2</th>\n",
       "      <td>968</td>\n",
       "      <td>19.085600</td>\n",
       "      <td>72.909277</td>\n",
       "      <td>3</td>\n",
       "      <td>3</td>\n",
       "      <td>0</td>\n",
       "      <td>0</td>\n",
       "      <td>1</td>\n",
       "      <td>0</td>\n",
       "      <td>0</td>\n",
       "      <td>0</td>\n",
       "      <td>0</td>\n",
       "    </tr>\n",
       "    <tr>\n",
       "      <th>3</th>\n",
       "      <td>629</td>\n",
       "      <td>19.155756</td>\n",
       "      <td>72.846862</td>\n",
       "      <td>2</td>\n",
       "      <td>2</td>\n",
       "      <td>2</td>\n",
       "      <td>1</td>\n",
       "      <td>1</td>\n",
       "      <td>2</td>\n",
       "      <td>0</td>\n",
       "      <td>2</td>\n",
       "      <td>0</td>\n",
       "    </tr>\n",
       "    <tr>\n",
       "      <th>4</th>\n",
       "      <td>1090</td>\n",
       "      <td>19.177555</td>\n",
       "      <td>72.849887</td>\n",
       "      <td>2</td>\n",
       "      <td>2</td>\n",
       "      <td>0</td>\n",
       "      <td>1</td>\n",
       "      <td>1</td>\n",
       "      <td>0</td>\n",
       "      <td>0</td>\n",
       "      <td>0</td>\n",
       "      <td>0</td>\n",
       "    </tr>\n",
       "    <tr>\n",
       "      <th>...</th>\n",
       "      <td>...</td>\n",
       "      <td>...</td>\n",
       "      <td>...</td>\n",
       "      <td>...</td>\n",
       "      <td>...</td>\n",
       "      <td>...</td>\n",
       "      <td>...</td>\n",
       "      <td>...</td>\n",
       "      <td>...</td>\n",
       "      <td>...</td>\n",
       "      <td>...</td>\n",
       "      <td>...</td>\n",
       "    </tr>\n",
       "    <tr>\n",
       "      <th>6232</th>\n",
       "      <td>810</td>\n",
       "      <td>19.138320</td>\n",
       "      <td>72.810020</td>\n",
       "      <td>2</td>\n",
       "      <td>2</td>\n",
       "      <td>0</td>\n",
       "      <td>1</td>\n",
       "      <td>0</td>\n",
       "      <td>0</td>\n",
       "      <td>2</td>\n",
       "      <td>0</td>\n",
       "      <td>0</td>\n",
       "    </tr>\n",
       "    <tr>\n",
       "      <th>6233</th>\n",
       "      <td>1400</td>\n",
       "      <td>19.221920</td>\n",
       "      <td>72.854250</td>\n",
       "      <td>3</td>\n",
       "      <td>3</td>\n",
       "      <td>1</td>\n",
       "      <td>1</td>\n",
       "      <td>0</td>\n",
       "      <td>1</td>\n",
       "      <td>0</td>\n",
       "      <td>1</td>\n",
       "      <td>0</td>\n",
       "    </tr>\n",
       "    <tr>\n",
       "      <th>6234</th>\n",
       "      <td>750</td>\n",
       "      <td>19.144320</td>\n",
       "      <td>72.824111</td>\n",
       "      <td>2</td>\n",
       "      <td>2</td>\n",
       "      <td>0</td>\n",
       "      <td>1</td>\n",
       "      <td>0</td>\n",
       "      <td>0</td>\n",
       "      <td>0</td>\n",
       "      <td>0</td>\n",
       "      <td>0</td>\n",
       "    </tr>\n",
       "    <tr>\n",
       "      <th>6235</th>\n",
       "      <td>700</td>\n",
       "      <td>19.047201</td>\n",
       "      <td>72.872225</td>\n",
       "      <td>2</td>\n",
       "      <td>2</td>\n",
       "      <td>0</td>\n",
       "      <td>1</td>\n",
       "      <td>0</td>\n",
       "      <td>0</td>\n",
       "      <td>1</td>\n",
       "      <td>0</td>\n",
       "      <td>0</td>\n",
       "    </tr>\n",
       "    <tr>\n",
       "      <th>6236</th>\n",
       "      <td>900</td>\n",
       "      <td>19.168818</td>\n",
       "      <td>72.936375</td>\n",
       "      <td>2</td>\n",
       "      <td>2</td>\n",
       "      <td>0</td>\n",
       "      <td>1</td>\n",
       "      <td>0</td>\n",
       "      <td>0</td>\n",
       "      <td>0</td>\n",
       "      <td>0</td>\n",
       "      <td>0</td>\n",
       "    </tr>\n",
       "  </tbody>\n",
       "</table>\n",
       "<p>6237 rows × 12 columns</p>\n",
       "</div>"
      ],
      "text/plain": [
       "      area   latitude  longitude  bedrooms  bathrooms  balcony  status  \\\n",
       "0      629  19.032800  72.896357         2          2        0       0   \n",
       "1      974  19.032800  72.896357         3          2        0       0   \n",
       "2      968  19.085600  72.909277         3          3        0       0   \n",
       "3      629  19.155756  72.846862         2          2        2       1   \n",
       "4     1090  19.177555  72.849887         2          2        0       1   \n",
       "...    ...        ...        ...       ...        ...      ...     ...   \n",
       "6232   810  19.138320  72.810020         2          2        0       1   \n",
       "6233  1400  19.221920  72.854250         3          3        1       1   \n",
       "6234   750  19.144320  72.824111         2          2        0       1   \n",
       "6235   700  19.047201  72.872225         2          2        0       1   \n",
       "6236   900  19.168818  72.936375         2          2        0       1   \n",
       "\n",
       "      neworold  parking  furnished_status  lift  type_of_building  \n",
       "0            1        0                 0     0                 0  \n",
       "1            1        0                 0     0                 0  \n",
       "2            1        0                 0     0                 0  \n",
       "3            1        2                 0     2                 0  \n",
       "4            1        0                 0     0                 0  \n",
       "...        ...      ...               ...   ...               ...  \n",
       "6232         0        0                 2     0                 0  \n",
       "6233         0        1                 0     1                 0  \n",
       "6234         0        0                 0     0                 0  \n",
       "6235         0        0                 1     0                 0  \n",
       "6236         0        0                 0     0                 0  \n",
       "\n",
       "[6237 rows x 12 columns]"
      ]
     },
     "execution_count": 3,
     "metadata": {},
     "output_type": "execute_result"
    }
   ],
   "source": [
    "X"
   ]
  },
  {
   "cell_type": "markdown",
   "metadata": {},
   "source": [
    "# Разбиение на обучающую и тестовую выборки"
   ]
  },
  {
   "cell_type": "code",
   "execution_count": 4,
   "metadata": {},
   "outputs": [
    {
     "data": {
      "text/plain": [
       "((4989, 12), (4989,), (1248, 12), (1248,))"
      ]
     },
     "execution_count": 4,
     "metadata": {},
     "output_type": "execute_result"
    }
   ],
   "source": [
    "from sklearn.model_selection import train_test_split\n",
    "\n",
    "X_train, X_test, y_train, y_test = train_test_split(X, y, test_size=0.2)\n",
    "X_train.shape, y_train.shape, X_test.shape, y_test.shape"
   ]
  },
  {
   "cell_type": "markdown",
   "metadata": {},
   "source": [
    "# Использование моделей для обучения"
   ]
  },
  {
   "cell_type": "code",
   "execution_count": 5,
   "metadata": {},
   "outputs": [],
   "source": [
    "# Импорт моделей обучения\n",
    "from sklearn.linear_model import LinearRegression, Lasso, Ridge, ElasticNet\n",
    "\n",
    "# Импорт метрик качества\n",
    "from sklearn.metrics import mean_absolute_error, mean_squared_error, mean_absolute_percentage_error, r2_score"
   ]
  },
  {
   "cell_type": "code",
   "execution_count": 6,
   "metadata": {},
   "outputs": [],
   "source": [
    "# Функция для отображения оценки предсказанных значений относительно реальных\n",
    "from math import sqrt\n",
    "\n",
    "def errors(predict_values, true_values=y_test):\n",
    "    print(\n",
    "        f'MAE = {mean_absolute_error(y_true=true_values, y_pred=predict_values)}',\n",
    "        f'MSE = {mean_squared_error(y_true=true_values, y_pred=predict_values)}',\n",
    "        f'RMSE = {sqrt(mean_squared_error(y_true=true_values, y_pred=predict_values))}',\n",
    "        f'MAPE = {mean_absolute_percentage_error(y_true=true_values, y_pred=predict_values)}',\n",
    "        f'R^2 = {r2_score(y_true=true_values, y_pred=predict_values)}',\n",
    "        sep='\\n'\n",
    "    )"
   ]
  },
  {
   "cell_type": "code",
   "execution_count": 7,
   "metadata": {},
   "outputs": [
    {
     "name": "stdout",
     "output_type": "stream",
     "text": [
      "MAE = 108654.73261928269\n",
      "MSE = 37839504026.46464\n",
      "RMSE = 194523.78781646382\n",
      "MAPE = 0.4862216380457203\n",
      "R^2 = 0.6818530903000228\n"
     ]
    },
    {
     "data": {
      "text/plain": [
       "array([ 2.34841177e+02, -9.30637362e+05, -8.55663862e+05, -4.16754985e+03,\n",
       "        1.02591376e+05,  9.90632423e+01, -5.27215508e+04,  1.46669689e+03,\n",
       "        9.90632423e+01,  4.39480566e+03,  9.90632423e+01,  4.55193668e+03])"
      ]
     },
     "execution_count": 7,
     "metadata": {},
     "output_type": "execute_result"
    }
   ],
   "source": [
    "# Предсказания для тестовой выборки (Линейная регрессия)\n",
    "lr = LinearRegression().fit(X_train, y_train)\n",
    "y_pred_lr = lr.predict(X_test)\n",
    "errors(y_pred_lr)\n",
    "lr.coef_"
   ]
  },
  {
   "cell_type": "code",
   "execution_count": 8,
   "metadata": {},
   "outputs": [
    {
     "data": {
      "image/png": "[encoded data removed]",
      "text/plain": [
       "<Figure size 640x480 with 1 Axes>"
      ]
     },
     "metadata": {},
     "output_type": "display_data"
    }
   ],
   "source": [
    "import matplotlib.pyplot as plt\n",
    "import seaborn as sns\n",
    "\n",
    "sns.kdeplot(y_pred_lr, color='red', label='Предсказанные', linewidth=2)\n",
    "sns.kdeplot(y_test, color='green', label='Реальные', linewidth=2)\n",
    "plt.legend()\n",
    "plt.show()"
   ]
  },
  {
   "cell_type": "code",
   "execution_count": 9,
   "metadata": {},
   "outputs": [],
   "source": [
    "# Маштабирование данных\n",
    "\n",
    "from sklearn.preprocessing import StandardScaler\n",
    "\n",
    "scaler = StandardScaler()\n",
    "X_train_scaled = scaler.fit_transform(X_train)\n",
    "X_test_scaled = scaler.transform(X_test)"
   ]
  },
  {
   "cell_type": "code",
   "execution_count": 10,
   "metadata": {},
   "outputs": [
    {
     "name": "stdout",
     "output_type": "stream",
     "text": [
      "MAE = 108654.39959575233\n",
      "MSE = 37839483722.07237\n",
      "RMSE = 194523.73562645863\n",
      "MAPE = 0.48621834979303175\n",
      "R^2 = 0.6818532610152535\n"
     ]
    },
    {
     "data": {
      "text/plain": [
       "array([ 1.51132672e+05, -1.01636764e+05, -5.07836522e+04, -3.15669979e+03,\n",
       "        7.88796459e+04,  9.27285168e+01, -1.29193589e+03,  4.71098958e+02,\n",
       "        0.00000000e+00,  3.52356292e+03,  2.91502823e+02,  1.16969439e+03])"
      ]
     },
     "execution_count": 10,
     "metadata": {},
     "output_type": "execute_result"
    }
   ],
   "source": [
    "# L1 модель (Lasso)\n",
    "lasso = Lasso(alpha=0.5, max_iter=50000).fit(X_train_scaled, y_train)\n",
    "y_pred_lasso = lasso.predict(X_test_scaled)\n",
    "errors(y_pred_lasso)\n",
    "lasso.coef_"
   ]
  },
  {
   "cell_type": "code",
   "execution_count": 11,
   "metadata": {},
   "outputs": [
    {
     "data": {
      "image/png": "[encoded data removed]",
      "text/plain": [
       "<Figure size 640x480 with 1 Axes>"
      ]
     },
     "metadata": {},
     "output_type": "display_data"
    }
   ],
   "source": [
    "sns.kdeplot(y_pred_lasso, color='red', label='Предсказанные', linewidth=2)\n",
    "sns.kdeplot(y_test, color='green', label='Реальные', linewidth=2)\n",
    "plt.legend()\n",
    "plt.show()"
   ]
  },
  {
   "cell_type": "code",
   "execution_count": 12,
   "metadata": {},
   "outputs": [
    {
     "name": "stdout",
     "output_type": "stream",
     "text": [
      "MAE = 108650.76056716315\n",
      "MSE = 37840887249.78695\n",
      "RMSE = 194527.34319315356\n",
      "MAPE = 0.4861749820181986\n",
      "R^2 = 0.6818414604376148\n"
     ]
    },
    {
     "data": {
      "text/plain": [
       "array([ 1.51105455e+05, -1.01629218e+05, -5.07798179e+04, -3.12831179e+03,\n",
       "        7.88695473e+04,  1.29310631e+02, -1.29184933e+03,  4.72200884e+02,\n",
       "        1.29310631e+02,  3.52323109e+03,  1.29310631e+02,  1.17000949e+03])"
      ]
     },
     "execution_count": 12,
     "metadata": {},
     "output_type": "execute_result"
    }
   ],
   "source": [
    "# L2 модель (Ridge)\n",
    "ridge = Ridge(alpha=0.5, max_iter=50000).fit(X_train_scaled, y_train)\n",
    "y_pred_ridge = ridge.predict(X_test_scaled)\n",
    "errors(y_pred_ridge)\n",
    "ridge.coef_"
   ]
  },
  {
   "cell_type": "code",
   "execution_count": 13,
   "metadata": {},
   "outputs": [
    {
     "data": {
      "image/png": "[encoded data removed]",
      "text/plain": [
       "<Figure size 640x480 with 1 Axes>"
      ]
     },
     "metadata": {},
     "output_type": "display_data"
    }
   ],
   "source": [
    "sns.kdeplot(y_pred_ridge, color='red', label='Предсказанные', linewidth=2)\n",
    "sns.kdeplot(y_test, color='green', label='Реальные', linewidth=2)\n",
    "plt.legend()\n",
    "plt.show()"
   ]
  },
  {
   "cell_type": "code",
   "execution_count": 14,
   "metadata": {},
   "outputs": [
    {
     "name": "stdout",
     "output_type": "stream",
     "text": [
      "MAE = 127082.28327775917\n",
      "MSE = 50198533057.99857\n",
      "RMSE = 224050.291358879\n",
      "MAPE = 0.5729928312039535\n",
      "R^2 = 0.5779408696079964\n"
     ]
    },
    {
     "data": {
      "text/plain": [
       "array([ 2.85960808e+02, -4.02970896e+04, -1.10097086e+04,  1.63940731e+04,\n",
       "        6.03175347e+04, -3.86288934e+03, -2.83824649e+02,  2.39139324e+03,\n",
       "       -3.86275562e+03,  2.97025469e+03, -3.86274335e+03, -1.83643248e+01])"
      ]
     },
     "execution_count": 14,
     "metadata": {},
     "output_type": "execute_result"
    }
   ],
   "source": [
    "# Elastic Net (комбинация L1 и L2)\n",
    "el = ElasticNet(alpha=0.5, max_iter=50000).fit(X_train, y_train)\n",
    "y_pred_el = el.predict(X_test)\n",
    "errors(y_pred_el)\n",
    "el.coef_"
   ]
  },
  {
   "cell_type": "code",
   "execution_count": 15,
   "metadata": {},
   "outputs": [
    {
     "data": {
      "image/png": "[encoded data removed]",
      "text/plain": [
       "<Figure size 640x480 with 1 Axes>"
      ]
     },
     "metadata": {},
     "output_type": "display_data"
    }
   ],
   "source": [
    "sns.kdeplot(y_pred_el, color='red', label='Предсказанные', linewidth=2)\n",
    "sns.kdeplot(y_test, color='green', label='Реальные', linewidth=2)\n",
    "plt.legend()\n",
    "plt.show()"
   ]
  },
  {
   "cell_type": "code",
   "execution_count": 16,
   "metadata": {},
   "outputs": [
    {
     "name": "stdout",
     "output_type": "stream",
     "text": [
      "MAE = 88775.43704897702\n",
      "MSE = 27397386504.49085\n",
      "RMSE = 165521.5590323232\n",
      "MAPE = 0.3509277853030005\n",
      "R^2 = 0.7696483060622716\n"
     ]
    },
    {
     "data": {
      "text/plain": [
       "array([ 1.26623818e+05, -9.59268197e+04, -7.17648883e+04,  2.21842933e+04,\n",
       "        1.96430618e+04,  6.77882875e+02, -9.97050689e-01,  2.27113563e+02,\n",
       "        6.77882875e+02,  2.12829491e+04,  6.77882875e+02,  4.50254073e+01,\n",
       "       -1.04512568e+04, -4.65658301e+04, -3.63148441e+04,  6.81029371e+03,\n",
       "        1.77254511e+04,  2.96392082e+02,  2.38058412e+03,  2.40985593e+03,\n",
       "        2.96392082e+02, -8.01570712e+03,  2.96392082e+02,  9.70679945e+03,\n",
       "        2.84665967e+03,  3.07531195e+04,  5.03622818e+03, -3.76996345e+04,\n",
       "        1.45904559e+03, -1.99160913e+03,  3.55376419e+03,  1.45904559e+03,\n",
       "       -1.74423540e+03,  1.45904559e+03,  2.26477376e+03,  5.10631670e+03,\n",
       "        1.29634852e+04, -1.82312666e+04, -6.72536513e+02, -1.59857994e+03,\n",
       "        1.85154696e+03, -6.72536513e+02, -5.35164442e+02, -6.72536513e+02,\n",
       "        1.03093049e+03, -1.75084923e+03,  1.34481505e+03, -3.38094247e+02,\n",
       "       -1.22576640e+03,  5.80715085e+03, -3.38094247e+02,  8.08668422e+03,\n",
       "       -3.38094247e+02, -1.67520658e+03,  2.28766529e+03,  3.36396100e+03,\n",
       "        1.45153408e+03, -3.60844586e+03,  3.36396100e+03, -1.56853743e+03,\n",
       "        3.36396100e+03,  2.03696264e+03, -9.97886415e+02,  1.72620539e+01,\n",
       "       -3.52998276e+02, -9.97886415e+02,  1.44089492e+03, -9.97886415e+02,\n",
       "        6.42969106e+02,  4.06229409e+01,  2.83261089e+00,  1.72620539e+01,\n",
       "        5.22749626e+02,  1.72620539e+01,  1.38040465e+00,  5.41054144e+02,\n",
       "       -3.52998276e+02,  1.76277023e+03, -3.52998276e+02, -2.31289182e+03,\n",
       "       -9.97886415e+02,  1.44089492e+03, -9.97886415e+02,  6.42969106e+02,\n",
       "       -1.82297008e+04,  1.44089492e+03, -3.58476389e+02, -9.97886415e+02,\n",
       "        6.42969106e+02,  1.50213078e+02])"
      ]
     },
     "execution_count": 16,
     "metadata": {},
     "output_type": "execute_result"
    }
   ],
   "source": [
    "# Полиномиальная регрессия\n",
    "\n",
    "from sklearn.preprocessing import PolynomialFeatures\n",
    "\n",
    "poly = PolynomialFeatures(degree=2, include_bias=False)\n",
    "X_train_p = poly.fit_transform(X_train_scaled)\n",
    "X_test_p = poly.transform(X_test_scaled)\n",
    "lr2 = LinearRegression().fit(X_train_p, y_train)\n",
    "y_pred_p = lr2.predict(X_test_p)\n",
    "errors(y_pred_p)\n",
    "lr2.coef_"
   ]
  },
  {
   "cell_type": "code",
   "execution_count": 17,
   "metadata": {},
   "outputs": [
    {
     "data": {
      "image/png": "[encoded data removed]",
      "text/plain": [
       "<Figure size 640x480 with 1 Axes>"
      ]
     },
     "metadata": {},
     "output_type": "display_data"
    }
   ],
   "source": [
    "sns.kdeplot(y_pred_p, color='red', label='Предсказанные', linewidth=2)\n",
    "sns.kdeplot(y_test, color='green', label='Реальные', linewidth=2)\n",
    "plt.legend()\n",
    "plt.show()"
   ]
  },
  {
   "cell_type": "code",
   "execution_count": 18,
   "metadata": {},
   "outputs": [
    {
     "name": "stdout",
     "output_type": "stream",
     "text": [
      "Остановка на итерации 3514, ||dw||: 0.000001, |db|: 0.000000\n",
      "MAE = 104924.15502139131\n",
      "MSE = 40231561706.74241\n",
      "RMSE = 200578.068857845\n",
      "MAPE = 0.4311423494987753\n",
      "R^2 = 0.6617411523033669\n"
     ]
    },
    {
     "data": {
      "text/plain": [
       "array([122326.93151046, -90583.42072753, -44690.65606098,  22643.98233061,\n",
       "        69803.09999465,   1154.24754754,   -788.20531756,   1015.02886404,\n",
       "         1154.24754754,   2610.73143729,   1154.24754754,    902.91618926])"
      ]
     },
     "execution_count": 18,
     "metadata": {},
     "output_type": "execute_result"
    }
   ],
   "source": [
    "from ridge import ridge\n",
    "\n",
    "my = ridge(alpha=0.3, n_iter=50000, learning_rate=0.01)\n",
    "my.fit(X_train_scaled, y_train)\n",
    "y_pred_my = my.predict(X_test_scaled)\n",
    "errors(y_pred_my)\n",
    "my.coef_()"
   ]
  },
  {
   "cell_type": "code",
   "execution_count": 19,
   "metadata": {},
   "outputs": [
    {
     "data": {
      "image/png": "[encoded data removed]",
      "text/plain": [
       "<Figure size 640x480 with 1 Axes>"
      ]
     },
     "metadata": {},
     "output_type": "display_data"
    }
   ],
   "source": [
    "sns.kdeplot(y_pred_my, color='red', label='Предсказанные', linewidth=2)\n",
    "sns.kdeplot(y_test, color='green', label='Реальные', linewidth=2)\n",
    "plt.legend()\n",
    "plt.show()"
   ]
  },
  {
   "cell_type": "markdown",
   "metadata": {},
   "source": [
    "# Поиск оптимального гиперпараметра для моделей "
   ]
  },
  {
   "cell_type": "code",
   "execution_count": 20,
   "metadata": {},
   "outputs": [],
   "source": [
    "# Импорт методов для подбора гиперпараметра\n",
    "from hyperparameter_search import hyperparameter_search\n",
    "import numpy as np"
   ]
  },
  {
   "cell_type": "code",
   "execution_count": 21,
   "metadata": {},
   "outputs": [
    {
     "name": "stdout",
     "output_type": "stream",
     "text": [
      "Лучший параметр для Lasso методом GridSearchCV: {'alpha': np.float64(10.0)}\n",
      "Лучший параметр для Lasso методом RandomizedSearchCV: {'alpha': np.float64(8.7)}\n",
      "Лучший параметр для Ridge методом GridSearchCV: {'alpha': np.float64(10.0)}\n",
      "Лучший параметр для Ridge методом RandomizedSearchCV: {'alpha': np.float64(9.9)}\n",
      "Лучший параметр для Elasticnet методом GridSearchCV: {'alpha': np.float64(0.1), 'l1_ratio': np.float64(0.9)}\n",
      "Лучший параметр для Elasticnet методом RandomizedSearchCV: {'l1_ratio': np.float64(0.6), 'alpha': np.float64(1.0)}\n"
     ]
    }
   ],
   "source": [
    "from hyperparameter_search import hyperparameter_search\n",
    "\n",
    "models, methods = ('lasso', 'ridge', 'elasticnet'), ('GridSearchCV', 'RandomizedSearchCV')\n",
    "parameters = {\n",
    "    'lasso': {'alpha': np.arange(0.1, 10.1, 0.1)},\n",
    "    'ridge': {'alpha': np.arange(0.1, 10.1, 0.1)},\n",
    "    'elasticnet': {'alpha': np.arange(0.1, 10.1, 0.1), 'l1_ratio': np.arange(0.1, 1.1, 0.1)}\n",
    "}\n",
    "\n",
    "best_parameters = {}\n",
    "\n",
    "for model in models:\n",
    "    for method in methods:\n",
    "        best_parameter = hyperparameter_search(model_name=model, method_search=method, parameters=parameters[model], X_train=X_train_scaled, y_train=y_train)\n",
    "        best_parameters[f'{model}_{method}'] = best_parameter\n",
    "        print(f'Лучший параметр для {model.capitalize()} методом {method}: {best_parameter}')"
   ]
  },
  {
   "cell_type": "code",
   "execution_count": 22,
   "metadata": {},
   "outputs": [
    {
     "ename": "ModuleNotFoundError",
     "evalue": "No module named 'optuna'",
     "output_type": "error",
     "traceback": [
      "\u001b[31m---------------------------------------------------------------------------\u001b[39m",
      "\u001b[31mModuleNotFoundError\u001b[39m                       Traceback (most recent call last)",
      "\u001b[36mCell\u001b[39m\u001b[36m \u001b[39m\u001b[32mIn[22]\u001b[39m\u001b[32m, line 3\u001b[39m\n\u001b[32m      1\u001b[39m \u001b[38;5;66;03m# Optuna\u001b[39;00m\n\u001b[32m----> \u001b[39m\u001b[32m3\u001b[39m \u001b[38;5;28;01mfrom\u001b[39;00m\u001b[38;5;250m \u001b[39m\u001b[34;01moptuna_best_params\u001b[39;00m\u001b[38;5;250m \u001b[39m\u001b[38;5;28;01mimport\u001b[39;00m optuna\n\u001b[32m      5\u001b[39m \u001b[38;5;28;01mfor\u001b[39;00m model \u001b[38;5;129;01min\u001b[39;00m models:\n\u001b[32m      6\u001b[39m     best_parameter = optuna(model, X_train=X_train_scaled, y_train=y_train, X_test=X_test_scaled, y_test=y_test)\n",
      "\u001b[36mFile \u001b[39m\u001b[32mc:\\Users\\motyn\\OneDrive\\Рабочий стол\\Репозитории\\OMSTU\\ML\\laboratory\\lab_1\\supervised_learning\\optuna_best_params.py:1\u001b[39m\n\u001b[32m----> \u001b[39m\u001b[32m1\u001b[39m \u001b[38;5;28;01mimport\u001b[39;00m\u001b[38;5;250m \u001b[39m\u001b[34;01moptuna\u001b[39;00m\u001b[38;5;250m \u001b[39m\u001b[38;5;28;01mas\u001b[39;00m\u001b[38;5;250m \u001b[39m\u001b[34;01mpt\u001b[39;00m\n\u001b[32m      2\u001b[39m \u001b[38;5;28;01mfrom\u001b[39;00m\u001b[38;5;250m \u001b[39m\u001b[34;01msklearn\u001b[39;00m\u001b[34;01m.\u001b[39;00m\u001b[34;01mmetrics\u001b[39;00m\u001b[38;5;250m \u001b[39m\u001b[38;5;28;01mimport\u001b[39;00m mean_squared_error\n\u001b[32m      3\u001b[39m \u001b[38;5;28;01mfrom\u001b[39;00m\u001b[38;5;250m \u001b[39m\u001b[34;01msklearn\u001b[39;00m\u001b[34;01m.\u001b[39;00m\u001b[34;01mlinear_model\u001b[39;00m\u001b[38;5;250m \u001b[39m\u001b[38;5;28;01mimport\u001b[39;00m Lasso, Ridge, ElasticNet\n",
      "\u001b[31mModuleNotFoundError\u001b[39m: No module named 'optuna'"
     ]
    }
   ],
   "source": [
    "# Optuna\n",
    "\n",
    "from optuna_best_params import optuna\n",
    "\n",
    "for model in models:\n",
    "    best_parameter = optuna(model, X_train=X_train_scaled, y_train=y_train, X_test=X_test_scaled, y_test=y_test)\n",
    "    best_parameters[f'{model}_optuna'] = best_parameter\n",
    "    print(f'Лучший параметр для {model.capitalize()} методом optuna: {best_parameter}')"
   ]
  },
  {
   "cell_type": "code",
   "execution_count": null,
   "metadata": {},
   "outputs": [
    {
     "name": "stdout",
     "output_type": "stream",
     "text": [
      "{'lasso_GridSearchCV': {'alpha': np.float64(10.0)}, 'lasso_RandomizedSearchCV': {'alpha': np.float64(9.3)}, 'ridge_GridSearchCV': {'alpha': np.float64(10.0)}, 'ridge_RandomizedSearchCV': {'alpha': np.float64(9.9)}, 'elasticnet_GridSearchCV': {'alpha': np.float64(0.2), 'l1_ratio': np.float64(0.9)}, 'elasticnet_RandomizedSearchCV': {'l1_ratio': np.float64(0.9), 'alpha': np.float64(1.9000000000000001)}, 'lasso_optuna': 99.9873718211225, 'ridge_optuna': 0.004617961442010099, 'elasticnet_optuna': (0.027056940204256197, 0.9404037617536398)}\n"
     ]
    }
   ],
   "source": [
    "print(best_parameters)"
   ]
  },
  {
   "cell_type": "markdown",
   "metadata": {},
   "source": [
    "# Построение pipelines"
   ]
  },
  {
   "cell_type": "code",
   "execution_count": null,
   "metadata": {},
   "outputs": [],
   "source": [
    "import importlib\n",
    "import Pipeline\n",
    "importlib.reload(Pipeline)\n",
    "from Pipeline import RegressionPipeline"
   ]
  },
  {
   "cell_type": "markdown",
   "metadata": {},
   "source": [
    "## 3.1. Простая линейная регрессия. Lasso-регрессия (L1-регуляризация). Ridgeрегрессия (L2-регуляризация). Elastic Net."
   ]
  },
  {
   "cell_type": "code",
   "execution_count": null,
   "metadata": {},
   "outputs": [],
   "source": [
    "X_simple_train = X_train.iloc[:, [0]]\n",
    "X_simple_test  = X_test.iloc[:, [0]]"
   ]
  },
  {
   "cell_type": "code",
   "execution_count": null,
   "metadata": {},
   "outputs": [
    {
     "name": "stdout",
     "output_type": "stream",
     "text": [
      "\tМодель: linear\n",
      "MAE = 129117.18207101803\n",
      "MSE = 48085806802.03343\n",
      "RMSE = 219284.7619011258\n",
      "MAPE = 0.6768557070965358\n",
      "R^2 = 0.5491852539510806\n",
      "--------------------------------------------------\n",
      "\tМодель: lasso\n",
      "MAE = 129117.18308055394\n",
      "MSE = 48085836041.47705\n",
      "RMSE = 219284.82857114638\n",
      "MAPE = 0.6768566757126939\n",
      "R^2 = 0.5491849798250291\n",
      "--------------------------------------------------\n",
      "\tМодель: ridge\n",
      "MAE = 129117.22803599824\n",
      "MSE = 48087140138.50028\n",
      "RMSE = 219287.80207412422\n",
      "MAPE = 0.6768998089680464\n",
      "R^2 = 0.5491727536359008\n",
      "--------------------------------------------------\n",
      "\tМодель: elasticnet\n",
      "MAE = 135696.57721377278\n",
      "MSE = 56074109843.452835\n",
      "RMSE = 236799.72517605007\n",
      "MAPE = 0.7786241047596745\n",
      "R^2 = 0.4742932006305358\n",
      "--------------------------------------------------\n"
     ]
    }
   ],
   "source": [
    "model_type = ('linear', 'lasso', 'ridge', 'elasticnet')\n",
    "model_scope = ('simple', 'multiply')\n",
    "\n",
    "for type in model_type:\n",
    "    model_pipe_simple = RegressionPipeline(model_scope='simple', model_type=type)\n",
    "    model_pipe_simple.fit(X_simple_train, y_train)\n",
    "    y_pred_pipe_simple = model_pipe_simple.predict(X_simple_test)\n",
    "    print(f'\\tМодель: {type}')\n",
    "    errors(predict_values=y_pred_pipe_simple)\n",
    "    print('-'*50)"
   ]
  },
  {
   "cell_type": "markdown",
   "metadata": {},
   "source": [
    "## 3.2. Множественная линейная регрессия. Lasso-регрессия (L1-регуляризация). Ridge-регрессия (L2-регуляризация). Elastic Net"
   ]
  },
  {
   "cell_type": "code",
   "execution_count": null,
   "metadata": {},
   "outputs": [
    {
     "name": "stdout",
     "output_type": "stream",
     "text": [
      "\tМодель: linear\n",
      "MAE = 103909.82176384573\n",
      "MSE = 34487713321.61319\n",
      "RMSE = 185708.67863838025\n",
      "MAPE = 0.514160051047986\n",
      "R^2 = 0.676670295106008\n",
      "--------------------------------------------------\n",
      "\tМодель: lasso\n",
      "MAE = 103909.27098295526\n",
      "MSE = 34487698588.817924\n",
      "RMSE = 185708.63897196038\n",
      "MAPE = 0.5141533019386779\n",
      "R^2 = 0.6766704332291216\n",
      "--------------------------------------------------\n",
      "\tМодель: ridge\n",
      "MAE = 103901.94536283214\n",
      "MSE = 34489224328.92871\n",
      "RMSE = 185712.74681326727\n",
      "MAPE = 0.5140609515646821\n",
      "R^2 = 0.6766561290885378\n",
      "--------------------------------------------------\n",
      "\tМодель: elasticnet\n",
      "MAE = 98289.53063278529\n",
      "MSE = 39292648098.620155\n",
      "RMSE = 198223.73243035295\n",
      "MAPE = 0.4064074610526317\n",
      "R^2 = 0.631623001625088\n",
      "--------------------------------------------------\n"
     ]
    }
   ],
   "source": [
    "for type in model_type:\n",
    "    model_pipe_multiply = RegressionPipeline(model_scope='simple', model_type=type)\n",
    "    model_pipe_multiply.fit(X_train, y_train)\n",
    "    y_pred_pipe_multiply = model_pipe_multiply.predict(X_test)\n",
    "    print(f'\\tМодель: {type}')\n",
    "    errors(predict_values=y_pred_pipe_multiply)\n",
    "    print('-'*50)"
   ]
  },
  {
   "cell_type": "markdown",
   "metadata": {},
   "source": [
    "## 3.3. Полиномиальная регрессия."
   ]
  },
  {
   "cell_type": "code",
   "execution_count": null,
   "metadata": {},
   "outputs": [
    {
     "name": "stdout",
     "output_type": "stream",
     "text": [
      "Степень: 2\n",
      "MAE = 86858.48035322211\n",
      "MSE = 26376854137.376347\n",
      "RMSE = 162409.52600563905\n",
      "MAPE = 0.366803799877682\n",
      "R^2 = 0.7527113385355975\n",
      "--------------------------------------------------\n",
      "Степень: 3\n",
      "MAE = 85863.73070806601\n",
      "MSE = 28996544566.012257\n",
      "RMSE = 170283.71785350546\n",
      "MAPE = 0.35328700684088005\n",
      "R^2 = 0.7281511792317437\n",
      "--------------------------------------------------\n",
      "Степень: 4\n",
      "MAE = 144417.01276625073\n",
      "MSE = 344182373804.2281\n",
      "RMSE = 586670.5837215874\n",
      "MAPE = 0.4815532630503665\n",
      "R^2 = -2.2267835305303834\n",
      "--------------------------------------------------\n"
     ]
    }
   ],
   "source": [
    "for i in range(2, 5):\n",
    "    model_pipe_poly = RegressionPipeline(model_scope='polynomial', model_type='linear', poly_degree=i)\n",
    "    model_pipe_poly.fit(X_train, y_train)\n",
    "    y_pred_pipe_poly = model_pipe_poly.predict(X_test)\n",
    "    print(f'Степень: {i}')\n",
    "    errors(predict_values=y_pred_pipe_poly)\n",
    "    print('-'*50)"
   ]
  },
  {
   "cell_type": "markdown",
   "metadata": {},
   "source": [
    "# Собственные метрики"
   ]
  },
  {
   "cell_type": "code",
   "execution_count": null,
   "metadata": {},
   "outputs": [],
   "source": [
    "import metrics\n",
    "importlib.reload(metrics)\n",
    "from metrics import mae, mse, r2_score_, mape, rmse"
   ]
  },
  {
   "cell_type": "code",
   "execution_count": null,
   "metadata": {},
   "outputs": [],
   "source": [
    "models = [y_pred_lr, y_pred_ridge, y_pred_lasso, y_pred_el, y_pred_p]\n",
    "\n",
    "original = {\n",
    "    'r2': [],\n",
    "    'mse': [],\n",
    "    'rmse': [],\n",
    "    'mae': [],\n",
    "    'mape': []\n",
    "}\n",
    "\n",
    "custom = {\n",
    "    'r2': [],\n",
    "    'mse': [],\n",
    "    'rmse': [],\n",
    "    'mae': [],\n",
    "    'mape': []\n",
    "}\n",
    "\n",
    "\n",
    "for model in models:\n",
    "    original['r2'].append(r2_score(y_true=y_test, y_pred=model))\n",
    "    original['mse'].append(mean_squared_error(y_true=y_test, y_pred=model))\n",
    "    original['rmse'].append(sqrt(mean_squared_error(y_true=y_test, y_pred=model)))\n",
    "    original['mae'].append(mean_absolute_error(y_true=y_test, y_pred=model))\n",
    "    original['mape'].append(mean_absolute_percentage_error(y_true=y_test, y_pred=model))\n",
    "    custom['r2'].append(r2_score_(y_true=y_test, y_pred=model))\n",
    "    custom['mse'].append(mse(y_true=y_test, y_pred=model))\n",
    "    custom['rmse'].append(rmse(y_true=y_test, y_pred=model))\n",
    "    custom['mae'].append(mae(y_true=y_test, y_pred=model))\n",
    "    custom['mape'].append(mape(y_true=y_test, y_pred=model))"
   ]
  },
  {
   "cell_type": "code",
   "execution_count": null,
   "metadata": {},
   "outputs": [],
   "source": [
    "data_original = pd.DataFrame(\n",
    "    {\n",
    "        \"R^2\":  original['r2'],\n",
    "        \"MSE\": original['mse'],\n",
    "        \"RMSE\": original['rmse'],\n",
    "        \"MAE\":  original['mae'],\n",
    "        \"MAPE\": original['mape'],\n",
    "    },\n",
    "    index=['Linear Regression', 'Ridge', 'Lasso', 'ElasticNet', 'Polynomial']\n",
    ")\n",
    "\n",
    "data_custom = pd.DataFrame(\n",
    "    {\n",
    "        \"R^2\":  custom['r2'],\n",
    "        \"MSE\": custom['mse'],\n",
    "        \"RMSE\": custom['rmse'],\n",
    "        \"MAE\":  custom['mae'],\n",
    "        \"MAPE\": custom['mape'],\n",
    "    },\n",
    "    index=['Linear Regression', 'Ridge', 'Lasso', 'ElasticNet', 'Polynomial']\n",
    ")"
   ]
  },
  {
   "cell_type": "code",
   "execution_count": null,
   "metadata": {},
   "outputs": [
    {
     "data": {
      "application/vnd.microsoft.datawrangler.viewer.v0+json": {
       "columns": [
        {
         "name": "index",
         "rawType": "object",
         "type": "string"
        },
        {
         "name": "R^2",
         "rawType": "float64",
         "type": "float"
        },
        {
         "name": "MSE",
         "rawType": "float64",
         "type": "float"
        },
        {
         "name": "RMSE",
         "rawType": "float64",
         "type": "float"
        },
        {
         "name": "MAE",
         "rawType": "float64",
         "type": "float"
        },
        {
         "name": "MAPE",
         "rawType": "float64",
         "type": "float"
        }
       ],
       "conversionMethod": "pd.DataFrame",
       "ref": "158db397-94de-41d9-bfd5-d777cb02325f",
       "rows": [
        [
         "Linear Regression",
         "0.6766702951060088",
         "34487713321.61309",
         "185708.67863838",
         "103909.82176384595",
         "0.5141600510479858"
        ],
        [
         "Ridge",
         "0.6766632137409359",
         "34488468649.95091",
         "185710.71226493886",
         "103905.87172305006",
         "0.5141103928880426"
        ],
        [
         "Lasso",
         "0.6766703664540514",
         "34487705711.329216",
         "185708.65814853442",
         "103909.54595905088",
         "0.5141566696318116"
        ],
        [
         "ElasticNet",
         "0.5809196596691265",
         "44700880919.04176",
         "211425.82841044225",
         "121272.40108551706",
         "0.6088986724628421"
        ],
        [
         "Polynomial",
         "0.7527113385355975",
         "26376854137.376347",
         "162409.52600563905",
         "86858.48035322211",
         "0.366803799877682"
        ]
       ],
       "shape": {
        "columns": 5,
        "rows": 5
       }
      },
      "text/html": [
       "<div>\n",
       "<style scoped>\n",
       "    .dataframe tbody tr th:only-of-type {\n",
       "        vertical-align: middle;\n",
       "    }\n",
       "\n",
       "    .dataframe tbody tr th {\n",
       "        vertical-align: top;\n",
       "    }\n",
       "\n",
       "    .dataframe thead th {\n",
       "        text-align: right;\n",
       "    }\n",
       "</style>\n",
       "<table border=\"1\" class=\"dataframe\">\n",
       "  <thead>\n",
       "    <tr style=\"text-align: right;\">\n",
       "      <th></th>\n",
       "      <th>R^2</th>\n",
       "      <th>MSE</th>\n",
       "      <th>RMSE</th>\n",
       "      <th>MAE</th>\n",
       "      <th>MAPE</th>\n",
       "    </tr>\n",
       "  </thead>\n",
       "  <tbody>\n",
       "    <tr>\n",
       "      <th>Linear Regression</th>\n",
       "      <td>0.676670</td>\n",
       "      <td>3.448771e+10</td>\n",
       "      <td>185708.678638</td>\n",
       "      <td>103909.821764</td>\n",
       "      <td>0.514160</td>\n",
       "    </tr>\n",
       "    <tr>\n",
       "      <th>Ridge</th>\n",
       "      <td>0.676663</td>\n",
       "      <td>3.448847e+10</td>\n",
       "      <td>185710.712265</td>\n",
       "      <td>103905.871723</td>\n",
       "      <td>0.514110</td>\n",
       "    </tr>\n",
       "    <tr>\n",
       "      <th>Lasso</th>\n",
       "      <td>0.676670</td>\n",
       "      <td>3.448771e+10</td>\n",
       "      <td>185708.658149</td>\n",
       "      <td>103909.545959</td>\n",
       "      <td>0.514157</td>\n",
       "    </tr>\n",
       "    <tr>\n",
       "      <th>ElasticNet</th>\n",
       "      <td>0.580920</td>\n",
       "      <td>4.470088e+10</td>\n",
       "      <td>211425.828410</td>\n",
       "      <td>121272.401086</td>\n",
       "      <td>0.608899</td>\n",
       "    </tr>\n",
       "    <tr>\n",
       "      <th>Polynomial</th>\n",
       "      <td>0.752711</td>\n",
       "      <td>2.637685e+10</td>\n",
       "      <td>162409.526006</td>\n",
       "      <td>86858.480353</td>\n",
       "      <td>0.366804</td>\n",
       "    </tr>\n",
       "  </tbody>\n",
       "</table>\n",
       "</div>"
      ],
      "text/plain": [
       "                        R^2           MSE           RMSE            MAE  \\\n",
       "Linear Regression  0.676670  3.448771e+10  185708.678638  103909.821764   \n",
       "Ridge              0.676663  3.448847e+10  185710.712265  103905.871723   \n",
       "Lasso              0.676670  3.448771e+10  185708.658149  103909.545959   \n",
       "ElasticNet         0.580920  4.470088e+10  211425.828410  121272.401086   \n",
       "Polynomial         0.752711  2.637685e+10  162409.526006   86858.480353   \n",
       "\n",
       "                       MAPE  \n",
       "Linear Regression  0.514160  \n",
       "Ridge              0.514110  \n",
       "Lasso              0.514157  \n",
       "ElasticNet         0.608899  \n",
       "Polynomial         0.366804  "
      ]
     },
     "execution_count": 408,
     "metadata": {},
     "output_type": "execute_result"
    }
   ],
   "source": [
    "# Оригинальные метрики\n",
    "\n",
    "data_original"
   ]
  },
  {
   "cell_type": "code",
   "execution_count": null,
   "metadata": {},
   "outputs": [
    {
     "data": {
      "application/vnd.microsoft.datawrangler.viewer.v0+json": {
       "columns": [
        {
         "name": "index",
         "rawType": "object",
         "type": "string"
        },
        {
         "name": "R^2",
         "rawType": "float64",
         "type": "float"
        },
        {
         "name": "MSE",
         "rawType": "float64",
         "type": "float"
        },
        {
         "name": "RMSE",
         "rawType": "float64",
         "type": "float"
        },
        {
         "name": "MAE",
         "rawType": "float64",
         "type": "float"
        },
        {
         "name": "MAPE",
         "rawType": "float64",
         "type": "float"
        }
       ],
       "conversionMethod": "pd.DataFrame",
       "ref": "1661390c-4f06-4fba-ba98-806926a1f9ae",
       "rows": [
        [
         "Linear Regression",
         "0.6766702951060088",
         "34487713321.61309",
         "185708.67863838",
         "103909.82176384595",
         "0.5141600510479858"
        ],
        [
         "Ridge",
         "0.6766632137409359",
         "34488468649.95091",
         "185710.71226493886",
         "103905.87172305006",
         "0.5141103928880426"
        ],
        [
         "Lasso",
         "0.6766703664540514",
         "34487705711.329216",
         "185708.65814853442",
         "103909.54595905088",
         "0.5141566696318116"
        ],
        [
         "ElasticNet",
         "0.5809196596691265",
         "44700880919.04176",
         "211425.82841044225",
         "121272.40108551706",
         "0.6088986724628421"
        ],
        [
         "Polynomial",
         "0.7527113385355975",
         "26376854137.376347",
         "162409.52600563905",
         "86858.48035322211",
         "0.366803799877682"
        ]
       ],
       "shape": {
        "columns": 5,
        "rows": 5
       }
      },
      "text/html": [
       "<div>\n",
       "<style scoped>\n",
       "    .dataframe tbody tr th:only-of-type {\n",
       "        vertical-align: middle;\n",
       "    }\n",
       "\n",
       "    .dataframe tbody tr th {\n",
       "        vertical-align: top;\n",
       "    }\n",
       "\n",
       "    .dataframe thead th {\n",
       "        text-align: right;\n",
       "    }\n",
       "</style>\n",
       "<table border=\"1\" class=\"dataframe\">\n",
       "  <thead>\n",
       "    <tr style=\"text-align: right;\">\n",
       "      <th></th>\n",
       "      <th>R^2</th>\n",
       "      <th>MSE</th>\n",
       "      <th>RMSE</th>\n",
       "      <th>MAE</th>\n",
       "      <th>MAPE</th>\n",
       "    </tr>\n",
       "  </thead>\n",
       "  <tbody>\n",
       "    <tr>\n",
       "      <th>Linear Regression</th>\n",
       "      <td>0.676670</td>\n",
       "      <td>3.448771e+10</td>\n",
       "      <td>185708.678638</td>\n",
       "      <td>103909.821764</td>\n",
       "      <td>0.514160</td>\n",
       "    </tr>\n",
       "    <tr>\n",
       "      <th>Ridge</th>\n",
       "      <td>0.676663</td>\n",
       "      <td>3.448847e+10</td>\n",
       "      <td>185710.712265</td>\n",
       "      <td>103905.871723</td>\n",
       "      <td>0.514110</td>\n",
       "    </tr>\n",
       "    <tr>\n",
       "      <th>Lasso</th>\n",
       "      <td>0.676670</td>\n",
       "      <td>3.448771e+10</td>\n",
       "      <td>185708.658149</td>\n",
       "      <td>103909.545959</td>\n",
       "      <td>0.514157</td>\n",
       "    </tr>\n",
       "    <tr>\n",
       "      <th>ElasticNet</th>\n",
       "      <td>0.580920</td>\n",
       "      <td>4.470088e+10</td>\n",
       "      <td>211425.828410</td>\n",
       "      <td>121272.401086</td>\n",
       "      <td>0.608899</td>\n",
       "    </tr>\n",
       "    <tr>\n",
       "      <th>Polynomial</th>\n",
       "      <td>0.752711</td>\n",
       "      <td>2.637685e+10</td>\n",
       "      <td>162409.526006</td>\n",
       "      <td>86858.480353</td>\n",
       "      <td>0.366804</td>\n",
       "    </tr>\n",
       "  </tbody>\n",
       "</table>\n",
       "</div>"
      ],
      "text/plain": [
       "                        R^2           MSE           RMSE            MAE  \\\n",
       "Linear Regression  0.676670  3.448771e+10  185708.678638  103909.821764   \n",
       "Ridge              0.676663  3.448847e+10  185710.712265  103905.871723   \n",
       "Lasso              0.676670  3.448771e+10  185708.658149  103909.545959   \n",
       "ElasticNet         0.580920  4.470088e+10  211425.828410  121272.401086   \n",
       "Polynomial         0.752711  2.637685e+10  162409.526006   86858.480353   \n",
       "\n",
       "                       MAPE  \n",
       "Linear Regression  0.514160  \n",
       "Ridge              0.514110  \n",
       "Lasso              0.514157  \n",
       "ElasticNet         0.608899  \n",
       "Polynomial         0.366804  "
      ]
     },
     "execution_count": 409,
     "metadata": {},
     "output_type": "execute_result"
    }
   ],
   "source": [
    "# Кастомные метрики\n",
    "\n",
    "data_custom"
   ]
  },
  {
   "cell_type": "markdown",
   "metadata": {},
   "source": [
    "# ВЫВОД"
   ]
  },
  {
   "cell_type": "markdown",
   "metadata": {},
   "source": [
    "После проделанной работы можно смело сказать сказать, что наилучшим образом себя показала модель полиномиальной регрессии. У неё наивысший коэффициент детерминации, что говорит о том, что модель довольно неплохо прогнозирует значения, а если взглянуть на график, то можно понять, что модель хорошо справляется, ведь плотности предсказанных и реальных значений близки, разве что на пике предсказанных значений больше, что следует из того, что среднее абсолютное значение равно 87к. Также можно заметить значение MAPE, которое объясняет, что модель в среднем ошибается примерно на 36%, звучит не очень, но можно заметить, что у нас есть выбросы значений price. 75 квантиль принимает значение 3.473020e+05, когда максимальное в свою очередь 4.167631e+06, это говорит о том, что после 3.473020e+05, т.е. высоких цен, не очень много, что как раз может влиять на нашу модель."
   ]
  }
 ],
 "metadata": {
  "kernelspec": {
   "display_name": "Python 3",
   "language": "python",
   "name": "python3"
  },
  "language_info": {
   "codemirror_mode": {
    "name": "ipython",
    "version": 3
   },
   "file_extension": ".py",
   "mimetype": "text/x-python",
   "name": "python",
   "nbconvert_exporter": "python",
   "pygments_lexer": "ipython3",
   "version": "3.12.6"
  }
 },
 "nbformat": 4,
 "nbformat_minor": 2
}
