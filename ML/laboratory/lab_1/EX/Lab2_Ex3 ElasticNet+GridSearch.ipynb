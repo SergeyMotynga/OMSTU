{
  "cells": [
    {
      "cell_type": "markdown",
      "metadata": {
        "id": "ey5YOSPrOCHG"
      },
      "source": [
        "# **Прогнозирование цены на недвижимость**"
      ]
    },
    {
      "cell_type": "code",
      "execution_count": 3,
      "metadata": {
        "id": "D07qH9JSNq3A"
      },
      "outputs": [],
      "source": [
        "import numpy as np # linear algebra\n",
        "import pandas as pd # data processing, CSV file\n",
        "import seaborn as sns\n",
        "import matplotlib.pyplot as plt"
      ]
    },
    {
      "cell_type": "code",
      "execution_count": 4,
      "metadata": {
        "id": "IGh4zSCwO5ou"
      },
      "outputs": [],
      "source": [
        "df = pd.read_csv(\"AmesHousing1.csv\")"
      ]
    },
    {
      "cell_type": "code",
      "execution_count": 7,
      "metadata": {
        "colab": {
          "base_uri": "https://localhost:8080/"
        },
        "id": "kYO2pnxEpGHO",
        "outputId": "5fa44a00-1c8f-400d-8538-397b090c2263"
      },
      "outputs": [
        {
          "name": "stdout",
          "output_type": "stream",
          "text": [
            "<class 'pandas.core.frame.DataFrame'>\n",
            "RangeIndex: 2930 entries, 0 to 2929\n",
            "Data columns (total 82 columns):\n",
            " #   Column           Non-Null Count  Dtype  \n",
            "---  ------           --------------  -----  \n",
            " 0   Order            2930 non-null   int64  \n",
            " 1   PID              2930 non-null   int64  \n",
            " 2   MS SubClass      2930 non-null   int64  \n",
            " 3   MS Zoning        2930 non-null   object \n",
            " 4   Lot Frontage     2440 non-null   float64\n",
            " 5   Lot Area         2930 non-null   int64  \n",
            " 6   Street           2930 non-null   object \n",
            " 7   Alley            198 non-null    object \n",
            " 8   Lot Shape        2930 non-null   object \n",
            " 9   Land Contour     2930 non-null   object \n",
            " 10  Utilities        2930 non-null   object \n",
            " 11  Lot Config       2930 non-null   object \n",
            " 12  Land Slope       2930 non-null   object \n",
            " 13  Neighborhood     2930 non-null   object \n",
            " 14  Condition 1      2930 non-null   object \n",
            " 15  Condition 2      2930 non-null   object \n",
            " 16  Bldg Type        2930 non-null   object \n",
            " 17  House Style      2930 non-null   object \n",
            " 18  Overall Qual     2930 non-null   int64  \n",
            " 19  Overall Cond     2930 non-null   int64  \n",
            " 20  Year Built       2930 non-null   int64  \n",
            " 21  Year Remod/Add   2930 non-null   int64  \n",
            " 22  Roof Style       2930 non-null   object \n",
            " 23  Roof Matl        2930 non-null   object \n",
            " 24  Exterior 1st     2930 non-null   object \n",
            " 25  Exterior 2nd     2930 non-null   object \n",
            " 26  Mas Vnr Type     1155 non-null   object \n",
            " 27  Mas Vnr Area     2907 non-null   float64\n",
            " 28  Exter Qual       2930 non-null   object \n",
            " 29  Exter Cond       2930 non-null   object \n",
            " 30  Foundation       2930 non-null   object \n",
            " 31  Bsmt Qual        2850 non-null   object \n",
            " 32  Bsmt Cond        2850 non-null   object \n",
            " 33  Bsmt Exposure    2847 non-null   object \n",
            " 34  BsmtFin Type 1   2850 non-null   object \n",
            " 35  BsmtFin SF 1     2929 non-null   float64\n",
            " 36  BsmtFin Type 2   2849 non-null   object \n",
            " 37  BsmtFin SF 2     2929 non-null   float64\n",
            " 38  Bsmt Unf SF      2929 non-null   float64\n",
            " 39  Total Bsmt SF    2929 non-null   float64\n",
            " 40  Heating          2930 non-null   object \n",
            " 41  Heating QC       2930 non-null   object \n",
            " 42  Central Air      2930 non-null   object \n",
            " 43  Electrical       2929 non-null   object \n",
            " 44  1st Flr SF       2930 non-null   int64  \n",
            " 45  2nd Flr SF       2930 non-null   int64  \n",
            " 46  Low Qual Fin SF  2930 non-null   int64  \n",
            " 47  Gr Liv Area      2930 non-null   int64  \n",
            " 48  Bsmt Full Bath   2928 non-null   float64\n",
            " 49  Bsmt Half Bath   2928 non-null   float64\n",
            " 50  Full Bath        2930 non-null   int64  \n",
            " 51  Half Bath        2930 non-null   int64  \n",
            " 52  Bedroom AbvGr    2930 non-null   int64  \n",
            " 53  Kitchen AbvGr    2930 non-null   int64  \n",
            " 54  Kitchen Qual     2930 non-null   object \n",
            " 55  TotRms AbvGrd    2930 non-null   int64  \n",
            " 56  Functional       2930 non-null   object \n",
            " 57  Fireplaces       2930 non-null   int64  \n",
            " 58  Fireplace Qu     1508 non-null   object \n",
            " 59  Garage Type      2773 non-null   object \n",
            " 60  Garage Yr Blt    2771 non-null   float64\n",
            " 61  Garage Finish    2771 non-null   object \n",
            " 62  Garage Cars      2929 non-null   float64\n",
            " 63  Garage Area      2929 non-null   float64\n",
            " 64  Garage Qual      2771 non-null   object \n",
            " 65  Garage Cond      2771 non-null   object \n",
            " 66  Paved Drive      2930 non-null   object \n",
            " 67  Wood Deck SF     2930 non-null   int64  \n",
            " 68  Open Porch SF    2930 non-null   int64  \n",
            " 69  Enclosed Porch   2930 non-null   int64  \n",
            " 70  3Ssn Porch       2930 non-null   int64  \n",
            " 71  Screen Porch     2930 non-null   int64  \n",
            " 72  Pool Area        2930 non-null   int64  \n",
            " 73  Pool QC          13 non-null     object \n",
            " 74  Fence            572 non-null    object \n",
            " 75  Misc Feature     106 non-null    object \n",
            " 76  Misc Val         2930 non-null   int64  \n",
            " 77  Mo Sold          2930 non-null   int64  \n",
            " 78  Yr Sold          2930 non-null   int64  \n",
            " 79  Sale Type        2930 non-null   object \n",
            " 80  Sale Condition   2930 non-null   object \n",
            " 81  SalePrice        2930 non-null   int64  \n",
            "dtypes: float64(11), int64(28), object(43)\n",
            "memory usage: 1.8+ MB\n"
          ]
        }
      ],
      "source": [
        "df.info()"
      ]
    },
    {
      "cell_type": "markdown",
      "metadata": {
        "id": "M7qFyQzzPCOz"
      },
      "source": [
        "**Исследование данных**"
      ]
    },
    {
      "cell_type": "code",
      "execution_count": 5,
      "metadata": {
        "colab": {
          "base_uri": "https://localhost:8080/"
        },
        "id": "MHTuH7NfPDF7",
        "outputId": "d58f7e65-8373-4390-c96e-a0f1d7224a8b"
      },
      "outputs": [
        {
          "data": {
            "text/plain": [
              "(2930, 82)"
            ]
          },
          "execution_count": 5,
          "metadata": {},
          "output_type": "execute_result"
        }
      ],
      "source": [
        "df.shape"
      ]
    },
    {
      "cell_type": "code",
      "execution_count": 6,
      "metadata": {
        "colab": {
          "base_uri": "https://localhost:8080/",
          "height": 273
        },
        "id": "pvkPiklRPIHD",
        "outputId": "bb3d0f84-b9e2-49bb-8ab0-ce41033f47e3"
      },
      "outputs": [
        {
          "data": {
            "application/vnd.google.colaboratory.intrinsic+json": {
              "type": "dataframe",
              "variable_name": "df"
            },
            "text/html": [
              "\n",
              "  <div id=\"df-3de5d229-0530-4087-8dfc-4f905402c99d\" class=\"colab-df-container\">\n",
              "    <div>\n",
              "<style scoped>\n",
              "    .dataframe tbody tr th:only-of-type {\n",
              "        vertical-align: middle;\n",
              "    }\n",
              "\n",
              "    .dataframe tbody tr th {\n",
              "        vertical-align: top;\n",
              "    }\n",
              "\n",
              "    .dataframe thead th {\n",
              "        text-align: right;\n",
              "    }\n",
              "</style>\n",
              "<table border=\"1\" class=\"dataframe\">\n",
              "  <thead>\n",
              "    <tr style=\"text-align: right;\">\n",
              "      <th></th>\n",
              "      <th>Order</th>\n",
              "      <th>PID</th>\n",
              "      <th>MS SubClass</th>\n",
              "      <th>MS Zoning</th>\n",
              "      <th>Lot Frontage</th>\n",
              "      <th>Lot Area</th>\n",
              "      <th>Street</th>\n",
              "      <th>Alley</th>\n",
              "      <th>Lot Shape</th>\n",
              "      <th>Land Contour</th>\n",
              "      <th>...</th>\n",
              "      <th>Pool Area</th>\n",
              "      <th>Pool QC</th>\n",
              "      <th>Fence</th>\n",
              "      <th>Misc Feature</th>\n",
              "      <th>Misc Val</th>\n",
              "      <th>Mo Sold</th>\n",
              "      <th>Yr Sold</th>\n",
              "      <th>Sale Type</th>\n",
              "      <th>Sale Condition</th>\n",
              "      <th>SalePrice</th>\n",
              "    </tr>\n",
              "  </thead>\n",
              "  <tbody>\n",
              "    <tr>\n",
              "      <th>0</th>\n",
              "      <td>1</td>\n",
              "      <td>526301100</td>\n",
              "      <td>20</td>\n",
              "      <td>RL</td>\n",
              "      <td>141.0</td>\n",
              "      <td>31770</td>\n",
              "      <td>Pave</td>\n",
              "      <td>NaN</td>\n",
              "      <td>IR1</td>\n",
              "      <td>Lvl</td>\n",
              "      <td>...</td>\n",
              "      <td>0</td>\n",
              "      <td>NaN</td>\n",
              "      <td>NaN</td>\n",
              "      <td>NaN</td>\n",
              "      <td>0</td>\n",
              "      <td>5</td>\n",
              "      <td>2010</td>\n",
              "      <td>WD</td>\n",
              "      <td>Normal</td>\n",
              "      <td>215000</td>\n",
              "    </tr>\n",
              "    <tr>\n",
              "      <th>1</th>\n",
              "      <td>2</td>\n",
              "      <td>526350040</td>\n",
              "      <td>20</td>\n",
              "      <td>RH</td>\n",
              "      <td>80.0</td>\n",
              "      <td>11622</td>\n",
              "      <td>Pave</td>\n",
              "      <td>NaN</td>\n",
              "      <td>Reg</td>\n",
              "      <td>Lvl</td>\n",
              "      <td>...</td>\n",
              "      <td>0</td>\n",
              "      <td>NaN</td>\n",
              "      <td>MnPrv</td>\n",
              "      <td>NaN</td>\n",
              "      <td>0</td>\n",
              "      <td>6</td>\n",
              "      <td>2010</td>\n",
              "      <td>WD</td>\n",
              "      <td>Normal</td>\n",
              "      <td>105000</td>\n",
              "    </tr>\n",
              "    <tr>\n",
              "      <th>2</th>\n",
              "      <td>3</td>\n",
              "      <td>526351010</td>\n",
              "      <td>20</td>\n",
              "      <td>RL</td>\n",
              "      <td>81.0</td>\n",
              "      <td>14267</td>\n",
              "      <td>Pave</td>\n",
              "      <td>NaN</td>\n",
              "      <td>IR1</td>\n",
              "      <td>Lvl</td>\n",
              "      <td>...</td>\n",
              "      <td>0</td>\n",
              "      <td>NaN</td>\n",
              "      <td>NaN</td>\n",
              "      <td>Gar2</td>\n",
              "      <td>12500</td>\n",
              "      <td>6</td>\n",
              "      <td>2010</td>\n",
              "      <td>WD</td>\n",
              "      <td>Normal</td>\n",
              "      <td>172000</td>\n",
              "    </tr>\n",
              "    <tr>\n",
              "      <th>3</th>\n",
              "      <td>4</td>\n",
              "      <td>526353030</td>\n",
              "      <td>20</td>\n",
              "      <td>RL</td>\n",
              "      <td>93.0</td>\n",
              "      <td>11160</td>\n",
              "      <td>Pave</td>\n",
              "      <td>NaN</td>\n",
              "      <td>Reg</td>\n",
              "      <td>Lvl</td>\n",
              "      <td>...</td>\n",
              "      <td>0</td>\n",
              "      <td>NaN</td>\n",
              "      <td>NaN</td>\n",
              "      <td>NaN</td>\n",
              "      <td>0</td>\n",
              "      <td>4</td>\n",
              "      <td>2010</td>\n",
              "      <td>WD</td>\n",
              "      <td>Normal</td>\n",
              "      <td>244000</td>\n",
              "    </tr>\n",
              "    <tr>\n",
              "      <th>4</th>\n",
              "      <td>5</td>\n",
              "      <td>527105010</td>\n",
              "      <td>60</td>\n",
              "      <td>RL</td>\n",
              "      <td>74.0</td>\n",
              "      <td>13830</td>\n",
              "      <td>Pave</td>\n",
              "      <td>NaN</td>\n",
              "      <td>IR1</td>\n",
              "      <td>Lvl</td>\n",
              "      <td>...</td>\n",
              "      <td>0</td>\n",
              "      <td>NaN</td>\n",
              "      <td>MnPrv</td>\n",
              "      <td>NaN</td>\n",
              "      <td>0</td>\n",
              "      <td>3</td>\n",
              "      <td>2010</td>\n",
              "      <td>WD</td>\n",
              "      <td>Normal</td>\n",
              "      <td>189900</td>\n",
              "    </tr>\n",
              "  </tbody>\n",
              "</table>\n",
              "<p>5 rows × 82 columns</p>\n",
              "</div>\n",
              "    <div class=\"colab-df-buttons\">\n",
              "\n",
              "  <div class=\"colab-df-container\">\n",
              "    <button class=\"colab-df-convert\" onclick=\"convertToInteractive('df-3de5d229-0530-4087-8dfc-4f905402c99d')\"\n",
              "            title=\"Convert this dataframe to an interactive table.\"\n",
              "            style=\"display:none;\">\n",
              "\n",
              "  <svg xmlns=\"http://www.w3.org/2000/svg\" height=\"24px\" viewBox=\"0 -960 960 960\">\n",
              "    <path d=\"M120-120v-720h720v720H120Zm60-500h600v-160H180v160Zm220 220h160v-160H400v160Zm0 220h160v-160H400v160ZM180-400h160v-160H180v160Zm440 0h160v-160H620v160ZM180-180h160v-160H180v160Zm440 0h160v-160H620v160Z\"/>\n",
              "  </svg>\n",
              "    </button>\n",
              "\n",
              "  <style>\n",
              "    .colab-df-container {\n",
              "      display:flex;\n",
              "      gap: 12px;\n",
              "    }\n",
              "\n",
              "    .colab-df-convert {\n",
              "      background-color: #E8F0FE;\n",
              "      border: none;\n",
              "      border-radius: 50%;\n",
              "      cursor: pointer;\n",
              "      display: none;\n",
              "      fill: #1967D2;\n",
              "      height: 32px;\n",
              "      padding: 0 0 0 0;\n",
              "      width: 32px;\n",
              "    }\n",
              "\n",
              "    .colab-df-convert:hover {\n",
              "      background-color: #E2EBFA;\n",
              "      box-shadow: 0px 1px 2px rgba(60, 64, 67, 0.3), 0px 1px 3px 1px rgba(60, 64, 67, 0.15);\n",
              "      fill: #174EA6;\n",
              "    }\n",
              "\n",
              "    .colab-df-buttons div {\n",
              "      margin-bottom: 4px;\n",
              "    }\n",
              "\n",
              "    [theme=dark] .colab-df-convert {\n",
              "      background-color: #3B4455;\n",
              "      fill: #D2E3FC;\n",
              "    }\n",
              "\n",
              "    [theme=dark] .colab-df-convert:hover {\n",
              "      background-color: #434B5C;\n",
              "      box-shadow: 0px 1px 3px 1px rgba(0, 0, 0, 0.15);\n",
              "      filter: drop-shadow(0px 1px 2px rgba(0, 0, 0, 0.3));\n",
              "      fill: #FFFFFF;\n",
              "    }\n",
              "  </style>\n",
              "\n",
              "    <script>\n",
              "      const buttonEl =\n",
              "        document.querySelector('#df-3de5d229-0530-4087-8dfc-4f905402c99d button.colab-df-convert');\n",
              "      buttonEl.style.display =\n",
              "        google.colab.kernel.accessAllowed ? 'block' : 'none';\n",
              "\n",
              "      async function convertToInteractive(key) {\n",
              "        const element = document.querySelector('#df-3de5d229-0530-4087-8dfc-4f905402c99d');\n",
              "        const dataTable =\n",
              "          await google.colab.kernel.invokeFunction('convertToInteractive',\n",
              "                                                    [key], {});\n",
              "        if (!dataTable) return;\n",
              "\n",
              "        const docLinkHtml = 'Like what you see? Visit the ' +\n",
              "          '<a target=\"_blank\" href=https://colab.research.google.com/notebooks/data_table.ipynb>data table notebook</a>'\n",
              "          + ' to learn more about interactive tables.';\n",
              "        element.innerHTML = '';\n",
              "        dataTable['output_type'] = 'display_data';\n",
              "        await google.colab.output.renderOutput(dataTable, element);\n",
              "        const docLink = document.createElement('div');\n",
              "        docLink.innerHTML = docLinkHtml;\n",
              "        element.appendChild(docLink);\n",
              "      }\n",
              "    </script>\n",
              "  </div>\n",
              "\n",
              "\n",
              "<div id=\"df-4738bd44-ab27-46be-9690-fbbcb0f16ac4\">\n",
              "  <button class=\"colab-df-quickchart\" onclick=\"quickchart('df-4738bd44-ab27-46be-9690-fbbcb0f16ac4')\"\n",
              "            title=\"Suggest charts\"\n",
              "            style=\"display:none;\">\n",
              "\n",
              "<svg xmlns=\"http://www.w3.org/2000/svg\" height=\"24px\"viewBox=\"0 0 24 24\"\n",
              "     width=\"24px\">\n",
              "    <g>\n",
              "        <path d=\"M19 3H5c-1.1 0-2 .9-2 2v14c0 1.1.9 2 2 2h14c1.1 0 2-.9 2-2V5c0-1.1-.9-2-2-2zM9 17H7v-7h2v7zm4 0h-2V7h2v10zm4 0h-2v-4h2v4z\"/>\n",
              "    </g>\n",
              "</svg>\n",
              "  </button>\n",
              "\n",
              "<style>\n",
              "  .colab-df-quickchart {\n",
              "      --bg-color: #E8F0FE;\n",
              "      --fill-color: #1967D2;\n",
              "      --hover-bg-color: #E2EBFA;\n",
              "      --hover-fill-color: #174EA6;\n",
              "      --disabled-fill-color: #AAA;\n",
              "      --disabled-bg-color: #DDD;\n",
              "  }\n",
              "\n",
              "  [theme=dark] .colab-df-quickchart {\n",
              "      --bg-color: #3B4455;\n",
              "      --fill-color: #D2E3FC;\n",
              "      --hover-bg-color: #434B5C;\n",
              "      --hover-fill-color: #FFFFFF;\n",
              "      --disabled-bg-color: #3B4455;\n",
              "      --disabled-fill-color: #666;\n",
              "  }\n",
              "\n",
              "  .colab-df-quickchart {\n",
              "    background-color: var(--bg-color);\n",
              "    border: none;\n",
              "    border-radius: 50%;\n",
              "    cursor: pointer;\n",
              "    display: none;\n",
              "    fill: var(--fill-color);\n",
              "    height: 32px;\n",
              "    padding: 0;\n",
              "    width: 32px;\n",
              "  }\n",
              "\n",
              "  .colab-df-quickchart:hover {\n",
              "    background-color: var(--hover-bg-color);\n",
              "    box-shadow: 0 1px 2px rgba(60, 64, 67, 0.3), 0 1px 3px 1px rgba(60, 64, 67, 0.15);\n",
              "    fill: var(--button-hover-fill-color);\n",
              "  }\n",
              "\n",
              "  .colab-df-quickchart-complete:disabled,\n",
              "  .colab-df-quickchart-complete:disabled:hover {\n",
              "    background-color: var(--disabled-bg-color);\n",
              "    fill: var(--disabled-fill-color);\n",
              "    box-shadow: none;\n",
              "  }\n",
              "\n",
              "  .colab-df-spinner {\n",
              "    border: 2px solid var(--fill-color);\n",
              "    border-color: transparent;\n",
              "    border-bottom-color: var(--fill-color);\n",
              "    animation:\n",
              "      spin 1s steps(1) infinite;\n",
              "  }\n",
              "\n",
              "  @keyframes spin {\n",
              "    0% {\n",
              "      border-color: transparent;\n",
              "      border-bottom-color: var(--fill-color);\n",
              "      border-left-color: var(--fill-color);\n",
              "    }\n",
              "    20% {\n",
              "      border-color: transparent;\n",
              "      border-left-color: var(--fill-color);\n",
              "      border-top-color: var(--fill-color);\n",
              "    }\n",
              "    30% {\n",
              "      border-color: transparent;\n",
              "      border-left-color: var(--fill-color);\n",
              "      border-top-color: var(--fill-color);\n",
              "      border-right-color: var(--fill-color);\n",
              "    }\n",
              "    40% {\n",
              "      border-color: transparent;\n",
              "      border-right-color: var(--fill-color);\n",
              "      border-top-color: var(--fill-color);\n",
              "    }\n",
              "    60% {\n",
              "      border-color: transparent;\n",
              "      border-right-color: var(--fill-color);\n",
              "    }\n",
              "    80% {\n",
              "      border-color: transparent;\n",
              "      border-right-color: var(--fill-color);\n",
              "      border-bottom-color: var(--fill-color);\n",
              "    }\n",
              "    90% {\n",
              "      border-color: transparent;\n",
              "      border-bottom-color: var(--fill-color);\n",
              "    }\n",
              "  }\n",
              "</style>\n",
              "\n",
              "  <script>\n",
              "    async function quickchart(key) {\n",
              "      const quickchartButtonEl =\n",
              "        document.querySelector('#' + key + ' button');\n",
              "      quickchartButtonEl.disabled = true;  // To prevent multiple clicks.\n",
              "      quickchartButtonEl.classList.add('colab-df-spinner');\n",
              "      try {\n",
              "        const charts = await google.colab.kernel.invokeFunction(\n",
              "            'suggestCharts', [key], {});\n",
              "      } catch (error) {\n",
              "        console.error('Error during call to suggestCharts:', error);\n",
              "      }\n",
              "      quickchartButtonEl.classList.remove('colab-df-spinner');\n",
              "      quickchartButtonEl.classList.add('colab-df-quickchart-complete');\n",
              "    }\n",
              "    (() => {\n",
              "      let quickchartButtonEl =\n",
              "        document.querySelector('#df-4738bd44-ab27-46be-9690-fbbcb0f16ac4 button');\n",
              "      quickchartButtonEl.style.display =\n",
              "        google.colab.kernel.accessAllowed ? 'block' : 'none';\n",
              "    })();\n",
              "  </script>\n",
              "</div>\n",
              "    </div>\n",
              "  </div>\n"
            ],
            "text/plain": [
              "   Order        PID  MS SubClass MS Zoning  Lot Frontage  Lot Area Street  \\\n",
              "0      1  526301100           20        RL         141.0     31770   Pave   \n",
              "1      2  526350040           20        RH          80.0     11622   Pave   \n",
              "2      3  526351010           20        RL          81.0     14267   Pave   \n",
              "3      4  526353030           20        RL          93.0     11160   Pave   \n",
              "4      5  527105010           60        RL          74.0     13830   Pave   \n",
              "\n",
              "  Alley Lot Shape Land Contour  ... Pool Area Pool QC  Fence Misc Feature  \\\n",
              "0   NaN       IR1          Lvl  ...         0     NaN    NaN          NaN   \n",
              "1   NaN       Reg          Lvl  ...         0     NaN  MnPrv          NaN   \n",
              "2   NaN       IR1          Lvl  ...         0     NaN    NaN         Gar2   \n",
              "3   NaN       Reg          Lvl  ...         0     NaN    NaN          NaN   \n",
              "4   NaN       IR1          Lvl  ...         0     NaN  MnPrv          NaN   \n",
              "\n",
              "  Misc Val Mo Sold Yr Sold Sale Type  Sale Condition  SalePrice  \n",
              "0        0       5    2010       WD           Normal     215000  \n",
              "1        0       6    2010       WD           Normal     105000  \n",
              "2    12500       6    2010       WD           Normal     172000  \n",
              "3        0       4    2010       WD           Normal     244000  \n",
              "4        0       3    2010       WD           Normal     189900  \n",
              "\n",
              "[5 rows x 82 columns]"
            ]
          },
          "execution_count": 6,
          "metadata": {},
          "output_type": "execute_result"
        }
      ],
      "source": [
        "df.head()"
      ]
    },
    {
      "cell_type": "markdown",
      "metadata": {
        "id": "Ywk_QUY2Pw1j"
      },
      "source": [
        "построим графики и найдем основные корреляции с ценой продажи."
      ]
    },
    {
      "cell_type": "code",
      "execution_count": null,
      "metadata": {
        "id": "8D577AA0PTR0"
      },
      "outputs": [],
      "source": [
        "# Проверка на наличие выбросов\n",
        "sns.boxplot(data=df,x=\"SalePrice\")"
      ]
    },
    {
      "cell_type": "code",
      "execution_count": null,
      "metadata": {
        "id": "7NegXzQ5QHql"
      },
      "outputs": [],
      "source": [
        "#График распределения цены продажи\n",
        "sns.displot(df[\"SalePrice\"],bins=20,kde=True);"
      ]
    },
    {
      "cell_type": "code",
      "execution_count": null,
      "metadata": {
        "id": "aeLr1OsFS0s7"
      },
      "outputs": [],
      "source": [
        "# Ссоставим тепловую карту для корреляции с ценой продажи.\n",
        "sns.heatmap(df.corr())"
      ]
    },
    {
      "cell_type": "code",
      "execution_count": null,
      "metadata": {
        "id": "t6oy6Jy1TDnW"
      },
      "outputs": [],
      "source": [
        "df.corr()[\"SalePrice\"].sort_values()"
      ]
    },
    {
      "cell_type": "markdown",
      "metadata": {
        "id": "ySb2x9IZTkx0"
      },
      "source": [
        "DATA CLEANUP"
      ]
    },
    {
      "cell_type": "markdown",
      "metadata": {
        "id": "-K1whA_7TmwD"
      },
      "source": [
        "Мы разобьем основные задания по очистке данных на 3 части.\n",
        "\n",
        "Outliners — мы постараемся найти Outliners и действовать с ними так, чтобы это не влияло на производительность нашей модели.\n",
        "Недостающие данные\n",
        "Преобразование данных"
      ]
    },
    {
      "cell_type": "markdown",
      "metadata": {
        "id": "Ucy5n_mcXlmL"
      },
      "source": [
        "<font color=dark red>ОЧИСТКА ДАННЫХ – ВЫБРОСЫ</font><br>\n",
        "Начнем с Outliners.\n",
        "Мы уже видели выше, что общее качество имеет самую высокую корреляцию.\n",
        "Итак, давайте построим простую диаграмму рассеяния."
      ]
    },
    {
      "cell_type": "code",
      "execution_count": null,
      "metadata": {
        "colab": {
          "base_uri": "https://localhost:8080/",
          "height": 466
        },
        "id": "x_UOcA6EXyk6",
        "outputId": "eda20826-6c60-496e-eaf4-51c6290801bc"
      },
      "outputs": [
        {
          "data": {
            "text/plain": [
              "<Axes: xlabel='Overall Qual', ylabel='SalePrice'>"
            ]
          },
          "execution_count": 10,
          "metadata": {},
          "output_type": "execute_result"
        },
        {
          "data": {
            "image/png": "[encoded data removed]",
            "text/plain": [
              "<Figure size 640x480 with 1 Axes>"
            ]
          },
          "metadata": {},
          "output_type": "display_data"
        }
      ],
      "source": [
        "# Точечная диаграмма (scatterplot) по столбцам 'Overall Qual' (общее качество) и 'SalePrice' (продажная цена)\n",
        "sns.scatterplot(x='Overall Qual',y='SalePrice',data=df)"
      ]
    },
    {
      "cell_type": "markdown",
      "metadata": {
        "id": "1YFXF7tNX5ub"
      },
      "source": [
        "Наблюдение:<br>\n",
        "Общее качество находится между 1 и 10. И мы можем видеть выбросы.\n",
        "Мы можем видеть некоторые точки с очень низкой ценой продажи, но с общим качеством 09 и 10.\n",
        "Давайте попробуем следующий признак с самой высокой корреляцией, т. е. Gr Liv Area."
      ]
    },
    {
      "cell_type": "code",
      "execution_count": null,
      "metadata": {
        "colab": {
          "base_uri": "https://localhost:8080/",
          "height": 466
        },
        "id": "NvSfGQvaY6eb",
        "outputId": "25f17c99-d680-477c-c201-9961d268cc37"
      },
      "outputs": [
        {
          "data": {
            "text/plain": [
              "<Axes: xlabel='Gr Liv Area', ylabel='SalePrice'>"
            ]
          },
          "execution_count": 11,
          "metadata": {},
          "output_type": "execute_result"
        },
        {
          "data": {
            "image/png": "[encoded data removed]",
            "text/plain": [
              "<Figure size 640x480 with 1 Axes>"
            ]
          },
          "metadata": {},
          "output_type": "display_data"
        }
      ],
      "source": [
        "sns.scatterplot(data=df, x='Gr Liv Area',y='SalePrice')"
      ]
    },
    {
      "cell_type": "markdown",
      "metadata": {
        "id": "xnpSDQjSZFlM"
      },
      "source": [
        "Наблюдение:\n",
        "Мы снова видим 3 пункта с более высокой площадью Gr Liv и меньшей SalePrice.\n",
        "Давайте определим то же самое с пандами."
      ]
    },
    {
      "cell_type": "code",
      "execution_count": null,
      "metadata": {
        "id": "B2Wy54XhZJ9M"
      },
      "outputs": [],
      "source": [
        "df[(df['Overall Qual']>8) & (df['SalePrice']<200000)]"
      ]
    },
    {
      "cell_type": "code",
      "execution_count": null,
      "metadata": {
        "id": "65pq3D8ZZPlV"
      },
      "outputs": [],
      "source": [
        "df[(df['Gr Liv Area']>4000) & (df['SalePrice']<400000)]"
      ]
    },
    {
      "cell_type": "markdown",
      "metadata": {
        "id": "qXNymZMzZWke"
      },
      "source": [
        "Наблюдение:\n",
        "Итак, на самом деле у нас есть 4 точки, которые имеют более высокое общее качество, но с очень низкой продажной ценой.\n",
        "И 3 балла при большей жилой площади и меньшей продажной цене. И эти 3 пункта общие. Давайте отбросим строки со значениями индекса 1498,2180,2181."
      ]
    },
    {
      "cell_type": "code",
      "execution_count": null,
      "metadata": {
        "id": "ZQugBiILZb8S"
      },
      "outputs": [],
      "source": [
        "# удаляем выбросы на основе значений индекса\n",
        "df = df.drop(index=[1498,2180,2181],axis=0)"
      ]
    },
    {
      "cell_type": "code",
      "execution_count": null,
      "metadata": {
        "colab": {
          "base_uri": "https://localhost:8080/"
        },
        "id": "HKUDqq_NZk4m",
        "outputId": "26cd597f-f163-48ca-c342-3ace13b5c7a9"
      },
      "outputs": [
        {
          "data": {
            "text/plain": [
              "(2927, 82)"
            ]
          },
          "execution_count": 16,
          "metadata": {},
          "output_type": "execute_result"
        }
      ],
      "source": [
        "df.shape"
      ]
    },
    {
      "cell_type": "markdown",
      "metadata": {
        "id": "90dQFFZTZrnq"
      },
      "source": [
        "Мысли :\n",
        "Поэтому мы удалили выявленные выбросы и данные сократились до 2927 строк вместо первоначальных 2930.\n",
        "Но мы также можем исследовать три пункта, были ли эти три пункта самыми старыми или самыми последними. Являются ли это изменениями тенденций?\n",
        "Мы также можем изучить другие условия для выбросов. Но давайте удовлетворимся всем, что у нас есть на данный момент в отношении выбросов.\n",
        "Далее давайте сделаем что-нибудь с отсутствующими данными."
      ]
    },
    {
      "cell_type": "markdown",
      "metadata": {
        "id": "jFqjOq9zZu1a"
      },
      "source": [
        "DATA CLEANUP - MISSING DATA"
      ]
    },
    {
      "cell_type": "markdown",
      "metadata": {
        "id": "fanGY5LtZ1NL"
      },
      "source": [
        "Удаление PID\n",
        "У нас уже есть индекс, поэтому нам не нужен уникальный идентификатор PID для регрессии, которую мы выполним позже."
      ]
    },
    {
      "cell_type": "code",
      "execution_count": null,
      "metadata": {
        "id": "J8oMJwrYZ8ys"
      },
      "outputs": [],
      "source": [
        "df = df.drop(\"PID\",axis=1)"
      ]
    },
    {
      "cell_type": "code",
      "execution_count": null,
      "metadata": {
        "colab": {
          "base_uri": "https://localhost:8080/"
        },
        "id": "UwRBON78Z_xb",
        "outputId": "c69c7345-8504-4daf-e205-0772c7cf62a3"
      },
      "outputs": [
        {
          "data": {
            "text/plain": [
              "81"
            ]
          },
          "execution_count": 18,
          "metadata": {},
          "output_type": "execute_result"
        }
      ],
      "source": [
        "len(df.columns)"
      ]
    },
    {
      "cell_type": "markdown",
      "metadata": {
        "id": "DaLftJW-aFUr"
      },
      "source": [
        "<font color=darkgreen><b>Процент отсутствующих значений</b></font>\n",
        "<br>\n",
        "Важно выяснить, каков процент пропущенных значений для каждого столбца, прежде чем мы на самом деле будем действовать так же. В случае, если в конкретном столбце отсутствует большинство значений, нет смысла применять то же самое для машинного обучения.\n",
        "Итак, мы создаем функцию, которую можно будет повторно использовать в будущих блокнотах."
      ]
    },
    {
      "cell_type": "code",
      "execution_count": null,
      "metadata": {
        "id": "DBw6ll7MaEvL"
      },
      "outputs": [],
      "source": [
        "# Процент отсутствующих данных для каждой строки в наборе данных\n",
        "def percent_missing(df):\n",
        "    # вычисление процента отсутствующих данных\n",
        "    percent_nan = 100 * df.isnull().sum() / len(df)\n",
        "    # фильтрация 0 & сортировка\n",
        "    percent_nan = percent_nan[percent_nan > 0].sort_values()\n",
        "\n",
        "    return percent_nan"
      ]
    },
    {
      "cell_type": "code",
      "execution_count": null,
      "metadata": {
        "id": "rMOkea8MbwBr"
      },
      "outputs": [],
      "source": [
        "percent_nan = percent_missing(df)\n",
        "round(percent_nan,2)"
      ]
    },
    {
      "cell_type": "code",
      "execution_count": null,
      "metadata": {
        "colab": {
          "base_uri": "https://localhost:8080/",
          "height": 521
        },
        "id": "Fs9ub3H1b6DD",
        "outputId": "e956ebdb-a22c-45a5-ab69-e179ddf2d991"
      },
      "outputs": [
        {
          "data": {
            "image/png": "[encoded data removed]",
            "text/plain": [
              "<Figure size 640x480 with 1 Axes>"
            ]
          },
          "metadata": {},
          "output_type": "display_data"
        }
      ],
      "source": [
        "# процент на гистограмме (barplot)\n",
        "sns.barplot(x=percent_nan.index,y=percent_nan)\n",
        "plt.xticks(rotation=90); # Semicolon removes the text before charts"
      ]
    },
    {
      "cell_type": "markdown",
      "metadata": {
        "id": "vvDzb7JHcTCz"
      },
      "source": [
        "<font color=darkred>Наблюдение:</font><br>\n",
        "В разных столбцах много пропущенных значений. В некоторых столбцах оно минимальное, но в некоторых столбцах большая часть данных отсутствует.\n",
        "Однако отсутствие данных может иметь несколько последствий. Как, например, в случае с контролем качества пула, может оказаться, что предлагаемого пула нет.\n",
        "\n",
        "В некоторых случаях, например, при электроснабжении или гараже, кажется, что отсутствует даже менее 1% данных.\n",
        "\n",
        "Мы можем действовать по-разному для разных столбцов\n",
        "\n",
        "Удалить строку с отсутствующими данными\n",
        "Удаление всего столбца или объекта\n",
        "Заменить недостающие данные\n",
        "Интерпретируйте недостающие данные из других столбцов"
      ]
    },
    {
      "cell_type": "markdown",
      "metadata": {
        "id": "ZIUjfN8Nch4z"
      },
      "source": [
        "Давайте сначала исследуем столбцы с менее чем 1% отсутствующих данных."
      ]
    },
    {
      "cell_type": "code",
      "execution_count": null,
      "metadata": {
        "colab": {
          "base_uri": "https://localhost:8080/"
        },
        "id": "0wb2ZysKcl1L",
        "outputId": "9cebaf76-8fd7-4cb4-8d36-d205d8a125b5"
      },
      "outputs": [
        {
          "data": {
            "text/plain": [
              "Electrical        0.034\n",
              "Garage Area       0.034\n",
              "Total Bsmt SF     0.034\n",
              "Bsmt Unf SF       0.034\n",
              "BsmtFin SF 1      0.034\n",
              "BsmtFin SF 2      0.034\n",
              "Garage Cars       0.034\n",
              "Bsmt Full Bath    0.068\n",
              "Bsmt Half Bath    0.068\n",
              "Mas Vnr Area      0.786\n",
              "Mas Vnr Type      0.786\n",
              "dtype: float64"
            ]
          },
          "execution_count": 25,
          "metadata": {},
          "output_type": "execute_result"
        }
      ],
      "source": [
        "# Столбцы с отсутствующими данными менее 1 %\n",
        "round(percent_nan[percent_nan < 1],3)"
      ]
    },
    {
      "cell_type": "markdown",
      "metadata": {
        "id": "-QFhW5wbeN6z"
      },
      "source": [
        "В некоторых случаях может случиться так, что одна строка может содержать несколько отсутствующих столбцов данных."
      ]
    },
    {
      "cell_type": "code",
      "execution_count": null,
      "metadata": {
        "id": "e85F9TW9eQ8T"
      },
      "outputs": [],
      "source": [
        "df[df['Electrical'].isnull()]"
      ]
    },
    {
      "cell_type": "code",
      "execution_count": null,
      "metadata": {
        "id": "qzIVMwEreg3j"
      },
      "outputs": [],
      "source": [
        "df[df['Garage Area'].isnull()]"
      ]
    },
    {
      "cell_type": "markdown",
      "metadata": {
        "id": "R0xFDgrtemaE"
      },
      "source": [
        "<font color = darkred><b>Наблюдение:</b></font>\n",
        "<br>\n",
        "Таким образом, недостающие данные по электрике и гаражу различаются. Но это только отдельные строки. Мы действительно можем подумать о том, чтобы отказаться от них."
      ]
    },
    {
      "cell_type": "code",
      "execution_count": null,
      "metadata": {
        "id": "fx_w7veMe8iT"
      },
      "outputs": [],
      "source": [
        "df = df.dropna(axis=0,subset=['Electrical','Garage Area'])"
      ]
    },
    {
      "cell_type": "code",
      "execution_count": null,
      "metadata": {
        "colab": {
          "base_uri": "https://localhost:8080/"
        },
        "id": "8Z4sBYcCfAmr",
        "outputId": "f904d9b7-1e16-4e99-ed6a-8ac8f93eda34"
      },
      "outputs": [
        {
          "data": {
            "text/plain": [
              "2925"
            ]
          },
          "execution_count": 30,
          "metadata": {},
          "output_type": "execute_result"
        }
      ],
      "source": [
        "len(df)"
      ]
    },
    {
      "cell_type": "code",
      "execution_count": null,
      "metadata": {
        "id": "CabbLinrfEG6"
      },
      "outputs": [],
      "source": [
        "percent_nan = percent_missing(df)\n",
        "percent_nan[percent_nan < 1]"
      ]
    },
    {
      "cell_type": "markdown",
      "metadata": {
        "id": "nJ-VPct7fNZL"
      },
      "source": [
        "Наблюдение:\n",
        "Мы видим, что нет. О столбцах с отсутствующими данными уже позаботились, просто удалив 2 строки."
      ]
    },
    {
      "cell_type": "code",
      "execution_count": null,
      "metadata": {
        "id": "o5J-FaZ7fQjE"
      },
      "outputs": [],
      "source": [
        "df[df['Bsmt Unf SF'].isnull()]"
      ]
    },
    {
      "cell_type": "code",
      "execution_count": null,
      "metadata": {
        "id": "paDcnoZ2fUXD"
      },
      "outputs": [],
      "source": [
        "df[df['Total Bsmt SF'].isnull()]"
      ]
    },
    {
      "cell_type": "code",
      "execution_count": null,
      "metadata": {
        "id": "EzEYtwICfYBT"
      },
      "outputs": [],
      "source": [
        "df[df['BsmtFin SF 2'].isnull()]"
      ]
    },
    {
      "cell_type": "code",
      "execution_count": null,
      "metadata": {
        "colab": {
          "base_uri": "https://localhost:8080/",
          "height": 147
        },
        "id": "57p-Idl6fdXT",
        "outputId": "32eeb0e6-f95b-40ae-cfc9-c419816e3756"
      },
      "outputs": [
        {
          "data": {
            "text/html": [
              "\n",
              "  <div id=\"df-6ca2bed5-fea5-47ac-906e-6046a5a359c1\" class=\"colab-df-container\">\n",
              "    <div>\n",
              "<style scoped>\n",
              "    .dataframe tbody tr th:only-of-type {\n",
              "        vertical-align: middle;\n",
              "    }\n",
              "\n",
              "    .dataframe tbody tr th {\n",
              "        vertical-align: top;\n",
              "    }\n",
              "\n",
              "    .dataframe thead th {\n",
              "        text-align: right;\n",
              "    }\n",
              "</style>\n",
              "<table border=\"1\" class=\"dataframe\">\n",
              "  <thead>\n",
              "    <tr style=\"text-align: right;\">\n",
              "      <th></th>\n",
              "      <th>Order</th>\n",
              "      <th>MS SubClass</th>\n",
              "      <th>MS Zoning</th>\n",
              "      <th>Lot Frontage</th>\n",
              "      <th>Lot Area</th>\n",
              "      <th>Street</th>\n",
              "      <th>Alley</th>\n",
              "      <th>Lot Shape</th>\n",
              "      <th>Land Contour</th>\n",
              "      <th>Utilities</th>\n",
              "      <th>...</th>\n",
              "      <th>Pool Area</th>\n",
              "      <th>Pool QC</th>\n",
              "      <th>Fence</th>\n",
              "      <th>Misc Feature</th>\n",
              "      <th>Misc Val</th>\n",
              "      <th>Mo Sold</th>\n",
              "      <th>Yr Sold</th>\n",
              "      <th>Sale Type</th>\n",
              "      <th>Sale Condition</th>\n",
              "      <th>SalePrice</th>\n",
              "    </tr>\n",
              "  </thead>\n",
              "  <tbody>\n",
              "    <tr>\n",
              "      <th>1341</th>\n",
              "      <td>1342</td>\n",
              "      <td>20</td>\n",
              "      <td>RM</td>\n",
              "      <td>99.0</td>\n",
              "      <td>5940</td>\n",
              "      <td>Pave</td>\n",
              "      <td>NaN</td>\n",
              "      <td>IR1</td>\n",
              "      <td>Lvl</td>\n",
              "      <td>AllPub</td>\n",
              "      <td>...</td>\n",
              "      <td>0</td>\n",
              "      <td>NaN</td>\n",
              "      <td>MnPrv</td>\n",
              "      <td>NaN</td>\n",
              "      <td>0</td>\n",
              "      <td>4</td>\n",
              "      <td>2008</td>\n",
              "      <td>ConLD</td>\n",
              "      <td>Abnorml</td>\n",
              "      <td>79000</td>\n",
              "    </tr>\n",
              "  </tbody>\n",
              "</table>\n",
              "<p>1 rows × 81 columns</p>\n",
              "</div>\n",
              "    <div class=\"colab-df-buttons\">\n",
              "\n",
              "  <div class=\"colab-df-container\">\n",
              "    <button class=\"colab-df-convert\" onclick=\"convertToInteractive('df-6ca2bed5-fea5-47ac-906e-6046a5a359c1')\"\n",
              "            title=\"Convert this dataframe to an interactive table.\"\n",
              "            style=\"display:none;\">\n",
              "\n",
              "  <svg xmlns=\"http://www.w3.org/2000/svg\" height=\"24px\" viewBox=\"0 -960 960 960\">\n",
              "    <path d=\"M120-120v-720h720v720H120Zm60-500h600v-160H180v160Zm220 220h160v-160H400v160Zm0 220h160v-160H400v160ZM180-400h160v-160H180v160Zm440 0h160v-160H620v160ZM180-180h160v-160H180v160Zm440 0h160v-160H620v160Z\"/>\n",
              "  </svg>\n",
              "    </button>\n",
              "\n",
              "  <style>\n",
              "    .colab-df-container {\n",
              "      display:flex;\n",
              "      gap: 12px;\n",
              "    }\n",
              "\n",
              "    .colab-df-convert {\n",
              "      background-color: #E8F0FE;\n",
              "      border: none;\n",
              "      border-radius: 50%;\n",
              "      cursor: pointer;\n",
              "      display: none;\n",
              "      fill: #1967D2;\n",
              "      height: 32px;\n",
              "      padding: 0 0 0 0;\n",
              "      width: 32px;\n",
              "    }\n",
              "\n",
              "    .colab-df-convert:hover {\n",
              "      background-color: #E2EBFA;\n",
              "      box-shadow: 0px 1px 2px rgba(60, 64, 67, 0.3), 0px 1px 3px 1px rgba(60, 64, 67, 0.15);\n",
              "      fill: #174EA6;\n",
              "    }\n",
              "\n",
              "    .colab-df-buttons div {\n",
              "      margin-bottom: 4px;\n",
              "    }\n",
              "\n",
              "    [theme=dark] .colab-df-convert {\n",
              "      background-color: #3B4455;\n",
              "      fill: #D2E3FC;\n",
              "    }\n",
              "\n",
              "    [theme=dark] .colab-df-convert:hover {\n",
              "      background-color: #434B5C;\n",
              "      box-shadow: 0px 1px 3px 1px rgba(0, 0, 0, 0.15);\n",
              "      filter: drop-shadow(0px 1px 2px rgba(0, 0, 0, 0.3));\n",
              "      fill: #FFFFFF;\n",
              "    }\n",
              "  </style>\n",
              "\n",
              "    <script>\n",
              "      const buttonEl =\n",
              "        document.querySelector('#df-6ca2bed5-fea5-47ac-906e-6046a5a359c1 button.colab-df-convert');\n",
              "      buttonEl.style.display =\n",
              "        google.colab.kernel.accessAllowed ? 'block' : 'none';\n",
              "\n",
              "      async function convertToInteractive(key) {\n",
              "        const element = document.querySelector('#df-6ca2bed5-fea5-47ac-906e-6046a5a359c1');\n",
              "        const dataTable =\n",
              "          await google.colab.kernel.invokeFunction('convertToInteractive',\n",
              "                                                    [key], {});\n",
              "        if (!dataTable) return;\n",
              "\n",
              "        const docLinkHtml = 'Like what you see? Visit the ' +\n",
              "          '<a target=\"_blank\" href=https://colab.research.google.com/notebooks/data_table.ipynb>data table notebook</a>'\n",
              "          + ' to learn more about interactive tables.';\n",
              "        element.innerHTML = '';\n",
              "        dataTable['output_type'] = 'display_data';\n",
              "        await google.colab.output.renderOutput(dataTable, element);\n",
              "        const docLink = document.createElement('div');\n",
              "        docLink.innerHTML = docLinkHtml;\n",
              "        element.appendChild(docLink);\n",
              "      }\n",
              "    </script>\n",
              "  </div>\n",
              "\n",
              "    </div>\n",
              "  </div>\n"
            ],
            "text/plain": [
              "      Order  MS SubClass MS Zoning  Lot Frontage  Lot Area Street Alley  \\\n",
              "1341   1342           20        RM          99.0      5940   Pave   NaN   \n",
              "\n",
              "     Lot Shape Land Contour Utilities  ... Pool Area Pool QC  Fence  \\\n",
              "1341       IR1          Lvl    AllPub  ...         0     NaN  MnPrv   \n",
              "\n",
              "     Misc Feature Misc Val Mo Sold Yr Sold  Sale Type  Sale Condition  \\\n",
              "1341          NaN        0       4    2008      ConLD         Abnorml   \n",
              "\n",
              "      SalePrice  \n",
              "1341      79000  \n",
              "\n",
              "[1 rows x 81 columns]"
            ]
          },
          "execution_count": 36,
          "metadata": {},
          "output_type": "execute_result"
        }
      ],
      "source": [
        "df[df['BsmtFin SF 1'].isnull()]"
      ]
    },
    {
      "cell_type": "code",
      "execution_count": null,
      "metadata": {
        "colab": {
          "base_uri": "https://localhost:8080/",
          "height": 178
        },
        "id": "l7UP3DsAfedb",
        "outputId": "83167eea-e7f6-45ff-8e7e-2975967b986b"
      },
      "outputs": [
        {
          "data": {
            "text/html": [
              "\n",
              "  <div id=\"df-b93a7788-07ae-4231-8fa5-a0bd5d0b86b1\" class=\"colab-df-container\">\n",
              "    <div>\n",
              "<style scoped>\n",
              "    .dataframe tbody tr th:only-of-type {\n",
              "        vertical-align: middle;\n",
              "    }\n",
              "\n",
              "    .dataframe tbody tr th {\n",
              "        vertical-align: top;\n",
              "    }\n",
              "\n",
              "    .dataframe thead th {\n",
              "        text-align: right;\n",
              "    }\n",
              "</style>\n",
              "<table border=\"1\" class=\"dataframe\">\n",
              "  <thead>\n",
              "    <tr style=\"text-align: right;\">\n",
              "      <th></th>\n",
              "      <th>Order</th>\n",
              "      <th>MS SubClass</th>\n",
              "      <th>MS Zoning</th>\n",
              "      <th>Lot Frontage</th>\n",
              "      <th>Lot Area</th>\n",
              "      <th>Street</th>\n",
              "      <th>Alley</th>\n",
              "      <th>Lot Shape</th>\n",
              "      <th>Land Contour</th>\n",
              "      <th>Utilities</th>\n",
              "      <th>...</th>\n",
              "      <th>Pool Area</th>\n",
              "      <th>Pool QC</th>\n",
              "      <th>Fence</th>\n",
              "      <th>Misc Feature</th>\n",
              "      <th>Misc Val</th>\n",
              "      <th>Mo Sold</th>\n",
              "      <th>Yr Sold</th>\n",
              "      <th>Sale Type</th>\n",
              "      <th>Sale Condition</th>\n",
              "      <th>SalePrice</th>\n",
              "    </tr>\n",
              "  </thead>\n",
              "  <tbody>\n",
              "    <tr>\n",
              "      <th>1341</th>\n",
              "      <td>1342</td>\n",
              "      <td>20</td>\n",
              "      <td>RM</td>\n",
              "      <td>99.0</td>\n",
              "      <td>5940</td>\n",
              "      <td>Pave</td>\n",
              "      <td>NaN</td>\n",
              "      <td>IR1</td>\n",
              "      <td>Lvl</td>\n",
              "      <td>AllPub</td>\n",
              "      <td>...</td>\n",
              "      <td>0</td>\n",
              "      <td>NaN</td>\n",
              "      <td>MnPrv</td>\n",
              "      <td>NaN</td>\n",
              "      <td>0</td>\n",
              "      <td>4</td>\n",
              "      <td>2008</td>\n",
              "      <td>ConLD</td>\n",
              "      <td>Abnorml</td>\n",
              "      <td>79000</td>\n",
              "    </tr>\n",
              "    <tr>\n",
              "      <th>1497</th>\n",
              "      <td>1498</td>\n",
              "      <td>20</td>\n",
              "      <td>RL</td>\n",
              "      <td>123.0</td>\n",
              "      <td>47007</td>\n",
              "      <td>Pave</td>\n",
              "      <td>NaN</td>\n",
              "      <td>IR1</td>\n",
              "      <td>Lvl</td>\n",
              "      <td>AllPub</td>\n",
              "      <td>...</td>\n",
              "      <td>0</td>\n",
              "      <td>NaN</td>\n",
              "      <td>NaN</td>\n",
              "      <td>NaN</td>\n",
              "      <td>0</td>\n",
              "      <td>7</td>\n",
              "      <td>2008</td>\n",
              "      <td>WD</td>\n",
              "      <td>Normal</td>\n",
              "      <td>284700</td>\n",
              "    </tr>\n",
              "  </tbody>\n",
              "</table>\n",
              "<p>2 rows × 81 columns</p>\n",
              "</div>\n",
              "    <div class=\"colab-df-buttons\">\n",
              "\n",
              "  <div class=\"colab-df-container\">\n",
              "    <button class=\"colab-df-convert\" onclick=\"convertToInteractive('df-b93a7788-07ae-4231-8fa5-a0bd5d0b86b1')\"\n",
              "            title=\"Convert this dataframe to an interactive table.\"\n",
              "            style=\"display:none;\">\n",
              "\n",
              "  <svg xmlns=\"http://www.w3.org/2000/svg\" height=\"24px\" viewBox=\"0 -960 960 960\">\n",
              "    <path d=\"M120-120v-720h720v720H120Zm60-500h600v-160H180v160Zm220 220h160v-160H400v160Zm0 220h160v-160H400v160ZM180-400h160v-160H180v160Zm440 0h160v-160H620v160ZM180-180h160v-160H180v160Zm440 0h160v-160H620v160Z\"/>\n",
              "  </svg>\n",
              "    </button>\n",
              "\n",
              "  <style>\n",
              "    .colab-df-container {\n",
              "      display:flex;\n",
              "      gap: 12px;\n",
              "    }\n",
              "\n",
              "    .colab-df-convert {\n",
              "      background-color: #E8F0FE;\n",
              "      border: none;\n",
              "      border-radius: 50%;\n",
              "      cursor: pointer;\n",
              "      display: none;\n",
              "      fill: #1967D2;\n",
              "      height: 32px;\n",
              "      padding: 0 0 0 0;\n",
              "      width: 32px;\n",
              "    }\n",
              "\n",
              "    .colab-df-convert:hover {\n",
              "      background-color: #E2EBFA;\n",
              "      box-shadow: 0px 1px 2px rgba(60, 64, 67, 0.3), 0px 1px 3px 1px rgba(60, 64, 67, 0.15);\n",
              "      fill: #174EA6;\n",
              "    }\n",
              "\n",
              "    .colab-df-buttons div {\n",
              "      margin-bottom: 4px;\n",
              "    }\n",
              "\n",
              "    [theme=dark] .colab-df-convert {\n",
              "      background-color: #3B4455;\n",
              "      fill: #D2E3FC;\n",
              "    }\n",
              "\n",
              "    [theme=dark] .colab-df-convert:hover {\n",
              "      background-color: #434B5C;\n",
              "      box-shadow: 0px 1px 3px 1px rgba(0, 0, 0, 0.15);\n",
              "      filter: drop-shadow(0px 1px 2px rgba(0, 0, 0, 0.3));\n",
              "      fill: #FFFFFF;\n",
              "    }\n",
              "  </style>\n",
              "\n",
              "    <script>\n",
              "      const buttonEl =\n",
              "        document.querySelector('#df-b93a7788-07ae-4231-8fa5-a0bd5d0b86b1 button.colab-df-convert');\n",
              "      buttonEl.style.display =\n",
              "        google.colab.kernel.accessAllowed ? 'block' : 'none';\n",
              "\n",
              "      async function convertToInteractive(key) {\n",
              "        const element = document.querySelector('#df-b93a7788-07ae-4231-8fa5-a0bd5d0b86b1');\n",
              "        const dataTable =\n",
              "          await google.colab.kernel.invokeFunction('convertToInteractive',\n",
              "                                                    [key], {});\n",
              "        if (!dataTable) return;\n",
              "\n",
              "        const docLinkHtml = 'Like what you see? Visit the ' +\n",
              "          '<a target=\"_blank\" href=https://colab.research.google.com/notebooks/data_table.ipynb>data table notebook</a>'\n",
              "          + ' to learn more about interactive tables.';\n",
              "        element.innerHTML = '';\n",
              "        dataTable['output_type'] = 'display_data';\n",
              "        await google.colab.output.renderOutput(dataTable, element);\n",
              "        const docLink = document.createElement('div');\n",
              "        docLink.innerHTML = docLinkHtml;\n",
              "        element.appendChild(docLink);\n",
              "      }\n",
              "    </script>\n",
              "  </div>\n",
              "\n",
              "\n",
              "<div id=\"df-bd8c9dfc-9711-4ddf-86af-e0285e6a1361\">\n",
              "  <button class=\"colab-df-quickchart\" onclick=\"quickchart('df-bd8c9dfc-9711-4ddf-86af-e0285e6a1361')\"\n",
              "            title=\"Suggest charts.\"\n",
              "            style=\"display:none;\">\n",
              "\n",
              "<svg xmlns=\"http://www.w3.org/2000/svg\" height=\"24px\"viewBox=\"0 0 24 24\"\n",
              "     width=\"24px\">\n",
              "    <g>\n",
              "        <path d=\"M19 3H5c-1.1 0-2 .9-2 2v14c0 1.1.9 2 2 2h14c1.1 0 2-.9 2-2V5c0-1.1-.9-2-2-2zM9 17H7v-7h2v7zm4 0h-2V7h2v10zm4 0h-2v-4h2v4z\"/>\n",
              "    </g>\n",
              "</svg>\n",
              "  </button>\n",
              "\n",
              "<style>\n",
              "  .colab-df-quickchart {\n",
              "      --bg-color: #E8F0FE;\n",
              "      --fill-color: #1967D2;\n",
              "      --hover-bg-color: #E2EBFA;\n",
              "      --hover-fill-color: #174EA6;\n",
              "      --disabled-fill-color: #AAA;\n",
              "      --disabled-bg-color: #DDD;\n",
              "  }\n",
              "\n",
              "  [theme=dark] .colab-df-quickchart {\n",
              "      --bg-color: #3B4455;\n",
              "      --fill-color: #D2E3FC;\n",
              "      --hover-bg-color: #434B5C;\n",
              "      --hover-fill-color: #FFFFFF;\n",
              "      --disabled-bg-color: #3B4455;\n",
              "      --disabled-fill-color: #666;\n",
              "  }\n",
              "\n",
              "  .colab-df-quickchart {\n",
              "    background-color: var(--bg-color);\n",
              "    border: none;\n",
              "    border-radius: 50%;\n",
              "    cursor: pointer;\n",
              "    display: none;\n",
              "    fill: var(--fill-color);\n",
              "    height: 32px;\n",
              "    padding: 0;\n",
              "    width: 32px;\n",
              "  }\n",
              "\n",
              "  .colab-df-quickchart:hover {\n",
              "    background-color: var(--hover-bg-color);\n",
              "    box-shadow: 0 1px 2px rgba(60, 64, 67, 0.3), 0 1px 3px 1px rgba(60, 64, 67, 0.15);\n",
              "    fill: var(--button-hover-fill-color);\n",
              "  }\n",
              "\n",
              "  .colab-df-quickchart-complete:disabled,\n",
              "  .colab-df-quickchart-complete:disabled:hover {\n",
              "    background-color: var(--disabled-bg-color);\n",
              "    fill: var(--disabled-fill-color);\n",
              "    box-shadow: none;\n",
              "  }\n",
              "\n",
              "  .colab-df-spinner {\n",
              "    border: 2px solid var(--fill-color);\n",
              "    border-color: transparent;\n",
              "    border-bottom-color: var(--fill-color);\n",
              "    animation:\n",
              "      spin 1s steps(1) infinite;\n",
              "  }\n",
              "\n",
              "  @keyframes spin {\n",
              "    0% {\n",
              "      border-color: transparent;\n",
              "      border-bottom-color: var(--fill-color);\n",
              "      border-left-color: var(--fill-color);\n",
              "    }\n",
              "    20% {\n",
              "      border-color: transparent;\n",
              "      border-left-color: var(--fill-color);\n",
              "      border-top-color: var(--fill-color);\n",
              "    }\n",
              "    30% {\n",
              "      border-color: transparent;\n",
              "      border-left-color: var(--fill-color);\n",
              "      border-top-color: var(--fill-color);\n",
              "      border-right-color: var(--fill-color);\n",
              "    }\n",
              "    40% {\n",
              "      border-color: transparent;\n",
              "      border-right-color: var(--fill-color);\n",
              "      border-top-color: var(--fill-color);\n",
              "    }\n",
              "    60% {\n",
              "      border-color: transparent;\n",
              "      border-right-color: var(--fill-color);\n",
              "    }\n",
              "    80% {\n",
              "      border-color: transparent;\n",
              "      border-right-color: var(--fill-color);\n",
              "      border-bottom-color: var(--fill-color);\n",
              "    }\n",
              "    90% {\n",
              "      border-color: transparent;\n",
              "      border-bottom-color: var(--fill-color);\n",
              "    }\n",
              "  }\n",
              "</style>\n",
              "\n",
              "  <script>\n",
              "    async function quickchart(key) {\n",
              "      const quickchartButtonEl =\n",
              "        document.querySelector('#' + key + ' button');\n",
              "      quickchartButtonEl.disabled = true;  // To prevent multiple clicks.\n",
              "      quickchartButtonEl.classList.add('colab-df-spinner');\n",
              "      try {\n",
              "        const charts = await google.colab.kernel.invokeFunction(\n",
              "            'suggestCharts', [key], {});\n",
              "      } catch (error) {\n",
              "        console.error('Error during call to suggestCharts:', error);\n",
              "      }\n",
              "      quickchartButtonEl.classList.remove('colab-df-spinner');\n",
              "      quickchartButtonEl.classList.add('colab-df-quickchart-complete');\n",
              "    }\n",
              "    (() => {\n",
              "      let quickchartButtonEl =\n",
              "        document.querySelector('#df-bd8c9dfc-9711-4ddf-86af-e0285e6a1361 button');\n",
              "      quickchartButtonEl.style.display =\n",
              "        google.colab.kernel.accessAllowed ? 'block' : 'none';\n",
              "    })();\n",
              "  </script>\n",
              "</div>\n",
              "    </div>\n",
              "  </div>\n"
            ],
            "text/plain": [
              "      Order  MS SubClass MS Zoning  Lot Frontage  Lot Area Street Alley  \\\n",
              "1341   1342           20        RM          99.0      5940   Pave   NaN   \n",
              "1497   1498           20        RL         123.0     47007   Pave   NaN   \n",
              "\n",
              "     Lot Shape Land Contour Utilities  ... Pool Area Pool QC  Fence  \\\n",
              "1341       IR1          Lvl    AllPub  ...         0     NaN  MnPrv   \n",
              "1497       IR1          Lvl    AllPub  ...         0     NaN    NaN   \n",
              "\n",
              "     Misc Feature Misc Val Mo Sold Yr Sold  Sale Type  Sale Condition  \\\n",
              "1341          NaN        0       4    2008      ConLD         Abnorml   \n",
              "1497          NaN        0       7    2008        WD           Normal   \n",
              "\n",
              "      SalePrice  \n",
              "1341      79000  \n",
              "1497     284700  \n",
              "\n",
              "[2 rows x 81 columns]"
            ]
          },
          "execution_count": 37,
          "metadata": {},
          "output_type": "execute_result"
        }
      ],
      "source": [
        "df[df['Bsmt Full Bath'].isnull()]"
      ]
    },
    {
      "cell_type": "code",
      "execution_count": null,
      "metadata": {
        "colab": {
          "base_uri": "https://localhost:8080/"
        },
        "id": "MtUu_5jhfq2y",
        "outputId": "8230cf48-67f0-4709-e3ac-d469f8353c35"
      },
      "outputs": [
        {
          "data": {
            "text/plain": [
              "1341    NaN\n",
              "1497    NaN\n",
              "Name: Bsmt Qual, dtype: object"
            ]
          },
          "execution_count": 39,
          "metadata": {},
          "output_type": "execute_result"
        }
      ],
      "source": [
        "df.iloc[[1341,1497]]['Bsmt Qual']"
      ]
    },
    {
      "cell_type": "markdown",
      "metadata": {
        "id": "pL4xztJvfwaE"
      },
      "source": [
        "Наблюдение:\n",
        "Мы понимаем, что подвала нет. Поэтому лучше логически заменить числовые столбцы подвала на 0, а столбцы строк подвала - на None."
      ]
    },
    {
      "cell_type": "code",
      "execution_count": null,
      "metadata": {
        "id": "4g1fhNvof0XV"
      },
      "outputs": [],
      "source": [
        "# Numerical Basement Data\n",
        "bsmt_num_cols = ['BsmtFin SF 1', 'BsmtFin SF 2', 'Bsmt Unf SF','Total Bsmt SF', 'Bsmt Full Bath', 'Bsmt Half Bath']\n",
        "df[bsmt_num_cols] = df[bsmt_num_cols].fillna(0)"
      ]
    },
    {
      "cell_type": "code",
      "execution_count": null,
      "metadata": {
        "id": "k3Aq4edHf38r"
      },
      "outputs": [],
      "source": [
        "# String Basement Data\n",
        "bsmt_str_cols =  ['Bsmt Qual', 'Bsmt Cond', 'Bsmt Exposure', 'BsmtFin Type 1', 'BsmtFin Type 2']\n",
        "df[bsmt_str_cols] = df[bsmt_str_cols].fillna('None')"
      ]
    },
    {
      "cell_type": "code",
      "execution_count": null,
      "metadata": {
        "colab": {
          "base_uri": "https://localhost:8080/",
          "height": 533
        },
        "id": "FpzJAnO5f6-z",
        "outputId": "55cf4cff-6fed-4bbd-a023-3cd29425d210"
      },
      "outputs": [
        {
          "data": {
            "text/plain": [
              "(0.0, 1.0)"
            ]
          },
          "execution_count": 42,
          "metadata": {},
          "output_type": "execute_result"
        },
        {
          "data": {
            "image/png": "[encoded data removed]",
            "text/plain": [
              "<Figure size 640x480 with 1 Axes>"
            ]
          },
          "metadata": {},
          "output_type": "display_data"
        }
      ],
      "source": [
        "percent_nan = percent_missing(df)\n",
        "sns.barplot(x=percent_nan.index,y=percent_nan)\n",
        "plt.xticks(rotation=90);\n",
        "plt.ylim(0,1)"
      ]
    },
    {
      "cell_type": "markdown",
      "metadata": {
        "id": "QOaY43d0gAdj"
      },
      "source": [
        "Наблюдение:\n",
        "Теперь в последних двух столбцах отсутствует менее 1% данных, т. е. тип Mas Vnr и область Mas Vnr.\n",
        "Давайте проверим, каковы уникальные значения в Mas Vnr Type."
      ]
    },
    {
      "cell_type": "code",
      "execution_count": null,
      "metadata": {
        "colab": {
          "base_uri": "https://localhost:8080/"
        },
        "id": "z2OQLbYWgGdK",
        "outputId": "d75bc5f4-2547-4e74-941c-16a86528dbcf"
      },
      "outputs": [
        {
          "data": {
            "text/plain": [
              "array(['Stone', 'None', 'BrkFace', nan, 'BrkCmn', 'CBlock'], dtype=object)"
            ]
          },
          "execution_count": 43,
          "metadata": {},
          "output_type": "execute_result"
        }
      ],
      "source": [
        "df['Mas Vnr Type'].unique()"
      ]
    },
    {
      "cell_type": "markdown",
      "metadata": {
        "id": "4_EAcStFgM77"
      },
      "source": [
        "<font color=darkred><b>Наблюдение:</b></font><br>\n",
        "Учитывая, что в приведенном выше результате есть уникальное значение None. Поэтому может случиться так, что отсутствующие значения Mas Vnr Type могут быть просто типом None.\n",
        "Поэтому мы заменяем отсутствующий тип Mas Vnr на None, а также заменяем Mas Vnr Area на 0."
      ]
    },
    {
      "cell_type": "code",
      "execution_count": null,
      "metadata": {
        "id": "-9ZL80zcgZpD"
      },
      "outputs": [],
      "source": [
        "df['Mas Vnr Type'] = df['Mas Vnr Type'].fillna('None')\n",
        "df['Mas Vnr Area'] = df['Mas Vnr Area'].fillna(0)"
      ]
    },
    {
      "cell_type": "code",
      "execution_count": null,
      "metadata": {
        "colab": {
          "base_uri": "https://localhost:8080/",
          "height": 511
        },
        "id": "b-SZ3e_Agckr",
        "outputId": "95714a63-b954-4096-d15b-45dddc963a9b"
      },
      "outputs": [
        {
          "data": {
            "image/png": "[encoded data removed]",
            "text/plain": [
              "<Figure size 640x480 with 1 Axes>"
            ]
          },
          "metadata": {},
          "output_type": "display_data"
        }
      ],
      "source": [
        "percent_nan = percent_missing(df)\n",
        "# Plot the percentage in a barplot\n",
        "sns.barplot(x=percent_nan.index,y=percent_nan)\n",
        "plt.xticks(rotation=90);"
      ]
    },
    {
      "cell_type": "markdown",
      "metadata": {
        "id": "GjbyXhUCglor"
      },
      "source": [
        "<font color=darkred><b>Наблюдение:</b></font><br>\n",
        "Итак, теперь все наши недостающие данные составляют более 1%. Мы не можем думать, по крайней мере, о том, чтобы отказаться от них. Какие варианты у нас есть?\n",
        "\n",
        "\n",
        "Удаление столбцов функций. Это чрезвычайно просто. Но это логично, когда большая часть данных, например, 99% данных, отсутствует. С другой стороны, если в будущем этот столбец станет важным и мы от него откажемся, это действительно помешает нашей модели машинного обучения.\n",
        "Заполнение недостающих данных. Мы искусственно изменяем основную истину. Необходимо применить преобразование ко всем будущим данным. В простом случае его фактическое значение может быть равно 0, и поэтому данные отсутствуют. В сложных случаях мы можем заменить отсутствующие или нулевые значения статистической оценкой.\n",
        "Итак, давайте начнем излагать нашу логику.\n",
        "\n",
        "Из приведенного выше графика вполне видно, что нет. особенности гаража отсутствуют. Может случиться так, что гаража в доме на самом деле нет. Следовательно, давайте обработаем то же самое, что и с нашим подвалом."
      ]
    },
    {
      "cell_type": "code",
      "execution_count": null,
      "metadata": {
        "colab": {
          "base_uri": "https://localhost:8080/"
        },
        "id": "VMOYBDJXg5TU",
        "outputId": "a92d979c-65ba-47ee-9da2-2a16de9da744"
      },
      "outputs": [
        {
          "data": {
            "text/plain": [
              "array(['Attchd', 'BuiltIn', 'Basment', 'Detchd', nan, 'CarPort', '2Types'],\n",
              "      dtype=object)"
            ]
          },
          "execution_count": 46,
          "metadata": {},
          "output_type": "execute_result"
        }
      ],
      "source": [
        "df['Garage Type'].unique()"
      ]
    },
    {
      "cell_type": "code",
      "execution_count": null,
      "metadata": {
        "id": "n4WLS7Hzg9Hz"
      },
      "outputs": [],
      "source": [
        "# Garage String Columns\n",
        "gar_str_cols = ['Garage Type','Garage Finish','Garage Qual','Garage Cond']\n",
        "df[gar_str_cols] = df[gar_str_cols].fillna('None')"
      ]
    },
    {
      "cell_type": "code",
      "execution_count": null,
      "metadata": {
        "id": "5czJRUvSg_-L"
      },
      "outputs": [],
      "source": [
        "# Garage Numeric Columns\n",
        "df['Garage Yr Blt'] = df['Garage Yr Blt'].fillna(0)"
      ]
    },
    {
      "cell_type": "code",
      "execution_count": null,
      "metadata": {
        "id": "7rSvRQ2rhDDD"
      },
      "outputs": [],
      "source": [
        "percent_nan = percent_missing(df)\n",
        "# Plot the percentage in a barplot\n",
        "sns.barplot(x=percent_nan.index,y=percent_nan)\n",
        "plt.xticks(rotation=90);"
      ]
    },
    {
      "cell_type": "markdown",
      "metadata": {
        "id": "OlmXn2FkhKS8"
      },
      "source": [
        "Наблюдение:\n",
        "Опять же, для таких функций, как «Забор», «Аллея», «Разные функции» и «КК пула», мы видим, что более 80% данных отсутствуют.\n",
        "Может случиться так, что в доме нет бассейна или аллеи. Поэтому мы можем заменить его чем-то вроде None или 0. Но опять же большая часть данных отсутствует.\n",
        "\n",
        "Давайте на самом деле удалим функции из нашего набора данных."
      ]
    },
    {
      "cell_type": "code",
      "execution_count": null,
      "metadata": {
        "id": "9o8z5eknhOq7"
      },
      "outputs": [],
      "source": [
        "df = df.drop(['Fence','Alley','Misc Feature','Pool QC'],axis=1)"
      ]
    },
    {
      "cell_type": "code",
      "execution_count": null,
      "metadata": {
        "colab": {
          "base_uri": "https://localhost:8080/",
          "height": 503
        },
        "id": "6V39LzWbhRHs",
        "outputId": "57dac34a-7d5c-4177-d631-5a3a8d7e18ef"
      },
      "outputs": [
        {
          "data": {
            "image/png": "[encoded data removed]",
            "text/plain": [
              "<Figure size 640x480 with 1 Axes>"
            ]
          },
          "metadata": {},
          "output_type": "display_data"
        }
      ],
      "source": [
        "percent_nan = percent_missing(df)\n",
        "# Plot the percentage in a barplot\n",
        "sns.barplot(x=percent_nan.index,y=percent_nan)\n",
        "plt.xticks(rotation=90);"
      ]
    },
    {
      "cell_type": "markdown",
      "metadata": {
        "id": "q3BUg3T0hWCM"
      },
      "source": [
        "Наблюдение:\n",
        "Наконец мы добрались до двух последних столбцов недостающих данных. Это нечто среднее между крайностями. Поэтому нам нужно быть особенно осторожными.\n",
        "\n",
        "Давайте исследуем."
      ]
    },
    {
      "cell_type": "code",
      "execution_count": null,
      "metadata": {
        "colab": {
          "base_uri": "https://localhost:8080/"
        },
        "id": "uXoTeo8JhYsb",
        "outputId": "761226dc-fdcb-4188-e51e-1a066edf8e22"
      },
      "outputs": [
        {
          "data": {
            "text/plain": [
              "Gd    741\n",
              "TA    600\n",
              "Fa     75\n",
              "Po     46\n",
              "Ex     43\n",
              "Name: Fireplace Qu, dtype: int64"
            ]
          },
          "execution_count": 52,
          "metadata": {},
          "output_type": "execute_result"
        }
      ],
      "source": [
        "df['Fireplace Qu'].value_counts()"
      ]
    },
    {
      "cell_type": "code",
      "execution_count": null,
      "metadata": {
        "colab": {
          "base_uri": "https://localhost:8080/"
        },
        "id": "NZR3HciIhdMb",
        "outputId": "c15dfbf2-a38f-4143-9714-0277b9042311"
      },
      "outputs": [
        {
          "data": {
            "text/plain": [
              "60.0     276\n",
              "80.0     137\n",
              "70.0     133\n",
              "50.0     116\n",
              "75.0     105\n",
              "        ... \n",
              "119.0      1\n",
              "137.0      1\n",
              "25.0       1\n",
              "152.0      1\n",
              "133.0      1\n",
              "Name: Lot Frontage, Length: 128, dtype: int64"
            ]
          },
          "execution_count": 53,
          "metadata": {},
          "output_type": "execute_result"
        }
      ],
      "source": [
        "df['Lot Frontage'].value_counts()"
      ]
    },
    {
      "cell_type": "markdown",
      "metadata": {
        "id": "Wkw1cPOohjkU"
      },
      "source": [
        "Наблюдение:\n",
        "Из вышеизложенного очевидно, что Fireplace Qu имеет строку и, возможно, из-за недостающих данных камина нет. Поэтому мы заменим пропущенные значения на none.\n",
        "\n",
        "Но в случае с фасадом участка это числовое значение с множеством вариаций. Из набора данных и немного *погуглив и погуглив* мы пришли к пониманию, что этот столбец может быть каким-то образом связан со столбцом «Соседство». Так что мы это тоже проверим."
      ]
    },
    {
      "cell_type": "code",
      "execution_count": null,
      "metadata": {
        "id": "AFTHxebRhi1T"
      },
      "outputs": [],
      "source": [
        "df['Fireplace Qu'] = df['Fireplace Qu'].fillna('None')"
      ]
    },
    {
      "cell_type": "code",
      "execution_count": null,
      "metadata": {
        "colab": {
          "base_uri": "https://localhost:8080/",
          "height": 1000
        },
        "id": "v_I4NNqwhpIT",
        "outputId": "b7d1169a-e649-4044-fd2f-58f8e45c784a"
      },
      "outputs": [
        {
          "data": {
            "text/plain": [
              "<Axes: xlabel='Lot Frontage', ylabel='Neighborhood'>"
            ]
          },
          "execution_count": 55,
          "metadata": {},
          "output_type": "execute_result"
        },
        {
          "data": {
            "image/png": "[encoded data removed]",
            "text/plain": [
              "<Figure size 1600x2400 with 1 Axes>"
            ]
          },
          "metadata": {},
          "output_type": "display_data"
        }
      ],
      "source": [
        "plt.figure(figsize=(8,12),dpi=200) # To make the plot a bit taller for better visualisation\n",
        "sns.boxplot(x='Lot Frontage',y='Neighborhood',data=df,orient='h')"
      ]
    },
    {
      "cell_type": "markdown",
      "metadata": {
        "id": "GQRSnS0Iht9t"
      },
      "source": [
        "Наблюдение:\n",
        "Хотя здесь много отклонений, не так уж нелогично предположить, что одни и те же районы будут иметь одинаковый фасад.\n",
        "Поэтому мы решили поместить средний фасад участка в этом районе в недостающие значения параметра «Фронт участка»."
      ]
    },
    {
      "cell_type": "code",
      "execution_count": null,
      "metadata": {
        "colab": {
          "base_uri": "https://localhost:8080/"
        },
        "id": "ECljJ2Xwh1-T",
        "outputId": "97cfee67-11e4-4595-eaff-d689d5dcc1df"
      },
      "outputs": [
        {
          "data": {
            "text/plain": [
              "Neighborhood\n",
              "Blmngtn    46.900000\n",
              "Blueste    27.300000\n",
              "BrDale     21.500000\n",
              "BrkSide    55.789474\n",
              "ClearCr    88.150000\n",
              "CollgCr    71.336364\n",
              "Crawfor    69.951807\n",
              "Edwards    64.794286\n",
              "Gilbert    74.207207\n",
              "Greens     41.000000\n",
              "GrnHill          NaN\n",
              "IDOTRR     62.383721\n",
              "Landmrk          NaN\n",
              "MeadowV    25.606061\n",
              "Mitchel    75.144444\n",
              "NAmes      75.210667\n",
              "NPkVill    28.142857\n",
              "NWAmes     81.517647\n",
              "NoRidge    91.629630\n",
              "NridgHt    84.184049\n",
              "OldTown    61.777293\n",
              "SWISU      59.068182\n",
              "Sawyer     74.551020\n",
              "SawyerW    70.669811\n",
              "Somerst    64.549383\n",
              "StoneBr    62.173913\n",
              "Timber     81.303571\n",
              "Veenker    72.000000\n",
              "Name: Lot Frontage, dtype: float64"
            ]
          },
          "execution_count": 56,
          "metadata": {},
          "output_type": "execute_result"
        }
      ],
      "source": [
        "df.groupby('Neighborhood')['Lot Frontage'].mean()"
      ]
    },
    {
      "cell_type": "code",
      "execution_count": null,
      "metadata": {
        "id": "RG2KRI9Fh6fT"
      },
      "outputs": [],
      "source": [
        "df['Lot Frontage'] = df.groupby('Neighborhood')['Lot Frontage'].transform(lambda value: value.fillna(value.mean()))"
      ]
    },
    {
      "cell_type": "code",
      "execution_count": null,
      "metadata": {
        "colab": {
          "base_uri": "https://localhost:8080/"
        },
        "id": "u0iknXokh9Hj",
        "outputId": "f6a28c7d-6ace-41f0-dac8-1503d3516ed6"
      },
      "outputs": [
        {
          "data": {
            "text/plain": [
              "Lot Frontage    0.102564\n",
              "dtype: float64"
            ]
          },
          "execution_count": 58,
          "metadata": {},
          "output_type": "execute_result"
        }
      ],
      "source": [
        "percent_nan = percent_missing(df)\n",
        "percent_nan"
      ]
    },
    {
      "cell_type": "code",
      "execution_count": null,
      "metadata": {
        "colab": {
          "base_uri": "https://localhost:8080/"
        },
        "id": "iM8q2nO8iAez",
        "outputId": "1167fbd2-63b8-4c03-9d2e-7047f04a66ca"
      },
      "outputs": [
        {
          "data": {
            "text/plain": [
              "Order             0\n",
              "MS SubClass       0\n",
              "MS Zoning         0\n",
              "Lot Frontage      3\n",
              "Lot Area          0\n",
              "                 ..\n",
              "Mo Sold           0\n",
              "Yr Sold           0\n",
              "Sale Type         0\n",
              "Sale Condition    0\n",
              "SalePrice         0\n",
              "Length: 77, dtype: int64"
            ]
          },
          "execution_count": 59,
          "metadata": {},
          "output_type": "execute_result"
        }
      ],
      "source": [
        "df.isnull().sum()"
      ]
    },
    {
      "cell_type": "markdown",
      "metadata": {
        "id": "IMWENnijiGQz"
      },
      "source": [
        "Наблюдение:\n",
        "Итак, у нас все еще есть 3 недостающих значения Lot Frontage. Если мы внимательно посмотрим на среднее значение для каждого района, мы обнаружим, что существуют районы GrnHill и Lndmark, средние значения которых равны NaN.\n",
        "\n",
        "Возможно, у Лота нет фасада в этих кварталах. Поэтому мы заменяем их на 0."
      ]
    },
    {
      "cell_type": "code",
      "execution_count": null,
      "metadata": {
        "id": "Syx3iHydh9cy"
      },
      "outputs": [],
      "source": [
        "df['Lot Frontage'] = df['Lot Frontage'].fillna(0)"
      ]
    },
    {
      "cell_type": "code",
      "execution_count": null,
      "metadata": {
        "colab": {
          "base_uri": "https://localhost:8080/"
        },
        "id": "5cn2LJCFiLck",
        "outputId": "70c1b735-3cc0-4f80-fe1c-bb57830d2e09"
      },
      "outputs": [
        {
          "data": {
            "text/plain": [
              "Series([], dtype: float64)"
            ]
          },
          "execution_count": 61,
          "metadata": {},
          "output_type": "execute_result"
        }
      ],
      "source": [
        "percent_nan = percent_missing(df)\n",
        "percent_nan"
      ]
    },
    {
      "cell_type": "markdown",
      "metadata": {
        "id": "P5FHf6jIiOwM"
      },
      "source": [
        "DATA CLEANUP - TRANSFORMMING DATA"
      ]
    },
    {
      "cell_type": "markdown",
      "metadata": {
        "id": "Gnb2hRVviPqc"
      },
      "source": [
        "Мы попробуем поработать с некоторыми категориальными данными. Нам нужно будет выяснить категориальные поля.\n",
        "Но начнем с того, что, как мы видим, MS SubClass, это категориальный столбец в целочисленном формате. Итак, мы преобразуем столбец в тип String.\n",
        "Затем мы разобьем фрейм данных на строки и числовые столбцы. Мы заменим столбцы строк категориальными столбцами с помощью горячего кодирования и, наконец, соединим их с числовыми столбцами, чтобы завершить кадр данных."
      ]
    },
    {
      "cell_type": "code",
      "execution_count": null,
      "metadata": {
        "id": "vIDZCJTbjtET"
      },
      "outputs": [],
      "source": [
        "# Конвертация в строковый тип данных\n",
        "df['MS SubClass'] = df['MS SubClass'].apply(str)"
      ]
    },
    {
      "cell_type": "code",
      "execution_count": null,
      "metadata": {
        "id": "LmLJK2Plj4X8"
      },
      "outputs": [],
      "source": [
        "# Return all columns with String\n",
        "object_df = df.select_dtypes(include='object')"
      ]
    },
    {
      "cell_type": "code",
      "execution_count": null,
      "metadata": {
        "id": "zByF3qjaj-KT"
      },
      "outputs": [],
      "source": [
        "# Return all columns with Numerical Values\n",
        "numeric_df = df.select_dtypes(exclude='object')"
      ]
    },
    {
      "cell_type": "code",
      "execution_count": null,
      "metadata": {
        "id": "dsgFMwVPlVzj"
      },
      "outputs": [],
      "source": [
        "# Replace with dummy variables\n",
        "df_objects_dummies = pd.get_dummies(object_df,drop_first=True)"
      ]
    },
    {
      "cell_type": "code",
      "execution_count": null,
      "metadata": {
        "id": "LJOr4PBNlXkj"
      },
      "outputs": [],
      "source": [
        "# Concatenate the object with string to complete the dataframe\n",
        "final_df = pd.concat([numeric_df,df_objects_dummies], axis=1)"
      ]
    },
    {
      "cell_type": "code",
      "execution_count": null,
      "metadata": {
        "id": "jmETihEEkF8T"
      },
      "outputs": [],
      "source": [
        "# Drop order column. Its just the index\n",
        "final_df = final_df.drop('Order',axis=1)"
      ]
    },
    {
      "cell_type": "code",
      "execution_count": null,
      "metadata": {
        "colab": {
          "base_uri": "https://localhost:8080/",
          "height": 290
        },
        "id": "6qfXwxFalfk0",
        "outputId": "ff1be8cd-1225-4976-ee2f-a274d4a43f24"
      },
      "outputs": [
        {
          "data": {
            "text/html": [
              "\n",
              "  <div id=\"df-8438e3d4-ef39-410f-8ee1-b3b636ef8c67\" class=\"colab-df-container\">\n",
              "    <div>\n",
              "<style scoped>\n",
              "    .dataframe tbody tr th:only-of-type {\n",
              "        vertical-align: middle;\n",
              "    }\n",
              "\n",
              "    .dataframe tbody tr th {\n",
              "        vertical-align: top;\n",
              "    }\n",
              "\n",
              "    .dataframe thead th {\n",
              "        text-align: right;\n",
              "    }\n",
              "</style>\n",
              "<table border=\"1\" class=\"dataframe\">\n",
              "  <thead>\n",
              "    <tr style=\"text-align: right;\">\n",
              "      <th></th>\n",
              "      <th>Lot Frontage</th>\n",
              "      <th>Lot Area</th>\n",
              "      <th>Overall Qual</th>\n",
              "      <th>Overall Cond</th>\n",
              "      <th>Year Built</th>\n",
              "      <th>Year Remod/Add</th>\n",
              "      <th>Mas Vnr Area</th>\n",
              "      <th>BsmtFin SF 1</th>\n",
              "      <th>BsmtFin SF 2</th>\n",
              "      <th>Bsmt Unf SF</th>\n",
              "      <th>...</th>\n",
              "      <th>Sale Type_ConLw</th>\n",
              "      <th>Sale Type_New</th>\n",
              "      <th>Sale Type_Oth</th>\n",
              "      <th>Sale Type_VWD</th>\n",
              "      <th>Sale Type_WD</th>\n",
              "      <th>Sale Condition_AdjLand</th>\n",
              "      <th>Sale Condition_Alloca</th>\n",
              "      <th>Sale Condition_Family</th>\n",
              "      <th>Sale Condition_Normal</th>\n",
              "      <th>Sale Condition_Partial</th>\n",
              "    </tr>\n",
              "  </thead>\n",
              "  <tbody>\n",
              "    <tr>\n",
              "      <th>0</th>\n",
              "      <td>141.0</td>\n",
              "      <td>31770</td>\n",
              "      <td>6</td>\n",
              "      <td>5</td>\n",
              "      <td>1960</td>\n",
              "      <td>1960</td>\n",
              "      <td>112.0</td>\n",
              "      <td>639.0</td>\n",
              "      <td>0.0</td>\n",
              "      <td>441.0</td>\n",
              "      <td>...</td>\n",
              "      <td>0</td>\n",
              "      <td>0</td>\n",
              "      <td>0</td>\n",
              "      <td>0</td>\n",
              "      <td>1</td>\n",
              "      <td>0</td>\n",
              "      <td>0</td>\n",
              "      <td>0</td>\n",
              "      <td>1</td>\n",
              "      <td>0</td>\n",
              "    </tr>\n",
              "    <tr>\n",
              "      <th>1</th>\n",
              "      <td>80.0</td>\n",
              "      <td>11622</td>\n",
              "      <td>5</td>\n",
              "      <td>6</td>\n",
              "      <td>1961</td>\n",
              "      <td>1961</td>\n",
              "      <td>0.0</td>\n",
              "      <td>468.0</td>\n",
              "      <td>144.0</td>\n",
              "      <td>270.0</td>\n",
              "      <td>...</td>\n",
              "      <td>0</td>\n",
              "      <td>0</td>\n",
              "      <td>0</td>\n",
              "      <td>0</td>\n",
              "      <td>1</td>\n",
              "      <td>0</td>\n",
              "      <td>0</td>\n",
              "      <td>0</td>\n",
              "      <td>1</td>\n",
              "      <td>0</td>\n",
              "    </tr>\n",
              "    <tr>\n",
              "      <th>2</th>\n",
              "      <td>81.0</td>\n",
              "      <td>14267</td>\n",
              "      <td>6</td>\n",
              "      <td>6</td>\n",
              "      <td>1958</td>\n",
              "      <td>1958</td>\n",
              "      <td>108.0</td>\n",
              "      <td>923.0</td>\n",
              "      <td>0.0</td>\n",
              "      <td>406.0</td>\n",
              "      <td>...</td>\n",
              "      <td>0</td>\n",
              "      <td>0</td>\n",
              "      <td>0</td>\n",
              "      <td>0</td>\n",
              "      <td>1</td>\n",
              "      <td>0</td>\n",
              "      <td>0</td>\n",
              "      <td>0</td>\n",
              "      <td>1</td>\n",
              "      <td>0</td>\n",
              "    </tr>\n",
              "    <tr>\n",
              "      <th>3</th>\n",
              "      <td>93.0</td>\n",
              "      <td>11160</td>\n",
              "      <td>7</td>\n",
              "      <td>5</td>\n",
              "      <td>1968</td>\n",
              "      <td>1968</td>\n",
              "      <td>0.0</td>\n",
              "      <td>1065.0</td>\n",
              "      <td>0.0</td>\n",
              "      <td>1045.0</td>\n",
              "      <td>...</td>\n",
              "      <td>0</td>\n",
              "      <td>0</td>\n",
              "      <td>0</td>\n",
              "      <td>0</td>\n",
              "      <td>1</td>\n",
              "      <td>0</td>\n",
              "      <td>0</td>\n",
              "      <td>0</td>\n",
              "      <td>1</td>\n",
              "      <td>0</td>\n",
              "    </tr>\n",
              "    <tr>\n",
              "      <th>4</th>\n",
              "      <td>74.0</td>\n",
              "      <td>13830</td>\n",
              "      <td>5</td>\n",
              "      <td>5</td>\n",
              "      <td>1997</td>\n",
              "      <td>1998</td>\n",
              "      <td>0.0</td>\n",
              "      <td>791.0</td>\n",
              "      <td>0.0</td>\n",
              "      <td>137.0</td>\n",
              "      <td>...</td>\n",
              "      <td>0</td>\n",
              "      <td>0</td>\n",
              "      <td>0</td>\n",
              "      <td>0</td>\n",
              "      <td>1</td>\n",
              "      <td>0</td>\n",
              "      <td>0</td>\n",
              "      <td>0</td>\n",
              "      <td>1</td>\n",
              "      <td>0</td>\n",
              "    </tr>\n",
              "  </tbody>\n",
              "</table>\n",
              "<p>5 rows × 274 columns</p>\n",
              "</div>\n",
              "    <div class=\"colab-df-buttons\">\n",
              "\n",
              "  <div class=\"colab-df-container\">\n",
              "    <button class=\"colab-df-convert\" onclick=\"convertToInteractive('df-8438e3d4-ef39-410f-8ee1-b3b636ef8c67')\"\n",
              "            title=\"Convert this dataframe to an interactive table.\"\n",
              "            style=\"display:none;\">\n",
              "\n",
              "  <svg xmlns=\"http://www.w3.org/2000/svg\" height=\"24px\" viewBox=\"0 -960 960 960\">\n",
              "    <path d=\"M120-120v-720h720v720H120Zm60-500h600v-160H180v160Zm220 220h160v-160H400v160Zm0 220h160v-160H400v160ZM180-400h160v-160H180v160Zm440 0h160v-160H620v160ZM180-180h160v-160H180v160Zm440 0h160v-160H620v160Z\"/>\n",
              "  </svg>\n",
              "    </button>\n",
              "\n",
              "  <style>\n",
              "    .colab-df-container {\n",
              "      display:flex;\n",
              "      gap: 12px;\n",
              "    }\n",
              "\n",
              "    .colab-df-convert {\n",
              "      background-color: #E8F0FE;\n",
              "      border: none;\n",
              "      border-radius: 50%;\n",
              "      cursor: pointer;\n",
              "      display: none;\n",
              "      fill: #1967D2;\n",
              "      height: 32px;\n",
              "      padding: 0 0 0 0;\n",
              "      width: 32px;\n",
              "    }\n",
              "\n",
              "    .colab-df-convert:hover {\n",
              "      background-color: #E2EBFA;\n",
              "      box-shadow: 0px 1px 2px rgba(60, 64, 67, 0.3), 0px 1px 3px 1px rgba(60, 64, 67, 0.15);\n",
              "      fill: #174EA6;\n",
              "    }\n",
              "\n",
              "    .colab-df-buttons div {\n",
              "      margin-bottom: 4px;\n",
              "    }\n",
              "\n",
              "    [theme=dark] .colab-df-convert {\n",
              "      background-color: #3B4455;\n",
              "      fill: #D2E3FC;\n",
              "    }\n",
              "\n",
              "    [theme=dark] .colab-df-convert:hover {\n",
              "      background-color: #434B5C;\n",
              "      box-shadow: 0px 1px 3px 1px rgba(0, 0, 0, 0.15);\n",
              "      filter: drop-shadow(0px 1px 2px rgba(0, 0, 0, 0.3));\n",
              "      fill: #FFFFFF;\n",
              "    }\n",
              "  </style>\n",
              "\n",
              "    <script>\n",
              "      const buttonEl =\n",
              "        document.querySelector('#df-8438e3d4-ef39-410f-8ee1-b3b636ef8c67 button.colab-df-convert');\n",
              "      buttonEl.style.display =\n",
              "        google.colab.kernel.accessAllowed ? 'block' : 'none';\n",
              "\n",
              "      async function convertToInteractive(key) {\n",
              "        const element = document.querySelector('#df-8438e3d4-ef39-410f-8ee1-b3b636ef8c67');\n",
              "        const dataTable =\n",
              "          await google.colab.kernel.invokeFunction('convertToInteractive',\n",
              "                                                    [key], {});\n",
              "        if (!dataTable) return;\n",
              "\n",
              "        const docLinkHtml = 'Like what you see? Visit the ' +\n",
              "          '<a target=\"_blank\" href=https://colab.research.google.com/notebooks/data_table.ipynb>data table notebook</a>'\n",
              "          + ' to learn more about interactive tables.';\n",
              "        element.innerHTML = '';\n",
              "        dataTable['output_type'] = 'display_data';\n",
              "        await google.colab.output.renderOutput(dataTable, element);\n",
              "        const docLink = document.createElement('div');\n",
              "        docLink.innerHTML = docLinkHtml;\n",
              "        element.appendChild(docLink);\n",
              "      }\n",
              "    </script>\n",
              "  </div>\n",
              "\n",
              "\n",
              "<div id=\"df-9c1c5d31-840a-4f78-8df0-fff1fecd8b5a\">\n",
              "  <button class=\"colab-df-quickchart\" onclick=\"quickchart('df-9c1c5d31-840a-4f78-8df0-fff1fecd8b5a')\"\n",
              "            title=\"Suggest charts.\"\n",
              "            style=\"display:none;\">\n",
              "\n",
              "<svg xmlns=\"http://www.w3.org/2000/svg\" height=\"24px\"viewBox=\"0 0 24 24\"\n",
              "     width=\"24px\">\n",
              "    <g>\n",
              "        <path d=\"M19 3H5c-1.1 0-2 .9-2 2v14c0 1.1.9 2 2 2h14c1.1 0 2-.9 2-2V5c0-1.1-.9-2-2-2zM9 17H7v-7h2v7zm4 0h-2V7h2v10zm4 0h-2v-4h2v4z\"/>\n",
              "    </g>\n",
              "</svg>\n",
              "  </button>\n",
              "\n",
              "<style>\n",
              "  .colab-df-quickchart {\n",
              "      --bg-color: #E8F0FE;\n",
              "      --fill-color: #1967D2;\n",
              "      --hover-bg-color: #E2EBFA;\n",
              "      --hover-fill-color: #174EA6;\n",
              "      --disabled-fill-color: #AAA;\n",
              "      --disabled-bg-color: #DDD;\n",
              "  }\n",
              "\n",
              "  [theme=dark] .colab-df-quickchart {\n",
              "      --bg-color: #3B4455;\n",
              "      --fill-color: #D2E3FC;\n",
              "      --hover-bg-color: #434B5C;\n",
              "      --hover-fill-color: #FFFFFF;\n",
              "      --disabled-bg-color: #3B4455;\n",
              "      --disabled-fill-color: #666;\n",
              "  }\n",
              "\n",
              "  .colab-df-quickchart {\n",
              "    background-color: var(--bg-color);\n",
              "    border: none;\n",
              "    border-radius: 50%;\n",
              "    cursor: pointer;\n",
              "    display: none;\n",
              "    fill: var(--fill-color);\n",
              "    height: 32px;\n",
              "    padding: 0;\n",
              "    width: 32px;\n",
              "  }\n",
              "\n",
              "  .colab-df-quickchart:hover {\n",
              "    background-color: var(--hover-bg-color);\n",
              "    box-shadow: 0 1px 2px rgba(60, 64, 67, 0.3), 0 1px 3px 1px rgba(60, 64, 67, 0.15);\n",
              "    fill: var(--button-hover-fill-color);\n",
              "  }\n",
              "\n",
              "  .colab-df-quickchart-complete:disabled,\n",
              "  .colab-df-quickchart-complete:disabled:hover {\n",
              "    background-color: var(--disabled-bg-color);\n",
              "    fill: var(--disabled-fill-color);\n",
              "    box-shadow: none;\n",
              "  }\n",
              "\n",
              "  .colab-df-spinner {\n",
              "    border: 2px solid var(--fill-color);\n",
              "    border-color: transparent;\n",
              "    border-bottom-color: var(--fill-color);\n",
              "    animation:\n",
              "      spin 1s steps(1) infinite;\n",
              "  }\n",
              "\n",
              "  @keyframes spin {\n",
              "    0% {\n",
              "      border-color: transparent;\n",
              "      border-bottom-color: var(--fill-color);\n",
              "      border-left-color: var(--fill-color);\n",
              "    }\n",
              "    20% {\n",
              "      border-color: transparent;\n",
              "      border-left-color: var(--fill-color);\n",
              "      border-top-color: var(--fill-color);\n",
              "    }\n",
              "    30% {\n",
              "      border-color: transparent;\n",
              "      border-left-color: var(--fill-color);\n",
              "      border-top-color: var(--fill-color);\n",
              "      border-right-color: var(--fill-color);\n",
              "    }\n",
              "    40% {\n",
              "      border-color: transparent;\n",
              "      border-right-color: var(--fill-color);\n",
              "      border-top-color: var(--fill-color);\n",
              "    }\n",
              "    60% {\n",
              "      border-color: transparent;\n",
              "      border-right-color: var(--fill-color);\n",
              "    }\n",
              "    80% {\n",
              "      border-color: transparent;\n",
              "      border-right-color: var(--fill-color);\n",
              "      border-bottom-color: var(--fill-color);\n",
              "    }\n",
              "    90% {\n",
              "      border-color: transparent;\n",
              "      border-bottom-color: var(--fill-color);\n",
              "    }\n",
              "  }\n",
              "</style>\n",
              "\n",
              "  <script>\n",
              "    async function quickchart(key) {\n",
              "      const quickchartButtonEl =\n",
              "        document.querySelector('#' + key + ' button');\n",
              "      quickchartButtonEl.disabled = true;  // To prevent multiple clicks.\n",
              "      quickchartButtonEl.classList.add('colab-df-spinner');\n",
              "      try {\n",
              "        const charts = await google.colab.kernel.invokeFunction(\n",
              "            'suggestCharts', [key], {});\n",
              "      } catch (error) {\n",
              "        console.error('Error during call to suggestCharts:', error);\n",
              "      }\n",
              "      quickchartButtonEl.classList.remove('colab-df-spinner');\n",
              "      quickchartButtonEl.classList.add('colab-df-quickchart-complete');\n",
              "    }\n",
              "    (() => {\n",
              "      let quickchartButtonEl =\n",
              "        document.querySelector('#df-9c1c5d31-840a-4f78-8df0-fff1fecd8b5a button');\n",
              "      quickchartButtonEl.style.display =\n",
              "        google.colab.kernel.accessAllowed ? 'block' : 'none';\n",
              "    })();\n",
              "  </script>\n",
              "</div>\n",
              "    </div>\n",
              "  </div>\n"
            ],
            "text/plain": [
              "   Lot Frontage  Lot Area  Overall Qual  Overall Cond  Year Built  \\\n",
              "0         141.0     31770             6             5        1960   \n",
              "1          80.0     11622             5             6        1961   \n",
              "2          81.0     14267             6             6        1958   \n",
              "3          93.0     11160             7             5        1968   \n",
              "4          74.0     13830             5             5        1997   \n",
              "\n",
              "   Year Remod/Add  Mas Vnr Area  BsmtFin SF 1  BsmtFin SF 2  Bsmt Unf SF  ...  \\\n",
              "0            1960         112.0         639.0           0.0        441.0  ...   \n",
              "1            1961           0.0         468.0         144.0        270.0  ...   \n",
              "2            1958         108.0         923.0           0.0        406.0  ...   \n",
              "3            1968           0.0        1065.0           0.0       1045.0  ...   \n",
              "4            1998           0.0         791.0           0.0        137.0  ...   \n",
              "\n",
              "   Sale Type_ConLw  Sale Type_New  Sale Type_Oth  Sale Type_VWD  \\\n",
              "0                0              0              0              0   \n",
              "1                0              0              0              0   \n",
              "2                0              0              0              0   \n",
              "3                0              0              0              0   \n",
              "4                0              0              0              0   \n",
              "\n",
              "   Sale Type_WD   Sale Condition_AdjLand  Sale Condition_Alloca  \\\n",
              "0              1                       0                      0   \n",
              "1              1                       0                      0   \n",
              "2              1                       0                      0   \n",
              "3              1                       0                      0   \n",
              "4              1                       0                      0   \n",
              "\n",
              "   Sale Condition_Family  Sale Condition_Normal  Sale Condition_Partial  \n",
              "0                      0                      1                       0  \n",
              "1                      0                      1                       0  \n",
              "2                      0                      1                       0  \n",
              "3                      0                      1                       0  \n",
              "4                      0                      1                       0  \n",
              "\n",
              "[5 rows x 274 columns]"
            ]
          },
          "execution_count": 73,
          "metadata": {},
          "output_type": "execute_result"
        }
      ],
      "source": [
        "final_df.head()"
      ]
    },
    {
      "cell_type": "markdown",
      "metadata": {
        "id": "uuxPt9ovlvCF"
      },
      "source": [
        "**Linear Regression**"
      ]
    },
    {
      "cell_type": "code",
      "execution_count": null,
      "metadata": {
        "id": "cEyW0Fkpl6Nt"
      },
      "outputs": [],
      "source": [
        "# Break data into features and labels\n",
        "X = final_df.drop('SalePrice',axis=1)\n",
        "y = final_df['SalePrice']"
      ]
    },
    {
      "cell_type": "code",
      "execution_count": null,
      "metadata": {
        "id": "2X03OWhil-zk"
      },
      "outputs": [],
      "source": [
        "from sklearn.model_selection import train_test_split"
      ]
    },
    {
      "cell_type": "code",
      "execution_count": null,
      "metadata": {
        "id": "i2Js8x2BmCFc"
      },
      "outputs": [],
      "source": [
        "# Split Data into Train and Test\n",
        "X_train, X_test, y_train, y_test = train_test_split(X, y, test_size=0.1, random_state=101)"
      ]
    },
    {
      "cell_type": "code",
      "execution_count": null,
      "metadata": {
        "id": "V55vlOHGmFyW"
      },
      "outputs": [],
      "source": [
        "from sklearn.preprocessing import StandardScaler"
      ]
    },
    {
      "cell_type": "code",
      "execution_count": null,
      "metadata": {
        "id": "Yv-MeH88mGx8"
      },
      "outputs": [],
      "source": [
        "scaler = StandardScaler()"
      ]
    },
    {
      "cell_type": "code",
      "execution_count": null,
      "metadata": {
        "colab": {
          "base_uri": "https://localhost:8080/",
          "height": 74
        },
        "id": "AOVsyeCRmMcz",
        "outputId": "7e7a84ae-e6c7-4ceb-e5cd-a1d61c9c593b"
      },
      "outputs": [
        {
          "data": {
            "text/html": [
              "<style>#sk-container-id-1 {color: black;background-color: white;}#sk-container-id-1 pre{padding: 0;}#sk-container-id-1 div.sk-toggleable {background-color: white;}#sk-container-id-1 label.sk-toggleable__label {cursor: pointer;display: block;width: 100%;margin-bottom: 0;padding: 0.3em;box-sizing: border-box;text-align: center;}#sk-container-id-1 label.sk-toggleable__label-arrow:before {content: \"▸\";float: left;margin-right: 0.25em;color: #696969;}#sk-container-id-1 label.sk-toggleable__label-arrow:hover:before {color: black;}#sk-container-id-1 div.sk-estimator:hover label.sk-toggleable__label-arrow:before {color: black;}#sk-container-id-1 div.sk-toggleable__content {max-height: 0;max-width: 0;overflow: hidden;text-align: left;background-color: #f0f8ff;}#sk-container-id-1 div.sk-toggleable__content pre {margin: 0.2em;color: black;border-radius: 0.25em;background-color: #f0f8ff;}#sk-container-id-1 input.sk-toggleable__control:checked~div.sk-toggleable__content {max-height: 200px;max-width: 100%;overflow: auto;}#sk-container-id-1 input.sk-toggleable__control:checked~label.sk-toggleable__label-arrow:before {content: \"▾\";}#sk-container-id-1 div.sk-estimator input.sk-toggleable__control:checked~label.sk-toggleable__label {background-color: #d4ebff;}#sk-container-id-1 div.sk-label input.sk-toggleable__control:checked~label.sk-toggleable__label {background-color: #d4ebff;}#sk-container-id-1 input.sk-hidden--visually {border: 0;clip: rect(1px 1px 1px 1px);clip: rect(1px, 1px, 1px, 1px);height: 1px;margin: -1px;overflow: hidden;padding: 0;position: absolute;width: 1px;}#sk-container-id-1 div.sk-estimator {font-family: monospace;background-color: #f0f8ff;border: 1px dotted black;border-radius: 0.25em;box-sizing: border-box;margin-bottom: 0.5em;}#sk-container-id-1 div.sk-estimator:hover {background-color: #d4ebff;}#sk-container-id-1 div.sk-parallel-item::after {content: \"\";width: 100%;border-bottom: 1px solid gray;flex-grow: 1;}#sk-container-id-1 div.sk-label:hover label.sk-toggleable__label {background-color: #d4ebff;}#sk-container-id-1 div.sk-serial::before {content: \"\";position: absolute;border-left: 1px solid gray;box-sizing: border-box;top: 0;bottom: 0;left: 50%;z-index: 0;}#sk-container-id-1 div.sk-serial {display: flex;flex-direction: column;align-items: center;background-color: white;padding-right: 0.2em;padding-left: 0.2em;position: relative;}#sk-container-id-1 div.sk-item {position: relative;z-index: 1;}#sk-container-id-1 div.sk-parallel {display: flex;align-items: stretch;justify-content: center;background-color: white;position: relative;}#sk-container-id-1 div.sk-item::before, #sk-container-id-1 div.sk-parallel-item::before {content: \"\";position: absolute;border-left: 1px solid gray;box-sizing: border-box;top: 0;bottom: 0;left: 50%;z-index: -1;}#sk-container-id-1 div.sk-parallel-item {display: flex;flex-direction: column;z-index: 1;position: relative;background-color: white;}#sk-container-id-1 div.sk-parallel-item:first-child::after {align-self: flex-end;width: 50%;}#sk-container-id-1 div.sk-parallel-item:last-child::after {align-self: flex-start;width: 50%;}#sk-container-id-1 div.sk-parallel-item:only-child::after {width: 0;}#sk-container-id-1 div.sk-dashed-wrapped {border: 1px dashed gray;margin: 0 0.4em 0.5em 0.4em;box-sizing: border-box;padding-bottom: 0.4em;background-color: white;}#sk-container-id-1 div.sk-label label {font-family: monospace;font-weight: bold;display: inline-block;line-height: 1.2em;}#sk-container-id-1 div.sk-label-container {text-align: center;}#sk-container-id-1 div.sk-container {/* jupyter's `normalize.less` sets `[hidden] { display: none; }` but bootstrap.min.css set `[hidden] { display: none !important; }` so we also need the `!important` here to be able to override the default hidden behavior on the sphinx rendered scikit-learn.org. See: https://github.com/scikit-learn/scikit-learn/issues/21755 */display: inline-block !important;position: relative;}#sk-container-id-1 div.sk-text-repr-fallback {display: none;}</style><div id=\"sk-container-id-1\" class=\"sk-top-container\"><div class=\"sk-text-repr-fallback\"><pre>StandardScaler()</pre><b>In a Jupyter environment, please rerun this cell to show the HTML representation or trust the notebook. <br />On GitHub, the HTML representation is unable to render, please try loading this page with nbviewer.org.</b></div><div class=\"sk-container\" hidden><div class=\"sk-item\"><div class=\"sk-estimator sk-toggleable\"><input class=\"sk-toggleable__control sk-hidden--visually\" id=\"sk-estimator-id-1\" type=\"checkbox\" checked><label for=\"sk-estimator-id-1\" class=\"sk-toggleable__label sk-toggleable__label-arrow\">StandardScaler</label><div class=\"sk-toggleable__content\"><pre>StandardScaler()</pre></div></div></div></div></div>"
            ],
            "text/plain": [
              "StandardScaler()"
            ]
          },
          "execution_count": 79,
          "metadata": {},
          "output_type": "execute_result"
        }
      ],
      "source": [
        "scaler.fit(X_train)"
      ]
    },
    {
      "cell_type": "code",
      "execution_count": null,
      "metadata": {
        "id": "z_6NO9eGmSDz"
      },
      "outputs": [],
      "source": [
        "X_train = scaler.transform(X_train)\n",
        "X_test = scaler.transform(X_test)"
      ]
    },
    {
      "cell_type": "code",
      "execution_count": null,
      "metadata": {
        "id": "HzgD-qpamVkj"
      },
      "outputs": [],
      "source": [
        "from sklearn.linear_model import ElasticNet"
      ]
    },
    {
      "cell_type": "code",
      "execution_count": null,
      "metadata": {
        "id": "vsWcMRPimYe0"
      },
      "outputs": [],
      "source": [
        "base_elastic_model = ElasticNet(max_iter=100000)"
      ]
    },
    {
      "cell_type": "code",
      "execution_count": null,
      "metadata": {
        "id": "wNVVrqJkmbR0"
      },
      "outputs": [],
      "source": [
        "param_grid = {'alpha':[0.1,1,10,100],'l1_ratio':[0.1,0.75,0.99,1]}"
      ]
    },
    {
      "cell_type": "code",
      "execution_count": null,
      "metadata": {
        "id": "ke9cMgQ2mfqD"
      },
      "outputs": [],
      "source": [
        "from sklearn.model_selection import GridSearchCV"
      ]
    },
    {
      "cell_type": "code",
      "execution_count": null,
      "metadata": {
        "id": "SWJ7ZBOYmkRl"
      },
      "outputs": [],
      "source": [
        "grid_model = GridSearchCV(base_elastic_model,\n",
        "                          param_grid=param_grid,\n",
        "                         scoring = 'neg_mean_squared_error',\n",
        "                         cv = 5, verbose = 2)"
      ]
    },
    {
      "cell_type": "code",
      "execution_count": null,
      "metadata": {
        "colab": {
          "base_uri": "https://localhost:8080/",
          "height": 1000
        },
        "id": "b7-44DS3mokM",
        "outputId": "da3a1b28-f056-475e-af17-9f94a3ae6441"
      },
      "outputs": [
        {
          "name": "stdout",
          "output_type": "stream",
          "text": [
            "Fitting 5 folds for each of 16 candidates, totalling 80 fits\n",
            "[CV] END ............................alpha=0.1, l1_ratio=0.1; total time=   0.3s\n",
            "[CV] END ............................alpha=0.1, l1_ratio=0.1; total time=   0.3s\n",
            "[CV] END ............................alpha=0.1, l1_ratio=0.1; total time=   0.3s\n",
            "[CV] END ............................alpha=0.1, l1_ratio=0.1; total time=   0.3s\n",
            "[CV] END ............................alpha=0.1, l1_ratio=0.1; total time=   0.3s\n",
            "[CV] END ...........................alpha=0.1, l1_ratio=0.75; total time=   0.4s\n",
            "[CV] END ...........................alpha=0.1, l1_ratio=0.75; total time=   0.5s\n",
            "[CV] END ...........................alpha=0.1, l1_ratio=0.75; total time=   0.5s\n",
            "[CV] END ...........................alpha=0.1, l1_ratio=0.75; total time=   0.4s\n",
            "[CV] END ...........................alpha=0.1, l1_ratio=0.75; total time=   0.5s\n",
            "[CV] END ...........................alpha=0.1, l1_ratio=0.99; total time=   5.4s\n",
            "[CV] END ...........................alpha=0.1, l1_ratio=0.99; total time=   4.2s\n",
            "[CV] END ...........................alpha=0.1, l1_ratio=0.99; total time=   4.2s\n",
            "[CV] END ...........................alpha=0.1, l1_ratio=0.99; total time=   5.9s\n",
            "[CV] END ...........................alpha=0.1, l1_ratio=0.99; total time=   4.1s\n",
            "[CV] END ..............................alpha=0.1, l1_ratio=1; total time= 1.1min\n"
          ]
        },
        {
          "name": "stderr",
          "output_type": "stream",
          "text": [
            "/usr/local/lib/python3.10/dist-packages/sklearn/linear_model/_coordinate_descent.py:631: ConvergenceWarning: Objective did not converge. You might want to increase the number of iterations, check the scale of the features or consider increasing regularisation. Duality gap: 3.098e+10, tolerance: 1.308e+09\n",
            "  model = cd_fast.enet_coordinate_descent(\n"
          ]
        },
        {
          "name": "stdout",
          "output_type": "stream",
          "text": [
            "[CV] END ..............................alpha=0.1, l1_ratio=1; total time= 1.3min\n",
            "[CV] END ..............................alpha=0.1, l1_ratio=1; total time=  54.2s\n",
            "[CV] END ..............................alpha=0.1, l1_ratio=1; total time= 1.0min\n",
            "[CV] END ..............................alpha=0.1, l1_ratio=1; total time=  10.3s\n",
            "[CV] END ..............................alpha=1, l1_ratio=0.1; total time=   0.1s\n",
            "[CV] END ..............................alpha=1, l1_ratio=0.1; total time=   0.1s\n",
            "[CV] END ..............................alpha=1, l1_ratio=0.1; total time=   0.1s\n",
            "[CV] END ..............................alpha=1, l1_ratio=0.1; total time=   0.1s\n",
            "[CV] END ..............................alpha=1, l1_ratio=0.1; total time=   0.1s\n",
            "[CV] END .............................alpha=1, l1_ratio=0.75; total time=   0.1s\n",
            "[CV] END .............................alpha=1, l1_ratio=0.75; total time=   0.2s\n",
            "[CV] END .............................alpha=1, l1_ratio=0.75; total time=   0.2s\n",
            "[CV] END .............................alpha=1, l1_ratio=0.75; total time=   0.2s\n",
            "[CV] END .............................alpha=1, l1_ratio=0.75; total time=   0.2s\n",
            "[CV] END .............................alpha=1, l1_ratio=0.99; total time=   0.5s\n",
            "[CV] END .............................alpha=1, l1_ratio=0.99; total time=   0.5s\n",
            "[CV] END .............................alpha=1, l1_ratio=0.99; total time=   0.5s\n",
            "[CV] END .............................alpha=1, l1_ratio=0.99; total time=   0.6s\n",
            "[CV] END .............................alpha=1, l1_ratio=0.99; total time=   0.5s\n",
            "[CV] END ................................alpha=1, l1_ratio=1; total time=   8.7s\n",
            "[CV] END ................................alpha=1, l1_ratio=1; total time=  10.5s\n",
            "[CV] END ................................alpha=1, l1_ratio=1; total time=   7.2s\n",
            "[CV] END ................................alpha=1, l1_ratio=1; total time=   8.0s\n",
            "[CV] END ................................alpha=1, l1_ratio=1; total time=   5.5s\n",
            "[CV] END .............................alpha=10, l1_ratio=0.1; total time=   0.0s\n",
            "[CV] END .............................alpha=10, l1_ratio=0.1; total time=   0.0s\n",
            "[CV] END .............................alpha=10, l1_ratio=0.1; total time=   0.0s\n",
            "[CV] END .............................alpha=10, l1_ratio=0.1; total time=   0.0s\n",
            "[CV] END .............................alpha=10, l1_ratio=0.1; total time=   0.0s\n",
            "[CV] END ............................alpha=10, l1_ratio=0.75; total time=   0.0s\n",
            "[CV] END ............................alpha=10, l1_ratio=0.75; total time=   0.0s\n",
            "[CV] END ............................alpha=10, l1_ratio=0.75; total time=   0.0s\n",
            "[CV] END ............................alpha=10, l1_ratio=0.75; total time=   0.0s\n",
            "[CV] END ............................alpha=10, l1_ratio=0.75; total time=   0.0s\n",
            "[CV] END ............................alpha=10, l1_ratio=0.99; total time=   0.1s\n",
            "[CV] END ............................alpha=10, l1_ratio=0.99; total time=   0.1s\n",
            "[CV] END ............................alpha=10, l1_ratio=0.99; total time=   0.1s\n",
            "[CV] END ............................alpha=10, l1_ratio=0.99; total time=   0.1s\n",
            "[CV] END ............................alpha=10, l1_ratio=0.99; total time=   0.2s\n",
            "[CV] END ...............................alpha=10, l1_ratio=1; total time=   1.8s\n",
            "[CV] END ...............................alpha=10, l1_ratio=1; total time=   2.2s\n",
            "[CV] END ...............................alpha=10, l1_ratio=1; total time=   1.8s\n",
            "[CV] END ...............................alpha=10, l1_ratio=1; total time=   1.6s\n",
            "[CV] END ...............................alpha=10, l1_ratio=1; total time=   1.7s\n",
            "[CV] END ............................alpha=100, l1_ratio=0.1; total time=   0.0s\n",
            "[CV] END ............................alpha=100, l1_ratio=0.1; total time=   0.0s\n",
            "[CV] END ............................alpha=100, l1_ratio=0.1; total time=   0.0s\n",
            "[CV] END ............................alpha=100, l1_ratio=0.1; total time=   0.0s\n",
            "[CV] END ............................alpha=100, l1_ratio=0.1; total time=   0.0s\n",
            "[CV] END ...........................alpha=100, l1_ratio=0.75; total time=   0.0s\n",
            "[CV] END ...........................alpha=100, l1_ratio=0.75; total time=   0.0s\n",
            "[CV] END ...........................alpha=100, l1_ratio=0.75; total time=   0.0s\n",
            "[CV] END ...........................alpha=100, l1_ratio=0.75; total time=   0.0s\n",
            "[CV] END ...........................alpha=100, l1_ratio=0.75; total time=   0.0s\n",
            "[CV] END ...........................alpha=100, l1_ratio=0.99; total time=   0.1s\n",
            "[CV] END ...........................alpha=100, l1_ratio=0.99; total time=   0.0s\n",
            "[CV] END ...........................alpha=100, l1_ratio=0.99; total time=   0.0s\n",
            "[CV] END ...........................alpha=100, l1_ratio=0.99; total time=   0.0s\n",
            "[CV] END ...........................alpha=100, l1_ratio=0.99; total time=   0.0s\n",
            "[CV] END ..............................alpha=100, l1_ratio=1; total time=   0.2s\n",
            "[CV] END ..............................alpha=100, l1_ratio=1; total time=   0.3s\n",
            "[CV] END ..............................alpha=100, l1_ratio=1; total time=   0.3s\n",
            "[CV] END ..............................alpha=100, l1_ratio=1; total time=   0.3s\n",
            "[CV] END ..............................alpha=100, l1_ratio=1; total time=   0.3s\n"
          ]
        },
        {
          "data": {
            "text/html": [
              "<style>#sk-container-id-2 {color: black;background-color: white;}#sk-container-id-2 pre{padding: 0;}#sk-container-id-2 div.sk-toggleable {background-color: white;}#sk-container-id-2 label.sk-toggleable__label {cursor: pointer;display: block;width: 100%;margin-bottom: 0;padding: 0.3em;box-sizing: border-box;text-align: center;}#sk-container-id-2 label.sk-toggleable__label-arrow:before {content: \"▸\";float: left;margin-right: 0.25em;color: #696969;}#sk-container-id-2 label.sk-toggleable__label-arrow:hover:before {color: black;}#sk-container-id-2 div.sk-estimator:hover label.sk-toggleable__label-arrow:before {color: black;}#sk-container-id-2 div.sk-toggleable__content {max-height: 0;max-width: 0;overflow: hidden;text-align: left;background-color: #f0f8ff;}#sk-container-id-2 div.sk-toggleable__content pre {margin: 0.2em;color: black;border-radius: 0.25em;background-color: #f0f8ff;}#sk-container-id-2 input.sk-toggleable__control:checked~div.sk-toggleable__content {max-height: 200px;max-width: 100%;overflow: auto;}#sk-container-id-2 input.sk-toggleable__control:checked~label.sk-toggleable__label-arrow:before {content: \"▾\";}#sk-container-id-2 div.sk-estimator input.sk-toggleable__control:checked~label.sk-toggleable__label {background-color: #d4ebff;}#sk-container-id-2 div.sk-label input.sk-toggleable__control:checked~label.sk-toggleable__label {background-color: #d4ebff;}#sk-container-id-2 input.sk-hidden--visually {border: 0;clip: rect(1px 1px 1px 1px);clip: rect(1px, 1px, 1px, 1px);height: 1px;margin: -1px;overflow: hidden;padding: 0;position: absolute;width: 1px;}#sk-container-id-2 div.sk-estimator {font-family: monospace;background-color: #f0f8ff;border: 1px dotted black;border-radius: 0.25em;box-sizing: border-box;margin-bottom: 0.5em;}#sk-container-id-2 div.sk-estimator:hover {background-color: #d4ebff;}#sk-container-id-2 div.sk-parallel-item::after {content: \"\";width: 100%;border-bottom: 1px solid gray;flex-grow: 1;}#sk-container-id-2 div.sk-label:hover label.sk-toggleable__label {background-color: #d4ebff;}#sk-container-id-2 div.sk-serial::before {content: \"\";position: absolute;border-left: 1px solid gray;box-sizing: border-box;top: 0;bottom: 0;left: 50%;z-index: 0;}#sk-container-id-2 div.sk-serial {display: flex;flex-direction: column;align-items: center;background-color: white;padding-right: 0.2em;padding-left: 0.2em;position: relative;}#sk-container-id-2 div.sk-item {position: relative;z-index: 1;}#sk-container-id-2 div.sk-parallel {display: flex;align-items: stretch;justify-content: center;background-color: white;position: relative;}#sk-container-id-2 div.sk-item::before, #sk-container-id-2 div.sk-parallel-item::before {content: \"\";position: absolute;border-left: 1px solid gray;box-sizing: border-box;top: 0;bottom: 0;left: 50%;z-index: -1;}#sk-container-id-2 div.sk-parallel-item {display: flex;flex-direction: column;z-index: 1;position: relative;background-color: white;}#sk-container-id-2 div.sk-parallel-item:first-child::after {align-self: flex-end;width: 50%;}#sk-container-id-2 div.sk-parallel-item:last-child::after {align-self: flex-start;width: 50%;}#sk-container-id-2 div.sk-parallel-item:only-child::after {width: 0;}#sk-container-id-2 div.sk-dashed-wrapped {border: 1px dashed gray;margin: 0 0.4em 0.5em 0.4em;box-sizing: border-box;padding-bottom: 0.4em;background-color: white;}#sk-container-id-2 div.sk-label label {font-family: monospace;font-weight: bold;display: inline-block;line-height: 1.2em;}#sk-container-id-2 div.sk-label-container {text-align: center;}#sk-container-id-2 div.sk-container {/* jupyter's `normalize.less` sets `[hidden] { display: none; }` but bootstrap.min.css set `[hidden] { display: none !important; }` so we also need the `!important` here to be able to override the default hidden behavior on the sphinx rendered scikit-learn.org. See: https://github.com/scikit-learn/scikit-learn/issues/21755 */display: inline-block !important;position: relative;}#sk-container-id-2 div.sk-text-repr-fallback {display: none;}</style><div id=\"sk-container-id-2\" class=\"sk-top-container\"><div class=\"sk-text-repr-fallback\"><pre>GridSearchCV(cv=5, estimator=ElasticNet(max_iter=100000),\n",
              "             param_grid={&#x27;alpha&#x27;: [0.1, 1, 10, 100],\n",
              "                         &#x27;l1_ratio&#x27;: [0.1, 0.75, 0.99, 1]},\n",
              "             scoring=&#x27;neg_mean_squared_error&#x27;, verbose=2)</pre><b>In a Jupyter environment, please rerun this cell to show the HTML representation or trust the notebook. <br />On GitHub, the HTML representation is unable to render, please try loading this page with nbviewer.org.</b></div><div class=\"sk-container\" hidden><div class=\"sk-item sk-dashed-wrapped\"><div class=\"sk-label-container\"><div class=\"sk-label sk-toggleable\"><input class=\"sk-toggleable__control sk-hidden--visually\" id=\"sk-estimator-id-2\" type=\"checkbox\" ><label for=\"sk-estimator-id-2\" class=\"sk-toggleable__label sk-toggleable__label-arrow\">GridSearchCV</label><div class=\"sk-toggleable__content\"><pre>GridSearchCV(cv=5, estimator=ElasticNet(max_iter=100000),\n",
              "             param_grid={&#x27;alpha&#x27;: [0.1, 1, 10, 100],\n",
              "                         &#x27;l1_ratio&#x27;: [0.1, 0.75, 0.99, 1]},\n",
              "             scoring=&#x27;neg_mean_squared_error&#x27;, verbose=2)</pre></div></div></div><div class=\"sk-parallel\"><div class=\"sk-parallel-item\"><div class=\"sk-item\"><div class=\"sk-label-container\"><div class=\"sk-label sk-toggleable\"><input class=\"sk-toggleable__control sk-hidden--visually\" id=\"sk-estimator-id-3\" type=\"checkbox\" ><label for=\"sk-estimator-id-3\" class=\"sk-toggleable__label sk-toggleable__label-arrow\">estimator: ElasticNet</label><div class=\"sk-toggleable__content\"><pre>ElasticNet(max_iter=100000)</pre></div></div></div><div class=\"sk-serial\"><div class=\"sk-item\"><div class=\"sk-estimator sk-toggleable\"><input class=\"sk-toggleable__control sk-hidden--visually\" id=\"sk-estimator-id-4\" type=\"checkbox\" ><label for=\"sk-estimator-id-4\" class=\"sk-toggleable__label sk-toggleable__label-arrow\">ElasticNet</label><div class=\"sk-toggleable__content\"><pre>ElasticNet(max_iter=100000)</pre></div></div></div></div></div></div></div></div></div></div>"
            ],
            "text/plain": [
              "GridSearchCV(cv=5, estimator=ElasticNet(max_iter=100000),\n",
              "             param_grid={'alpha': [0.1, 1, 10, 100],\n",
              "                         'l1_ratio': [0.1, 0.75, 0.99, 1]},\n",
              "             scoring='neg_mean_squared_error', verbose=2)"
            ]
          },
          "execution_count": 87,
          "metadata": {},
          "output_type": "execute_result"
        }
      ],
      "source": [
        "grid_model.fit(X_train,y_train)"
      ]
    },
    {
      "cell_type": "code",
      "execution_count": null,
      "metadata": {
        "colab": {
          "base_uri": "https://localhost:8080/"
        },
        "id": "PFpbO8cDohuL",
        "outputId": "bf439031-25b1-4b8a-9813-c44a929957fb"
      },
      "outputs": [
        {
          "data": {
            "text/plain": [
              "{'alpha': 100, 'l1_ratio': 1}"
            ]
          },
          "execution_count": 88,
          "metadata": {},
          "output_type": "execute_result"
        }
      ],
      "source": [
        "grid_model.best_params_"
      ]
    },
    {
      "cell_type": "code",
      "execution_count": null,
      "metadata": {
        "id": "QCEhAVm3omre"
      },
      "outputs": [],
      "source": [
        "y_pred = grid_model.predict(X_test)"
      ]
    },
    {
      "cell_type": "code",
      "execution_count": null,
      "metadata": {
        "id": "n-j0C1sdopek"
      },
      "outputs": [],
      "source": [
        "from sklearn.metrics import mean_absolute_error, mean_squared_error"
      ]
    },
    {
      "cell_type": "code",
      "execution_count": null,
      "metadata": {
        "colab": {
          "base_uri": "https://localhost:8080/"
        },
        "id": "x-Q03SBEow95",
        "outputId": "3053a60d-dadb-4780-e337-6414def3bc90"
      },
      "outputs": [
        {
          "data": {
            "text/plain": [
              "14195.354900562172"
            ]
          },
          "execution_count": 92,
          "metadata": {},
          "output_type": "execute_result"
        }
      ],
      "source": [
        "mean_absolute_error(y_test,y_pred)"
      ]
    },
    {
      "cell_type": "code",
      "execution_count": null,
      "metadata": {
        "colab": {
          "base_uri": "https://localhost:8080/"
        },
        "id": "_jXbPnsCo1yS",
        "outputId": "3efa0d3c-e077-44ab-8fa4-1d1409db8f92"
      },
      "outputs": [
        {
          "data": {
            "text/plain": [
              "20558.508566893164"
            ]
          },
          "execution_count": 93,
          "metadata": {},
          "output_type": "execute_result"
        }
      ],
      "source": [
        "np.sqrt(mean_squared_error(y_test,y_pred))"
      ]
    },
    {
      "cell_type": "code",
      "execution_count": null,
      "metadata": {
        "colab": {
          "base_uri": "https://localhost:8080/"
        },
        "id": "5mZnu65So5d1",
        "outputId": "8d01a413-3596-4263-c5b4-2ad484c9f6c4"
      },
      "outputs": [
        {
          "data": {
            "text/plain": [
              "180815.53743589742"
            ]
          },
          "execution_count": 94,
          "metadata": {},
          "output_type": "execute_result"
        }
      ],
      "source": [
        "np.mean(df['SalePrice'])"
      ]
    },
    {
      "cell_type": "code",
      "execution_count": null,
      "metadata": {
        "id": "EZTiwcUopNrY"
      },
      "outputs": [],
      "source": [
        "from sklearn.metrics import r2_score"
      ]
    },
    {
      "cell_type": "code",
      "execution_count": null,
      "metadata": {
        "id": "gbkwZ5hKpaj0"
      },
      "outputs": [],
      "source": [
        "R2= round(r2_score(y_test, y_pred),2)"
      ]
    },
    {
      "cell_type": "code",
      "execution_count": null,
      "metadata": {
        "colab": {
          "base_uri": "https://localhost:8080/"
        },
        "id": "9cmGMf0spfKN",
        "outputId": "b60dbc7c-36c4-48c2-a437-f8ac79b28030"
      },
      "outputs": [
        {
          "data": {
            "text/plain": [
              "0.92"
            ]
          },
          "execution_count": 97,
          "metadata": {},
          "output_type": "execute_result"
        }
      ],
      "source": [
        "R2"
      ]
    }
  ],
  "metadata": {
    "colab": {
      "provenance": []
    },
    "kernelspec": {
      "display_name": "Python 3",
      "name": "python3"
    },
    "language_info": {
      "name": "python"
    }
  },
  "nbformat": 4,
  "nbformat_minor": 0
}
