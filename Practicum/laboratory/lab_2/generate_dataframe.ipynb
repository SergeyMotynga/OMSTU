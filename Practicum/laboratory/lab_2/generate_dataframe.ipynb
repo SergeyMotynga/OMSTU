{
 "cells": [
  {
   "cell_type": "code",
   "execution_count": 1,
   "id": "02890270",
   "metadata": {},
   "outputs": [],
   "source": [
    "from CarDatasetGenerator import CarDatasetGenerator\n",
    "import pandas as pd\n",
    "import random\n",
    "import os "
   ]
  },
  {
   "cell_type": "code",
   "execution_count": 5,
   "id": "ff75897d",
   "metadata": {},
   "outputs": [],
   "source": [
    "volume_ranges = [(30, 100), (100, 500), (500, 1000), (1000, 1500)]\n",
    "feature_ranges = [(4, 7), (8, 10), (11, 14)]\n",
    "\n",
    "for volume in volume_ranges:\n",
    "    for feature in feature_ranges:\n",
    "        pairs = random.randint(*volume)\n",
    "        n_feature = random.randint(*feature)\n",
    "        generator = CarDatasetGenerator(n_features=n_feature, threshold=28)\n",
    "        data = generator.generate_pairs_dataset(pairs_required=pairs)\n",
    "        filename = f'cars_{pairs}_pairs_{n_feature}_n_feature.csv'\n",
    "        filepath = os.path.join(r'C:\\Users\\motyn\\Desktop\\Repositories\\OMSTU\\Practicum\\laboratory\\lab_2\\dataframes', filename)\n",
    "        data.to_csv(filepath, index=False)"
   ]
  }
 ],
 "metadata": {
  "kernelspec": {
   "display_name": "Python 3",
   "language": "python",
   "name": "python3"
  },
  "language_info": {
   "codemirror_mode": {
    "name": "ipython",
    "version": 3
   },
   "file_extension": ".py",
   "mimetype": "text/x-python",
   "name": "python",
   "nbconvert_exporter": "python",
   "pygments_lexer": "ipython3",
   "version": "3.12.6"
  }
 },
 "nbformat": 4,
 "nbformat_minor": 5
}
