{
 "cells": [
  {
   "cell_type": "code",
   "execution_count": 6,
   "id": "6ee894fa",
   "metadata": {},
   "outputs": [
    {
     "name": "stdout",
     "output_type": "stream",
     "text": [
      "cars_1119_pairs_10_n_feature\n",
      "cars_1279_pairs_4_n_feature\n",
      "cars_1497_pairs_12_n_feature\n",
      "cars_161_pairs_6_n_feature\n",
      "cars_195_pairs_8_n_feature\n",
      "cars_329_pairs_13_n_feature\n",
      "cars_36_pairs_11_n_feature\n",
      "cars_54_pairs_10_n_feature\n",
      "cars_720_pairs_4_n_feature\n",
      "cars_85_pairs_4_n_feature\n",
      "cars_861_pairs_14_n_feature\n",
      "cars_974_pairs_8_n_feature\n"
     ]
    }
   ],
   "source": [
    "import pandas as pd\n",
    "from pathlib import Path\n",
    "\n",
    "data_dir = Path('dataframes')\n",
    "\n",
    "csv_files = list(data_dir.glob('*.csv'))\n",
    "\n",
    "datasets = {}\n",
    "for path in csv_files:\n",
    "    name = path.stem\n",
    "    datasets[name] = pd.read_csv(path)\n",
    "\n",
    "print(*datasets.keys(), sep='\\n')\n"
   ]
  }
 ],
 "metadata": {
  "kernelspec": {
   "display_name": "Python 3",
   "language": "python",
   "name": "python3"
  },
  "language_info": {
   "codemirror_mode": {
    "name": "ipython",
    "version": 3
   },
   "file_extension": ".py",
   "mimetype": "text/x-python",
   "name": "python",
   "nbconvert_exporter": "python",
   "pygments_lexer": "ipython3",
   "version": "3.12.6"
  }
 },
 "nbformat": 4,
 "nbformat_minor": 5
}
