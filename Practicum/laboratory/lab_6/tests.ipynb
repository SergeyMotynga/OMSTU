{
 "cells": [
  {
   "cell_type": "code",
   "execution_count": 1,
   "id": "e8b30220",
   "metadata": {},
   "outputs": [
    {
     "name": "stdout",
     "output_type": "stream",
     "text": [
      "1\n",
      "4\n",
      "10\n",
      "2.5\n",
      "\n",
      "None\n",
      "None\n",
      "None\n",
      "None\n",
      "\n",
      "1\n",
      "1\n",
      "1\n",
      "1.0\n"
     ]
    }
   ],
   "source": [
    "# analyze_numbers\n",
    "from task_1 import analyze_numbers\n",
    "\n",
    "print(*analyze_numbers([1, 2, 3, 4]), sep='\\n')\n",
    "print()\n",
    "print(*analyze_numbers([]), sep='\\n')\n",
    "print()\n",
    "print(*analyze_numbers([1]), sep='\\n')"
   ]
  },
  {
   "cell_type": "code",
   "execution_count": 2,
   "id": "80f8eec8",
   "metadata": {},
   "outputs": [
    {
     "name": "stdout",
     "output_type": "stream",
     "text": [
      "{'h': 1, 'e': 1, 'l': 3, 'o': 2, 'w': 1, 'r': 1, 'd': 1}\n"
     ]
    }
   ],
   "source": [
    "# char_frequency\n",
    "from task_1 import char_frequency\n",
    "\n",
    "print(char_frequency('Hello World!'))"
   ]
  },
  {
   "cell_type": "code",
   "execution_count": 3,
   "id": "396f637b",
   "metadata": {},
   "outputs": [
    {
     "name": "stdout",
     "output_type": "stream",
     "text": [
      "qwerty, neqwerty\n",
      "hello, qwerty, neqwerty\n"
     ]
    }
   ],
   "source": [
    "# filter_long_words\n",
    "from task_1 import filter_long_words\n",
    "\n",
    "print(*filter_long_words([\"hello\", 'qwerty', 'neqwerty']), sep=', ')\n",
    "print(*filter_long_words([\"hello\", 'qwerty', 'neqwerty'], min_length=4), sep=', ')"
   ]
  },
  {
   "cell_type": "code",
   "execution_count": 4,
   "id": "37f542c9",
   "metadata": {},
   "outputs": [
    {
     "name": "stdout",
     "output_type": "stream",
     "text": [
      "factorial(5) = 120\n",
      "factorial(-1) вызвал ошибку: Ожидалось неотрицательное число, получили -1\n"
     ]
    }
   ],
   "source": [
    "# factorial\n",
    "from task_2 import factorial\n",
    "\n",
    "for n in (5, -1):\n",
    "    try:\n",
    "        result = factorial(n)\n",
    "        print(f\"factorial({n}) = {result}\")\n",
    "    except ValueError as e:\n",
    "        print(f\"factorial({n}) вызвал ошибку: {e}\")"
   ]
  },
  {
   "cell_type": "code",
   "execution_count": 5,
   "id": "d8233be1",
   "metadata": {},
   "outputs": [
    {
     "name": "stdout",
     "output_type": "stream",
     "text": [
      "1\n",
      "1\n",
      "2\n",
      "3\n",
      "5\n",
      "8\n",
      "13\n",
      "21\n",
      "34\n",
      "55\n"
     ]
    }
   ],
   "source": [
    "# fibonachi\n",
    "from task_2 import fibonachi\n",
    "\n",
    "for i in range(10):\n",
    "    print(fibonachi(i))"
   ]
  },
  {
   "cell_type": "code",
   "execution_count": 6,
   "id": "66f9d5f1",
   "metadata": {},
   "outputs": [
    {
     "name": "stdout",
     "output_type": "stream",
     "text": [
      "olleH\n"
     ]
    }
   ],
   "source": [
    "# reverse_str\n",
    "from task_2 import reverse_str\n",
    "\n",
    "print(reverse_str('Hello'))"
   ]
  },
  {
   "cell_type": "code",
   "execution_count": 7,
   "id": "9e21576c",
   "metadata": {},
   "outputs": [
    {
     "name": "stdout",
     "output_type": "stream",
     "text": [
      "10\n"
     ]
    }
   ],
   "source": [
    "from task_3 import apply_twice\n",
    "\n",
    "def add(n):\n",
    "    return n + 3\n",
    "\n",
    "print(apply_twice(add, 4))"
   ]
  },
  {
   "cell_type": "code",
   "execution_count": 8,
   "id": "70134534",
   "metadata": {},
   "outputs": [
    {
     "name": "stdout",
     "output_type": "stream",
     "text": [
      "[1, 4, 9, 16, 25]\n"
     ]
    }
   ],
   "source": [
    "# custom_map\n",
    "from task_3 import custom_map\n",
    "\n",
    "def f(x):\n",
    "    return x ** 2\n",
    "\n",
    "print(custom_map(f, [1, 2, 3, 4, 5]))"
   ]
  },
  {
   "cell_type": "code",
   "execution_count": 9,
   "id": "f025d334",
   "metadata": {},
   "outputs": [
    {
     "name": "stdout",
     "output_type": "stream",
     "text": [
      "Длина > 3: ['hello', 'goodbye', 'salutation']\n",
      "Длина <= 3: ['hi', 'hey', 'yo']\n"
     ]
    }
   ],
   "source": [
    "# custom_filter\n",
    "from task_3 import custom_filter\n",
    "\n",
    "words = [\"hi\", \"hello\", \"hey\", \"goodbye\", \"yo\", \"salutation\"]\n",
    "long_words = custom_filter(lambda s: len(s) > 3, words)\n",
    "print(\"Длина > 3:\", long_words)\n",
    "\n",
    "short_words = custom_filter(lambda s: len(s) > 3, words, invert=True)\n",
    "print(\"Длина <= 3:\", short_words)"
   ]
  },
  {
   "cell_type": "code",
   "execution_count": 10,
   "id": "3a95c109",
   "metadata": {},
   "outputs": [
    {
     "name": "stdout",
     "output_type": "stream",
     "text": [
      "Function 'sum_numbers_generator' took 0.079419 seconds\n",
      "500000500000\n"
     ]
    }
   ],
   "source": [
    "# decorator time\n",
    "from task_4 import time_it\n",
    "\n",
    "\n",
    "@time_it\n",
    "def sum_numbers_generator(n):\n",
    "    return sum(i for i in range(1, n + 1))\n",
    "\n",
    "print(sum_numbers_generator(10 ** 6))"
   ]
  },
  {
   "cell_type": "code",
   "execution_count": 17,
   "id": "ddac683a",
   "metadata": {},
   "outputs": [
    {
     "name": "stdout",
     "output_type": "stream",
     "text": [
      "Без fib(35) = 9227465, time: 1.603993 seconds\n",
      "С fib(35) = 9227465, time: 0.000117 seconds\n"
     ]
    }
   ],
   "source": [
    "# decorator memo\n",
    "import time\n",
    "from task_4 import memoize\n",
    "\n",
    "@memoize\n",
    "def fib_memo(n):\n",
    "    if n < 2:\n",
    "        return n\n",
    "    return fib_memo(n - 1) + fib_memo(n - 2)\n",
    "\n",
    "def fib(n):\n",
    "    if n < 2:\n",
    "        return n\n",
    "    return fib(n - 1) + fib(n - 2)\n",
    "\n",
    "n = 35\n",
    "\n",
    "# Без кэша\n",
    "start = time.perf_counter()\n",
    "result_no = fib(n)\n",
    "end = time.perf_counter()\n",
    "print(f\"Без fib({n}) = {result_no}, time: {end - start:.6f} seconds\")\n",
    "\n",
    "# С мемоизацией\n",
    "start = time.perf_counter()\n",
    "result_yes = fib_memo(n)\n",
    "end = time.perf_counter()\n",
    "print(f\"С fib({n}) = {result_yes}, time: {end - start:.6f} seconds\")"
   ]
  },
  {
   "cell_type": "code",
   "execution_count": null,
   "id": "6302b3b3",
   "metadata": {},
   "outputs": [],
   "source": [
    "# procces_number\n",
    "from task_5 import process_numbers\n",
    "\n",
    "print(process_numbers([1, 3, 5, 7, 2, 4]))"
   ]
  }
 ],
 "metadata": {
  "kernelspec": {
   "display_name": "Python 3",
   "language": "python",
   "name": "python3"
  },
  "language_info": {
   "codemirror_mode": {
    "name": "ipython",
    "version": 3
   },
   "file_extension": ".py",
   "mimetype": "text/x-python",
   "name": "python",
   "nbconvert_exporter": "python",
   "pygments_lexer": "ipython3",
   "version": "3.12.6"
  }
 },
 "nbformat": 4,
 "nbformat_minor": 5
}
