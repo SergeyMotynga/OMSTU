{
 "cells": [
  {
   "cell_type": "code",
   "execution_count": 11,
   "id": "e8b30220",
   "metadata": {},
   "outputs": [
    {
     "name": "stdout",
     "output_type": "stream",
     "text": [
      "1\n",
      "4\n",
      "10\n",
      "2.5\n",
      "\n",
      "None\n",
      "None\n",
      "None\n",
      "None\n",
      "\n",
      "1\n",
      "1\n",
      "1\n",
      "1.0\n"
     ]
    }
   ],
   "source": [
    "# analyze_numbers\n",
    "from task_1 import analyze_numbers\n",
    "\n",
    "print(*analyze_numbers([1, 2, 3, 4]), sep='\\n')\n",
    "print()\n",
    "print(*analyze_numbers([]), sep='\\n')\n",
    "print()\n",
    "print(*analyze_numbers([1]), sep='\\n')"
   ]
  },
  {
   "cell_type": "code",
   "execution_count": 12,
   "id": "80f8eec8",
   "metadata": {},
   "outputs": [
    {
     "name": "stdout",
     "output_type": "stream",
     "text": [
      "{'h': 1, 'e': 1, 'l': 3, 'o': 2, 'w': 1, 'r': 1, 'd': 1}\n"
     ]
    }
   ],
   "source": [
    "# char_frequency\n",
    "from task_1 import char_frequency\n",
    "\n",
    "print(char_frequency('Hello World!'))"
   ]
  },
  {
   "cell_type": "code",
   "execution_count": 13,
   "id": "396f637b",
   "metadata": {},
   "outputs": [
    {
     "name": "stdout",
     "output_type": "stream",
     "text": [
      "qwerty, neqwerty\n",
      "hello, qwerty, neqwerty\n"
     ]
    }
   ],
   "source": [
    "# filter_long_words\n",
    "from task_1 import filter_long_words\n",
    "\n",
    "print(*filter_long_words([\"hello\", 'qwerty', 'neqwerty']), sep=', ')\n",
    "print(*filter_long_words([\"hello\", 'qwerty', 'neqwerty'], min_length=4), sep=', ')"
   ]
  },
  {
   "cell_type": "code",
   "execution_count": 14,
   "id": "37f542c9",
   "metadata": {},
   "outputs": [
    {
     "name": "stdout",
     "output_type": "stream",
     "text": [
      "factorial(5) = 120\n",
      "factorial(-1) вызвал ошибку: Ожидалось неотрицательное число, получили -1\n"
     ]
    }
   ],
   "source": [
    "# factorial\n",
    "from task_2 import factorial\n",
    "\n",
    "for n in (5, -1):\n",
    "    try:\n",
    "        result = factorial(n)\n",
    "        print(f\"factorial({n}) = {result}\")\n",
    "    except ValueError as e:\n",
    "        print(f\"factorial({n}) вызвал ошибку: {e}\")"
   ]
  },
  {
   "cell_type": "code",
   "execution_count": 19,
   "id": "9e21576c",
   "metadata": {},
   "outputs": [
    {
     "name": "stdout",
     "output_type": "stream",
     "text": [
      "10\n"
     ]
    }
   ],
   "source": [
    "from task_3 import apply_twice\n",
    "\n",
    "def add(n):\n",
    "    return n + 3\n",
    "\n",
    "print(apply_twice(add, 4))"
   ]
  }
 ],
 "metadata": {
  "kernelspec": {
   "display_name": "Python 3",
   "language": "python",
   "name": "python3"
  },
  "language_info": {
   "codemirror_mode": {
    "name": "ipython",
    "version": 3
   },
   "file_extension": ".py",
   "mimetype": "text/x-python",
   "name": "python",
   "nbconvert_exporter": "python",
   "pygments_lexer": "ipython3",
   "version": "3.12.6"
  }
 },
 "nbformat": 4,
 "nbformat_minor": 5
}
