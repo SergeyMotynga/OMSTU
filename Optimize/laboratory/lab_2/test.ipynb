{
 "cells": [
  {
   "cell_type": "code",
   "execution_count": 3,
   "id": "7ea268a0",
   "metadata": {},
   "outputs": [
    {
     "name": "stdout",
     "output_type": "stream",
     "text": [
      "0.63024072265625\n",
      "0.6299311208515967\n",
      "0.6299605199454478\n"
     ]
    }
   ],
   "source": [
    "from dichotomy_search import dichotomy\n",
    "from fibonacci_search import fibonacci_search\n",
    "from golden_search import golden_search\n",
    "\n",
    "\n",
    "def __dichotomy(f):\n",
    "    x_opt = dichotomy(f, 0, 1, 1e-3)\n",
    "    print(x_opt)\n",
    "    assert abs(x_opt - 0.63) < 1e-3, f\"Ожидали ~0.63, получили {x_opt}\"\n",
    "\n",
    "def __fibonacci(f):\n",
    "    x_opt = fibonacci_search(f, 0, 1, 1e-3)\n",
    "    print(x_opt)\n",
    "    assert abs(x_opt - 0.63) < 1e-3, f\"Ожидали ~0.63, получили {x_opt}\"\n",
    "\n",
    "def __golden(f):\n",
    "    x_opt = golden_search(f, 0, 1, 1e-11)\n",
    "    print(x_opt)\n",
    "    assert abs(x_opt - 0.63) < 1e-1, f\"Ожидали ~0.63, получили {x_opt}\"\n",
    "\n",
    "if __name__ == \"__main__\":\n",
    "    f = lambda x: x ** 4 - x\n",
    "    __dichotomy(f)\n",
    "    __fibonacci(f)\n",
    "    __golden(f)"
   ]
  }
 ],
 "metadata": {
  "kernelspec": {
   "display_name": "Python 3",
   "language": "python",
   "name": "python3"
  },
  "language_info": {
   "codemirror_mode": {
    "name": "ipython",
    "version": 3
   },
   "file_extension": ".py",
   "mimetype": "text/x-python",
   "name": "python",
   "nbconvert_exporter": "python",
   "pygments_lexer": "ipython3",
   "version": "3.12.6"
  }
 },
 "nbformat": 4,
 "nbformat_minor": 5
}
