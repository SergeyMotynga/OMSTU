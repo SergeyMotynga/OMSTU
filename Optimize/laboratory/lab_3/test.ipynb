{
 "cells": [
  {
   "cell_type": "code",
   "execution_count": 1,
   "id": "add60523",
   "metadata": {},
   "outputs": [],
   "source": [
    "import numpy as np\n",
    "\n",
    "# Заданные константы\n",
    "A, a, b, c, d, r = 30, 2, 2, 1, 2, 3\n",
    "\n",
    "# Функция f(x, y)\n",
    "def f(x, y):\n",
    "    term = (-(x - a)**2 / c**2 + 2*r*(x - a)*(x - b)/(c*d) + -(x - b)**2/d**2)\n",
    "    return A - np.exp(-term/(10 - r**2))"
   ]
  },
  {
   "cell_type": "code",
   "execution_count": 2,
   "id": "3276f9a0",
   "metadata": {},
   "outputs": [
    {
     "data": {
      "text/plain": [
       "(1.9999511718749998, -2495.0610351561872, np.float64(29.000000004172325))"
      ]
     },
     "execution_count": 2,
     "metadata": {},
     "output_type": "execute_result"
    }
   ],
   "source": [
    "from coordinate import coordinate_descent\n",
    "\n",
    "x0 = (0.0, 0.0)\n",
    "solution_1 = coordinate_descent(f=f, x0=x0)\n",
    "solution_1"
   ]
  },
  {
   "cell_type": "code",
   "execution_count": 3,
   "id": "37d87ca0",
   "metadata": {},
   "outputs": [
    {
     "name": "stdout",
     "output_type": "stream",
     "text": [
      "x* = [-18.14763039   1.81528851] f(x*) = -inf\n"
     ]
    },
    {
     "name": "stderr",
     "output_type": "stream",
     "text": [
      "c:\\Users\\motyn\\OneDrive\\Рабочий стол\\Репозитории\\OMSTU\\Optimize\\laboratory\\lab_3\\powell.py:49: RuntimeWarning: overflow encountered in exp\n",
      "  return A - np.exp(-term/(10 - r**2))\n"
     ]
    },
    {
     "data": {
      "text/plain": [
       "(array([1.99999736, 3.0602439 ]), np.float64(29.000000000012207))"
      ]
     },
     "execution_count": 3,
     "metadata": {},
     "output_type": "execute_result"
    }
   ],
   "source": [
    "from powell import powell\n",
    "\n",
    "func2d = lambda X: f(X[0], X[1])\n",
    "solution_2 = powell(func2d, x0)\n",
    "solution_2"
   ]
  },
  {
   "cell_type": "code",
   "execution_count": 4,
   "id": "519c2dff",
   "metadata": {},
   "outputs": [
    {
     "data": {
      "text/plain": [
       "(array([1.99998379, 0.        ]), np.float64(29.000000000459732))"
      ]
     },
     "execution_count": 4,
     "metadata": {},
     "output_type": "execute_result"
    }
   ],
   "source": [
    "from steepest import steepest_descent\n",
    "\n",
    "solution_3 = steepest_descent(f=func2d, x0=x0)\n",
    "solution_3"
   ]
  }
 ],
 "metadata": {
  "kernelspec": {
   "display_name": "Python 3",
   "language": "python",
   "name": "python3"
  },
  "language_info": {
   "codemirror_mode": {
    "name": "ipython",
    "version": 3
   },
   "file_extension": ".py",
   "mimetype": "text/x-python",
   "name": "python",
   "nbconvert_exporter": "python",
   "pygments_lexer": "ipython3",
   "version": "3.12.6"
  }
 },
 "nbformat": 4,
 "nbformat_minor": 5
}
