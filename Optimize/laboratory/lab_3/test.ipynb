{
 "cells": [
  {
   "cell_type": "code",
   "execution_count": 2,
   "id": "add60523",
   "metadata": {},
   "outputs": [],
   "source": [
    "import numpy as np\n",
    "\n",
    "# Заданные константы\n",
    "A, a, b, c, d, r = 30, 2, 2, 1, 2, 3\n",
    "\n",
    "# Функция f(x, y)\n",
    "def f(x, y):\n",
    "    term = (-(x - a)**2 / c**2 + 2*r*(x - a)*(x - b)/(c*d) + -(x - b)**2/d**2)\n",
    "    return A - np.exp(-term/(10 - r**2))"
   ]
  },
  {
   "cell_type": "code",
   "execution_count": null,
   "id": "3276f9a0",
   "metadata": {},
   "outputs": [
    {
     "data": {
      "text/plain": [
       "(1.9999511718749998, -2495.0610351561872, np.float64(29.000000004172325))"
      ]
     },
     "execution_count": 3,
     "metadata": {},
     "output_type": "execute_result"
    }
   ],
   "source": [
    "from gaus import coordinate_descent\n",
    "\n",
    "x0 = (0.0, 0.0)\n",
    "solution_1 = coordinate_descent(f=f, x0=x0)\n",
    "solution_1"
   ]
  },
  {
   "cell_type": "code",
   "execution_count": null,
   "id": "519c2dff",
   "metadata": {},
   "outputs": [
    {
     "data": {
      "text/plain": [
       "(array([1.99998379, 0.        ]), np.float64(29.000000000459732))"
      ]
     },
     "execution_count": 4,
     "metadata": {},
     "output_type": "execute_result"
    }
   ],
   "source": [
    "from fastes import steepest_descent\n",
    "\n",
    "\n",
    "func2d = lambda X: f(X[0], X[1])\n",
    "solution_2 = steepest_descent(f=func2d, x0=x0)\n",
    "solution_2"
   ]
  },
  {
   "cell_type": "code",
   "execution_count": 10,
   "id": "f327bb51",
   "metadata": {},
   "outputs": [
    {
     "data": {
      "text/plain": [
       "(array([2., 0.]), np.float64(29.0))"
      ]
     },
     "execution_count": 10,
     "metadata": {},
     "output_type": "execute_result"
    }
   ],
   "source": [
    "from hooke_jeeves import hooke_jeeves\n",
    "\n",
    "solution_3 = hooke_jeeves(f=func2d, x0=x0)\n",
    "solution_3"
   ]
  }
 ],
 "metadata": {
  "kernelspec": {
   "display_name": "Python 3",
   "language": "python",
   "name": "python3"
  },
  "language_info": {
   "codemirror_mode": {
    "name": "ipython",
    "version": 3
   },
   "file_extension": ".py",
   "mimetype": "text/x-python",
   "name": "python",
   "nbconvert_exporter": "python",
   "pygments_lexer": "ipython3",
   "version": "3.12.6"
  }
 },
 "nbformat": 4,
 "nbformat_minor": 5
}
